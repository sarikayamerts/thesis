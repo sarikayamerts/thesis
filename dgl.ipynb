{
 "cells": [
  {
   "cell_type": "markdown",
   "metadata": {},
   "source": [
    "Notes from https://github.com/Junyoungpark/GNNAtoZ "
   ]
  },
  {
   "cell_type": "markdown",
   "metadata": {},
   "source": [
    "# 0. Bring Your Own Graphs"
   ]
  },
  {
   "cell_type": "code",
   "execution_count": null,
   "metadata": {},
   "outputs": [],
   "source": [
    "## Instantiating a graph  \n",
    "import networkx as nx\n",
    "import matplotlib.pyplot as plt"
   ]
  },
  {
   "cell_type": "code",
   "execution_count": null,
   "metadata": {},
   "outputs": [],
   "source": [
    "G = nx.Graph() # instantiate an empty container for handling graph\n",
    "G.add_node(1) # Add node in the graph\n",
    "G.add_node(2) # Add node in the graph\n",
    "G.add_node(3) # Add node in the graph\n",
    "\n",
    "G.add_edge(1,2)\n",
    "G.add_edge(2,3)\n",
    "\n",
    "nx.draw(G)"
   ]
  },
  {
   "cell_type": "code",
   "execution_count": null,
   "metadata": {},
   "outputs": [],
   "source": [
    "## DGL\n",
    "\n",
    "import dgl\n",
    "import torch"
   ]
  },
  {
   "cell_type": "code",
   "execution_count": null,
   "metadata": {},
   "outputs": [],
   "source": [
    "# edges 0->1, 0->2, 0->3, 1->3\n",
    "u, v = torch.tensor([0, 0, 0, 1]), torch.tensor([1, 2, 3, 3])\n",
    "g = dgl.graph((u, v))\n",
    "print(g)"
   ]
  },
  {
   "cell_type": "code",
   "execution_count": null,
   "metadata": {},
   "outputs": [],
   "source": [
    "g = dgl.graph((u, v), num_nodes=8)\n",
    "print(g)"
   ]
  },
  {
   "cell_type": "code",
   "execution_count": null,
   "metadata": {},
   "outputs": [],
   "source": [
    "node_feat_dim = 7 # the node feature dim\n",
    "edge_feat_dim = 3 # the edge feature dim\n",
    "\n",
    "g.ndata['feat'] = torch.randn(g.number_of_nodes(), node_feat_dim)\n",
    "g.edata['feat'] = torch.randn(g.number_of_edges(), edge_feat_dim)\n",
    "print(g)"
   ]
  },
  {
   "cell_type": "code",
   "execution_count": null,
   "metadata": {},
   "outputs": [],
   "source": [
    "def plot_dgl_graph(g):\n",
    "    G = dgl.to_networkx(g)\n",
    "    plt.figure(figsize=[10,5])\n",
    "    options = {\n",
    "        'node_color': 'blue',\n",
    "        \"edge_color\": \"red\",\n",
    "        'node_size': 20,\n",
    "        'width': 1,\n",
    "    }\n",
    "    # pos = nx.spring_layout(g)\n",
    "    # nx.draw_networkx(g, pos, **options)\n",
    "    nx.draw(G, **options)\n",
    "    plt.show()"
   ]
  },
  {
   "cell_type": "code",
   "execution_count": null,
   "metadata": {},
   "outputs": [],
   "source": [
    "plot_dgl_graph(g)"
   ]
  },
  {
   "cell_type": "markdown",
   "metadata": {},
   "source": [
    "# 1. Message Passing on DGL"
   ]
  },
  {
   "cell_type": "code",
   "execution_count": null,
   "metadata": {},
   "outputs": [],
   "source": [
    "import dgl\n",
    "import torch\n",
    "import torch.nn as nn"
   ]
  },
  {
   "cell_type": "code",
   "execution_count": null,
   "metadata": {},
   "outputs": [],
   "source": [
    "u, v = torch.tensor([0, 0, 0, 1]), torch.tensor([1, 2, 3, 3])\n",
    "g = dgl.graph((u, v), num_nodes=8)\n",
    "g = dgl.add_self_loop(g)\n",
    "\n",
    "node_feat_dim = 32\n",
    "edge_feat_dim = 3\n",
    "\n",
    "g.ndata[\"feat\"] = torch.randn(g.number_of_nodes(), node_feat_dim)\n",
    "g.edata[\"feat\"] = torch.randn(g.number_of_edges(), edge_feat_dim)\n",
    "\n",
    "print(g)"
   ]
  },
  {
   "cell_type": "code",
   "execution_count": null,
   "metadata": {},
   "outputs": [],
   "source": [
    "class MessagePassingGCN(nn.Module):\n",
    "    def __init__(self, input_dim: int, output_dim: int):\n",
    "        super(MessagePassingGCN, self).__init__()\n",
    "        self.linear = nn.Linear(in_features=input_dim, out_features=output_dim, bias=False)\n",
    "\n",
    "    def forward(self, g, nf):\n",
    "        g = g.local_var() # make a local graph\n",
    "        z = self.linear(nf)\n",
    "        g.ndata[\"z\"] = z\n",
    "\n",
    "        g.pull(v=g.nodes(), message_func=self.message_func, reduce_func=self.reduce_func)\n",
    "        \n",
    "        # The operations happens in `g.pull`\n",
    "        # 1. Message generation: In this case, the message is \"source node feature.\"\n",
    "        # 2. 'Push' the message to the destination nodes\n",
    "        # 3. 'Reduce' the messages from the destination nodes\n",
    "        # 4. Perform node update: In this case, we don't do.\n",
    "        \n",
    "        # For further details, refer to the dgl's API documents. \n",
    "        return g.ndata[\"h\"]\n",
    "\n",
    "    def message_func(self, edges):\n",
    "        return {\"z\": edges.src[\"z\"]}\n",
    "\n",
    "    def reduce_func(self, nodes):\n",
    "        return {\"h\": torch.sum(nodes.mailbox[\"z\"], dim=1)}\n"
   ]
  },
  {
   "cell_type": "code",
   "execution_count": null,
   "metadata": {},
   "outputs": [],
   "source": [
    "gc_out_dim = 256\n",
    "gc = MessagePassingGCN(node_feat_dim, gc_out_dim)"
   ]
  },
  {
   "cell_type": "code",
   "execution_count": null,
   "metadata": {},
   "outputs": [],
   "source": [
    "h_updated = gc(g, g.ndata['feat'])\n",
    "print(h_updated.shape)"
   ]
  },
  {
   "cell_type": "code",
   "execution_count": null,
   "metadata": {},
   "outputs": [],
   "source": [
    "%%timeit\n",
    "h_updated = gc(g, g.ndata['feat'])"
   ]
  },
  {
   "cell_type": "code",
   "execution_count": null,
   "metadata": {},
   "outputs": [],
   "source": [
    "# A slightly optimized verision of the simple GCN with dgl.function\n",
    "\n",
    "class MessagePassingGCN(nn.Module):\n",
    "    def __init__(self, input_dim: int, output_dim: int):\n",
    "        super(MessagePassingGCN, self).__init__()\n",
    "        self.linear = nn.Linear(in_features=input_dim, out_features=output_dim, bias=False)\n",
    "        self.message_func = dgl.function.copy_src(\"z\", \"z\")\n",
    "        self.reduce_func = dgl.function.sum(\"z\", \"h\")\n",
    "\n",
    "    def forward(self, g, nf):\n",
    "        g = g.local_var()\n",
    "        z = self.linear(nf)\n",
    "        g.ndata[\"z\"] = z\n",
    "\n",
    "        g.pull(v=g.nodes(), message_func=self.message_func, reduce_func=self.reduce_func)\n",
    "        return g.ndata[\"h\"]\n"
   ]
  },
  {
   "cell_type": "code",
   "execution_count": null,
   "metadata": {},
   "outputs": [],
   "source": [
    "gc = MessagePassingGCN(node_feat_dim, gc_out_dim)"
   ]
  },
  {
   "cell_type": "code",
   "execution_count": null,
   "metadata": {},
   "outputs": [],
   "source": [
    "h_updated = gc(g, g.ndata['feat'])\n",
    "print(h_updated.shape)"
   ]
  },
  {
   "cell_type": "code",
   "execution_count": null,
   "metadata": {},
   "outputs": [],
   "source": [
    "%%timeit\n",
    "h_updated = gc(g, g.ndata['feat'])"
   ]
  },
  {
   "cell_type": "markdown",
   "metadata": {},
   "source": [
    "# 2. Implement Famous GNNs"
   ]
  },
  {
   "cell_type": "code",
   "execution_count": null,
   "metadata": {},
   "outputs": [],
   "source": [
    "import dgl\n",
    "import torch\n",
    "import dgl.nn.pytorch.conv as dglconv"
   ]
  },
  {
   "cell_type": "code",
   "execution_count": null,
   "metadata": {},
   "outputs": [],
   "source": [
    "u, v = torch.tensor([0, 0, 0, 1]), torch.tensor([1, 2, 3, 3])\n",
    "g = dgl.graph((u, v), num_nodes=8)\n",
    "g = dgl.add_self_loop(g)\n",
    "\n",
    "node_feat_dim = 32\n",
    "edge_feat_dim = 3\n",
    "\n",
    "g.ndata['feat'] = torch.randn(g.number_of_nodes(), node_feat_dim)\n",
    "g.edata['feat'] = torch.randn(g.number_of_edges(), edge_feat_dim)"
   ]
  },
  {
   "cell_type": "code",
   "execution_count": null,
   "metadata": {},
   "outputs": [],
   "source": [
    "gc_out_dim = 16\n",
    "\n",
    "gc = dglconv.GraphConv(in_feats=node_feat_dim, out_feats=gc_out_dim)"
   ]
  },
  {
   "cell_type": "code",
   "execution_count": null,
   "metadata": {},
   "outputs": [],
   "source": [
    "h_updated = gc(g, g.ndata['feat'])"
   ]
  },
  {
   "cell_type": "code",
   "execution_count": null,
   "metadata": {},
   "outputs": [],
   "source": [
    "# Graph Attention Networks\n",
    "gat = dglconv.GATConv(in_feats=node_feat_dim,\n",
    "                      out_feats=gc_out_dim,\n",
    "                      num_heads=4)"
   ]
  },
  {
   "cell_type": "code",
   "execution_count": null,
   "metadata": {},
   "outputs": [],
   "source": [
    "h_updated_gat = gat(g, g.ndata['feat'])"
   ]
  },
  {
   "cell_type": "code",
   "execution_count": null,
   "metadata": {},
   "outputs": [],
   "source": [
    "h_updated_gat.shape # [#.nodes x #. attn head x # out dim]"
   ]
  },
  {
   "cell_type": "code",
   "execution_count": null,
   "metadata": {},
   "outputs": [],
   "source": [
    "g.ndata['feat']"
   ]
  },
  {
   "cell_type": "code",
   "execution_count": null,
   "metadata": {},
   "outputs": [],
   "source": [
    "# mini batch\n",
    "\n",
    "batched_g = dgl.batch([g, g])"
   ]
  },
  {
   "cell_type": "code",
   "execution_count": null,
   "metadata": {},
   "outputs": [],
   "source": [
    "print(\"Number of graphs in the batched graphs : {} \\n\".format(batched_g.batch_size))\n",
    "\n",
    "print(\"Total number of nodes : {}\".format(batched_g.num_nodes()))\n",
    "print(\"Total number of edges : {} \\n\".format(batched_g.num_edges()))\n",
    "n_nodes = [i.item() for i in batched_g.batch_num_nodes()]\n",
    "n_edges = [i.item() for i in batched_g.batch_num_edges()]\n",
    "\n",
    "print(\"Per graph number of nodes : {}\".format(n_nodes))\n",
    "print(\"Per graph number of edges : {} \\n\".format(n_edges))"
   ]
  },
  {
   "cell_type": "code",
   "execution_count": null,
   "metadata": {},
   "outputs": [],
   "source": [
    "h_updated_batched = gc(batched_g, batched_g.ndata['feat'])\n",
    "print(h_updated_batched.shape) # take a look at that the first dimension of output is now doubled."
   ]
  },
  {
   "cell_type": "code",
   "execution_count": null,
   "metadata": {},
   "outputs": [],
   "source": [
    "# Graph Readouts\n",
    "\n",
    "readout = h_updated.sum(dim=0)\n",
    "print(readout.shape)\n",
    "print(readout)"
   ]
  },
  {
   "cell_type": "code",
   "execution_count": null,
   "metadata": {},
   "outputs": [],
   "source": [
    "g.ndata['updated_h'] = h_updated\n",
    "readout = dgl.readout_nodes(g, 'updated_h', op='sum')"
   ]
  },
  {
   "cell_type": "code",
   "execution_count": null,
   "metadata": {},
   "outputs": [],
   "source": [
    "print(readout.shape)\n",
    "print(readout)"
   ]
  },
  {
   "cell_type": "markdown",
   "metadata": {},
   "source": [
    "# 3. How to train GraphSAGE"
   ]
  },
  {
   "cell_type": "code",
   "execution_count": null,
   "metadata": {},
   "outputs": [],
   "source": [
    "import torch\n",
    "import dgl\n",
    "import torch.nn as nn\n",
    "import dgl.nn as dglnn\n",
    "import torch.nn.functional as F"
   ]
  },
  {
   "cell_type": "code",
   "execution_count": null,
   "metadata": {},
   "outputs": [],
   "source": [
    "dataset = dgl.data.CiteseerGraphDataset()\n",
    "graph = dataset[0] # since it only has one graph :)"
   ]
  },
  {
   "cell_type": "code",
   "execution_count": null,
   "metadata": {},
   "outputs": [],
   "source": [
    "plot_dgl_graph(graph)"
   ]
  },
  {
   "cell_type": "code",
   "execution_count": null,
   "metadata": {},
   "outputs": [],
   "source": [
    "%%latex\n",
    "\\begin{equation}\n",
    "h=\\text{GraphSAGE}^{(2)}(\\text{ReLU}((\\text{GraphSAGE}^{(1)}(\\mathcal{G}, X))))\n",
    "\\end{equation}"
   ]
  },
  {
   "cell_type": "code",
   "execution_count": null,
   "metadata": {},
   "outputs": [],
   "source": [
    "class SAGE(nn.Module):\n",
    "    def __init__(self, in_feats, hid_feats, out_feats):\n",
    "        super().__init__()\n",
    "        self.conv1 = dglnn.SAGEConv(in_feats, hid_feats, aggregator_type=\"mean\")\n",
    "        self.conv2 = dglnn.SAGEConv(hid_feats, out_feats, aggregator_type=\"mean\")\n",
    "\n",
    "    def forward(self, g, inputs):\n",
    "        h = self.conv1(g, inputs)\n",
    "        h = F.relu(h)\n",
    "        h = self.conv2(g, h)\n",
    "        return h"
   ]
  },
  {
   "cell_type": "code",
   "execution_count": null,
   "metadata": {},
   "outputs": [],
   "source": [
    "graph.ndata.keys()"
   ]
  },
  {
   "cell_type": "code",
   "execution_count": null,
   "metadata": {},
   "outputs": [],
   "source": [
    "node_features = graph.ndata[\"feat\"]\n",
    "node_labels = graph.ndata[\"label\"]\n",
    "train_mask = graph.ndata[\"train_mask\"]\n",
    "val_mask = graph.ndata[\"val_mask\"]\n",
    "test_mask = graph.ndata[\"test_mask\"]\n",
    "\n",
    "n_features = node_features.shape[1]\n",
    "n_labels = len(node_labels.unique())"
   ]
  },
  {
   "cell_type": "code",
   "execution_count": null,
   "metadata": {},
   "outputs": [],
   "source": [
    "def evaluate(model, graph, features, labels, mask):\n",
    "    model.eval()\n",
    "    with torch.no_grad():\n",
    "        logits = model(graph, features)\n",
    "        logits = logits[mask]\n",
    "        labels = labels[mask]\n",
    "        _, indices = torch.max(logits, dim=1)\n",
    "        correct = torch.sum(indices == labels)\n",
    "        return correct.item() * 1.0 / len(labels)"
   ]
  },
  {
   "cell_type": "code",
   "execution_count": null,
   "metadata": {},
   "outputs": [],
   "source": [
    "model = SAGE(in_feats=n_features, hid_feats=100, out_feats=n_labels)\n",
    "opt = torch.optim.Adam(model.parameters())\n",
    "\n",
    "for epoch in range(100):\n",
    "    model.train()\n",
    "    # forward prop by using all nodes\n",
    "    logits = model(graph, node_features)\n",
    "    # compute loss\n",
    "    loss = F.cross_entropy(logits[train_mask], node_labels[train_mask])\n",
    "    \n",
    "    # compute train & validation accuracy\n",
    "    train_acc = evaluate(model, graph, node_features, node_labels, train_mask)\n",
    "    val_acc = evaluate(model, graph, node_features, node_labels, val_mask)\n",
    "    # backward prop\n",
    "    opt.zero_grad()\n",
    "    loss.backward()\n",
    "    opt.step()\n",
    "    print(\"Epoch {:05d} | Loss {:.4f} | Train Acc {:.4f} | Val Acc {:.4f}\".format(\n",
    "        epoch, loss.item(), train_acc, val_acc))"
   ]
  },
  {
   "cell_type": "code",
   "execution_count": null,
   "metadata": {},
   "outputs": [],
   "source": []
  },
  {
   "cell_type": "code",
   "execution_count": null,
   "metadata": {},
   "outputs": [],
   "source": [
    "model(graph, node_features)"
   ]
  },
  {
   "cell_type": "code",
   "execution_count": null,
   "metadata": {},
   "outputs": [],
   "source": [
    "logits = model(graph, node_features)\n",
    "logits"
   ]
  },
  {
   "cell_type": "code",
   "execution_count": null,
   "metadata": {},
   "outputs": [],
   "source": [
    "logits.max()"
   ]
  },
  {
   "cell_type": "markdown",
   "metadata": {},
   "source": [
    "# Data"
   ]
  },
  {
   "cell_type": "code",
   "execution_count": 37,
   "metadata": {},
   "outputs": [],
   "source": [
    "import dgl"
   ]
  },
  {
   "cell_type": "code",
   "execution_count": 38,
   "metadata": {},
   "outputs": [],
   "source": [
    "import pandas as pd\n",
    "df = pd.read_parquet(\"data/wind/2019-01-24_outlier_removed.parquet\")"
   ]
  },
  {
   "cell_type": "code",
   "execution_count": 39,
   "metadata": {},
   "outputs": [
    {
     "data": {
      "text/html": [
       "<div>\n",
       "<style scoped>\n",
       "    .dataframe tbody tr th:only-of-type {\n",
       "        vertical-align: middle;\n",
       "    }\n",
       "\n",
       "    .dataframe tbody tr th {\n",
       "        vertical-align: top;\n",
       "    }\n",
       "\n",
       "    .dataframe thead th {\n",
       "        text-align: right;\n",
       "    }\n",
       "</style>\n",
       "<table border=\"1\" class=\"dataframe\">\n",
       "  <thead>\n",
       "    <tr style=\"text-align: right;\">\n",
       "      <th></th>\n",
       "      <th>epoch</th>\n",
       "      <th>production</th>\n",
       "      <th>rt_plant_id</th>\n",
       "      <th>forecast_dt</th>\n",
       "      <th>UGRD_80.m.above.ground.SW</th>\n",
       "      <th>UGRD_80.m.above.ground.NW</th>\n",
       "      <th>UGRD_80.m.above.ground.NE</th>\n",
       "      <th>UGRD_80.m.above.ground.SE</th>\n",
       "      <th>VGRD_80.m.above.ground.SW</th>\n",
       "      <th>VGRD_80.m.above.ground.NW</th>\n",
       "      <th>VGRD_80.m.above.ground.NE</th>\n",
       "      <th>VGRD_80.m.above.ground.SE</th>\n",
       "      <th>production_lower</th>\n",
       "      <th>production_upper</th>\n",
       "      <th>is_outlier</th>\n",
       "      <th>production_cleaned</th>\n",
       "    </tr>\n",
       "  </thead>\n",
       "  <tbody>\n",
       "    <tr>\n",
       "      <th>0</th>\n",
       "      <td>1548288000</td>\n",
       "      <td>10.0</td>\n",
       "      <td>1503</td>\n",
       "      <td>2019-01-24 03:00:00+03:00</td>\n",
       "      <td>-2.381990</td>\n",
       "      <td>-1.811990</td>\n",
       "      <td>-1.301990</td>\n",
       "      <td>-1.89199</td>\n",
       "      <td>17.66920</td>\n",
       "      <td>15.35920</td>\n",
       "      <td>15.56920</td>\n",
       "      <td>10.63920</td>\n",
       "      <td>0.0</td>\n",
       "      <td>10.0</td>\n",
       "      <td>False</td>\n",
       "      <td>10.0</td>\n",
       "    </tr>\n",
       "    <tr>\n",
       "      <th>1</th>\n",
       "      <td>1548291600</td>\n",
       "      <td>10.0</td>\n",
       "      <td>1503</td>\n",
       "      <td>2019-01-24 04:00:00+03:00</td>\n",
       "      <td>-3.177610</td>\n",
       "      <td>-2.647610</td>\n",
       "      <td>-2.297610</td>\n",
       "      <td>-3.02761</td>\n",
       "      <td>16.50070</td>\n",
       "      <td>14.29070</td>\n",
       "      <td>14.46070</td>\n",
       "      <td>10.24070</td>\n",
       "      <td>0.0</td>\n",
       "      <td>10.0</td>\n",
       "      <td>False</td>\n",
       "      <td>10.0</td>\n",
       "    </tr>\n",
       "    <tr>\n",
       "      <th>2</th>\n",
       "      <td>1548295200</td>\n",
       "      <td>9.0</td>\n",
       "      <td>1503</td>\n",
       "      <td>2019-01-24 05:00:00+03:00</td>\n",
       "      <td>-3.593300</td>\n",
       "      <td>-3.043300</td>\n",
       "      <td>-2.573300</td>\n",
       "      <td>-3.40330</td>\n",
       "      <td>15.63730</td>\n",
       "      <td>13.43730</td>\n",
       "      <td>13.17730</td>\n",
       "      <td>9.39729</td>\n",
       "      <td>0.0</td>\n",
       "      <td>10.0</td>\n",
       "      <td>False</td>\n",
       "      <td>9.0</td>\n",
       "    </tr>\n",
       "    <tr>\n",
       "      <th>3</th>\n",
       "      <td>1548298800</td>\n",
       "      <td>2.7</td>\n",
       "      <td>1503</td>\n",
       "      <td>2019-01-24 06:00:00+03:00</td>\n",
       "      <td>-4.027460</td>\n",
       "      <td>-3.627460</td>\n",
       "      <td>-2.697460</td>\n",
       "      <td>-3.66746</td>\n",
       "      <td>14.39660</td>\n",
       "      <td>13.14660</td>\n",
       "      <td>11.37660</td>\n",
       "      <td>8.86664</td>\n",
       "      <td>0.0</td>\n",
       "      <td>10.0</td>\n",
       "      <td>False</td>\n",
       "      <td>2.7</td>\n",
       "    </tr>\n",
       "    <tr>\n",
       "      <th>4</th>\n",
       "      <td>1548302400</td>\n",
       "      <td>1.3</td>\n",
       "      <td>1503</td>\n",
       "      <td>2019-01-24 07:00:00+03:00</td>\n",
       "      <td>-4.512970</td>\n",
       "      <td>-4.192970</td>\n",
       "      <td>-2.722970</td>\n",
       "      <td>-3.82297</td>\n",
       "      <td>13.09370</td>\n",
       "      <td>12.96370</td>\n",
       "      <td>9.64367</td>\n",
       "      <td>8.58367</td>\n",
       "      <td>0.0</td>\n",
       "      <td>10.0</td>\n",
       "      <td>False</td>\n",
       "      <td>1.3</td>\n",
       "    </tr>\n",
       "    <tr>\n",
       "      <th>...</th>\n",
       "      <td>...</td>\n",
       "      <td>...</td>\n",
       "      <td>...</td>\n",
       "      <td>...</td>\n",
       "      <td>...</td>\n",
       "      <td>...</td>\n",
       "      <td>...</td>\n",
       "      <td>...</td>\n",
       "      <td>...</td>\n",
       "      <td>...</td>\n",
       "      <td>...</td>\n",
       "      <td>...</td>\n",
       "      <td>...</td>\n",
       "      <td>...</td>\n",
       "      <td>...</td>\n",
       "      <td>...</td>\n",
       "    </tr>\n",
       "    <tr>\n",
       "      <th>2650409</th>\n",
       "      <td>1643299200</td>\n",
       "      <td>20.0</td>\n",
       "      <td>2374</td>\n",
       "      <td>2022-01-27 19:00:00+03:00</td>\n",
       "      <td>-0.014146</td>\n",
       "      <td>-0.894145</td>\n",
       "      <td>0.225854</td>\n",
       "      <td>-1.14415</td>\n",
       "      <td>-9.65097</td>\n",
       "      <td>-5.86097</td>\n",
       "      <td>-5.42097</td>\n",
       "      <td>-4.08097</td>\n",
       "      <td>0.0</td>\n",
       "      <td>20.0</td>\n",
       "      <td>False</td>\n",
       "      <td>20.0</td>\n",
       "    </tr>\n",
       "    <tr>\n",
       "      <th>2650410</th>\n",
       "      <td>1643302800</td>\n",
       "      <td>18.5</td>\n",
       "      <td>2374</td>\n",
       "      <td>2022-01-27 20:00:00+03:00</td>\n",
       "      <td>0.542844</td>\n",
       "      <td>-0.977156</td>\n",
       "      <td>-0.307156</td>\n",
       "      <td>-1.18716</td>\n",
       "      <td>-9.24466</td>\n",
       "      <td>-5.59466</td>\n",
       "      <td>-4.40466</td>\n",
       "      <td>-3.31466</td>\n",
       "      <td>0.0</td>\n",
       "      <td>20.0</td>\n",
       "      <td>False</td>\n",
       "      <td>18.5</td>\n",
       "    </tr>\n",
       "    <tr>\n",
       "      <th>2650411</th>\n",
       "      <td>1643306400</td>\n",
       "      <td>18.1</td>\n",
       "      <td>2374</td>\n",
       "      <td>2022-01-27 21:00:00+03:00</td>\n",
       "      <td>-0.170332</td>\n",
       "      <td>-1.980330</td>\n",
       "      <td>-0.790332</td>\n",
       "      <td>-1.39033</td>\n",
       "      <td>-9.34740</td>\n",
       "      <td>-5.69740</td>\n",
       "      <td>-3.84740</td>\n",
       "      <td>-3.20740</td>\n",
       "      <td>0.0</td>\n",
       "      <td>20.0</td>\n",
       "      <td>False</td>\n",
       "      <td>18.1</td>\n",
       "    </tr>\n",
       "    <tr>\n",
       "      <th>2650412</th>\n",
       "      <td>1643310000</td>\n",
       "      <td>13.7</td>\n",
       "      <td>2374</td>\n",
       "      <td>2022-01-27 22:00:00+03:00</td>\n",
       "      <td>-0.388333</td>\n",
       "      <td>-2.448330</td>\n",
       "      <td>-0.778333</td>\n",
       "      <td>-1.53833</td>\n",
       "      <td>-8.65053</td>\n",
       "      <td>-5.44053</td>\n",
       "      <td>-3.42053</td>\n",
       "      <td>-2.99053</td>\n",
       "      <td>0.0</td>\n",
       "      <td>20.0</td>\n",
       "      <td>False</td>\n",
       "      <td>13.7</td>\n",
       "    </tr>\n",
       "    <tr>\n",
       "      <th>2650413</th>\n",
       "      <td>1643313600</td>\n",
       "      <td>12.2</td>\n",
       "      <td>2374</td>\n",
       "      <td>2022-01-27 23:00:00+03:00</td>\n",
       "      <td>-0.722947</td>\n",
       "      <td>-2.692950</td>\n",
       "      <td>-0.742947</td>\n",
       "      <td>-1.54295</td>\n",
       "      <td>-8.34082</td>\n",
       "      <td>-5.22082</td>\n",
       "      <td>-3.32082</td>\n",
       "      <td>-2.89082</td>\n",
       "      <td>0.0</td>\n",
       "      <td>20.0</td>\n",
       "      <td>False</td>\n",
       "      <td>12.2</td>\n",
       "    </tr>\n",
       "  </tbody>\n",
       "</table>\n",
       "<p>2586416 rows × 16 columns</p>\n",
       "</div>"
      ],
      "text/plain": [
       "              epoch  production  rt_plant_id               forecast_dt  \\\n",
       "0        1548288000        10.0         1503 2019-01-24 03:00:00+03:00   \n",
       "1        1548291600        10.0         1503 2019-01-24 04:00:00+03:00   \n",
       "2        1548295200         9.0         1503 2019-01-24 05:00:00+03:00   \n",
       "3        1548298800         2.7         1503 2019-01-24 06:00:00+03:00   \n",
       "4        1548302400         1.3         1503 2019-01-24 07:00:00+03:00   \n",
       "...             ...         ...          ...                       ...   \n",
       "2650409  1643299200        20.0         2374 2022-01-27 19:00:00+03:00   \n",
       "2650410  1643302800        18.5         2374 2022-01-27 20:00:00+03:00   \n",
       "2650411  1643306400        18.1         2374 2022-01-27 21:00:00+03:00   \n",
       "2650412  1643310000        13.7         2374 2022-01-27 22:00:00+03:00   \n",
       "2650413  1643313600        12.2         2374 2022-01-27 23:00:00+03:00   \n",
       "\n",
       "         UGRD_80.m.above.ground.SW  UGRD_80.m.above.ground.NW  \\\n",
       "0                        -2.381990                  -1.811990   \n",
       "1                        -3.177610                  -2.647610   \n",
       "2                        -3.593300                  -3.043300   \n",
       "3                        -4.027460                  -3.627460   \n",
       "4                        -4.512970                  -4.192970   \n",
       "...                            ...                        ...   \n",
       "2650409                  -0.014146                  -0.894145   \n",
       "2650410                   0.542844                  -0.977156   \n",
       "2650411                  -0.170332                  -1.980330   \n",
       "2650412                  -0.388333                  -2.448330   \n",
       "2650413                  -0.722947                  -2.692950   \n",
       "\n",
       "         UGRD_80.m.above.ground.NE  UGRD_80.m.above.ground.SE  \\\n",
       "0                        -1.301990                   -1.89199   \n",
       "1                        -2.297610                   -3.02761   \n",
       "2                        -2.573300                   -3.40330   \n",
       "3                        -2.697460                   -3.66746   \n",
       "4                        -2.722970                   -3.82297   \n",
       "...                            ...                        ...   \n",
       "2650409                   0.225854                   -1.14415   \n",
       "2650410                  -0.307156                   -1.18716   \n",
       "2650411                  -0.790332                   -1.39033   \n",
       "2650412                  -0.778333                   -1.53833   \n",
       "2650413                  -0.742947                   -1.54295   \n",
       "\n",
       "         VGRD_80.m.above.ground.SW  VGRD_80.m.above.ground.NW  \\\n",
       "0                         17.66920                   15.35920   \n",
       "1                         16.50070                   14.29070   \n",
       "2                         15.63730                   13.43730   \n",
       "3                         14.39660                   13.14660   \n",
       "4                         13.09370                   12.96370   \n",
       "...                            ...                        ...   \n",
       "2650409                   -9.65097                   -5.86097   \n",
       "2650410                   -9.24466                   -5.59466   \n",
       "2650411                   -9.34740                   -5.69740   \n",
       "2650412                   -8.65053                   -5.44053   \n",
       "2650413                   -8.34082                   -5.22082   \n",
       "\n",
       "         VGRD_80.m.above.ground.NE  VGRD_80.m.above.ground.SE  \\\n",
       "0                         15.56920                   10.63920   \n",
       "1                         14.46070                   10.24070   \n",
       "2                         13.17730                    9.39729   \n",
       "3                         11.37660                    8.86664   \n",
       "4                          9.64367                    8.58367   \n",
       "...                            ...                        ...   \n",
       "2650409                   -5.42097                   -4.08097   \n",
       "2650410                   -4.40466                   -3.31466   \n",
       "2650411                   -3.84740                   -3.20740   \n",
       "2650412                   -3.42053                   -2.99053   \n",
       "2650413                   -3.32082                   -2.89082   \n",
       "\n",
       "         production_lower  production_upper  is_outlier  production_cleaned  \n",
       "0                     0.0              10.0       False                10.0  \n",
       "1                     0.0              10.0       False                10.0  \n",
       "2                     0.0              10.0       False                 9.0  \n",
       "3                     0.0              10.0       False                 2.7  \n",
       "4                     0.0              10.0       False                 1.3  \n",
       "...                   ...               ...         ...                 ...  \n",
       "2650409               0.0              20.0       False                20.0  \n",
       "2650410               0.0              20.0       False                18.5  \n",
       "2650411               0.0              20.0       False                18.1  \n",
       "2650412               0.0              20.0       False                13.7  \n",
       "2650413               0.0              20.0       False                12.2  \n",
       "\n",
       "[2586416 rows x 16 columns]"
      ]
     },
     "execution_count": 39,
     "metadata": {},
     "output_type": "execute_result"
    }
   ],
   "source": [
    "df = df[~df[\"rt_plant_id\"].isin([2397, 2420, 2538])]\n",
    "df"
   ]
  },
  {
   "cell_type": "code",
   "execution_count": 40,
   "metadata": {},
   "outputs": [],
   "source": [
    "# corr based adjacency\n",
    "\n",
    "data = df[[\"forecast_dt\", \"rt_plant_id\", \"production\"]]\n",
    "data = pd.pivot_table(data, index=\"forecast_dt\", columns=\"rt_plant_id\", values=\"production\")"
   ]
  },
  {
   "cell_type": "code",
   "execution_count": 41,
   "metadata": {},
   "outputs": [
    {
     "data": {
      "text/html": [
       "<div>\n",
       "<style scoped>\n",
       "    .dataframe tbody tr th:only-of-type {\n",
       "        vertical-align: middle;\n",
       "    }\n",
       "\n",
       "    .dataframe tbody tr th {\n",
       "        vertical-align: top;\n",
       "    }\n",
       "\n",
       "    .dataframe thead th {\n",
       "        text-align: right;\n",
       "    }\n",
       "</style>\n",
       "<table border=\"1\" class=\"dataframe\">\n",
       "  <thead>\n",
       "    <tr style=\"text-align: right;\">\n",
       "      <th>rt_plant_id</th>\n",
       "      <th>672</th>\n",
       "      <th>749</th>\n",
       "      <th>757</th>\n",
       "      <th>968</th>\n",
       "      <th>969</th>\n",
       "      <th>1194</th>\n",
       "      <th>1459</th>\n",
       "      <th>1460</th>\n",
       "      <th>1470</th>\n",
       "      <th>1472</th>\n",
       "      <th>...</th>\n",
       "      <th>2180</th>\n",
       "      <th>2184</th>\n",
       "      <th>2224</th>\n",
       "      <th>2225</th>\n",
       "      <th>2235</th>\n",
       "      <th>2288</th>\n",
       "      <th>2291</th>\n",
       "      <th>2323</th>\n",
       "      <th>2326</th>\n",
       "      <th>2374</th>\n",
       "    </tr>\n",
       "    <tr>\n",
       "      <th>rt_plant_id</th>\n",
       "      <th></th>\n",
       "      <th></th>\n",
       "      <th></th>\n",
       "      <th></th>\n",
       "      <th></th>\n",
       "      <th></th>\n",
       "      <th></th>\n",
       "      <th></th>\n",
       "      <th></th>\n",
       "      <th></th>\n",
       "      <th></th>\n",
       "      <th></th>\n",
       "      <th></th>\n",
       "      <th></th>\n",
       "      <th></th>\n",
       "      <th></th>\n",
       "      <th></th>\n",
       "      <th></th>\n",
       "      <th></th>\n",
       "      <th></th>\n",
       "      <th></th>\n",
       "    </tr>\n",
       "  </thead>\n",
       "  <tbody>\n",
       "    <tr>\n",
       "      <th>672</th>\n",
       "      <td>1.000000</td>\n",
       "      <td>0.0</td>\n",
       "      <td>0.818082</td>\n",
       "      <td>0.554406</td>\n",
       "      <td>0.698107</td>\n",
       "      <td>0.720863</td>\n",
       "      <td>0.000000</td>\n",
       "      <td>0.000000</td>\n",
       "      <td>0.000000</td>\n",
       "      <td>0.000000</td>\n",
       "      <td>...</td>\n",
       "      <td>0.647598</td>\n",
       "      <td>0.000000</td>\n",
       "      <td>0.000000</td>\n",
       "      <td>0.752212</td>\n",
       "      <td>0.00000</td>\n",
       "      <td>0.0</td>\n",
       "      <td>0.820361</td>\n",
       "      <td>0.554928</td>\n",
       "      <td>0.526020</td>\n",
       "      <td>0.000000</td>\n",
       "    </tr>\n",
       "    <tr>\n",
       "      <th>749</th>\n",
       "      <td>0.000000</td>\n",
       "      <td>1.0</td>\n",
       "      <td>0.000000</td>\n",
       "      <td>0.000000</td>\n",
       "      <td>0.000000</td>\n",
       "      <td>0.000000</td>\n",
       "      <td>0.000000</td>\n",
       "      <td>0.000000</td>\n",
       "      <td>0.000000</td>\n",
       "      <td>0.000000</td>\n",
       "      <td>...</td>\n",
       "      <td>0.000000</td>\n",
       "      <td>0.000000</td>\n",
       "      <td>0.000000</td>\n",
       "      <td>0.000000</td>\n",
       "      <td>0.00000</td>\n",
       "      <td>0.0</td>\n",
       "      <td>0.000000</td>\n",
       "      <td>0.000000</td>\n",
       "      <td>0.000000</td>\n",
       "      <td>0.000000</td>\n",
       "    </tr>\n",
       "    <tr>\n",
       "      <th>757</th>\n",
       "      <td>0.818082</td>\n",
       "      <td>0.0</td>\n",
       "      <td>1.000000</td>\n",
       "      <td>0.625912</td>\n",
       "      <td>0.732977</td>\n",
       "      <td>0.666182</td>\n",
       "      <td>0.000000</td>\n",
       "      <td>0.000000</td>\n",
       "      <td>0.000000</td>\n",
       "      <td>0.000000</td>\n",
       "      <td>...</td>\n",
       "      <td>0.661928</td>\n",
       "      <td>0.000000</td>\n",
       "      <td>0.000000</td>\n",
       "      <td>0.779743</td>\n",
       "      <td>0.00000</td>\n",
       "      <td>0.0</td>\n",
       "      <td>0.782253</td>\n",
       "      <td>0.617477</td>\n",
       "      <td>0.612668</td>\n",
       "      <td>0.000000</td>\n",
       "    </tr>\n",
       "    <tr>\n",
       "      <th>968</th>\n",
       "      <td>0.554406</td>\n",
       "      <td>0.0</td>\n",
       "      <td>0.625912</td>\n",
       "      <td>1.000000</td>\n",
       "      <td>0.760793</td>\n",
       "      <td>0.000000</td>\n",
       "      <td>0.000000</td>\n",
       "      <td>0.000000</td>\n",
       "      <td>0.000000</td>\n",
       "      <td>0.000000</td>\n",
       "      <td>...</td>\n",
       "      <td>0.738206</td>\n",
       "      <td>0.000000</td>\n",
       "      <td>0.000000</td>\n",
       "      <td>0.518439</td>\n",
       "      <td>0.00000</td>\n",
       "      <td>0.0</td>\n",
       "      <td>0.538423</td>\n",
       "      <td>0.795903</td>\n",
       "      <td>0.661067</td>\n",
       "      <td>0.554586</td>\n",
       "    </tr>\n",
       "    <tr>\n",
       "      <th>969</th>\n",
       "      <td>0.698107</td>\n",
       "      <td>0.0</td>\n",
       "      <td>0.732977</td>\n",
       "      <td>0.760793</td>\n",
       "      <td>1.000000</td>\n",
       "      <td>0.536955</td>\n",
       "      <td>0.000000</td>\n",
       "      <td>0.000000</td>\n",
       "      <td>0.000000</td>\n",
       "      <td>0.000000</td>\n",
       "      <td>...</td>\n",
       "      <td>0.889086</td>\n",
       "      <td>0.000000</td>\n",
       "      <td>0.000000</td>\n",
       "      <td>0.623860</td>\n",
       "      <td>0.00000</td>\n",
       "      <td>0.0</td>\n",
       "      <td>0.684870</td>\n",
       "      <td>0.727144</td>\n",
       "      <td>0.701659</td>\n",
       "      <td>0.000000</td>\n",
       "    </tr>\n",
       "    <tr>\n",
       "      <th>...</th>\n",
       "      <td>...</td>\n",
       "      <td>...</td>\n",
       "      <td>...</td>\n",
       "      <td>...</td>\n",
       "      <td>...</td>\n",
       "      <td>...</td>\n",
       "      <td>...</td>\n",
       "      <td>...</td>\n",
       "      <td>...</td>\n",
       "      <td>...</td>\n",
       "      <td>...</td>\n",
       "      <td>...</td>\n",
       "      <td>...</td>\n",
       "      <td>...</td>\n",
       "      <td>...</td>\n",
       "      <td>...</td>\n",
       "      <td>...</td>\n",
       "      <td>...</td>\n",
       "      <td>...</td>\n",
       "      <td>...</td>\n",
       "      <td>...</td>\n",
       "    </tr>\n",
       "    <tr>\n",
       "      <th>2288</th>\n",
       "      <td>0.000000</td>\n",
       "      <td>0.0</td>\n",
       "      <td>0.000000</td>\n",
       "      <td>0.000000</td>\n",
       "      <td>0.000000</td>\n",
       "      <td>0.000000</td>\n",
       "      <td>0.000000</td>\n",
       "      <td>0.816407</td>\n",
       "      <td>0.502665</td>\n",
       "      <td>0.503858</td>\n",
       "      <td>...</td>\n",
       "      <td>0.000000</td>\n",
       "      <td>0.000000</td>\n",
       "      <td>0.550695</td>\n",
       "      <td>0.000000</td>\n",
       "      <td>0.62266</td>\n",
       "      <td>1.0</td>\n",
       "      <td>0.000000</td>\n",
       "      <td>0.000000</td>\n",
       "      <td>0.000000</td>\n",
       "      <td>0.000000</td>\n",
       "    </tr>\n",
       "    <tr>\n",
       "      <th>2291</th>\n",
       "      <td>0.820361</td>\n",
       "      <td>0.0</td>\n",
       "      <td>0.782253</td>\n",
       "      <td>0.538423</td>\n",
       "      <td>0.684870</td>\n",
       "      <td>0.688397</td>\n",
       "      <td>0.000000</td>\n",
       "      <td>0.000000</td>\n",
       "      <td>0.000000</td>\n",
       "      <td>0.000000</td>\n",
       "      <td>...</td>\n",
       "      <td>0.664631</td>\n",
       "      <td>0.000000</td>\n",
       "      <td>0.000000</td>\n",
       "      <td>0.668477</td>\n",
       "      <td>0.00000</td>\n",
       "      <td>0.0</td>\n",
       "      <td>1.000000</td>\n",
       "      <td>0.528145</td>\n",
       "      <td>0.532720</td>\n",
       "      <td>0.000000</td>\n",
       "    </tr>\n",
       "    <tr>\n",
       "      <th>2323</th>\n",
       "      <td>0.554928</td>\n",
       "      <td>0.0</td>\n",
       "      <td>0.617477</td>\n",
       "      <td>0.795903</td>\n",
       "      <td>0.727144</td>\n",
       "      <td>0.000000</td>\n",
       "      <td>0.000000</td>\n",
       "      <td>0.000000</td>\n",
       "      <td>0.000000</td>\n",
       "      <td>0.000000</td>\n",
       "      <td>...</td>\n",
       "      <td>0.750917</td>\n",
       "      <td>0.000000</td>\n",
       "      <td>0.000000</td>\n",
       "      <td>0.565051</td>\n",
       "      <td>0.00000</td>\n",
       "      <td>0.0</td>\n",
       "      <td>0.528145</td>\n",
       "      <td>1.000000</td>\n",
       "      <td>0.786605</td>\n",
       "      <td>0.000000</td>\n",
       "    </tr>\n",
       "    <tr>\n",
       "      <th>2326</th>\n",
       "      <td>0.526020</td>\n",
       "      <td>0.0</td>\n",
       "      <td>0.612668</td>\n",
       "      <td>0.661067</td>\n",
       "      <td>0.701659</td>\n",
       "      <td>0.000000</td>\n",
       "      <td>0.000000</td>\n",
       "      <td>0.000000</td>\n",
       "      <td>0.000000</td>\n",
       "      <td>0.000000</td>\n",
       "      <td>...</td>\n",
       "      <td>0.707634</td>\n",
       "      <td>0.000000</td>\n",
       "      <td>0.000000</td>\n",
       "      <td>0.594457</td>\n",
       "      <td>0.00000</td>\n",
       "      <td>0.0</td>\n",
       "      <td>0.532720</td>\n",
       "      <td>0.786605</td>\n",
       "      <td>1.000000</td>\n",
       "      <td>0.000000</td>\n",
       "    </tr>\n",
       "    <tr>\n",
       "      <th>2374</th>\n",
       "      <td>0.000000</td>\n",
       "      <td>0.0</td>\n",
       "      <td>0.000000</td>\n",
       "      <td>0.554586</td>\n",
       "      <td>0.000000</td>\n",
       "      <td>0.000000</td>\n",
       "      <td>0.674277</td>\n",
       "      <td>0.000000</td>\n",
       "      <td>0.000000</td>\n",
       "      <td>0.734324</td>\n",
       "      <td>...</td>\n",
       "      <td>0.500112</td>\n",
       "      <td>0.652952</td>\n",
       "      <td>0.586841</td>\n",
       "      <td>0.000000</td>\n",
       "      <td>0.00000</td>\n",
       "      <td>0.0</td>\n",
       "      <td>0.000000</td>\n",
       "      <td>0.000000</td>\n",
       "      <td>0.000000</td>\n",
       "      <td>1.000000</td>\n",
       "    </tr>\n",
       "  </tbody>\n",
       "</table>\n",
       "<p>98 rows × 98 columns</p>\n",
       "</div>"
      ],
      "text/plain": [
       "rt_plant_id      672   749       757       968       969       1194      1459  \\\n",
       "rt_plant_id                                                                     \n",
       "672          1.000000   0.0  0.818082  0.554406  0.698107  0.720863  0.000000   \n",
       "749          0.000000   1.0  0.000000  0.000000  0.000000  0.000000  0.000000   \n",
       "757          0.818082   0.0  1.000000  0.625912  0.732977  0.666182  0.000000   \n",
       "968          0.554406   0.0  0.625912  1.000000  0.760793  0.000000  0.000000   \n",
       "969          0.698107   0.0  0.732977  0.760793  1.000000  0.536955  0.000000   \n",
       "...               ...   ...       ...       ...       ...       ...       ...   \n",
       "2288         0.000000   0.0  0.000000  0.000000  0.000000  0.000000  0.000000   \n",
       "2291         0.820361   0.0  0.782253  0.538423  0.684870  0.688397  0.000000   \n",
       "2323         0.554928   0.0  0.617477  0.795903  0.727144  0.000000  0.000000   \n",
       "2326         0.526020   0.0  0.612668  0.661067  0.701659  0.000000  0.000000   \n",
       "2374         0.000000   0.0  0.000000  0.554586  0.000000  0.000000  0.674277   \n",
       "\n",
       "rt_plant_id      1460      1470      1472  ...      2180      2184      2224  \\\n",
       "rt_plant_id                                ...                                 \n",
       "672          0.000000  0.000000  0.000000  ...  0.647598  0.000000  0.000000   \n",
       "749          0.000000  0.000000  0.000000  ...  0.000000  0.000000  0.000000   \n",
       "757          0.000000  0.000000  0.000000  ...  0.661928  0.000000  0.000000   \n",
       "968          0.000000  0.000000  0.000000  ...  0.738206  0.000000  0.000000   \n",
       "969          0.000000  0.000000  0.000000  ...  0.889086  0.000000  0.000000   \n",
       "...               ...       ...       ...  ...       ...       ...       ...   \n",
       "2288         0.816407  0.502665  0.503858  ...  0.000000  0.000000  0.550695   \n",
       "2291         0.000000  0.000000  0.000000  ...  0.664631  0.000000  0.000000   \n",
       "2323         0.000000  0.000000  0.000000  ...  0.750917  0.000000  0.000000   \n",
       "2326         0.000000  0.000000  0.000000  ...  0.707634  0.000000  0.000000   \n",
       "2374         0.000000  0.000000  0.734324  ...  0.500112  0.652952  0.586841   \n",
       "\n",
       "rt_plant_id      2225     2235  2288      2291      2323      2326      2374  \n",
       "rt_plant_id                                                                   \n",
       "672          0.752212  0.00000   0.0  0.820361  0.554928  0.526020  0.000000  \n",
       "749          0.000000  0.00000   0.0  0.000000  0.000000  0.000000  0.000000  \n",
       "757          0.779743  0.00000   0.0  0.782253  0.617477  0.612668  0.000000  \n",
       "968          0.518439  0.00000   0.0  0.538423  0.795903  0.661067  0.554586  \n",
       "969          0.623860  0.00000   0.0  0.684870  0.727144  0.701659  0.000000  \n",
       "...               ...      ...   ...       ...       ...       ...       ...  \n",
       "2288         0.000000  0.62266   1.0  0.000000  0.000000  0.000000  0.000000  \n",
       "2291         0.668477  0.00000   0.0  1.000000  0.528145  0.532720  0.000000  \n",
       "2323         0.565051  0.00000   0.0  0.528145  1.000000  0.786605  0.000000  \n",
       "2326         0.594457  0.00000   0.0  0.532720  0.786605  1.000000  0.000000  \n",
       "2374         0.000000  0.00000   0.0  0.000000  0.000000  0.000000  1.000000  \n",
       "\n",
       "[98 rows x 98 columns]"
      ]
     },
     "execution_count": 41,
     "metadata": {},
     "output_type": "execute_result"
    }
   ],
   "source": [
    "THRESHOLD = 0.5\n",
    "A = abs(data.corr())\n",
    "A = A[A > THRESHOLD].fillna(0)\n",
    "A"
   ]
  },
  {
   "cell_type": "code",
   "execution_count": 32,
   "metadata": {},
   "outputs": [],
   "source": [
    "import scipy.sparse as sp\n",
    "sp_mx = sp.coo_matrix(A)\n",
    "G = dgl.from_scipy(sp_mx, eweight_name=\"weight\")"
   ]
  },
  {
   "cell_type": "code",
   "execution_count": 36,
   "metadata": {},
   "outputs": [
    {
     "data": {
      "text/plain": [
       "tensor(indices=tensor([[ 0,  0,  0,  ..., 97, 97, 97],\n",
       "                       [ 0,  2,  3,  ..., 89, 90, 97]]),\n",
       "       values=tensor([1., 1., 1.,  ..., 1., 1., 1.]),\n",
       "       size=(98, 98), nnz=5854, layout=torch.sparse_coo)"
      ]
     },
     "execution_count": 36,
     "metadata": {},
     "output_type": "execute_result"
    }
   ],
   "source": [
    "G.adjacency_matrix()\n",
    "# print(G.edata[\"weight\"])"
   ]
  },
  {
   "cell_type": "code",
   "execution_count": 1,
   "metadata": {},
   "outputs": [],
   "source": [
    "import pandas as pd"
   ]
  },
  {
   "cell_type": "code",
   "execution_count": 7,
   "metadata": {},
   "outputs": [],
   "source": [
    "df1 = pd.read_csv(\"/home/mert/Desktop/thesis/thesis/data/wind/production_large.csv\")\n",
    "df2 = pd.read_parquet(\"/home/mert/Desktop/thesis/thesis/data/wind/production_large.parquet\")"
   ]
  },
  {
   "cell_type": "code",
   "execution_count": 13,
   "metadata": {},
   "outputs": [],
   "source": [
    "a = pd.read_csv(\"/home/mert/Desktop/thesis/thesis/data/wind/ege_farms.csv\")[[\"name\", \"rt_plant_id\"]].drop_duplicates()"
   ]
  },
  {
   "cell_type": "code",
   "execution_count": 17,
   "metadata": {},
   "outputs": [
    {
     "data": {
      "text/html": [
       "<div>\n",
       "<style scoped>\n",
       "    .dataframe tbody tr th:only-of-type {\n",
       "        vertical-align: middle;\n",
       "    }\n",
       "\n",
       "    .dataframe tbody tr th {\n",
       "        vertical-align: top;\n",
       "    }\n",
       "\n",
       "    .dataframe thead th {\n",
       "        text-align: right;\n",
       "    }\n",
       "</style>\n",
       "<table border=\"1\" class=\"dataframe\">\n",
       "  <thead>\n",
       "    <tr style=\"text-align: right;\">\n",
       "      <th></th>\n",
       "      <th>Unnamed: 0</th>\n",
       "      <th>epoch</th>\n",
       "      <th>production</th>\n",
       "      <th>rt_plant_id</th>\n",
       "      <th>name_x</th>\n",
       "      <th>name_y</th>\n",
       "    </tr>\n",
       "  </thead>\n",
       "  <tbody>\n",
       "  </tbody>\n",
       "</table>\n",
       "</div>"
      ],
      "text/plain": [
       "Empty DataFrame\n",
       "Columns: [Unnamed: 0, epoch, production, rt_plant_id, name_x, name_y]\n",
       "Index: []"
      ]
     },
     "execution_count": 17,
     "metadata": {},
     "output_type": "execute_result"
    }
   ],
   "source": [
    "df1[df1.name_x != df1.name_y]"
   ]
  },
  {
   "cell_type": "code",
   "execution_count": 15,
   "metadata": {},
   "outputs": [
    {
     "data": {
      "text/html": [
       "<div>\n",
       "<style scoped>\n",
       "    .dataframe tbody tr th:only-of-type {\n",
       "        vertical-align: middle;\n",
       "    }\n",
       "\n",
       "    .dataframe tbody tr th {\n",
       "        vertical-align: top;\n",
       "    }\n",
       "\n",
       "    .dataframe thead th {\n",
       "        text-align: right;\n",
       "    }\n",
       "</style>\n",
       "<table border=\"1\" class=\"dataframe\">\n",
       "  <thead>\n",
       "    <tr style=\"text-align: right;\">\n",
       "      <th></th>\n",
       "      <th>Unnamed: 0</th>\n",
       "      <th>epoch</th>\n",
       "      <th>production</th>\n",
       "      <th>rt_plant_id</th>\n",
       "      <th>name_x</th>\n",
       "      <th>name_y</th>\n",
       "    </tr>\n",
       "  </thead>\n",
       "  <tbody>\n",
       "    <tr>\n",
       "      <th>0</th>\n",
       "      <td>1</td>\n",
       "      <td>1483218000</td>\n",
       "      <td>4.6</td>\n",
       "      <td>1503</td>\n",
       "      <td>BORES</td>\n",
       "      <td>BORES</td>\n",
       "    </tr>\n",
       "    <tr>\n",
       "      <th>1</th>\n",
       "      <td>2</td>\n",
       "      <td>1483221600</td>\n",
       "      <td>5.0</td>\n",
       "      <td>1503</td>\n",
       "      <td>BORES</td>\n",
       "      <td>BORES</td>\n",
       "    </tr>\n",
       "    <tr>\n",
       "      <th>2</th>\n",
       "      <td>3</td>\n",
       "      <td>1483225200</td>\n",
       "      <td>5.2</td>\n",
       "      <td>1503</td>\n",
       "      <td>BORES</td>\n",
       "      <td>BORES</td>\n",
       "    </tr>\n",
       "    <tr>\n",
       "      <th>3</th>\n",
       "      <td>4</td>\n",
       "      <td>1483228800</td>\n",
       "      <td>5.6</td>\n",
       "      <td>1503</td>\n",
       "      <td>BORES</td>\n",
       "      <td>BORES</td>\n",
       "    </tr>\n",
       "    <tr>\n",
       "      <th>4</th>\n",
       "      <td>5</td>\n",
       "      <td>1483232400</td>\n",
       "      <td>5.0</td>\n",
       "      <td>1503</td>\n",
       "      <td>BORES</td>\n",
       "      <td>BORES</td>\n",
       "    </tr>\n",
       "  </tbody>\n",
       "</table>\n",
       "</div>"
      ],
      "text/plain": [
       "   Unnamed: 0       epoch  production  rt_plant_id name_x name_y\n",
       "0           1  1483218000         4.6         1503  BORES  BORES\n",
       "1           2  1483221600         5.0         1503  BORES  BORES\n",
       "2           3  1483225200         5.2         1503  BORES  BORES\n",
       "3           4  1483228800         5.6         1503  BORES  BORES\n",
       "4           5  1483232400         5.0         1503  BORES  BORES"
      ]
     },
     "execution_count": 15,
     "metadata": {},
     "output_type": "execute_result"
    }
   ],
   "source": [
    "df1 = pd.merge(df1, a, on=\"rt_plant_id\")\n",
    "df1.head()"
   ]
  },
  {
   "cell_type": "code",
   "execution_count": 8,
   "metadata": {},
   "outputs": [
    {
     "name": "stdout",
     "output_type": "stream",
     "text": [
      "(4458208, 5) (4458208, 3)\n"
     ]
    }
   ],
   "source": [
    "print(df1.shape, df2.shape)"
   ]
  },
  {
   "cell_type": "code",
   "execution_count": null,
   "metadata": {},
   "outputs": [],
   "source": [
    "print(df.shape)\n",
    "nodes = df[~df[\"rt_plant_id\"].isin([2397, 2420, 2538])]\n",
    "nodes = nodes[[\"rt_plant_id\", \"forecast_dt\", \"production\", *[col for col in nodes.columns if col.startswith((\"UGRD\", \"VGRD\"))]]]\n",
    "nodes = nodes.reset_index(drop=True)\n",
    "print(nodes.shape)\n",
    "nodes"
   ]
  },
  {
   "cell_type": "code",
   "execution_count": null,
   "metadata": {},
   "outputs": [],
   "source": [
    "nodes.groupby(\"forecast_dt\").rt_plant_id.count().plot()"
   ]
  },
  {
   "cell_type": "code",
   "execution_count": null,
   "metadata": {},
   "outputs": [],
   "source": [
    "nodes.forecast_dt.nunique()"
   ]
  },
  {
   "cell_type": "code",
   "execution_count": null,
   "metadata": {},
   "outputs": [],
   "source": [
    "nodes[nodes[\"forecast_dt\"] == nodes.forecast_dt.unique()[0]]"
   ]
  },
  {
   "cell_type": "code",
   "execution_count": null,
   "metadata": {},
   "outputs": [],
   "source": [
    "import torch\n",
    "import dgl\n",
    "import torch.nn as nn\n",
    "import dgl.nn as dglnn\n",
    "import torch.nn.functional as F"
   ]
  },
  {
   "cell_type": "code",
   "execution_count": null,
   "metadata": {},
   "outputs": [],
   "source": [
    "dataset = dgl.data.CiteseerGraphDataset()\n",
    "graph = dataset[0] # since it only has one graph :)"
   ]
  },
  {
   "cell_type": "code",
   "execution_count": null,
   "metadata": {},
   "outputs": [],
   "source": [
    "graph"
   ]
  },
  {
   "cell_type": "code",
   "execution_count": null,
   "metadata": {},
   "outputs": [],
   "source": [
    "import dgl\n",
    "from dgl.data import DGLDataset\n",
    "import torch\n",
    "import numpy as np\n",
    "\n",
    "class WindPowerDataset(DGLDataset):\n",
    "    def __init__(self):\n",
    "        super().__init__(name=\"wind\")\n",
    "\n",
    "    def process(self):\n",
    "        df = pd.read_parquet(\"data/wind/2019-01-24_outlier_removed.parquet\")    \n",
    "        df = df[~df[\"rt_plant_id\"].isin([2397, 2420, 2538])]\n",
    "        assert df.rt_plant_id.nunique() == 98\n",
    "        plant_mapping = {k:v for k,v in zip(np.sort(df.rt_plant_id.astype(int).unique()), range(98))}\n",
    "        df.rt_plant_id = df.rt_plant_id.map(plant_mapping)\n",
    "        \n",
    "        THRESHOLD = 0.5\n",
    "        edges_data = df[[\"forecast_dt\", \"rt_plant_id\", \"production\"]]\n",
    "        edges_data = pd.pivot_table(edges_data, index=\"forecast_dt\", columns=\"rt_plant_id\", values=\"production\")\n",
    "        A = abs(edges_data.corr())\n",
    "        A = A[A > THRESHOLD].fillna(0)\n",
    "        long_df = pd.DataFrame()\n",
    "        for i, row in A.iterrows():\n",
    "            df_ = pd.DataFrame(list(zip(row.index, row)), columns=[\"Dst\", \"Weight\"])\n",
    "            df_ = df_[df_[\"Weight\"] != 0]\n",
    "            df_ = df_[df_[\"Dst\"] != i]\n",
    "            df_[\"Src\"] = i\n",
    "            long_df = long_df.append(df_)\n",
    "        edges_data = long_df.reset_index(drop=True)[[\"Src\", \"Dst\", \"Weight\"]]\n",
    "        edge_features = torch.from_numpy(edges_data['Weight'].to_numpy())\n",
    "        edges_src = torch.from_numpy(edges_data['Src'].to_numpy())\n",
    "        edges_dst = torch.from_numpy(edges_data['Dst'].to_numpy())\n",
    "\n",
    "        nodes_data = df[[\"rt_plant_id\", \"forecast_dt\", \"production\", *[col for col in df.columns if col.startswith((\"UGRD\", \"VGRD\"))]]]\n",
    "        nodes_data = nodes_data.reset_index(drop=True)\n",
    "        nodes_data = nodes_data[nodes_data[\"forecast_dt\"] == \"2019-01-24 03:00:00+03:00\"]\n",
    "        node_features = torch.from_numpy(nodes_data[[col for col in nodes_data.columns if col.startswith((\"UGRD\", \"VGRD\"))]].to_numpy())\n",
    "        node_labels = torch.from_numpy(nodes_data[\"production\"].to_numpy())\n",
    "        \n",
    "        self.graph = dgl.graph((edges_src, edges_dst), num_nodes=nodes_data.shape[0])\n",
    "        self.graph.ndata['feat'] = node_features\n",
    "        self.graph.ndata['label'] = node_labels\n",
    "        self.graph.edata['weight'] = edge_features\n",
    "\n",
    "        \n",
    "    def __getitem__(self, i):\n",
    "        return self.graph\n",
    "\n",
    "    def __len__(self):\n",
    "        return 1"
   ]
  },
  {
   "cell_type": "code",
   "execution_count": null,
   "metadata": {},
   "outputs": [],
   "source": [
    "# https://github.com/dmlc/dgl/blob/master/examples/pytorch/gcn/gcn.py\n",
    "\n",
    "\"\"\"GCN using DGL nn package\n",
    "References:\n",
    "- Semi-Supervised Classification with Graph Convolutional Networks\n",
    "- Paper: https://arxiv.org/abs/1609.02907\n",
    "- Code: https://github.com/tkipf/gcn\n",
    "\"\"\"\n",
    "import torch\n",
    "import torch.nn as nn\n",
    "from dgl.nn.pytorch import GraphConv\n",
    "\n",
    "class GCN(nn.Module):\n",
    "    def __init__(self,\n",
    "                 g,\n",
    "                 in_feats,\n",
    "                 n_hidden,\n",
    "                 n_classes,\n",
    "                 n_layers,\n",
    "                 activation,\n",
    "                 dropout):\n",
    "        super(GCN, self).__init__()\n",
    "        self.g = g\n",
    "        self.layers = nn.ModuleList()\n",
    "        # input layer\n",
    "        self.layers.append(GraphConv(in_feats, n_hidden, activation=activation))\n",
    "        # hidden layers\n",
    "        for i in range(n_layers - 1):\n",
    "            self.layers.append(GraphConv(n_hidden, n_hidden, activation=activation))\n",
    "        # output layer\n",
    "        self.layers.append(GraphConv(n_hidden, n_classes))\n",
    "        self.dropout = nn.Dropout(p=dropout)\n",
    "\n",
    "    def forward(self, features):\n",
    "        h = features\n",
    "        for i, layer in enumerate(self.layers):\n",
    "            if i != 0:\n",
    "                h = self.dropout(h)\n",
    "            h = layer(self.g, h)\n",
    "        return h"
   ]
  },
  {
   "cell_type": "code",
   "execution_count": null,
   "metadata": {},
   "outputs": [],
   "source": [
    "import numpy as np\n",
    "import torch\n",
    "import torch.nn.functional as F\n",
    "import dgl\n",
    "from dgl.data import CoraGraphDataset, CiteseerGraphDataset, PubmedGraphDataset\n",
    "\n",
    "# from gcn import GCN"
   ]
  },
  {
   "cell_type": "code",
   "execution_count": null,
   "metadata": {},
   "outputs": [],
   "source": [
    "data = CoraGraphDataset() # len 1, num_nodes=2708, num_edges=10556\n",
    "\n",
    "g = data[0]\n",
    "\n",
    "features = g.ndata['feat']\n",
    "labels = g.ndata['label']\n",
    "train_mask = g.ndata['train_mask']\n",
    "val_mask = g.ndata['val_mask']\n",
    "test_mask = g.ndata['test_mask']\n",
    "in_feats = features.shape[1]\n",
    "n_classes = data.num_classes\n",
    "n_edges = g.number_of_edges()\n",
    "print(\"\"\"----Data statistics------'\n",
    "    #Edges %d\n",
    "    #Classes %d\n",
    "    #Train samples %d\n",
    "    #Val samples %d\n",
    "    #Test samples %d\"\"\" %\n",
    "        (n_edges, n_classes,\n",
    "            train_mask.int().sum().item(),\n",
    "            val_mask.int().sum().item(),\n",
    "            test_mask.int().sum().item()))"
   ]
  },
  {
   "cell_type": "code",
   "execution_count": null,
   "metadata": {},
   "outputs": [],
   "source": [
    "g = dgl.remove_self_loop(g)\n",
    "g = dgl.add_self_loop(g)\n",
    "n_edges = g.number_of_edges()\n",
    "print(n_edges)"
   ]
  },
  {
   "cell_type": "code",
   "execution_count": null,
   "metadata": {},
   "outputs": [],
   "source": [
    "degs = g.in_degrees().float()\n",
    "norm = torch.pow(degs, -0.5)\n",
    "norm[torch.isinf(norm)] = 0"
   ]
  },
  {
   "cell_type": "code",
   "execution_count": null,
   "metadata": {},
   "outputs": [],
   "source": [
    "g.ndata['norm'] = norm.unsqueeze(1)"
   ]
  },
  {
   "cell_type": "code",
   "execution_count": null,
   "metadata": {},
   "outputs": [],
   "source": [
    "args = {\n",
    "    \"n_hidden\": 16,\n",
    "    \"dropout\": 0.5,\n",
    "    \"n_layers\": 1,\n",
    "    \"lr\": 0.01,\n",
    "    \"n_epochs\": 1000,\n",
    "    \"weight_decay\": 5e-4\n",
    "}"
   ]
  },
  {
   "cell_type": "code",
   "execution_count": null,
   "metadata": {},
   "outputs": [],
   "source": [
    "model = GCN(g,\n",
    "            in_feats,\n",
    "            args[\"n_hidden\"],\n",
    "            n_classes,\n",
    "            args[\"n_layers\"],\n",
    "            F.relu,\n",
    "            args[\"dropout\"])"
   ]
  },
  {
   "cell_type": "code",
   "execution_count": null,
   "metadata": {},
   "outputs": [],
   "source": [
    "loss_fcn = torch.nn.CrossEntropyLoss()\n",
    "optimizer = torch.optim.Adam(\n",
    "    model.parameters(), lr=args[\"lr\"], weight_decay=args[\"weight_decay\"])\n"
   ]
  },
  {
   "cell_type": "code",
   "execution_count": null,
   "metadata": {},
   "outputs": [],
   "source": [
    "import time\n",
    "\n",
    "def evaluate(model, features, labels, mask):\n",
    "    model.eval()\n",
    "    with torch.no_grad():\n",
    "        logits = model(features)\n",
    "        logits = logits[mask]\n",
    "        labels = labels[mask]\n",
    "        _, indices = torch.max(logits, dim=1)\n",
    "        correct = torch.sum(indices == labels)\n",
    "        return correct.item() * 1.0 / len(labels)\n",
    "\n",
    "\n",
    "dur = []\n",
    "for epoch in range(args[\"n_epochs\"]):\n",
    "    model.train()\n",
    "    if epoch >= 3:\n",
    "        t0 = time.time()\n",
    "    # forward\n",
    "    logits = model(features)\n",
    "    loss = loss_fcn(logits[train_mask], labels[train_mask])\n",
    "\n",
    "    optimizer.zero_grad()\n",
    "    loss.backward()\n",
    "    optimizer.step()\n",
    "\n",
    "    if epoch >= 3:\n",
    "        dur.append(time.time() - t0)\n",
    "\n",
    "    acc = evaluate(model, features, labels, val_mask)\n",
    "    print(\"Epoch {:05d} | Time(s) {:.4f} | Loss {:.4f} | Accuracy {:.4f} | \"\n",
    "            \"ETputs(KTEPS) {:.2f}\". format(epoch, np.mean(dur), loss.item(),\n",
    "                                            acc, n_edges / np.mean(dur) / 1000))\n",
    "\n",
    "print()\n",
    "acc = evaluate(model, features, labels, test_mask)\n",
    "print(\"Test accuracy {:.2%}\".format(acc))"
   ]
  },
  {
   "cell_type": "code",
   "execution_count": null,
   "metadata": {},
   "outputs": [],
   "source": []
  },
  {
   "cell_type": "code",
   "execution_count": null,
   "metadata": {},
   "outputs": [],
   "source": []
  },
  {
   "cell_type": "code",
   "execution_count": null,
   "metadata": {},
   "outputs": [],
   "source": []
  },
  {
   "cell_type": "code",
   "execution_count": null,
   "metadata": {},
   "outputs": [],
   "source": []
  },
  {
   "cell_type": "code",
   "execution_count": null,
   "metadata": {},
   "outputs": [],
   "source": []
  },
  {
   "cell_type": "code",
   "execution_count": null,
   "metadata": {},
   "outputs": [],
   "source": []
  },
  {
   "cell_type": "code",
   "execution_count": null,
   "metadata": {},
   "outputs": [],
   "source": [
    "dataset = WindPowerDataset()\n"
   ]
  },
  {
   "cell_type": "code",
   "execution_count": null,
   "metadata": {},
   "outputs": [],
   "source": [
    "dataset[0]"
   ]
  },
  {
   "cell_type": "code",
   "execution_count": null,
   "metadata": {},
   "outputs": [],
   "source": [
    "graph = dataset[0]\n",
    "\n",
    "print(graph)"
   ]
  },
  {
   "cell_type": "code",
   "execution_count": null,
   "metadata": {},
   "outputs": [],
   "source": [
    "plot_dgl_graph(graph)"
   ]
  },
  {
   "cell_type": "code",
   "execution_count": null,
   "metadata": {},
   "outputs": [],
   "source": []
  },
  {
   "cell_type": "code",
   "execution_count": null,
   "metadata": {},
   "outputs": [],
   "source": []
  },
  {
   "cell_type": "code",
   "execution_count": null,
   "metadata": {},
   "outputs": [],
   "source": [
    "nodes_data = nodes_data[nodes_data[\"forecast_dt\"] == \"2019-01-24 03:00:00+03:00\"]"
   ]
  },
  {
   "cell_type": "code",
   "execution_count": null,
   "metadata": {},
   "outputs": [],
   "source": []
  },
  {
   "cell_type": "code",
   "execution_count": null,
   "metadata": {},
   "outputs": [],
   "source": []
  },
  {
   "cell_type": "code",
   "execution_count": null,
   "metadata": {},
   "outputs": [],
   "source": []
  },
  {
   "cell_type": "code",
   "execution_count": null,
   "metadata": {},
   "outputs": [],
   "source": [
    "df = pd.read_parquet(\"data/wind/2019-01-24_outlier_removed.parquet\")    \n",
    "df = df[~df[\"rt_plant_id\"].isin([2397, 2420, 2538])]\n"
   ]
  },
  {
   "cell_type": "code",
   "execution_count": null,
   "metadata": {},
   "outputs": [],
   "source": [
    "edge_features = torch.from_numpy(edges_data['Weight'].to_numpy())\n",
    "edges_src = torch.from_numpy(edges_data['Src'].to_numpy())\n",
    "edges_dst = torch.from_numpy(edges_data['Dst'].to_numpy())\n"
   ]
  },
  {
   "cell_type": "code",
   "execution_count": null,
   "metadata": {},
   "outputs": [],
   "source": [
    "edges_src"
   ]
  },
  {
   "cell_type": "code",
   "execution_count": null,
   "metadata": {},
   "outputs": [],
   "source": [
    "node_features = torch.from_numpy(nodes_data['Age'].to_numpy())\n",
    "node_labels = torch.from_numpy(nodes_data['Club'].astype('category').cat.codes.to_numpy())\n",
    "edge_features = torch.from_numpy(edges_data['Weight'].to_numpy())\n",
    "edges_src = torch.from_numpy(edges_data['Src'].to_numpy())\n",
    "edges_dst = torch.from_numpy(edges_data['Dst'].to_numpy())\n"
   ]
  }
 ],
 "metadata": {
  "interpreter": {
   "hash": "3101b2c80d66a6543ff34d47ca09bd4d72b95f0f8bb6d61c06edb00070ba9e48"
  },
  "kernelspec": {
   "display_name": "Python 3.9.0 ('thesis_torch')",
   "language": "python",
   "name": "python3"
  },
  "language_info": {
   "codemirror_mode": {
    "name": "ipython",
    "version": 3
   },
   "file_extension": ".py",
   "mimetype": "text/x-python",
   "name": "python",
   "nbconvert_exporter": "python",
   "pygments_lexer": "ipython3",
   "version": "3.9.0"
  },
  "orig_nbformat": 4
 },
 "nbformat": 4,
 "nbformat_minor": 2
}
