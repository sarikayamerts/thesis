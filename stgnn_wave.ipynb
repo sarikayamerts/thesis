{
 "cells": [
  {
   "cell_type": "code",
   "execution_count": null,
   "metadata": {},
   "outputs": [],
   "source": []
  },
  {
   "cell_type": "markdown",
   "metadata": {},
   "source": [
    "# STGNN WAVE\n",
    "Bunu implement ettim\n",
    "https://github.com/dmlc/dgl/tree/master/examples/pytorch/stgcn_wave\n",
    "\n",
    "Buna da bakmalıyım bi ara\n",
    "https://github.com/chnsh/DCRNN_PyTorch"
   ]
  },
  {
   "cell_type": "code",
   "execution_count": 1,
   "metadata": {},
   "outputs": [
    {
     "name": "stderr",
     "output_type": "stream",
     "text": [
      "Using backend: pytorch[16:57:34] /opt/dgl/src/runtime/tensordispatch.cc:43: TensorDispatcher: dlopen failed: /home/mert/miniconda3/envs/thesis_torch/lib/python3.9/site-packages/dgl/tensoradapter/pytorch/libtensoradapter_pytorch_1.10.2.so: cannot open shared object file: No such file or directory\n",
      "\n"
     ]
    }
   ],
   "source": [
    "import dgl\n",
    "import torch\n",
    "import numpy as np\n",
    "import pandas as pd\n",
    "import scipy.sparse as sp\n",
    "\n",
    "from sklearn.preprocessing import StandardScaler\n",
    "\n",
    "pd.options.display.float_format = \"{:,.2f}\".format"
   ]
  },
  {
   "cell_type": "code",
   "execution_count": 2,
   "metadata": {},
   "outputs": [],
   "source": [
    "def data_transform(data, n_window, n_ahead, device=torch.device(\"cpu\")):\n",
    "    \"\"\"\n",
    "    :param data: rows for time indices, columns for locations\n",
    "        currently does not support features\n",
    "    :param n_window: history length\n",
    "    :param n_ahead: next time index to predict\n",
    "    \"\"\"\n",
    "    # produce data slices for training and testing\n",
    "    n_obs, n_loc = data.shape\n",
    "    \n",
    "    num = n_obs - n_window - n_ahead\n",
    "    x = np.zeros([num, 1, n_window, n_loc]) # features might end up being in second dimension\n",
    "    y = np.zeros([num, n_loc])\n",
    "    \n",
    "    count = 0\n",
    "    for start in range(num):\n",
    "        x[count, :, :, :] = data[start: start + n_window].reshape(1, n_window, n_loc)\n",
    "        y[count] = data[start + n_window + n_ahead - 1]\n",
    "        count += 1\n",
    "    return torch.Tensor(x).to(device), torch.Tensor(y).to(device)"
   ]
  },
  {
   "cell_type": "code",
   "execution_count": 3,
   "metadata": {},
   "outputs": [],
   "source": [
    "data = pd.read_parquet(\"data/wind/2019-01-24_outlier_removed.parquet\")    \n",
    "data = data[~data[\"rt_plant_id\"].isin([2397, 2420, 2538])]\n",
    "assert data.rt_plant_id.nunique() == 98"
   ]
  },
  {
   "cell_type": "code",
   "execution_count": 4,
   "metadata": {},
   "outputs": [
    {
     "data": {
      "text/plain": [
       "672"
      ]
     },
     "execution_count": 4,
     "metadata": {},
     "output_type": "execute_result"
    }
   ],
   "source": [
    "plant_mapping = {k:v for k,v in zip(np.sort(data.rt_plant_id.astype(int).unique()), range(98))}\n",
    "data.rt_plant_id = data.rt_plant_id.map(plant_mapping) # zaten sort ettiği için gerek yok aslında\n",
    "rev_plant_mapping = {v:k for k,v in plant_mapping.items()}\n",
    "rev_plant_mapping.get(0)\n"
   ]
  },
  {
   "cell_type": "code",
   "execution_count": 5,
   "metadata": {},
   "outputs": [
    {
     "data": {
      "text/html": [
       "<div>\n",
       "<style scoped>\n",
       "    .dataframe tbody tr th:only-of-type {\n",
       "        vertical-align: middle;\n",
       "    }\n",
       "\n",
       "    .dataframe tbody tr th {\n",
       "        vertical-align: top;\n",
       "    }\n",
       "\n",
       "    .dataframe thead th {\n",
       "        text-align: right;\n",
       "    }\n",
       "</style>\n",
       "<table border=\"1\" class=\"dataframe\">\n",
       "  <thead>\n",
       "    <tr style=\"text-align: right;\">\n",
       "      <th></th>\n",
       "      <th>epoch</th>\n",
       "      <th>production</th>\n",
       "      <th>rt_plant_id</th>\n",
       "      <th>forecast_dt</th>\n",
       "      <th>UGRD_80.m.above.ground.SW</th>\n",
       "      <th>UGRD_80.m.above.ground.NW</th>\n",
       "      <th>UGRD_80.m.above.ground.NE</th>\n",
       "      <th>UGRD_80.m.above.ground.SE</th>\n",
       "      <th>VGRD_80.m.above.ground.SW</th>\n",
       "      <th>VGRD_80.m.above.ground.NW</th>\n",
       "      <th>VGRD_80.m.above.ground.NE</th>\n",
       "      <th>VGRD_80.m.above.ground.SE</th>\n",
       "      <th>production_lower</th>\n",
       "      <th>production_upper</th>\n",
       "      <th>is_outlier</th>\n",
       "      <th>production_cleaned</th>\n",
       "    </tr>\n",
       "  </thead>\n",
       "  <tbody>\n",
       "    <tr>\n",
       "      <th>15499</th>\n",
       "      <td>1604095200</td>\n",
       "      <td>7.00</td>\n",
       "      <td>24</td>\n",
       "      <td>2020-10-31 01:00:00+03:00</td>\n",
       "      <td>-5.70</td>\n",
       "      <td>-4.12</td>\n",
       "      <td>-4.04</td>\n",
       "      <td>-3.13</td>\n",
       "      <td>-5.22</td>\n",
       "      <td>-6.16</td>\n",
       "      <td>-3.91</td>\n",
       "      <td>-2.28</td>\n",
       "      <td>0.00</td>\n",
       "      <td>10.00</td>\n",
       "      <td>False</td>\n",
       "      <td>7.00</td>\n",
       "    </tr>\n",
       "    <tr>\n",
       "      <th>15500</th>\n",
       "      <td>1604098800</td>\n",
       "      <td>6.00</td>\n",
       "      <td>24</td>\n",
       "      <td>2020-10-31 02:00:00+03:00</td>\n",
       "      <td>-4.58</td>\n",
       "      <td>-3.58</td>\n",
       "      <td>-3.88</td>\n",
       "      <td>-2.38</td>\n",
       "      <td>-4.12</td>\n",
       "      <td>-5.72</td>\n",
       "      <td>-2.72</td>\n",
       "      <td>-1.02</td>\n",
       "      <td>0.00</td>\n",
       "      <td>10.00</td>\n",
       "      <td>False</td>\n",
       "      <td>6.00</td>\n",
       "    </tr>\n",
       "    <tr>\n",
       "      <th>15501</th>\n",
       "      <td>1604102400</td>\n",
       "      <td>2.00</td>\n",
       "      <td>24</td>\n",
       "      <td>2020-10-31 03:00:00+03:00</td>\n",
       "      <td>-3.79</td>\n",
       "      <td>-2.79</td>\n",
       "      <td>-2.79</td>\n",
       "      <td>-1.69</td>\n",
       "      <td>-3.49</td>\n",
       "      <td>-5.09</td>\n",
       "      <td>-1.99</td>\n",
       "      <td>-0.89</td>\n",
       "      <td>0.00</td>\n",
       "      <td>10.00</td>\n",
       "      <td>False</td>\n",
       "      <td>2.00</td>\n",
       "    </tr>\n",
       "    <tr>\n",
       "      <th>15502</th>\n",
       "      <td>1604106000</td>\n",
       "      <td>2.00</td>\n",
       "      <td>24</td>\n",
       "      <td>2020-10-31 04:00:00+03:00</td>\n",
       "      <td>-4.57</td>\n",
       "      <td>-4.07</td>\n",
       "      <td>-3.47</td>\n",
       "      <td>-2.27</td>\n",
       "      <td>-2.85</td>\n",
       "      <td>-3.95</td>\n",
       "      <td>-1.75</td>\n",
       "      <td>-0.95</td>\n",
       "      <td>0.00</td>\n",
       "      <td>10.00</td>\n",
       "      <td>False</td>\n",
       "      <td>2.00</td>\n",
       "    </tr>\n",
       "    <tr>\n",
       "      <th>15503</th>\n",
       "      <td>1604109600</td>\n",
       "      <td>1.00</td>\n",
       "      <td>24</td>\n",
       "      <td>2020-10-31 05:00:00+03:00</td>\n",
       "      <td>-4.76</td>\n",
       "      <td>-4.46</td>\n",
       "      <td>-3.56</td>\n",
       "      <td>-3.16</td>\n",
       "      <td>-2.58</td>\n",
       "      <td>-2.78</td>\n",
       "      <td>-1.78</td>\n",
       "      <td>-1.58</td>\n",
       "      <td>0.00</td>\n",
       "      <td>10.00</td>\n",
       "      <td>False</td>\n",
       "      <td>1.00</td>\n",
       "    </tr>\n",
       "  </tbody>\n",
       "</table>\n",
       "</div>"
      ],
      "text/plain": [
       "            epoch  production  rt_plant_id               forecast_dt  \\\n",
       "15499  1604095200        7.00           24 2020-10-31 01:00:00+03:00   \n",
       "15500  1604098800        6.00           24 2020-10-31 02:00:00+03:00   \n",
       "15501  1604102400        2.00           24 2020-10-31 03:00:00+03:00   \n",
       "15502  1604106000        2.00           24 2020-10-31 04:00:00+03:00   \n",
       "15503  1604109600        1.00           24 2020-10-31 05:00:00+03:00   \n",
       "\n",
       "       UGRD_80.m.above.ground.SW  UGRD_80.m.above.ground.NW  \\\n",
       "15499                      -5.70                      -4.12   \n",
       "15500                      -4.58                      -3.58   \n",
       "15501                      -3.79                      -2.79   \n",
       "15502                      -4.57                      -4.07   \n",
       "15503                      -4.76                      -4.46   \n",
       "\n",
       "       UGRD_80.m.above.ground.NE  UGRD_80.m.above.ground.SE  \\\n",
       "15499                      -4.04                      -3.13   \n",
       "15500                      -3.88                      -2.38   \n",
       "15501                      -2.79                      -1.69   \n",
       "15502                      -3.47                      -2.27   \n",
       "15503                      -3.56                      -3.16   \n",
       "\n",
       "       VGRD_80.m.above.ground.SW  VGRD_80.m.above.ground.NW  \\\n",
       "15499                      -5.22                      -6.16   \n",
       "15500                      -4.12                      -5.72   \n",
       "15501                      -3.49                      -5.09   \n",
       "15502                      -2.85                      -3.95   \n",
       "15503                      -2.58                      -2.78   \n",
       "\n",
       "       VGRD_80.m.above.ground.NE  VGRD_80.m.above.ground.SE  production_lower  \\\n",
       "15499                      -3.91                      -2.28              0.00   \n",
       "15500                      -2.72                      -1.02              0.00   \n",
       "15501                      -1.99                      -0.89              0.00   \n",
       "15502                      -1.75                      -0.95              0.00   \n",
       "15503                      -1.78                      -1.58              0.00   \n",
       "\n",
       "       production_upper  is_outlier  production_cleaned  \n",
       "15499             10.00       False                7.00  \n",
       "15500             10.00       False                6.00  \n",
       "15501             10.00       False                2.00  \n",
       "15502             10.00       False                2.00  \n",
       "15503             10.00       False                1.00  "
      ]
     },
     "execution_count": 5,
     "metadata": {},
     "output_type": "execute_result"
    }
   ],
   "source": [
    "data = data[(data[\"forecast_dt\"] > \"2020-10-31\") & (data[\"forecast_dt\"] < \"2021-01-01\")]\n",
    "data.head()"
   ]
  },
  {
   "cell_type": "code",
   "execution_count": 8,
   "metadata": {},
   "outputs": [
    {
     "name": "stdout",
     "output_type": "stream",
     "text": [
      "1487 61.958333333333336\n"
     ]
    }
   ],
   "source": [
    "print(data.forecast_dt.nunique(), data.forecast_dt.nunique() / 24)"
   ]
  },
  {
   "cell_type": "code",
   "execution_count": 9,
   "metadata": {},
   "outputs": [],
   "source": [
    "def generate_adjacency_matrix(df, threshold=0.5):    \n",
    "    data = df[[\"forecast_dt\", \"rt_plant_id\", \"production\"]]\n",
    "    data = pd.pivot_table(data, index=\"forecast_dt\", columns=\"rt_plant_id\", values=\"production\")\n",
    "\n",
    "    A = abs(data.corr())\n",
    "    A = A[A > threshold].fillna(0)\n",
    "    return A"
   ]
  },
  {
   "cell_type": "code",
   "execution_count": null,
   "metadata": {},
   "outputs": [],
   "source": []
  },
  {
   "cell_type": "code",
   "execution_count": null,
   "metadata": {},
   "outputs": [],
   "source": [
    "G = nx.from_numpy_matrix(A.values)"
   ]
  },
  {
   "cell_type": "code",
   "execution_count": 102,
   "metadata": {},
   "outputs": [
    {
     "name": "stdout",
     "output_type": "stream",
     "text": [
      "6584\n",
      "6584\n",
      "6486\n",
      "6486\n",
      "6584\n",
      "6584\n"
     ]
    }
   ],
   "source": [
    "adj = generate_adjacency_matrix(data)\n",
    "sp_mx = sp.coo_matrix(adj)\n",
    "G = dgl.from_scipy(sp_mx, eweight_name=\"weight\")\n",
    "\n",
    "print(len(G.all_edges()[0]))\n",
    "print(len(G.edata[\"weight\"]))\n",
    "\n",
    "G = dgl.remove_self_loop(G)\n",
    "print(len(G.all_edges()[0]))\n",
    "print(len(G.edata[\"weight\"]))\n",
    "\n",
    "G = dgl.add_self_loop(G)\n",
    "print(len(G.all_edges()[0]))\n",
    "print(len(G.edata[\"weight\"]))"
   ]
  },
  {
   "cell_type": "code",
   "execution_count": 113,
   "metadata": {},
   "outputs": [
    {
     "data": {
      "text/plain": [
       "{}"
      ]
     },
     "execution_count": 113,
     "metadata": {},
     "output_type": "execute_result"
    }
   ],
   "source": [
    "G.ndata"
   ]
  },
  {
   "cell_type": "code",
   "execution_count": 11,
   "metadata": {},
   "outputs": [
    {
     "data": {
      "text/html": [
       "<div>\n",
       "<style scoped>\n",
       "    .dataframe tbody tr th:only-of-type {\n",
       "        vertical-align: middle;\n",
       "    }\n",
       "\n",
       "    .dataframe tbody tr th {\n",
       "        vertical-align: top;\n",
       "    }\n",
       "\n",
       "    .dataframe thead th {\n",
       "        text-align: right;\n",
       "    }\n",
       "</style>\n",
       "<table border=\"1\" class=\"dataframe\">\n",
       "  <thead>\n",
       "    <tr style=\"text-align: right;\">\n",
       "      <th></th>\n",
       "      <th>epoch</th>\n",
       "      <th>production</th>\n",
       "      <th>rt_plant_id</th>\n",
       "      <th>forecast_dt</th>\n",
       "      <th>UGRD_80.m.above.ground.SW</th>\n",
       "      <th>UGRD_80.m.above.ground.NW</th>\n",
       "      <th>UGRD_80.m.above.ground.NE</th>\n",
       "      <th>UGRD_80.m.above.ground.SE</th>\n",
       "      <th>VGRD_80.m.above.ground.SW</th>\n",
       "      <th>VGRD_80.m.above.ground.NW</th>\n",
       "      <th>VGRD_80.m.above.ground.NE</th>\n",
       "      <th>VGRD_80.m.above.ground.SE</th>\n",
       "      <th>production_lower</th>\n",
       "      <th>production_upper</th>\n",
       "      <th>is_outlier</th>\n",
       "      <th>production_cleaned</th>\n",
       "    </tr>\n",
       "  </thead>\n",
       "  <tbody>\n",
       "    <tr>\n",
       "      <th>15499</th>\n",
       "      <td>1604095200</td>\n",
       "      <td>7.00</td>\n",
       "      <td>24</td>\n",
       "      <td>2020-10-31 01:00:00+03:00</td>\n",
       "      <td>-5.70</td>\n",
       "      <td>-4.12</td>\n",
       "      <td>-4.04</td>\n",
       "      <td>-3.13</td>\n",
       "      <td>-5.22</td>\n",
       "      <td>-6.16</td>\n",
       "      <td>-3.91</td>\n",
       "      <td>-2.28</td>\n",
       "      <td>0.00</td>\n",
       "      <td>10.00</td>\n",
       "      <td>False</td>\n",
       "      <td>7.00</td>\n",
       "    </tr>\n",
       "    <tr>\n",
       "      <th>15500</th>\n",
       "      <td>1604098800</td>\n",
       "      <td>6.00</td>\n",
       "      <td>24</td>\n",
       "      <td>2020-10-31 02:00:00+03:00</td>\n",
       "      <td>-4.58</td>\n",
       "      <td>-3.58</td>\n",
       "      <td>-3.88</td>\n",
       "      <td>-2.38</td>\n",
       "      <td>-4.12</td>\n",
       "      <td>-5.72</td>\n",
       "      <td>-2.72</td>\n",
       "      <td>-1.02</td>\n",
       "      <td>0.00</td>\n",
       "      <td>10.00</td>\n",
       "      <td>False</td>\n",
       "      <td>6.00</td>\n",
       "    </tr>\n",
       "    <tr>\n",
       "      <th>15501</th>\n",
       "      <td>1604102400</td>\n",
       "      <td>2.00</td>\n",
       "      <td>24</td>\n",
       "      <td>2020-10-31 03:00:00+03:00</td>\n",
       "      <td>-3.79</td>\n",
       "      <td>-2.79</td>\n",
       "      <td>-2.79</td>\n",
       "      <td>-1.69</td>\n",
       "      <td>-3.49</td>\n",
       "      <td>-5.09</td>\n",
       "      <td>-1.99</td>\n",
       "      <td>-0.89</td>\n",
       "      <td>0.00</td>\n",
       "      <td>10.00</td>\n",
       "      <td>False</td>\n",
       "      <td>2.00</td>\n",
       "    </tr>\n",
       "    <tr>\n",
       "      <th>15502</th>\n",
       "      <td>1604106000</td>\n",
       "      <td>2.00</td>\n",
       "      <td>24</td>\n",
       "      <td>2020-10-31 04:00:00+03:00</td>\n",
       "      <td>-4.57</td>\n",
       "      <td>-4.07</td>\n",
       "      <td>-3.47</td>\n",
       "      <td>-2.27</td>\n",
       "      <td>-2.85</td>\n",
       "      <td>-3.95</td>\n",
       "      <td>-1.75</td>\n",
       "      <td>-0.95</td>\n",
       "      <td>0.00</td>\n",
       "      <td>10.00</td>\n",
       "      <td>False</td>\n",
       "      <td>2.00</td>\n",
       "    </tr>\n",
       "    <tr>\n",
       "      <th>15503</th>\n",
       "      <td>1604109600</td>\n",
       "      <td>1.00</td>\n",
       "      <td>24</td>\n",
       "      <td>2020-10-31 05:00:00+03:00</td>\n",
       "      <td>-4.76</td>\n",
       "      <td>-4.46</td>\n",
       "      <td>-3.56</td>\n",
       "      <td>-3.16</td>\n",
       "      <td>-2.58</td>\n",
       "      <td>-2.78</td>\n",
       "      <td>-1.78</td>\n",
       "      <td>-1.58</td>\n",
       "      <td>0.00</td>\n",
       "      <td>10.00</td>\n",
       "      <td>False</td>\n",
       "      <td>1.00</td>\n",
       "    </tr>\n",
       "  </tbody>\n",
       "</table>\n",
       "</div>"
      ],
      "text/plain": [
       "            epoch  production  rt_plant_id               forecast_dt  \\\n",
       "15499  1604095200        7.00           24 2020-10-31 01:00:00+03:00   \n",
       "15500  1604098800        6.00           24 2020-10-31 02:00:00+03:00   \n",
       "15501  1604102400        2.00           24 2020-10-31 03:00:00+03:00   \n",
       "15502  1604106000        2.00           24 2020-10-31 04:00:00+03:00   \n",
       "15503  1604109600        1.00           24 2020-10-31 05:00:00+03:00   \n",
       "\n",
       "       UGRD_80.m.above.ground.SW  UGRD_80.m.above.ground.NW  \\\n",
       "15499                      -5.70                      -4.12   \n",
       "15500                      -4.58                      -3.58   \n",
       "15501                      -3.79                      -2.79   \n",
       "15502                      -4.57                      -4.07   \n",
       "15503                      -4.76                      -4.46   \n",
       "\n",
       "       UGRD_80.m.above.ground.NE  UGRD_80.m.above.ground.SE  \\\n",
       "15499                      -4.04                      -3.13   \n",
       "15500                      -3.88                      -2.38   \n",
       "15501                      -2.79                      -1.69   \n",
       "15502                      -3.47                      -2.27   \n",
       "15503                      -3.56                      -3.16   \n",
       "\n",
       "       VGRD_80.m.above.ground.SW  VGRD_80.m.above.ground.NW  \\\n",
       "15499                      -5.22                      -6.16   \n",
       "15500                      -4.12                      -5.72   \n",
       "15501                      -3.49                      -5.09   \n",
       "15502                      -2.85                      -3.95   \n",
       "15503                      -2.58                      -2.78   \n",
       "\n",
       "       VGRD_80.m.above.ground.NE  VGRD_80.m.above.ground.SE  production_lower  \\\n",
       "15499                      -3.91                      -2.28              0.00   \n",
       "15500                      -2.72                      -1.02              0.00   \n",
       "15501                      -1.99                      -0.89              0.00   \n",
       "15502                      -1.75                      -0.95              0.00   \n",
       "15503                      -1.78                      -1.58              0.00   \n",
       "\n",
       "       production_upper  is_outlier  production_cleaned  \n",
       "15499             10.00       False                7.00  \n",
       "15500             10.00       False                6.00  \n",
       "15501             10.00       False                2.00  \n",
       "15502             10.00       False                2.00  \n",
       "15503             10.00       False                1.00  "
      ]
     },
     "execution_count": 11,
     "metadata": {},
     "output_type": "execute_result"
    }
   ],
   "source": [
    "data.head()"
   ]
  },
  {
   "cell_type": "code",
   "execution_count": 12,
   "metadata": {},
   "outputs": [
    {
     "data": {
      "text/html": [
       "<div>\n",
       "<style scoped>\n",
       "    .dataframe tbody tr th:only-of-type {\n",
       "        vertical-align: middle;\n",
       "    }\n",
       "\n",
       "    .dataframe tbody tr th {\n",
       "        vertical-align: top;\n",
       "    }\n",
       "\n",
       "    .dataframe thead tr th {\n",
       "        text-align: left;\n",
       "    }\n",
       "\n",
       "    .dataframe thead tr:last-of-type th {\n",
       "        text-align: right;\n",
       "    }\n",
       "</style>\n",
       "<table border=\"1\" class=\"dataframe\">\n",
       "  <thead>\n",
       "    <tr>\n",
       "      <th></th>\n",
       "      <th colspan=\"10\" halign=\"left\">UGRD_80.m.above.ground.NE</th>\n",
       "      <th>...</th>\n",
       "      <th colspan=\"10\" halign=\"left\">production</th>\n",
       "    </tr>\n",
       "    <tr>\n",
       "      <th>rt_plant_id</th>\n",
       "      <th>0</th>\n",
       "      <th>1</th>\n",
       "      <th>2</th>\n",
       "      <th>3</th>\n",
       "      <th>4</th>\n",
       "      <th>5</th>\n",
       "      <th>6</th>\n",
       "      <th>7</th>\n",
       "      <th>8</th>\n",
       "      <th>9</th>\n",
       "      <th>...</th>\n",
       "      <th>88</th>\n",
       "      <th>89</th>\n",
       "      <th>90</th>\n",
       "      <th>91</th>\n",
       "      <th>92</th>\n",
       "      <th>93</th>\n",
       "      <th>94</th>\n",
       "      <th>95</th>\n",
       "      <th>96</th>\n",
       "      <th>97</th>\n",
       "    </tr>\n",
       "    <tr>\n",
       "      <th>forecast_dt</th>\n",
       "      <th></th>\n",
       "      <th></th>\n",
       "      <th></th>\n",
       "      <th></th>\n",
       "      <th></th>\n",
       "      <th></th>\n",
       "      <th></th>\n",
       "      <th></th>\n",
       "      <th></th>\n",
       "      <th></th>\n",
       "      <th></th>\n",
       "      <th></th>\n",
       "      <th></th>\n",
       "      <th></th>\n",
       "      <th></th>\n",
       "      <th></th>\n",
       "      <th></th>\n",
       "      <th></th>\n",
       "      <th></th>\n",
       "      <th></th>\n",
       "      <th></th>\n",
       "    </tr>\n",
       "  </thead>\n",
       "  <tbody>\n",
       "    <tr>\n",
       "      <th>2020-10-31 01:00:00+03:00</th>\n",
       "      <td>4.05</td>\n",
       "      <td>1.95</td>\n",
       "      <td>1.37</td>\n",
       "      <td>0.45</td>\n",
       "      <td>-0.66</td>\n",
       "      <td>-4.04</td>\n",
       "      <td>1.41</td>\n",
       "      <td>2.57</td>\n",
       "      <td>1.35</td>\n",
       "      <td>0.19</td>\n",
       "      <td>...</td>\n",
       "      <td>20.00</td>\n",
       "      <td>0.20</td>\n",
       "      <td>8.47</td>\n",
       "      <td>6.73</td>\n",
       "      <td>2.25</td>\n",
       "      <td>3.40</td>\n",
       "      <td>0.55</td>\n",
       "      <td>1.66</td>\n",
       "      <td>12.00</td>\n",
       "      <td>0.80</td>\n",
       "    </tr>\n",
       "    <tr>\n",
       "      <th>2020-10-31 02:00:00+03:00</th>\n",
       "      <td>4.22</td>\n",
       "      <td>0.42</td>\n",
       "      <td>3.52</td>\n",
       "      <td>-1.98</td>\n",
       "      <td>-0.08</td>\n",
       "      <td>-3.88</td>\n",
       "      <td>1.42</td>\n",
       "      <td>3.62</td>\n",
       "      <td>1.32</td>\n",
       "      <td>-0.08</td>\n",
       "      <td>...</td>\n",
       "      <td>21.00</td>\n",
       "      <td>1.10</td>\n",
       "      <td>8.40</td>\n",
       "      <td>4.65</td>\n",
       "      <td>3.32</td>\n",
       "      <td>2.84</td>\n",
       "      <td>1.33</td>\n",
       "      <td>4.06</td>\n",
       "      <td>9.00</td>\n",
       "      <td>0.40</td>\n",
       "    </tr>\n",
       "    <tr>\n",
       "      <th>2020-10-31 03:00:00+03:00</th>\n",
       "      <td>3.11</td>\n",
       "      <td>-1.19</td>\n",
       "      <td>2.71</td>\n",
       "      <td>-3.59</td>\n",
       "      <td>-0.39</td>\n",
       "      <td>-2.79</td>\n",
       "      <td>1.21</td>\n",
       "      <td>3.81</td>\n",
       "      <td>1.01</td>\n",
       "      <td>-0.29</td>\n",
       "      <td>...</td>\n",
       "      <td>26.00</td>\n",
       "      <td>3.26</td>\n",
       "      <td>5.59</td>\n",
       "      <td>7.68</td>\n",
       "      <td>3.10</td>\n",
       "      <td>2.70</td>\n",
       "      <td>1.53</td>\n",
       "      <td>5.07</td>\n",
       "      <td>10.00</td>\n",
       "      <td>1.11</td>\n",
       "    </tr>\n",
       "    <tr>\n",
       "      <th>2020-10-31 04:00:00+03:00</th>\n",
       "      <td>1.83</td>\n",
       "      <td>-2.67</td>\n",
       "      <td>0.83</td>\n",
       "      <td>-2.57</td>\n",
       "      <td>-0.57</td>\n",
       "      <td>-3.47</td>\n",
       "      <td>0.93</td>\n",
       "      <td>2.93</td>\n",
       "      <td>0.53</td>\n",
       "      <td>-0.27</td>\n",
       "      <td>...</td>\n",
       "      <td>18.00</td>\n",
       "      <td>5.14</td>\n",
       "      <td>8.49</td>\n",
       "      <td>10.21</td>\n",
       "      <td>2.98</td>\n",
       "      <td>2.70</td>\n",
       "      <td>1.10</td>\n",
       "      <td>5.81</td>\n",
       "      <td>4.00</td>\n",
       "      <td>1.10</td>\n",
       "    </tr>\n",
       "    <tr>\n",
       "      <th>2020-10-31 05:00:00+03:00</th>\n",
       "      <td>2.94</td>\n",
       "      <td>-3.46</td>\n",
       "      <td>0.24</td>\n",
       "      <td>-2.96</td>\n",
       "      <td>-0.36</td>\n",
       "      <td>-3.56</td>\n",
       "      <td>0.34</td>\n",
       "      <td>1.84</td>\n",
       "      <td>0.04</td>\n",
       "      <td>0.14</td>\n",
       "      <td>...</td>\n",
       "      <td>17.00</td>\n",
       "      <td>8.42</td>\n",
       "      <td>12.07</td>\n",
       "      <td>8.15</td>\n",
       "      <td>4.93</td>\n",
       "      <td>2.11</td>\n",
       "      <td>1.38</td>\n",
       "      <td>7.31</td>\n",
       "      <td>8.00</td>\n",
       "      <td>4.00</td>\n",
       "    </tr>\n",
       "  </tbody>\n",
       "</table>\n",
       "<p>5 rows × 882 columns</p>\n",
       "</div>"
      ],
      "text/plain": [
       "                          UGRD_80.m.above.ground.NE                         \\\n",
       "rt_plant_id                                      0     1    2     3     4    \n",
       "forecast_dt                                                                  \n",
       "2020-10-31 01:00:00+03:00                      4.05  1.95 1.37  0.45 -0.66   \n",
       "2020-10-31 02:00:00+03:00                      4.22  0.42 3.52 -1.98 -0.08   \n",
       "2020-10-31 03:00:00+03:00                      3.11 -1.19 2.71 -3.59 -0.39   \n",
       "2020-10-31 04:00:00+03:00                      1.83 -2.67 0.83 -2.57 -0.57   \n",
       "2020-10-31 05:00:00+03:00                      2.94 -3.46 0.24 -2.96 -0.36   \n",
       "\n",
       "                                                      ... production       \\\n",
       "rt_plant_id                  5    6    7    8     9   ...         88   89   \n",
       "forecast_dt                                           ...                   \n",
       "2020-10-31 01:00:00+03:00 -4.04 1.41 2.57 1.35  0.19  ...      20.00 0.20   \n",
       "2020-10-31 02:00:00+03:00 -3.88 1.42 3.62 1.32 -0.08  ...      21.00 1.10   \n",
       "2020-10-31 03:00:00+03:00 -2.79 1.21 3.81 1.01 -0.29  ...      26.00 3.26   \n",
       "2020-10-31 04:00:00+03:00 -3.47 0.93 2.93 0.53 -0.27  ...      18.00 5.14   \n",
       "2020-10-31 05:00:00+03:00 -3.56 0.34 1.84 0.04  0.14  ...      17.00 8.42   \n",
       "\n",
       "                                                                      \n",
       "rt_plant_id                  90    91   92   93   94   95    96   97  \n",
       "forecast_dt                                                           \n",
       "2020-10-31 01:00:00+03:00  8.47  6.73 2.25 3.40 0.55 1.66 12.00 0.80  \n",
       "2020-10-31 02:00:00+03:00  8.40  4.65 3.32 2.84 1.33 4.06  9.00 0.40  \n",
       "2020-10-31 03:00:00+03:00  5.59  7.68 3.10 2.70 1.53 5.07 10.00 1.11  \n",
       "2020-10-31 04:00:00+03:00  8.49 10.21 2.98 2.70 1.10 5.81  4.00 1.10  \n",
       "2020-10-31 05:00:00+03:00 12.07  8.15 4.93 2.11 1.38 7.31  8.00 4.00  \n",
       "\n",
       "[5 rows x 882 columns]"
      ]
     },
     "execution_count": 12,
     "metadata": {},
     "output_type": "execute_result"
    }
   ],
   "source": [
    "weather_cols = [col for col in data.columns if col.startswith((\"VGRD\", \"UGRD\"))]\n",
    "data_pivot = pd.pivot_table(\n",
    "    data[[\"rt_plant_id\", \"forecast_dt\", \"production\", *weather_cols]], \n",
    "    index=\"forecast_dt\", \n",
    "    columns=\"rt_plant_id\", \n",
    "    )\n",
    "data_pivot.head()"
   ]
  },
  {
   "cell_type": "code",
   "execution_count": 13,
   "metadata": {},
   "outputs": [],
   "source": [
    "def data_transform(data, n_window, n_ahead, device=torch.device(\"cpu\")):\n",
    "    \"\"\"\n",
    "    :param data: rows for time indices, columns for locations\n",
    "        currently does not support features\n",
    "    :param n_window: history length\n",
    "    :param n_ahead: next time index to predict\n",
    "    \"\"\"\n",
    "    # produce data slices for training and testing\n",
    "    n_obs, n_loc = data[\"production\"].shape\n",
    "    num = n_obs - n_window - n_ahead + 1\n",
    "    weather_cols = [col for col in data.columns.get_level_values(0).unique() if col != \"production\"]\n",
    "    n_features = len(weather_cols)\n",
    "\n",
    "    x = np.zeros([num, 1, n_window, n_loc]) # features might end up being in second dimension\n",
    "    y = np.zeros([num, n_loc])\n",
    "    f = np.zeros([num, n_features, n_window, n_loc])\n",
    "\n",
    "    count = 0\n",
    "    for start in range(num):\n",
    "        x[count, :, :, :] = data[\"production\"][start: start + n_window].values.reshape(1, n_window, n_loc)\n",
    "        y[count] = data[\"production\"].values[start + n_window + n_ahead - 1]\n",
    "        count += 1\n",
    "\n",
    "    for i in range(n_features):\n",
    "        count = 0\n",
    "        for start in range(num):\n",
    "            f[count, i, :, :] = data[weather_cols[i]][start: start + n_window].values.reshape(1, n_window, n_loc)\n",
    "            count += 1\n",
    "\n",
    "    return torch.Tensor(x).to(device), torch.Tensor(y).to(device), torch.Tensor(f).to(device)"
   ]
  },
  {
   "cell_type": "code",
   "execution_count": 68,
   "metadata": {},
   "outputs": [
    {
     "data": {
      "text/plain": [
       "array([[ 2.23041085,  1.46646812,  1.01582766, ..., -1.18471524,\n",
       "        -0.41548285, -1.2310813 ],\n",
       "       [ 2.28455863,  0.93781888,  1.90309461, ..., -0.944506  ,\n",
       "        -0.65964949, -1.28453717],\n",
       "       [ 1.92633782,  0.3833234 ,  1.56944347, ..., -0.84341794,\n",
       "        -0.57826061, -1.18965299],\n",
       "       ...,\n",
       "       [ 1.02849939,  1.20570154,  0.62496801, ...,  0.96715922,\n",
       "         1.04951701, -0.60297474],\n",
       "       [ 0.96644017,  1.22575281,  0.33910114, ...,  0.90610604,\n",
       "         1.04951701,  0.19886341],\n",
       "       [ 1.14976182,  1.17635073,  0.54849252, ...,  1.09326907,\n",
       "         1.04951701,  0.45946081]])"
      ]
     },
     "execution_count": 68,
     "metadata": {},
     "output_type": "execute_result"
    }
   ],
   "source": [
    "scaler = StandardScaler()\n",
    "scaler.fit_transform(data_pivot.values)"
   ]
  },
  {
   "cell_type": "code",
   "execution_count": null,
   "metadata": {},
   "outputs": [],
   "source": []
  },
  {
   "cell_type": "code",
   "execution_count": null,
   "metadata": {},
   "outputs": [],
   "source": []
  },
  {
   "cell_type": "code",
   "execution_count": 22,
   "metadata": {},
   "outputs": [],
   "source": [
    "# 50 -> 2\n",
    "# 50 - 29 + 1 -> 2\n",
    "# 1487 - (48 + 1) + 1 = 1439"
   ]
  },
  {
   "cell_type": "code",
   "execution_count": 15,
   "metadata": {},
   "outputs": [],
   "source": [
    "n_window = 48\n",
    "x, y, f = data_transform(data_pivot, n_window=n_window, n_ahead=1)"
   ]
  },
  {
   "cell_type": "code",
   "execution_count": 17,
   "metadata": {},
   "outputs": [
    {
     "data": {
      "text/plain": [
       "(torch.Size([1439, 1, 48, 98]),\n",
       " torch.Size([1439, 98]),\n",
       " torch.Size([1439, 8, 48, 98]))"
      ]
     },
     "execution_count": 17,
     "metadata": {},
     "output_type": "execute_result"
    }
   ],
   "source": [
    "x.shape, y.shape, f.shape"
   ]
  },
  {
   "cell_type": "code",
   "execution_count": 48,
   "metadata": {},
   "outputs": [],
   "source": [
    "\n"
   ]
  },
  {
   "cell_type": "code",
   "execution_count": 61,
   "metadata": {},
   "outputs": [
    {
     "name": "stdout",
     "output_type": "stream",
     "text": [
      "True\n",
      "True\n",
      "True\n",
      "True\n"
     ]
    }
   ],
   "source": [
    "# first\n",
    "i = 0 \n",
    "print(np.isclose(x[i].reshape(-1, 98).cpu().numpy(), data_pivot[\"production\"].iloc[i:i+n_window].values).all())\n",
    "print(np.isclose(y[i].reshape(-1, 98).cpu().numpy(), data_pivot[\"production\"].iloc[i+n_window].values).all())\n",
    "\n",
    "# last\n",
    "i = data_pivot.shape[0] - 48 - 1 \n",
    "print(np.isclose(x[i].reshape(-1, 98).cpu().numpy(), data_pivot[\"production\"].iloc[i:i+n_window].values).all())\n",
    "print(np.isclose(y[i].reshape(-1, 98).cpu().numpy(), data_pivot[\"production\"].iloc[i+n_window].values).all())"
   ]
  },
  {
   "cell_type": "code",
   "execution_count": 65,
   "metadata": {},
   "outputs": [
    {
     "data": {
      "text/plain": [
       "(torch.Size([1439, 1, 48, 98]),\n",
       " torch.Size([1439, 98]),\n",
       " torch.Size([1439, 8, 48, 98]))"
      ]
     },
     "execution_count": 65,
     "metadata": {},
     "output_type": "execute_result"
    }
   ],
   "source": []
  },
  {
   "cell_type": "code",
   "execution_count": 79,
   "metadata": {},
   "outputs": [],
   "source": [
    "# scaler = StandardScaler()\n",
    "# scaler.fit_transform(x)"
   ]
  },
  {
   "cell_type": "code",
   "execution_count": null,
   "metadata": {},
   "outputs": [],
   "source": []
  },
  {
   "cell_type": "code",
   "execution_count": 88,
   "metadata": {},
   "outputs": [
    {
     "name": "stdout",
     "output_type": "stream",
     "text": [
      "torch.Size([1439, 1, 48, 98]) torch.Size([1439, 98]) torch.Size([1439, 8, 48, 98])\n",
      "torch.Size([1295, 1, 48, 98]) torch.Size([1295, 98]) torch.Size([1295, 8, 48, 98])\n",
      "torch.Size([144, 1, 48, 98]) torch.Size([144, 98]) torch.Size([144, 8, 48, 98])\n"
     ]
    }
   ],
   "source": [
    "print(x.shape, y.shape, f.shape)\n",
    "\n",
    "train_ratio = 0.9\n",
    "val_ratio = 0.1\n",
    "\n",
    "len_val = round(x.shape[0] * val_ratio)\n",
    "len_train = round(x.shape[0] * train_ratio)\n",
    "\n",
    "x_train = x[:len_train]\n",
    "y_train = y[:len_train]\n",
    "f_train = f[:len_train]\n",
    "\n",
    "x_val = x[len_train:len_train + len_val]\n",
    "y_val = y[len_train:len_train + len_val]\n",
    "f_val = f[len_train:len_train + len_val]\n",
    "\n",
    "print(x_train.shape, y_train.shape, f_train.shape)\n",
    "print(x_val.shape, y_val.shape, f_val.shape)\n"
   ]
  },
  {
   "cell_type": "code",
   "execution_count": null,
   "metadata": {},
   "outputs": [],
   "source": [
    "# train_ratio = 0.9\n",
    "# val_ratio = 0.099\n",
    "# len_val = round(num_samples * val_ratio)\n",
    "# len_train = round(num_samples * train_ratio)\n",
    "\n",
    "# train_indices = [_ for _ in range(len_train)]\n",
    "# val_indices = [len_train + _ for _ in range(len_val)]\n",
    "# test_indices = [_ for _ in range(len(df)) if _ not in train_indices + val_indices]\n",
    "\n",
    "# train = df[train_indices]\n",
    "# val = df[val_indices]\n",
    "# test = df[test_indices]\n",
    "\n",
    "# print(len(train), len(val), len(test))\n",
    "\n",
    "# scaler = StandardScaler()\n",
    "# train = scaler.fit_transform(train)\n",
    "# val = scaler.transform(val)\n",
    "# test = scaler.transform(test)"
   ]
  },
  {
   "cell_type": "code",
   "execution_count": null,
   "metadata": {},
   "outputs": [],
   "source": [
    "# df[val_indices]\n",
    "\n",
    "# df_.iloc[val_indices]\n",
    "\n",
    "# df_.iloc[train_indices + val_indices]\n",
    "\n",
    "# pd.DataFrame(scaler.inverse_transform(train))\n",
    "\n",
    "# plt.plot(np.append(train[:, 0], val[:, 0]))\n",
    "\n",
    "# plt.plot(df[train_indices + val_indices, 0])"
   ]
  },
  {
   "cell_type": "code",
   "execution_count": null,
   "metadata": {},
   "outputs": [],
   "source": [
    "# plant_id = 0\n",
    "# df_.iloc[train_indices + val_indices, plant_id].plot(figsize=(20,10))\n",
    "# # draw vertical line at the end of training period\n",
    "# plt.axvline(x=df_.index[len_train], color=\"red\")\n",
    "# plt.title(rev_plant_mapping.get(plant_id))\n"
   ]
  },
  {
   "cell_type": "code",
   "execution_count": 89,
   "metadata": {},
   "outputs": [],
   "source": [
    "# n_window, n_ahead = 2 * 24, 1\n",
    "# x_train, y_train = data_transform(train, n_window, n_ahead)\n",
    "# x_val, y_val = data_transform(val, n_window, n_ahead)\n",
    "# # x_test, y_test = data_transform(test, n_window, n_ahead)"
   ]
  },
  {
   "cell_type": "code",
   "execution_count": null,
   "metadata": {},
   "outputs": [],
   "source": []
  },
  {
   "cell_type": "code",
   "execution_count": 90,
   "metadata": {},
   "outputs": [],
   "source": [
    "batch_size = 50\n",
    "train_data = torch.utils.data.TensorDataset(x_train, y_train)\n",
    "train_iter = torch.utils.data.DataLoader(train_data, batch_size)\n",
    "val_data = torch.utils.data.TensorDataset(x_val, y_val)\n",
    "val_iter = torch.utils.data.DataLoader(val_data, batch_size)\n",
    "# test_data = torch.utils.data.TensorDataset(x_test, y_test)\n",
    "# test_iter = torch.utils.data.DataLoader(test_data, batch_size)"
   ]
  },
  {
   "cell_type": "code",
   "execution_count": 91,
   "metadata": {},
   "outputs": [],
   "source": [
    "import math\n",
    "import torch\n",
    "import torch.nn as nn\n",
    "import torch.nn.functional as F\n",
    "from dgl.nn.pytorch import GraphConv\n",
    "\n",
    "class TemporalConvLayer(nn.Module):\n",
    "    ''' Temporal convolution layer.\n",
    "    \n",
    "    arguments\n",
    "    ---------\n",
    "    c_in : int\n",
    "        The number of input channels (features)\n",
    "    c_out : int\n",
    "        The number of output channels (features)\n",
    "    dia : int\n",
    "        The dilation size\n",
    "    '''\n",
    "    def __init__(self, c_in, c_out, dia = 1):\n",
    "        super(TemporalConvLayer, self).__init__()\n",
    "        self.c_out = c_out\n",
    "        self.c_in = c_in\n",
    "        self.conv = nn.Conv2d(c_in, c_out, (2, 1), 1, dilation = dia, padding = (0,0))\n",
    "\n",
    "\n",
    "    def forward(self, x):\n",
    "        return torch.relu(self.conv(x))\n",
    "\n",
    "\n",
    "class SpatioConvLayer(nn.Module):\n",
    "    def __init__(self, c, Lk): # c : hidden dimension Lk: graph matrix\n",
    "        super(SpatioConvLayer, self).__init__()\n",
    "        self.g = Lk\n",
    "        self.gc = GraphConv(c, c, activation=F.relu)\n",
    "\n",
    "    def init(self):\n",
    "        stdv = 1. / math.sqrt(self.W.weight.size(1))\n",
    "        self.W.weight.data.uniform_(-stdv, stdv)\n",
    "\n",
    "    def forward(self, x):\n",
    "        x = x.transpose(0, 3)\n",
    "        x = x.transpose(1, 3)\n",
    "        output = self.gc(self.g, x)\n",
    "        output = output.transpose(1, 3)\n",
    "        output = output.transpose(0, 3)\n",
    "        return torch.relu(output)\n",
    "\n",
    "class FullyConvLayer(nn.Module):\n",
    "    def __init__(self, c):\n",
    "        super(FullyConvLayer, self).__init__()\n",
    "        self.conv = nn.Conv2d(c, 1, 1)\n",
    "\n",
    "    def forward(self, x):\n",
    "        return self.conv(x)\n",
    "\n",
    "class OutputLayer(nn.Module):\n",
    "    def __init__(self, c, T, n):\n",
    "        super(OutputLayer, self).__init__()\n",
    "        self.tconv1 = nn.Conv2d(c, c, (T, 1), 1, dilation = 1, padding = (0,0))\n",
    "        self.ln = nn.LayerNorm([n, c])\n",
    "        self.tconv2 = nn.Conv2d(c, c, (1, 1), 1, dilation = 1, padding = (0,0))\n",
    "        self.fc = FullyConvLayer(c)\n",
    "\n",
    "    def forward(self, x):\n",
    "        x_t1 = self.tconv1(x)\n",
    "        x_ln = self.ln(x_t1.permute(0, 2, 3, 1)).permute(0, 3, 1, 2)\n",
    "        x_t2 = self.tconv2(x_ln)\n",
    "        return self.fc(x_t2)\n",
    "\n",
    "class STGCN_WAVE(nn.Module):\n",
    "    def __init__(self, c, T, n, Lk, device=torch.device(\"cpu\"), control_str='TNTSTNTST'):\n",
    "        super(STGCN_WAVE, self).__init__()\n",
    "        self.control_str = control_str\n",
    "        self.num_layers = len(control_str)\n",
    "        self.layers = nn.ModuleList([])\n",
    "        cnt = 0\n",
    "        diapower = 0\n",
    "        for i in range(self.num_layers):\n",
    "            i_layer = control_str[i]\n",
    "            if i_layer == 'T': # Temporal Layer\n",
    "                self.layers.append(TemporalConvLayer(c[cnt], c[cnt + 1], dia = 2**diapower))\n",
    "                diapower += 1\n",
    "                cnt += 1\n",
    "            if i_layer == 'S': # Spatio Layer\n",
    "                self.layers.append(SpatioConvLayer(c[cnt], Lk))\n",
    "            if i_layer == 'N': # Norm Layer\n",
    "                self.layers.append(nn.LayerNorm([n,c[cnt]]))\n",
    "        self.output = OutputLayer(c[cnt], T + 1 - 2**(diapower), n)\n",
    "        for layer in self.layers:\n",
    "            layer = layer.to(device)\n",
    "    \n",
    "    def forward(self, x):\n",
    "        for i in range(self.num_layers):\n",
    "            i_layer = self.control_str[i]\n",
    "            if i_layer == 'N':\n",
    "                x = self.layers[i](x.permute(0, 2, 3, 1)).permute(0, 3, 1, 2)  \n",
    "            else:\n",
    "                x = self.layers[i](x)\n",
    "        return self.output(x)"
   ]
  },
  {
   "cell_type": "code",
   "execution_count": 94,
   "metadata": {},
   "outputs": [],
   "source": [
    "blocks = [1, 16, 32, 64, 32, 128]\n",
    "lr = 0.001\n",
    "num_nodes = 98\n",
    "\n",
    "loss = nn.MSELoss()\n",
    "device=torch.device(\"cpu\")\n",
    "G = G.to(device)\n",
    "model = STGCN_WAVE(blocks, n_window, num_nodes, G).to(device)\n",
    "\n",
    "optimizer = torch.optim.RMSprop(model.parameters(), lr=lr)\n",
    "\n",
    "scheduler = torch.optim.lr_scheduler.StepLR(optimizer, step_size=5, gamma=0.7)"
   ]
  },
  {
   "cell_type": "code",
   "execution_count": 95,
   "metadata": {},
   "outputs": [],
   "source": [
    "save_path = \"stgcnwavemodel.pt\"\n",
    "epochs = 5\n",
    "\n",
    "def evaluate_model(model, loss, data_iter):\n",
    "    model.eval()\n",
    "    l_sum, n = 0.0, 0\n",
    "    with torch.no_grad():\n",
    "        for x, y in data_iter:\n",
    "            y_pred = model(x).view(len(x), -1)\n",
    "            l = loss(y_pred, y)\n",
    "            l_sum += l.item() * y.shape[0]\n",
    "            n += y.shape[0]\n",
    "        return l_sum / n\n",
    "\n",
    "\n",
    "def evaluate_metric(model, data_iter, scaler):\n",
    "    model.eval()\n",
    "    with torch.no_grad():\n",
    "        mae, mape, mse = [], [], []\n",
    "        for x, y in data_iter:\n",
    "            y = scaler.inverse_transform(y.cpu().numpy()).reshape(-1)\n",
    "            y_pred = scaler.inverse_transform(model(x).view(len(x), -1).cpu().numpy()).reshape(-1)\n",
    "            d = np.abs(y - y_pred)\n",
    "            mae += d.tolist()\n",
    "            mape += (d / y).tolist()\n",
    "            mse += (d ** 2).tolist()\n",
    "        MAE = np.array(mae).mean()\n",
    "        MAPE = np.array(mape).mean()\n",
    "        RMSE = np.sqrt(np.array(mse).mean())\n",
    "        return MAE, MAPE, RMSE"
   ]
  },
  {
   "cell_type": "code",
   "execution_count": 96,
   "metadata": {},
   "outputs": [],
   "source": [
    "from time import time\n",
    "min_val_loss = np.inf"
   ]
  },
  {
   "cell_type": "code",
   "execution_count": 97,
   "metadata": {},
   "outputs": [
    {
     "name": "stderr",
     "output_type": "stream",
     "text": [
      "/home/mert/miniconda3/envs/thesis_torch/lib/python3.9/site-packages/torch/autocast_mode.py:141: UserWarning: User provided device_type of 'cuda', but CUDA is not available. Disabling\n",
      "  warnings.warn('User provided device_type of \\'cuda\\', but CUDA is not available. Disabling')\n"
     ]
    },
    {
     "name": "stdout",
     "output_type": "stream",
     "text": [
      "epoch 1 , time: 25.78 , train loss: 713.2379415504721 , validation loss: 877.7399953206381\n",
      "epoch 2 , time: 24.75 , train loss: 674.7976600912086 , validation loss: 849.1674321492513\n",
      "epoch 3 , time: 24.99 , train loss: 638.8578657349104 , validation loss: 784.6833953857422\n",
      "epoch 4 , time: 24.01 , train loss: 607.1410323919937 , validation loss: 748.0721638997396\n",
      "epoch 5 , time: 24.31 , train loss: 579.8067423993556 , validation loss: 656.9690772162544\n"
     ]
    }
   ],
   "source": [
    "for epoch in range(1, epochs + 1):\n",
    "    l_sum, n = 0.0, 0\n",
    "    model.train()\n",
    "    t_ = time()\n",
    "    for x, y in train_iter:\n",
    "        y_pred = model(x).view(len(x), -1)\n",
    "        l = loss(y_pred, y)\n",
    "        optimizer.zero_grad()\n",
    "        l.backward()\n",
    "        optimizer.step()\n",
    "        l_sum += l.item() * y.shape[0]\n",
    "        n += y.shape[0]\n",
    "    scheduler.step()\n",
    "    val_loss = evaluate_model(model, loss, val_iter)\n",
    "    if val_loss < min_val_loss:\n",
    "        min_val_loss = val_loss\n",
    "        torch.save(model.state_dict(), save_path)\n",
    "    print(\"epoch\", epoch, \", time:\", round(time() - t_, 2),  \", train loss:\", l_sum / n, \", validation loss:\", val_loss)\n",
    "\n",
    "    "
   ]
  },
  {
   "cell_type": "code",
   "execution_count": 98,
   "metadata": {},
   "outputs": [],
   "source": [
    "# adj matrixi train datadan oluştur"
   ]
  },
  {
   "cell_type": "code",
   "execution_count": 99,
   "metadata": {},
   "outputs": [
    {
     "data": {
      "text/plain": [
       "<All keys matched successfully>"
      ]
     },
     "execution_count": 99,
     "metadata": {},
     "output_type": "execute_result"
    }
   ],
   "source": [
    "best_model = STGCN_WAVE(blocks, n_window, num_nodes, G).to(device)\n",
    "best_model.load_state_dict(torch.load(save_path))"
   ]
  },
  {
   "cell_type": "code",
   "execution_count": null,
   "metadata": {},
   "outputs": [],
   "source": []
  },
  {
   "cell_type": "code",
   "execution_count": 100,
   "metadata": {},
   "outputs": [
    {
     "ename": "ValueError",
     "evalue": "operands could not be broadcast together with shapes (50,98) (882,) (50,98) ",
     "output_type": "error",
     "traceback": [
      "\u001b[0;31m---------------------------------------------------------------------------\u001b[0m",
      "\u001b[0;31mValueError\u001b[0m                                Traceback (most recent call last)",
      "\u001b[0;32m/tmp/ipykernel_300037/847474571.py\u001b[0m in \u001b[0;36m<module>\u001b[0;34m\u001b[0m\n\u001b[1;32m      1\u001b[0m \u001b[0ml\u001b[0m \u001b[0;34m=\u001b[0m \u001b[0mevaluate_model\u001b[0m\u001b[0;34m(\u001b[0m\u001b[0mbest_model\u001b[0m\u001b[0;34m,\u001b[0m \u001b[0mloss\u001b[0m\u001b[0;34m,\u001b[0m \u001b[0mval_iter\u001b[0m\u001b[0;34m)\u001b[0m\u001b[0;34m\u001b[0m\u001b[0;34m\u001b[0m\u001b[0m\n\u001b[0;32m----> 2\u001b[0;31m \u001b[0mMAE\u001b[0m\u001b[0;34m,\u001b[0m \u001b[0mMAPE\u001b[0m\u001b[0;34m,\u001b[0m \u001b[0mRMSE\u001b[0m \u001b[0;34m=\u001b[0m \u001b[0mevaluate_metric\u001b[0m\u001b[0;34m(\u001b[0m\u001b[0mbest_model\u001b[0m\u001b[0;34m,\u001b[0m \u001b[0mval_iter\u001b[0m\u001b[0;34m,\u001b[0m \u001b[0mscaler\u001b[0m\u001b[0;34m)\u001b[0m\u001b[0;34m\u001b[0m\u001b[0;34m\u001b[0m\u001b[0m\n\u001b[0m\u001b[1;32m      3\u001b[0m \u001b[0mprint\u001b[0m\u001b[0;34m(\u001b[0m\u001b[0;34m\"test loss:\"\u001b[0m\u001b[0;34m,\u001b[0m \u001b[0ml\u001b[0m\u001b[0;34m,\u001b[0m \u001b[0;34m\"\\nMAE:\"\u001b[0m\u001b[0;34m,\u001b[0m \u001b[0mMAE\u001b[0m\u001b[0;34m,\u001b[0m \u001b[0;34m\", MAPE:\"\u001b[0m\u001b[0;34m,\u001b[0m \u001b[0mMAPE\u001b[0m\u001b[0;34m,\u001b[0m \u001b[0;34m\", RMSE:\"\u001b[0m\u001b[0;34m,\u001b[0m \u001b[0mRMSE\u001b[0m\u001b[0;34m)\u001b[0m\u001b[0;34m\u001b[0m\u001b[0;34m\u001b[0m\u001b[0m\n",
      "\u001b[0;32m/tmp/ipykernel_300037/3860118275.py\u001b[0m in \u001b[0;36mevaluate_metric\u001b[0;34m(model, data_iter, scaler)\u001b[0m\n\u001b[1;32m     19\u001b[0m         \u001b[0mmae\u001b[0m\u001b[0;34m,\u001b[0m \u001b[0mmape\u001b[0m\u001b[0;34m,\u001b[0m \u001b[0mmse\u001b[0m \u001b[0;34m=\u001b[0m \u001b[0;34m[\u001b[0m\u001b[0;34m]\u001b[0m\u001b[0;34m,\u001b[0m \u001b[0;34m[\u001b[0m\u001b[0;34m]\u001b[0m\u001b[0;34m,\u001b[0m \u001b[0;34m[\u001b[0m\u001b[0;34m]\u001b[0m\u001b[0;34m\u001b[0m\u001b[0;34m\u001b[0m\u001b[0m\n\u001b[1;32m     20\u001b[0m         \u001b[0;32mfor\u001b[0m \u001b[0mx\u001b[0m\u001b[0;34m,\u001b[0m \u001b[0my\u001b[0m \u001b[0;32min\u001b[0m \u001b[0mdata_iter\u001b[0m\u001b[0;34m:\u001b[0m\u001b[0;34m\u001b[0m\u001b[0;34m\u001b[0m\u001b[0m\n\u001b[0;32m---> 21\u001b[0;31m             \u001b[0my\u001b[0m \u001b[0;34m=\u001b[0m \u001b[0mscaler\u001b[0m\u001b[0;34m.\u001b[0m\u001b[0minverse_transform\u001b[0m\u001b[0;34m(\u001b[0m\u001b[0my\u001b[0m\u001b[0;34m.\u001b[0m\u001b[0mcpu\u001b[0m\u001b[0;34m(\u001b[0m\u001b[0;34m)\u001b[0m\u001b[0;34m.\u001b[0m\u001b[0mnumpy\u001b[0m\u001b[0;34m(\u001b[0m\u001b[0;34m)\u001b[0m\u001b[0;34m)\u001b[0m\u001b[0;34m.\u001b[0m\u001b[0mreshape\u001b[0m\u001b[0;34m(\u001b[0m\u001b[0;34m-\u001b[0m\u001b[0;36m1\u001b[0m\u001b[0;34m)\u001b[0m\u001b[0;34m\u001b[0m\u001b[0;34m\u001b[0m\u001b[0m\n\u001b[0m\u001b[1;32m     22\u001b[0m             \u001b[0my_pred\u001b[0m \u001b[0;34m=\u001b[0m \u001b[0mscaler\u001b[0m\u001b[0;34m.\u001b[0m\u001b[0minverse_transform\u001b[0m\u001b[0;34m(\u001b[0m\u001b[0mmodel\u001b[0m\u001b[0;34m(\u001b[0m\u001b[0mx\u001b[0m\u001b[0;34m)\u001b[0m\u001b[0;34m.\u001b[0m\u001b[0mview\u001b[0m\u001b[0;34m(\u001b[0m\u001b[0mlen\u001b[0m\u001b[0;34m(\u001b[0m\u001b[0mx\u001b[0m\u001b[0;34m)\u001b[0m\u001b[0;34m,\u001b[0m \u001b[0;34m-\u001b[0m\u001b[0;36m1\u001b[0m\u001b[0;34m)\u001b[0m\u001b[0;34m.\u001b[0m\u001b[0mcpu\u001b[0m\u001b[0;34m(\u001b[0m\u001b[0;34m)\u001b[0m\u001b[0;34m.\u001b[0m\u001b[0mnumpy\u001b[0m\u001b[0;34m(\u001b[0m\u001b[0;34m)\u001b[0m\u001b[0;34m)\u001b[0m\u001b[0;34m.\u001b[0m\u001b[0mreshape\u001b[0m\u001b[0;34m(\u001b[0m\u001b[0;34m-\u001b[0m\u001b[0;36m1\u001b[0m\u001b[0;34m)\u001b[0m\u001b[0;34m\u001b[0m\u001b[0;34m\u001b[0m\u001b[0m\n\u001b[1;32m     23\u001b[0m             \u001b[0md\u001b[0m \u001b[0;34m=\u001b[0m \u001b[0mnp\u001b[0m\u001b[0;34m.\u001b[0m\u001b[0mabs\u001b[0m\u001b[0;34m(\u001b[0m\u001b[0my\u001b[0m \u001b[0;34m-\u001b[0m \u001b[0my_pred\u001b[0m\u001b[0;34m)\u001b[0m\u001b[0;34m\u001b[0m\u001b[0;34m\u001b[0m\u001b[0m\n",
      "\u001b[0;32m~/miniconda3/envs/thesis_torch/lib/python3.9/site-packages/sklearn/preprocessing/_data.py\u001b[0m in \u001b[0;36minverse_transform\u001b[0;34m(self, X, copy)\u001b[0m\n\u001b[1;32m   1033\u001b[0m         \u001b[0;32melse\u001b[0m\u001b[0;34m:\u001b[0m\u001b[0;34m\u001b[0m\u001b[0;34m\u001b[0m\u001b[0m\n\u001b[1;32m   1034\u001b[0m             \u001b[0;32mif\u001b[0m \u001b[0mself\u001b[0m\u001b[0;34m.\u001b[0m\u001b[0mwith_std\u001b[0m\u001b[0;34m:\u001b[0m\u001b[0;34m\u001b[0m\u001b[0;34m\u001b[0m\u001b[0m\n\u001b[0;32m-> 1035\u001b[0;31m                 \u001b[0mX\u001b[0m \u001b[0;34m*=\u001b[0m \u001b[0mself\u001b[0m\u001b[0;34m.\u001b[0m\u001b[0mscale_\u001b[0m\u001b[0;34m\u001b[0m\u001b[0;34m\u001b[0m\u001b[0m\n\u001b[0m\u001b[1;32m   1036\u001b[0m             \u001b[0;32mif\u001b[0m \u001b[0mself\u001b[0m\u001b[0;34m.\u001b[0m\u001b[0mwith_mean\u001b[0m\u001b[0;34m:\u001b[0m\u001b[0;34m\u001b[0m\u001b[0;34m\u001b[0m\u001b[0m\n\u001b[1;32m   1037\u001b[0m                 \u001b[0mX\u001b[0m \u001b[0;34m+=\u001b[0m \u001b[0mself\u001b[0m\u001b[0;34m.\u001b[0m\u001b[0mmean_\u001b[0m\u001b[0;34m\u001b[0m\u001b[0;34m\u001b[0m\u001b[0m\n",
      "\u001b[0;31mValueError\u001b[0m: operands could not be broadcast together with shapes (50,98) (882,) (50,98) "
     ]
    }
   ],
   "source": [
    "l = evaluate_model(best_model, loss, val_iter)\n",
    "MAE, MAPE, RMSE = evaluate_metric(best_model, val_iter, scaler)\n",
    "print(\"test loss:\", l, \"\\nMAE:\", MAE, \", MAPE:\", MAPE, \", RMSE:\", RMSE)"
   ]
  },
  {
   "cell_type": "code",
   "execution_count": null,
   "metadata": {},
   "outputs": [],
   "source": []
  },
  {
   "cell_type": "code",
   "execution_count": null,
   "metadata": {},
   "outputs": [],
   "source": []
  },
  {
   "cell_type": "code",
   "execution_count": null,
   "metadata": {},
   "outputs": [],
   "source": []
  },
  {
   "cell_type": "code",
   "execution_count": null,
   "metadata": {},
   "outputs": [],
   "source": [
    "import matplotlib.pyplot as plt"
   ]
  },
  {
   "cell_type": "code",
   "execution_count": null,
   "metadata": {},
   "outputs": [],
   "source": [
    "def plot(y, y_pred, i=0):\n",
    "    y_pred = scaler.inverse_transform(y_pred.cpu().numpy())\n",
    "    y = scaler.inverse_transform(y.cpu().numpy())\n",
    "    plt.plot(y[:, i], label=\"y\")\n",
    "    plt.plot(y_pred[:, i], label=\"y_pred\")\n",
    "    plt.legend()\n",
    "    plt.show()"
   ]
  },
  {
   "cell_type": "code",
   "execution_count": null,
   "metadata": {},
   "outputs": [],
   "source": [
    "def plot_pred(model, data_iter, plant_id=0):\n",
    "    model.eval()\n",
    "    with torch.no_grad():\n",
    "        x, y = list(data_iter)[0]\n",
    "        y_pred = model(x).view(len(x), -1)\n",
    "    y_pred = scaler.inverse_transform(y_pred.cpu().numpy())\n",
    "    y = scaler.inverse_transform(y.cpu().numpy())\n",
    "    plt.plot(y[:, plant_id], label=\"y\")\n",
    "    plt.plot(y_pred[:, plant_id], label=\"y_pred\")\n",
    "    plt.legend()\n",
    "    plt.show()"
   ]
  },
  {
   "cell_type": "code",
   "execution_count": null,
   "metadata": {},
   "outputs": [],
   "source": [
    "for i, t in enumerate(train_iter):\n",
    "    print(i, t[0].shape, t[1].shape)\n",
    "\n",
    "for i, t in enumerate(val_iter):\n",
    "    print(i, t[0].shape, t[1].shape)"
   ]
  },
  {
   "cell_type": "code",
   "execution_count": null,
   "metadata": {},
   "outputs": [],
   "source": [
    "plot_pred(best_model, train_iter, plant_id=4)"
   ]
  },
  {
   "cell_type": "code",
   "execution_count": null,
   "metadata": {},
   "outputs": [],
   "source": [
    "plot_pred(best_model, val_iter, plant_id=8)"
   ]
  },
  {
   "cell_type": "code",
   "execution_count": null,
   "metadata": {},
   "outputs": [],
   "source": [
    "model = best_model\n",
    "data_iter = val_iter\n"
   ]
  },
  {
   "cell_type": "code",
   "execution_count": null,
   "metadata": {},
   "outputs": [],
   "source": [
    "y_list, y_pred_list, x_list = [], [], []\n",
    "model.eval()\n",
    "with torch.no_grad():\n",
    "    for data in data_iter:\n",
    "        x, y = data\n",
    "        y_pred = model(x).view(len(x), -1)\n",
    "        y_list.append(y.cpu().numpy())\n",
    "        x_list.append(x.cpu().numpy())\n",
    "        y_pred_list.append(y_pred.cpu().numpy())\n",
    "\n",
    "y_list = np.concatenate(y_list)\n",
    "x_list = np.concatenate(x_list)\n",
    "y_pred_list = np.concatenate(y_pred_list)\n",
    "\n",
    "y_list = scaler.inverse_transform(y_list)\n",
    "# x_list = scaler.inverse_transform(x_list)\n",
    "y_pred_list = scaler.inverse_transform(y_pred_list)"
   ]
  },
  {
   "cell_type": "code",
   "execution_count": null,
   "metadata": {},
   "outputs": [],
   "source": [
    "for x_ in x_list:\n",
    "    x_df_ = pd.DataFrame(scaler.inverse_transform(x_[0]))\n",
    "    print(x_df_.iloc[-3:, :3])"
   ]
  },
  {
   "cell_type": "code",
   "execution_count": null,
   "metadata": {},
   "outputs": [],
   "source": [
    "pd.DataFrame(scaler.inverse_transform(x_list[1][0])).head().append(pd.DataFrame(scaler.inverse_transform(x_list[1][0])).tail(5))"
   ]
  },
  {
   "cell_type": "code",
   "execution_count": null,
   "metadata": {},
   "outputs": [],
   "source": [
    "pd.DataFrame(scaler.inverse_transform(x_list[0][0])).head().append(pd.DataFrame(scaler.inverse_transform(x_list[0][0])).tail(5))"
   ]
  },
  {
   "cell_type": "code",
   "execution_count": null,
   "metadata": {},
   "outputs": [],
   "source": [
    "pd.DataFrame(y_list[0].reshape(1, -1))"
   ]
  },
  {
   "cell_type": "code",
   "execution_count": null,
   "metadata": {},
   "outputs": [],
   "source": [
    "pd.DataFrame(y_pred_list[0].reshape(1, -1))"
   ]
  },
  {
   "cell_type": "code",
   "execution_count": null,
   "metadata": {},
   "outputs": [],
   "source": [
    "data_iter.sampler"
   ]
  },
  {
   "cell_type": "code",
   "execution_count": null,
   "metadata": {},
   "outputs": [],
   "source": [
    "[i for i in dir(data_iter) if \"__\" not in i]"
   ]
  },
  {
   "cell_type": "code",
   "execution_count": null,
   "metadata": {},
   "outputs": [],
   "source": [
    "len(list(data_iter)[0])"
   ]
  },
  {
   "cell_type": "code",
   "execution_count": null,
   "metadata": {},
   "outputs": [],
   "source": [
    "plant_id = 4\n",
    "# figsize\n",
    "# fig, ax = plt.subplots(figsize=(20, 10))\n",
    "\n",
    "y_values = y_list[:, plant_id]\n",
    "y_pred_values = y_pred_list[:, plant_id]\n",
    "\n",
    "# ax.plot(y_values, label=\"y\")\n",
    "# ax.plot(y_pred_values, label=\"y_pred\")\n",
    "# fig.show()"
   ]
  },
  {
   "cell_type": "code",
   "execution_count": null,
   "metadata": {},
   "outputs": [],
   "source": [
    "output = df_.iloc[train_indices + val_indices, plant_id]\n"
   ]
  },
  {
   "cell_type": "code",
   "execution_count": null,
   "metadata": {},
   "outputs": [],
   "source": [
    "output = pd.DataFrame(df_.iloc[train_indices + val_indices, plant_id])\n",
    "output.columns = [\"production\"]\n",
    "output"
   ]
  },
  {
   "cell_type": "code",
   "execution_count": null,
   "metadata": {},
   "outputs": [],
   "source": [
    "output[\"y\"] = np.nan\n",
    "output.iloc[48:48+len(y_values), 1] = y_values\n",
    "output.iloc[48:]"
   ]
  },
  {
   "cell_type": "code",
   "execution_count": null,
   "metadata": {},
   "outputs": [],
   "source": [
    "len(y_values)"
   ]
  },
  {
   "cell_type": "code",
   "execution_count": null,
   "metadata": {},
   "outputs": [],
   "source": [
    "np.relen(y_values)"
   ]
  },
  {
   "cell_type": "code",
   "execution_count": null,
   "metadata": {},
   "outputs": [],
   "source": [
    "797 - 48 - 1"
   ]
  },
  {
   "cell_type": "code",
   "execution_count": null,
   "metadata": {},
   "outputs": [],
   "source": [
    "len(y_values), len(train_indices), len(val_indices)"
   ]
  },
  {
   "cell_type": "code",
   "execution_count": null,
   "metadata": {},
   "outputs": [],
   "source": [
    "plant_id = 4\n",
    "df_.iloc[train_indices + val_indices, plant_id].plot(figsize=(20,10))\n",
    "# draw vertical line at the end of training period\n",
    "plt.axvline(x=df_.index[len_train], color=\"red\")\n",
    "plt.title(rev_plant_mapping.get(plant_id))\n"
   ]
  },
  {
   "cell_type": "code",
   "execution_count": null,
   "metadata": {},
   "outputs": [],
   "source": [
    "print(x_val.shape, y_val.shape)"
   ]
  },
  {
   "cell_type": "code",
   "execution_count": null,
   "metadata": {},
   "outputs": [],
   "source": []
  },
  {
   "cell_type": "code",
   "execution_count": null,
   "metadata": {},
   "outputs": [],
   "source": [
    "def to_df(x, transform=True):\n",
    "    x = x.reshape(-1, 98).cpu().numpy()\n",
    "    if transform:\n",
    "        x = scaler.inverse_transform(x)\n",
    "    return pd.DataFrame(x)"
   ]
  },
  {
   "cell_type": "code",
   "execution_count": null,
   "metadata": {},
   "outputs": [],
   "source": [
    "df_[round(0.5*len(df_)) + len_train: round(0.5*len(df_)) + len_train + len_val]\n"
   ]
  },
  {
   "cell_type": "code",
   "execution_count": null,
   "metadata": {},
   "outputs": [],
   "source": []
  },
  {
   "cell_type": "code",
   "execution_count": null,
   "metadata": {},
   "outputs": [],
   "source": []
  },
  {
   "cell_type": "code",
   "execution_count": null,
   "metadata": {},
   "outputs": [],
   "source": [
    "to_df(x_val[0, 0])"
   ]
  },
  {
   "cell_type": "code",
   "execution_count": null,
   "metadata": {},
   "outputs": [],
   "source": [
    "to_df(x_val[1, 0]).tail()"
   ]
  },
  {
   "cell_type": "code",
   "execution_count": null,
   "metadata": {},
   "outputs": [],
   "source": [
    "to_df(y_val[0])"
   ]
  },
  {
   "cell_type": "code",
   "execution_count": null,
   "metadata": {},
   "outputs": [],
   "source": [
    "x, y = list(val_iter)[0]\n",
    "print(x.shape, y.shape)"
   ]
  },
  {
   "cell_type": "code",
   "execution_count": null,
   "metadata": {},
   "outputs": [],
   "source": [
    "best_model.eval()\n",
    "with torch.no_grad():\n",
    "    x, y = list(val_iter)[0]\n",
    "    y_pred = best_model(x).view(len(x), -1)\n",
    "    plot(y, y_pred, 0)\n",
    "        "
   ]
  },
  {
   "cell_type": "code",
   "execution_count": null,
   "metadata": {},
   "outputs": [],
   "source": [
    "print(best_model(x).shape)\n",
    "print(best_model(x).view(len(x), -1).shape)"
   ]
  },
  {
   "cell_type": "code",
   "execution_count": null,
   "metadata": {},
   "outputs": [],
   "source": [
    "best_model(x).reshape(len(x), -1).shape"
   ]
  },
  {
   "cell_type": "code",
   "execution_count": null,
   "metadata": {},
   "outputs": [],
   "source": [
    "len(x)"
   ]
  },
  {
   "cell_type": "code",
   "execution_count": null,
   "metadata": {},
   "outputs": [],
   "source": [
    "i = 0\n",
    "pd.DataFrame(scaler.inverse_transform(np.expand_dims(y[i].cpu().numpy(), axis=0)))"
   ]
  },
  {
   "cell_type": "code",
   "execution_count": null,
   "metadata": {},
   "outputs": [],
   "source": [
    "data[(data[\"rt_plant_id\"] == 0) & (data[\"forecast_dt\"] > \"2019-02-15\") & (data[\"forecast_dt\"] < \"2019-02-16\")]"
   ]
  },
  {
   "cell_type": "code",
   "execution_count": null,
   "metadata": {},
   "outputs": [],
   "source": [
    "data[(data[\"rt_plant_id\"] == 0) & (abs(data[\"production\"] - 65.39) <= 0.02)]"
   ]
  },
  {
   "cell_type": "code",
   "execution_count": null,
   "metadata": {},
   "outputs": [],
   "source": [
    "results = {}\n",
    "for j in data.rt_plant_id.unique():\n",
    "    m_ = data[(data[\"rt_plant_id\"] == j)][\"production\"]\n",
    "    results[j] = {}\n",
    "    for i in range(len(m_) - 50):\n",
    "        results[j][i] = np.sqrt(np.sum((m_[i: i + 50].values - n_) ** 2))"
   ]
  },
  {
   "cell_type": "code",
   "execution_count": null,
   "metadata": {},
   "outputs": [],
   "source": [
    "a_ = pd.melt(pd.DataFrame.from_dict(results).reset_index(), id_vars=\"index\")\n",
    "a_.columns = [\"time\", \"rt_plant_id\", \"error\"]"
   ]
  },
  {
   "cell_type": "code",
   "execution_count": null,
   "metadata": {},
   "outputs": [],
   "source": [
    "a_.sort_values(\"error\")"
   ]
  },
  {
   "cell_type": "code",
   "execution_count": null,
   "metadata": {},
   "outputs": [],
   "source": [
    "a_ = pd.DataFrame.from_records([results]).T.reset_index()\n",
    "a_.columns = [\"index\", \"error\"]\n",
    "a_.sort_values(by=\"error\")"
   ]
  },
  {
   "cell_type": "code",
   "execution_count": null,
   "metadata": {},
   "outputs": [],
   "source": [
    "n_ = scaler.inverse_transform(y_pred)[:, 0]"
   ]
  },
  {
   "cell_type": "code",
   "execution_count": null,
   "metadata": {},
   "outputs": [],
   "source": [
    "plot(y, y_pred, i=51)"
   ]
  },
  {
   "cell_type": "code",
   "execution_count": null,
   "metadata": {},
   "outputs": [],
   "source": [
    "y_pred.shape"
   ]
  },
  {
   "cell_type": "code",
   "execution_count": null,
   "metadata": {},
   "outputs": [],
   "source": [
    "a = scaler.inverse_transform(y_pred.cpu().numpy())\n",
    "a"
   ]
  },
  {
   "cell_type": "code",
   "execution_count": null,
   "metadata": {},
   "outputs": [],
   "source": [
    "a.shape"
   ]
  },
  {
   "cell_type": "code",
   "execution_count": null,
   "metadata": {},
   "outputs": [],
   "source": [
    "b = scaler.inverse_transform(y.cpu().numpy())\n",
    "b"
   ]
  },
  {
   "cell_type": "code",
   "execution_count": null,
   "metadata": {},
   "outputs": [],
   "source": [
    "b[:, 0]\n"
   ]
  },
  {
   "cell_type": "code",
   "execution_count": null,
   "metadata": {},
   "outputs": [],
   "source": [
    "import matplotlib.pyplot as plt"
   ]
  },
  {
   "cell_type": "code",
   "execution_count": null,
   "metadata": {},
   "outputs": [],
   "source": []
  },
  {
   "cell_type": "code",
   "execution_count": null,
   "metadata": {},
   "outputs": [],
   "source": []
  },
  {
   "cell_type": "code",
   "execution_count": null,
   "metadata": {},
   "outputs": [],
   "source": []
  },
  {
   "cell_type": "code",
   "execution_count": null,
   "metadata": {},
   "outputs": [],
   "source": []
  },
  {
   "cell_type": "code",
   "execution_count": null,
   "metadata": {},
   "outputs": [],
   "source": []
  },
  {
   "cell_type": "code",
   "execution_count": null,
   "metadata": {},
   "outputs": [],
   "source": []
  },
  {
   "cell_type": "code",
   "execution_count": null,
   "metadata": {},
   "outputs": [],
   "source": []
  },
  {
   "cell_type": "code",
   "execution_count": null,
   "metadata": {},
   "outputs": [],
   "source": []
  },
  {
   "cell_type": "code",
   "execution_count": null,
   "metadata": {},
   "outputs": [],
   "source": []
  },
  {
   "cell_type": "code",
   "execution_count": null,
   "metadata": {},
   "outputs": [],
   "source": []
  },
  {
   "cell_type": "code",
   "execution_count": null,
   "metadata": {},
   "outputs": [],
   "source": []
  }
 ],
 "metadata": {
  "interpreter": {
   "hash": "eb2ab97fed459a161174961b67d20d1eb4f3414b90b70660d35ba0f38956576f"
  },
  "kernelspec": {
   "display_name": "Python 3.9.0 ('thesis')",
   "language": "python",
   "name": "python3"
  },
  "language_info": {
   "codemirror_mode": {
    "name": "ipython",
    "version": 3
   },
   "file_extension": ".py",
   "mimetype": "text/x-python",
   "name": "python",
   "nbconvert_exporter": "python",
   "pygments_lexer": "ipython3",
   "version": "3.9.0"
  },
  "orig_nbformat": 4
 },
 "nbformat": 4,
 "nbformat_minor": 2
}
