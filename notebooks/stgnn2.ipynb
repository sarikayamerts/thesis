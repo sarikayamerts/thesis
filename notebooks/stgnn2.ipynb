{
 "cells": [
  {
   "cell_type": "code",
   "execution_count": 1,
   "metadata": {},
   "outputs": [],
   "source": [
    "%load_ext autoreload\n",
    "%autoreload 2"
   ]
  },
  {
   "cell_type": "code",
   "execution_count": 4,
   "metadata": {},
   "outputs": [],
   "source": [
    "import warnings\n",
    "import pandas as pd\n",
    "\n",
    "warnings.filterwarnings(\"ignore\")\n",
    "pd.options.display.float_format = \"{:,.2f}\".format"
   ]
  },
  {
   "cell_type": "code",
   "execution_count": 5,
   "metadata": {},
   "outputs": [],
   "source": [
    "import dgl_utils as du\n",
    "from stgnn import STGCN_WAVE, evaluate_model"
   ]
  },
  {
   "cell_type": "code",
   "execution_count": 6,
   "metadata": {},
   "outputs": [
    {
     "name": "stdout",
     "output_type": "stream",
     "text": [
      "1487 61.958333333333336\n",
      "5405\n",
      "5405\n"
     ]
    }
   ],
   "source": [
    "data = du.get_data()\n",
    "train_indices, val_indices, test_indices = du.split(data, train_ratio=0.9, val_ratio=0.1)\n",
    "A = du.generate_adjacency_matrix(data.loc[train_indices, \"production\"], threshold=0.6)\n",
    "G = du.create_graph(A)\n",
    "\n",
    "x, y = du.data_transform(data, n_window=48, n_ahead=1)\n",
    "train_iter, val_iter = du.prepare_torch_data(x, y, train_indices, val_indices, n_window=48, batch_size=32)"
   ]
  },
  {
   "cell_type": "code",
   "execution_count": null,
   "metadata": {},
   "outputs": [],
   "source": [
    "data.head()\n",
    "\n",
    "# # scaling'i çözmek gerekecek\n",
    "# # pd.DataFrame(scaler.fit_transform(data.values)).mean(axis=0)\n",
    "\n",
    "# from sklearn.preprocessing import StandardScaler  \n",
    "# scaler = StandardScaler()\n",
    "\n",
    "# data.loc[train_indices] = scaler.fit_transform(data.loc[train_indices])"
   ]
  },
  {
   "cell_type": "code",
   "execution_count": null,
   "metadata": {},
   "outputs": [],
   "source": [
    "import torch\n",
    "import torch.nn as nn\n",
    "import numpy as np\n",
    "from stgnn import STGCN_WAVE, evaluate_model"
   ]
  },
  {
   "cell_type": "code",
   "execution_count": null,
   "metadata": {},
   "outputs": [],
   "source": [
    "blocks = [1, 16, 32, 64, 32, 128]\n",
    "lr = 0.001\n",
    "num_nodes = 97\n",
    "\n",
    "loss = nn.MSELoss()\n",
    "device=torch.device(\"cpu\")\n",
    "G = G.to(device)\n",
    "model = STGCN_WAVE(blocks, n_window, num_nodes, G).to(device)\n",
    "\n",
    "optimizer = torch.optim.RMSprop(model.parameters(), lr=lr)\n",
    "\n",
    "scheduler = torch.optim.lr_scheduler.StepLR(optimizer, step_size=5, gamma=0.7)\n",
    "\n",
    "save_path = \"stgcnwavemodel.pt\"\n",
    "epochs = 5\n",
    "\n",
    "from time import time\n",
    "min_val_loss = np.inf\n",
    "\n",
    "for epoch in range(1, epochs + 1):\n",
    "    l_sum, n = 0.0, 0\n",
    "    model.train()\n",
    "    t_ = time()\n",
    "    for x, y in train_iter:\n",
    "        y_pred = model(x).view(len(x), -1)\n",
    "        l = loss(y_pred, y)\n",
    "        optimizer.zero_grad()\n",
    "        l.backward()\n",
    "        optimizer.step()\n",
    "        l_sum += l.item() * y.shape[0]\n",
    "        n += y.shape[0]\n",
    "    scheduler.step()\n",
    "    val_loss = evaluate_model(model, loss, val_iter)\n",
    "    if val_loss < min_val_loss:\n",
    "        min_val_loss = val_loss\n",
    "        torch.save(model.state_dict(), save_path)\n",
    "    print(\"epoch\", epoch, \", time:\", round(time() - t_, 2),  \", train loss:\", l_sum / n, \", validation loss:\", val_loss)\n",
    "\n",
    "    "
   ]
  },
  {
   "cell_type": "code",
   "execution_count": null,
   "metadata": {},
   "outputs": [],
   "source": []
  },
  {
   "cell_type": "code",
   "execution_count": null,
   "metadata": {},
   "outputs": [],
   "source": []
  },
  {
   "cell_type": "code",
   "execution_count": null,
   "metadata": {},
   "outputs": [],
   "source": []
  },
  {
   "cell_type": "code",
   "execution_count": null,
   "metadata": {},
   "outputs": [],
   "source": []
  },
  {
   "cell_type": "code",
   "execution_count": null,
   "metadata": {},
   "outputs": [],
   "source": []
  },
  {
   "cell_type": "code",
   "execution_count": null,
   "metadata": {},
   "outputs": [],
   "source": [
    "du.convert_x_tensor_to_df(x, 0, -1)"
   ]
  },
  {
   "cell_type": "code",
   "execution_count": null,
   "metadata": {},
   "outputs": [],
   "source": [
    "du.convert_y_tensor_to_df(y, 0)"
   ]
  },
  {
   "cell_type": "code",
   "execution_count": null,
   "metadata": {},
   "outputs": [],
   "source": []
  },
  {
   "cell_type": "code",
   "execution_count": null,
   "metadata": {},
   "outputs": [],
   "source": []
  },
  {
   "cell_type": "code",
   "execution_count": null,
   "metadata": {},
   "outputs": [],
   "source": []
  },
  {
   "cell_type": "code",
   "execution_count": null,
   "metadata": {},
   "outputs": [],
   "source": []
  }
 ],
 "metadata": {
  "interpreter": {
   "hash": "3101b2c80d66a6543ff34d47ca09bd4d72b95f0f8bb6d61c06edb00070ba9e48"
  },
  "kernelspec": {
   "display_name": "Python 3.9.0 ('thesis_torch')",
   "language": "python",
   "name": "python3"
  },
  "language_info": {
   "codemirror_mode": {
    "name": "ipython",
    "version": 3
   },
   "file_extension": ".py",
   "mimetype": "text/x-python",
   "name": "python",
   "nbconvert_exporter": "python",
   "pygments_lexer": "ipython3",
   "version": "3.9.0"
  },
  "orig_nbformat": 4
 },
 "nbformat": 4,
 "nbformat_minor": 2
}
