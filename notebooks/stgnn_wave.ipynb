{
 "cells": [
  {
   "cell_type": "markdown",
   "metadata": {},
   "source": [
    "# STGNN WAVE\n",
    "Bunu implement ettim\n",
    "https://github.com/dmlc/dgl/tree/master/examples/pytorch/stgcn_wave\n",
    "\n",
    "Buna da bakmalıyım bi ara\n",
    "https://github.com/chnsh/DCRNN_PyTorch"
   ]
  },
  {
   "cell_type": "code",
   "execution_count": 3,
   "metadata": {},
   "outputs": [],
   "source": [
    "os.environ[\"DGLBACKEND\"] = \"pytorch\""
   ]
  },
  {
   "cell_type": "code",
   "execution_count": 4,
   "metadata": {},
   "outputs": [
    {
     "name": "stderr",
     "output_type": "stream",
     "text": [
      "Using backend: pytorch[23:35:21] /opt/dgl/src/runtime/tensordispatch.cc:43: TensorDispatcher: dlopen failed: /home/mert/miniconda3/envs/thesis_torch/lib/python3.9/site-packages/dgl/tensoradapter/pytorch/libtensoradapter_pytorch_1.10.2.so: cannot open shared object file: No such file or directory\n",
      "\n"
     ]
    }
   ],
   "source": [
    "import dgl\n",
    "import torch\n",
    "import numpy as np\n",
    "import pandas as pd\n",
    "import scipy.sparse as sp\n",
    "\n",
    "from sklearn.preprocessing import StandardScaler\n",
    "\n",
    "pd.options.display.float_format = \"{:,.2f}\".format"
   ]
  },
  {
   "cell_type": "code",
   "execution_count": 6,
   "metadata": {},
   "outputs": [],
   "source": [
    "def data_transform(data, n_window, n_ahead, device=torch.device(\"cpu\")):\n",
    "    \"\"\"\n",
    "    :param data: rows for time indices, columns for locations\n",
    "        currently does not support features\n",
    "    :param n_window: history length\n",
    "    :param n_ahead: next time index to predict\n",
    "    \"\"\"\n",
    "    # produce data slices for training and testing\n",
    "    n_obs, n_loc = data.shape\n",
    "    \n",
    "    num = n_obs - n_window - n_ahead\n",
    "    x = np.zeros([num, 1, n_window, n_loc]) # features might end up being in second dimension\n",
    "    y = np.zeros([num, n_loc])\n",
    "    \n",
    "    count = 0\n",
    "    for start in range(num):\n",
    "        x[count, :, :, :] = data[start: start + n_window].reshape(1, n_window, n_loc)\n",
    "        y[count] = data[start + n_window + n_ahead - 1]\n",
    "        count += 1\n",
    "    return torch.Tensor(x).to(device), torch.Tensor(y).to(device)"
   ]
  },
  {
   "cell_type": "code",
   "execution_count": 9,
   "metadata": {},
   "outputs": [],
   "source": [
    "data = pd.read_parquet(\"../data/processed/outlier_removed.parquet\")"
   ]
  },
  {
   "cell_type": "code",
   "execution_count": 10,
   "metadata": {},
   "outputs": [
    {
     "name": "stdout",
     "output_type": "stream",
     "text": [
      "(2481318, 15)\n",
      "(139778, 15)\n"
     ]
    },
    {
     "data": {
      "text/html": [
       "<div>\n",
       "<style scoped>\n",
       "    .dataframe tbody tr th:only-of-type {\n",
       "        vertical-align: middle;\n",
       "    }\n",
       "\n",
       "    .dataframe tbody tr th {\n",
       "        vertical-align: top;\n",
       "    }\n",
       "\n",
       "    .dataframe thead th {\n",
       "        text-align: right;\n",
       "    }\n",
       "</style>\n",
       "<table border=\"1\" class=\"dataframe\">\n",
       "  <thead>\n",
       "    <tr style=\"text-align: right;\">\n",
       "      <th></th>\n",
       "      <th>forecast_dt</th>\n",
       "      <th>rt_plant_id</th>\n",
       "      <th>production_old</th>\n",
       "      <th>UGRD_80.m.above.ground.SW</th>\n",
       "      <th>UGRD_80.m.above.ground.NW</th>\n",
       "      <th>UGRD_80.m.above.ground.NE</th>\n",
       "      <th>UGRD_80.m.above.ground.SE</th>\n",
       "      <th>VGRD_80.m.above.ground.SW</th>\n",
       "      <th>VGRD_80.m.above.ground.NW</th>\n",
       "      <th>VGRD_80.m.above.ground.NE</th>\n",
       "      <th>VGRD_80.m.above.ground.SE</th>\n",
       "      <th>production_lower</th>\n",
       "      <th>production_upper</th>\n",
       "      <th>is_outlier</th>\n",
       "      <th>production</th>\n",
       "    </tr>\n",
       "  </thead>\n",
       "  <tbody>\n",
       "    <tr>\n",
       "      <th>15502</th>\n",
       "      <td>2020-10-31 01:00:00</td>\n",
       "      <td>672</td>\n",
       "      <td>18.40</td>\n",
       "      <td>3.52</td>\n",
       "      <td>4.65</td>\n",
       "      <td>4.05</td>\n",
       "      <td>5.84</td>\n",
       "      <td>-8.61</td>\n",
       "      <td>-9.67</td>\n",
       "      <td>-7.15</td>\n",
       "      <td>-7.83</td>\n",
       "      <td>0.00</td>\n",
       "      <td>87.50</td>\n",
       "      <td>False</td>\n",
       "      <td>18.40</td>\n",
       "    </tr>\n",
       "    <tr>\n",
       "      <th>15503</th>\n",
       "      <td>2020-10-31 02:00:00</td>\n",
       "      <td>672</td>\n",
       "      <td>18.30</td>\n",
       "      <td>2.82</td>\n",
       "      <td>4.22</td>\n",
       "      <td>4.22</td>\n",
       "      <td>5.62</td>\n",
       "      <td>-8.12</td>\n",
       "      <td>-11.42</td>\n",
       "      <td>-7.12</td>\n",
       "      <td>-8.62</td>\n",
       "      <td>0.00</td>\n",
       "      <td>87.50</td>\n",
       "      <td>False</td>\n",
       "      <td>18.30</td>\n",
       "    </tr>\n",
       "    <tr>\n",
       "      <th>15504</th>\n",
       "      <td>2020-10-31 03:00:00</td>\n",
       "      <td>672</td>\n",
       "      <td>29.20</td>\n",
       "      <td>2.41</td>\n",
       "      <td>5.11</td>\n",
       "      <td>3.11</td>\n",
       "      <td>5.51</td>\n",
       "      <td>-7.89</td>\n",
       "      <td>-9.49</td>\n",
       "      <td>-8.29</td>\n",
       "      <td>-9.89</td>\n",
       "      <td>0.00</td>\n",
       "      <td>87.50</td>\n",
       "      <td>False</td>\n",
       "      <td>29.20</td>\n",
       "    </tr>\n",
       "    <tr>\n",
       "      <th>15505</th>\n",
       "      <td>2020-10-31 04:00:00</td>\n",
       "      <td>672</td>\n",
       "      <td>33.60</td>\n",
       "      <td>2.63</td>\n",
       "      <td>4.33</td>\n",
       "      <td>1.83</td>\n",
       "      <td>4.73</td>\n",
       "      <td>-6.05</td>\n",
       "      <td>-7.85</td>\n",
       "      <td>-7.25</td>\n",
       "      <td>-8.35</td>\n",
       "      <td>0.00</td>\n",
       "      <td>87.50</td>\n",
       "      <td>False</td>\n",
       "      <td>33.60</td>\n",
       "    </tr>\n",
       "    <tr>\n",
       "      <th>15506</th>\n",
       "      <td>2020-10-31 05:00:00</td>\n",
       "      <td>672</td>\n",
       "      <td>20.90</td>\n",
       "      <td>3.94</td>\n",
       "      <td>4.54</td>\n",
       "      <td>2.94</td>\n",
       "      <td>5.34</td>\n",
       "      <td>-5.48</td>\n",
       "      <td>-7.18</td>\n",
       "      <td>-6.48</td>\n",
       "      <td>-6.98</td>\n",
       "      <td>0.00</td>\n",
       "      <td>87.50</td>\n",
       "      <td>False</td>\n",
       "      <td>20.90</td>\n",
       "    </tr>\n",
       "  </tbody>\n",
       "</table>\n",
       "</div>"
      ],
      "text/plain": [
       "              forecast_dt  rt_plant_id  production_old  \\\n",
       "15502 2020-10-31 01:00:00          672           18.40   \n",
       "15503 2020-10-31 02:00:00          672           18.30   \n",
       "15504 2020-10-31 03:00:00          672           29.20   \n",
       "15505 2020-10-31 04:00:00          672           33.60   \n",
       "15506 2020-10-31 05:00:00          672           20.90   \n",
       "\n",
       "       UGRD_80.m.above.ground.SW  UGRD_80.m.above.ground.NW  \\\n",
       "15502                       3.52                       4.65   \n",
       "15503                       2.82                       4.22   \n",
       "15504                       2.41                       5.11   \n",
       "15505                       2.63                       4.33   \n",
       "15506                       3.94                       4.54   \n",
       "\n",
       "       UGRD_80.m.above.ground.NE  UGRD_80.m.above.ground.SE  \\\n",
       "15502                       4.05                       5.84   \n",
       "15503                       4.22                       5.62   \n",
       "15504                       3.11                       5.51   \n",
       "15505                       1.83                       4.73   \n",
       "15506                       2.94                       5.34   \n",
       "\n",
       "       VGRD_80.m.above.ground.SW  VGRD_80.m.above.ground.NW  \\\n",
       "15502                      -8.61                      -9.67   \n",
       "15503                      -8.12                     -11.42   \n",
       "15504                      -7.89                      -9.49   \n",
       "15505                      -6.05                      -7.85   \n",
       "15506                      -5.48                      -7.18   \n",
       "\n",
       "       VGRD_80.m.above.ground.NE  VGRD_80.m.above.ground.SE  production_lower  \\\n",
       "15502                      -7.15                      -7.83              0.00   \n",
       "15503                      -7.12                      -8.62              0.00   \n",
       "15504                      -8.29                      -9.89              0.00   \n",
       "15505                      -7.25                      -8.35              0.00   \n",
       "15506                      -6.48                      -6.98              0.00   \n",
       "\n",
       "       production_upper  is_outlier  production  \n",
       "15502             87.50       False       18.40  \n",
       "15503             87.50       False       18.30  \n",
       "15504             87.50       False       29.20  \n",
       "15505             87.50       False       33.60  \n",
       "15506             87.50       False       20.90  "
      ]
     },
     "execution_count": 10,
     "metadata": {},
     "output_type": "execute_result"
    }
   ],
   "source": [
    "print(data.shape)\n",
    "data = data[(data[\"forecast_dt\"] > \"2020-10-31\") & (data[\"forecast_dt\"] < \"2021-01-01\")]\n",
    "print(data.shape)\n",
    "data.head()"
   ]
  },
  {
   "cell_type": "code",
   "execution_count": 11,
   "metadata": {},
   "outputs": [
    {
     "name": "stdout",
     "output_type": "stream",
     "text": [
      "1487 61.958333333333336\n"
     ]
    }
   ],
   "source": [
    "print(data.forecast_dt.nunique(), data.forecast_dt.nunique() / 24)"
   ]
  },
  {
   "cell_type": "code",
   "execution_count": 12,
   "metadata": {},
   "outputs": [],
   "source": [
    "def generate_adjacency_matrix(df, threshold=0.5):    \n",
    "    data = df[[\"forecast_dt\", \"rt_plant_id\", \"production\"]]\n",
    "    data = pd.pivot_table(data, index=\"forecast_dt\", columns=\"rt_plant_id\", values=\"production\")\n",
    "\n",
    "    A = abs(data.corr())\n",
    "    A = A[A > threshold].fillna(0)\n",
    "    return A"
   ]
  },
  {
   "cell_type": "code",
   "execution_count": null,
   "metadata": {},
   "outputs": [],
   "source": []
  },
  {
   "cell_type": "code",
   "execution_count": 48,
   "metadata": {},
   "outputs": [
    {
     "name": "stdout",
     "output_type": "stream",
     "text": [
      "6186\n",
      "6186\n",
      "6092\n",
      "6092\n",
      "6186\n",
      "6186\n"
     ]
    }
   ],
   "source": [
    "adj = generate_adjacency_matrix(data)\n",
    "sp_mx = sp.coo_matrix(adj)\n",
    "G = dgl.from_scipy(sp_mx, eweight_name=\"weight\")\n",
    "\n",
    "print(len(G.all_edges()[0]))\n",
    "print(len(G.edata[\"weight\"]))\n",
    "\n",
    "G = dgl.remove_self_loop(G)\n",
    "print(len(G.all_edges()[0]))\n",
    "print(len(G.edata[\"weight\"]))\n",
    "\n",
    "G = dgl.add_self_loop(G)\n",
    "print(len(G.all_edges()[0]))\n",
    "print(len(G.edata[\"weight\"]))"
   ]
  },
  {
   "cell_type": "code",
   "execution_count": null,
   "metadata": {},
   "outputs": [],
   "source": []
  },
  {
   "cell_type": "code",
   "execution_count": 16,
   "metadata": {},
   "outputs": [
    {
     "data": {
      "text/html": [
       "<div>\n",
       "<style scoped>\n",
       "    .dataframe tbody tr th:only-of-type {\n",
       "        vertical-align: middle;\n",
       "    }\n",
       "\n",
       "    .dataframe tbody tr th {\n",
       "        vertical-align: top;\n",
       "    }\n",
       "\n",
       "    .dataframe thead th {\n",
       "        text-align: right;\n",
       "    }\n",
       "</style>\n",
       "<table border=\"1\" class=\"dataframe\">\n",
       "  <thead>\n",
       "    <tr style=\"text-align: right;\">\n",
       "      <th></th>\n",
       "      <th>forecast_dt</th>\n",
       "      <th>rt_plant_id</th>\n",
       "      <th>production_old</th>\n",
       "      <th>UGRD_80.m.above.ground.SW</th>\n",
       "      <th>UGRD_80.m.above.ground.NW</th>\n",
       "      <th>UGRD_80.m.above.ground.NE</th>\n",
       "      <th>UGRD_80.m.above.ground.SE</th>\n",
       "      <th>VGRD_80.m.above.ground.SW</th>\n",
       "      <th>VGRD_80.m.above.ground.NW</th>\n",
       "      <th>VGRD_80.m.above.ground.NE</th>\n",
       "      <th>VGRD_80.m.above.ground.SE</th>\n",
       "      <th>production_lower</th>\n",
       "      <th>production_upper</th>\n",
       "      <th>is_outlier</th>\n",
       "      <th>production</th>\n",
       "    </tr>\n",
       "  </thead>\n",
       "  <tbody>\n",
       "    <tr>\n",
       "      <th>15502</th>\n",
       "      <td>2020-10-31 01:00:00</td>\n",
       "      <td>672</td>\n",
       "      <td>18.40</td>\n",
       "      <td>3.52</td>\n",
       "      <td>4.65</td>\n",
       "      <td>4.05</td>\n",
       "      <td>5.84</td>\n",
       "      <td>-8.61</td>\n",
       "      <td>-9.67</td>\n",
       "      <td>-7.15</td>\n",
       "      <td>-7.83</td>\n",
       "      <td>0.00</td>\n",
       "      <td>87.50</td>\n",
       "      <td>False</td>\n",
       "      <td>18.40</td>\n",
       "    </tr>\n",
       "    <tr>\n",
       "      <th>15503</th>\n",
       "      <td>2020-10-31 02:00:00</td>\n",
       "      <td>672</td>\n",
       "      <td>18.30</td>\n",
       "      <td>2.82</td>\n",
       "      <td>4.22</td>\n",
       "      <td>4.22</td>\n",
       "      <td>5.62</td>\n",
       "      <td>-8.12</td>\n",
       "      <td>-11.42</td>\n",
       "      <td>-7.12</td>\n",
       "      <td>-8.62</td>\n",
       "      <td>0.00</td>\n",
       "      <td>87.50</td>\n",
       "      <td>False</td>\n",
       "      <td>18.30</td>\n",
       "    </tr>\n",
       "    <tr>\n",
       "      <th>15504</th>\n",
       "      <td>2020-10-31 03:00:00</td>\n",
       "      <td>672</td>\n",
       "      <td>29.20</td>\n",
       "      <td>2.41</td>\n",
       "      <td>5.11</td>\n",
       "      <td>3.11</td>\n",
       "      <td>5.51</td>\n",
       "      <td>-7.89</td>\n",
       "      <td>-9.49</td>\n",
       "      <td>-8.29</td>\n",
       "      <td>-9.89</td>\n",
       "      <td>0.00</td>\n",
       "      <td>87.50</td>\n",
       "      <td>False</td>\n",
       "      <td>29.20</td>\n",
       "    </tr>\n",
       "    <tr>\n",
       "      <th>15505</th>\n",
       "      <td>2020-10-31 04:00:00</td>\n",
       "      <td>672</td>\n",
       "      <td>33.60</td>\n",
       "      <td>2.63</td>\n",
       "      <td>4.33</td>\n",
       "      <td>1.83</td>\n",
       "      <td>4.73</td>\n",
       "      <td>-6.05</td>\n",
       "      <td>-7.85</td>\n",
       "      <td>-7.25</td>\n",
       "      <td>-8.35</td>\n",
       "      <td>0.00</td>\n",
       "      <td>87.50</td>\n",
       "      <td>False</td>\n",
       "      <td>33.60</td>\n",
       "    </tr>\n",
       "    <tr>\n",
       "      <th>15506</th>\n",
       "      <td>2020-10-31 05:00:00</td>\n",
       "      <td>672</td>\n",
       "      <td>20.90</td>\n",
       "      <td>3.94</td>\n",
       "      <td>4.54</td>\n",
       "      <td>2.94</td>\n",
       "      <td>5.34</td>\n",
       "      <td>-5.48</td>\n",
       "      <td>-7.18</td>\n",
       "      <td>-6.48</td>\n",
       "      <td>-6.98</td>\n",
       "      <td>0.00</td>\n",
       "      <td>87.50</td>\n",
       "      <td>False</td>\n",
       "      <td>20.90</td>\n",
       "    </tr>\n",
       "  </tbody>\n",
       "</table>\n",
       "</div>"
      ],
      "text/plain": [
       "              forecast_dt  rt_plant_id  production_old  \\\n",
       "15502 2020-10-31 01:00:00          672           18.40   \n",
       "15503 2020-10-31 02:00:00          672           18.30   \n",
       "15504 2020-10-31 03:00:00          672           29.20   \n",
       "15505 2020-10-31 04:00:00          672           33.60   \n",
       "15506 2020-10-31 05:00:00          672           20.90   \n",
       "\n",
       "       UGRD_80.m.above.ground.SW  UGRD_80.m.above.ground.NW  \\\n",
       "15502                       3.52                       4.65   \n",
       "15503                       2.82                       4.22   \n",
       "15504                       2.41                       5.11   \n",
       "15505                       2.63                       4.33   \n",
       "15506                       3.94                       4.54   \n",
       "\n",
       "       UGRD_80.m.above.ground.NE  UGRD_80.m.above.ground.SE  \\\n",
       "15502                       4.05                       5.84   \n",
       "15503                       4.22                       5.62   \n",
       "15504                       3.11                       5.51   \n",
       "15505                       1.83                       4.73   \n",
       "15506                       2.94                       5.34   \n",
       "\n",
       "       VGRD_80.m.above.ground.SW  VGRD_80.m.above.ground.NW  \\\n",
       "15502                      -8.61                      -9.67   \n",
       "15503                      -8.12                     -11.42   \n",
       "15504                      -7.89                      -9.49   \n",
       "15505                      -6.05                      -7.85   \n",
       "15506                      -5.48                      -7.18   \n",
       "\n",
       "       VGRD_80.m.above.ground.NE  VGRD_80.m.above.ground.SE  production_lower  \\\n",
       "15502                      -7.15                      -7.83              0.00   \n",
       "15503                      -7.12                      -8.62              0.00   \n",
       "15504                      -8.29                      -9.89              0.00   \n",
       "15505                      -7.25                      -8.35              0.00   \n",
       "15506                      -6.48                      -6.98              0.00   \n",
       "\n",
       "       production_upper  is_outlier  production  \n",
       "15502             87.50       False       18.40  \n",
       "15503             87.50       False       18.30  \n",
       "15504             87.50       False       29.20  \n",
       "15505             87.50       False       33.60  \n",
       "15506             87.50       False       20.90  "
      ]
     },
     "execution_count": 16,
     "metadata": {},
     "output_type": "execute_result"
    }
   ],
   "source": [
    "data.head()"
   ]
  },
  {
   "cell_type": "code",
   "execution_count": 17,
   "metadata": {},
   "outputs": [
    {
     "data": {
      "text/html": [
       "<div>\n",
       "<style scoped>\n",
       "    .dataframe tbody tr th:only-of-type {\n",
       "        vertical-align: middle;\n",
       "    }\n",
       "\n",
       "    .dataframe tbody tr th {\n",
       "        vertical-align: top;\n",
       "    }\n",
       "\n",
       "    .dataframe thead tr th {\n",
       "        text-align: left;\n",
       "    }\n",
       "\n",
       "    .dataframe thead tr:last-of-type th {\n",
       "        text-align: right;\n",
       "    }\n",
       "</style>\n",
       "<table border=\"1\" class=\"dataframe\">\n",
       "  <thead>\n",
       "    <tr>\n",
       "      <th></th>\n",
       "      <th colspan=\"10\" halign=\"left\">UGRD_80.m.above.ground.NE</th>\n",
       "      <th>...</th>\n",
       "      <th colspan=\"10\" halign=\"left\">production</th>\n",
       "    </tr>\n",
       "    <tr>\n",
       "      <th>rt_plant_id</th>\n",
       "      <th>672</th>\n",
       "      <th>749</th>\n",
       "      <th>757</th>\n",
       "      <th>968</th>\n",
       "      <th>969</th>\n",
       "      <th>1194</th>\n",
       "      <th>1459</th>\n",
       "      <th>1460</th>\n",
       "      <th>1472</th>\n",
       "      <th>1484</th>\n",
       "      <th>...</th>\n",
       "      <th>2166</th>\n",
       "      <th>2180</th>\n",
       "      <th>2184</th>\n",
       "      <th>2224</th>\n",
       "      <th>2235</th>\n",
       "      <th>2288</th>\n",
       "      <th>2291</th>\n",
       "      <th>2323</th>\n",
       "      <th>2326</th>\n",
       "      <th>2374</th>\n",
       "    </tr>\n",
       "    <tr>\n",
       "      <th>forecast_dt</th>\n",
       "      <th></th>\n",
       "      <th></th>\n",
       "      <th></th>\n",
       "      <th></th>\n",
       "      <th></th>\n",
       "      <th></th>\n",
       "      <th></th>\n",
       "      <th></th>\n",
       "      <th></th>\n",
       "      <th></th>\n",
       "      <th></th>\n",
       "      <th></th>\n",
       "      <th></th>\n",
       "      <th></th>\n",
       "      <th></th>\n",
       "      <th></th>\n",
       "      <th></th>\n",
       "      <th></th>\n",
       "      <th></th>\n",
       "      <th></th>\n",
       "      <th></th>\n",
       "    </tr>\n",
       "  </thead>\n",
       "  <tbody>\n",
       "    <tr>\n",
       "      <th>2020-10-31 01:00:00</th>\n",
       "      <td>4.05</td>\n",
       "      <td>1.95</td>\n",
       "      <td>1.37</td>\n",
       "      <td>0.45</td>\n",
       "      <td>-0.66</td>\n",
       "      <td>-4.04</td>\n",
       "      <td>1.41</td>\n",
       "      <td>2.57</td>\n",
       "      <td>0.19</td>\n",
       "      <td>-1.68</td>\n",
       "      <td>...</td>\n",
       "      <td>11.00</td>\n",
       "      <td>20.00</td>\n",
       "      <td>0.20</td>\n",
       "      <td>8.47</td>\n",
       "      <td>2.25</td>\n",
       "      <td>3.40</td>\n",
       "      <td>0.55</td>\n",
       "      <td>1.66</td>\n",
       "      <td>12.00</td>\n",
       "      <td>0.80</td>\n",
       "    </tr>\n",
       "    <tr>\n",
       "      <th>2020-10-31 02:00:00</th>\n",
       "      <td>4.22</td>\n",
       "      <td>0.42</td>\n",
       "      <td>3.52</td>\n",
       "      <td>-1.98</td>\n",
       "      <td>-0.08</td>\n",
       "      <td>-3.88</td>\n",
       "      <td>1.42</td>\n",
       "      <td>3.62</td>\n",
       "      <td>-0.08</td>\n",
       "      <td>-1.88</td>\n",
       "      <td>...</td>\n",
       "      <td>11.00</td>\n",
       "      <td>21.00</td>\n",
       "      <td>1.10</td>\n",
       "      <td>8.40</td>\n",
       "      <td>3.32</td>\n",
       "      <td>2.84</td>\n",
       "      <td>1.33</td>\n",
       "      <td>4.06</td>\n",
       "      <td>9.00</td>\n",
       "      <td>0.40</td>\n",
       "    </tr>\n",
       "    <tr>\n",
       "      <th>2020-10-31 03:00:00</th>\n",
       "      <td>3.11</td>\n",
       "      <td>-1.19</td>\n",
       "      <td>2.71</td>\n",
       "      <td>-3.59</td>\n",
       "      <td>-0.39</td>\n",
       "      <td>-2.79</td>\n",
       "      <td>1.21</td>\n",
       "      <td>3.81</td>\n",
       "      <td>-0.29</td>\n",
       "      <td>-1.99</td>\n",
       "      <td>...</td>\n",
       "      <td>15.00</td>\n",
       "      <td>26.00</td>\n",
       "      <td>3.26</td>\n",
       "      <td>5.59</td>\n",
       "      <td>3.10</td>\n",
       "      <td>2.70</td>\n",
       "      <td>1.53</td>\n",
       "      <td>5.07</td>\n",
       "      <td>10.00</td>\n",
       "      <td>1.11</td>\n",
       "    </tr>\n",
       "    <tr>\n",
       "      <th>2020-10-31 04:00:00</th>\n",
       "      <td>1.83</td>\n",
       "      <td>-2.67</td>\n",
       "      <td>0.83</td>\n",
       "      <td>-2.57</td>\n",
       "      <td>-0.57</td>\n",
       "      <td>-3.47</td>\n",
       "      <td>0.93</td>\n",
       "      <td>2.93</td>\n",
       "      <td>-0.27</td>\n",
       "      <td>-2.27</td>\n",
       "      <td>...</td>\n",
       "      <td>25.00</td>\n",
       "      <td>18.00</td>\n",
       "      <td>5.14</td>\n",
       "      <td>8.49</td>\n",
       "      <td>2.98</td>\n",
       "      <td>2.70</td>\n",
       "      <td>1.10</td>\n",
       "      <td>5.81</td>\n",
       "      <td>4.00</td>\n",
       "      <td>1.10</td>\n",
       "    </tr>\n",
       "    <tr>\n",
       "      <th>2020-10-31 05:00:00</th>\n",
       "      <td>2.94</td>\n",
       "      <td>-3.46</td>\n",
       "      <td>0.24</td>\n",
       "      <td>-2.96</td>\n",
       "      <td>-0.36</td>\n",
       "      <td>-3.56</td>\n",
       "      <td>0.34</td>\n",
       "      <td>1.84</td>\n",
       "      <td>0.14</td>\n",
       "      <td>-1.96</td>\n",
       "      <td>...</td>\n",
       "      <td>29.00</td>\n",
       "      <td>17.00</td>\n",
       "      <td>8.42</td>\n",
       "      <td>12.07</td>\n",
       "      <td>4.93</td>\n",
       "      <td>2.11</td>\n",
       "      <td>1.38</td>\n",
       "      <td>7.31</td>\n",
       "      <td>8.00</td>\n",
       "      <td>4.00</td>\n",
       "    </tr>\n",
       "  </tbody>\n",
       "</table>\n",
       "<p>5 rows × 846 columns</p>\n",
       "</div>"
      ],
      "text/plain": [
       "                    UGRD_80.m.above.ground.NE                               \\\n",
       "rt_plant_id                              672   749  757   968   969   1194   \n",
       "forecast_dt                                                                  \n",
       "2020-10-31 01:00:00                      4.05  1.95 1.37  0.45 -0.66 -4.04   \n",
       "2020-10-31 02:00:00                      4.22  0.42 3.52 -1.98 -0.08 -3.88   \n",
       "2020-10-31 03:00:00                      3.11 -1.19 2.71 -3.59 -0.39 -2.79   \n",
       "2020-10-31 04:00:00                      1.83 -2.67 0.83 -2.57 -0.57 -3.47   \n",
       "2020-10-31 05:00:00                      2.94 -3.46 0.24 -2.96 -0.36 -3.56   \n",
       "\n",
       "                                           ... production                   \\\n",
       "rt_plant_id         1459 1460  1472  1484  ...       2166  2180 2184  2224   \n",
       "forecast_dt                                ...                               \n",
       "2020-10-31 01:00:00 1.41 2.57  0.19 -1.68  ...      11.00 20.00 0.20  8.47   \n",
       "2020-10-31 02:00:00 1.42 3.62 -0.08 -1.88  ...      11.00 21.00 1.10  8.40   \n",
       "2020-10-31 03:00:00 1.21 3.81 -0.29 -1.99  ...      15.00 26.00 3.26  5.59   \n",
       "2020-10-31 04:00:00 0.93 2.93 -0.27 -2.27  ...      25.00 18.00 5.14  8.49   \n",
       "2020-10-31 05:00:00 0.34 1.84  0.14 -1.96  ...      29.00 17.00 8.42 12.07   \n",
       "\n",
       "                                                    \n",
       "rt_plant_id         2235 2288 2291 2323  2326 2374  \n",
       "forecast_dt                                         \n",
       "2020-10-31 01:00:00 2.25 3.40 0.55 1.66 12.00 0.80  \n",
       "2020-10-31 02:00:00 3.32 2.84 1.33 4.06  9.00 0.40  \n",
       "2020-10-31 03:00:00 3.10 2.70 1.53 5.07 10.00 1.11  \n",
       "2020-10-31 04:00:00 2.98 2.70 1.10 5.81  4.00 1.10  \n",
       "2020-10-31 05:00:00 4.93 2.11 1.38 7.31  8.00 4.00  \n",
       "\n",
       "[5 rows x 846 columns]"
      ]
     },
     "execution_count": 17,
     "metadata": {},
     "output_type": "execute_result"
    }
   ],
   "source": [
    "weather_cols = [col for col in data.columns if col.startswith((\"VGRD\", \"UGRD\"))]\n",
    "data_pivot = pd.pivot_table(\n",
    "    data[[\"rt_plant_id\", \"forecast_dt\", \"production\", *weather_cols]], \n",
    "    index=\"forecast_dt\", \n",
    "    columns=\"rt_plant_id\", \n",
    "    )\n",
    "data_pivot.head()"
   ]
  },
  {
   "cell_type": "code",
   "execution_count": 50,
   "metadata": {},
   "outputs": [],
   "source": [
    "def data_transform(data, n_window, n_ahead, device=torch.device(\"cpu\")):\n",
    "    \"\"\"\n",
    "    :param data: rows for time indices, columns for locations\n",
    "        currently does not support features\n",
    "    :param n_window: history length\n",
    "    :param n_ahead: next time index to predict\n",
    "    \"\"\"\n",
    "    # produce data slices for training and testing\n",
    "    n_obs, n_loc = data[\"production\"].shape\n",
    "    num = n_obs - n_window - n_ahead + 1\n",
    "    weather_cols = [col for col in data.columns.get_level_values(0).unique() if col != \"production\"]\n",
    "    n_features = len(weather_cols)\n",
    "\n",
    "    x = np.zeros([num, 1, n_window, n_loc]) # features might end up being in second dimension\n",
    "    y = np.zeros([num, n_loc])\n",
    "    f = np.zeros([num, n_features, n_window, n_loc])\n",
    "\n",
    "    count = 0\n",
    "    for start in range(num):\n",
    "        x[count, :, :, :] = data[\"production\"][start: start + n_window].values.reshape(1, n_window, n_loc)\n",
    "        y[count] = data[\"production\"].values[start + n_window + n_ahead - 1]\n",
    "        count += 1\n",
    "\n",
    "    for i in range(n_features):\n",
    "        count = 0\n",
    "        for start in range(num):\n",
    "            f[count, i, :, :] = data[weather_cols[i]][start: start + n_window].values.reshape(1, n_window, n_loc)\n",
    "            count += 1\n",
    "\n",
    "    return torch.Tensor(x).to(device), torch.Tensor(y).to(device), torch.Tensor(f).to(device)"
   ]
  },
  {
   "cell_type": "code",
   "execution_count": 19,
   "metadata": {},
   "outputs": [
    {
     "data": {
      "text/plain": [
       "array([[ 2.23041085,  1.46646812,  1.01582766, ..., -1.18481118,\n",
       "        -0.41548285, -1.23108715],\n",
       "       [ 2.28455863,  0.93781888,  1.90309461, ..., -0.94453275,\n",
       "        -0.65964949, -1.28454367],\n",
       "       [ 1.92633782,  0.3833234 ,  1.56944347, ..., -0.84341558,\n",
       "        -0.57826061, -1.18965835],\n",
       "       ...,\n",
       "       [ 1.02849939,  1.20570154,  0.62496801, ...,  0.96768308,\n",
       "         1.04951701, -0.60297302],\n",
       "       [ 0.96644017,  1.22575281,  0.33910114, ...,  0.90661231,\n",
       "         1.04951701,  0.1988748 ],\n",
       "       [ 1.14976182,  1.17635073,  0.54849252, ...,  1.09382925,\n",
       "         1.04951701,  0.45947534]])"
      ]
     },
     "execution_count": 19,
     "metadata": {},
     "output_type": "execute_result"
    }
   ],
   "source": [
    "scaler = StandardScaler()\n",
    "scaler.fit_transform(data_pivot.values)"
   ]
  },
  {
   "cell_type": "code",
   "execution_count": null,
   "metadata": {},
   "outputs": [],
   "source": []
  },
  {
   "cell_type": "code",
   "execution_count": null,
   "metadata": {},
   "outputs": [],
   "source": []
  },
  {
   "cell_type": "code",
   "execution_count": 22,
   "metadata": {},
   "outputs": [],
   "source": [
    "# 50 -> 2\n",
    "# 50 - 29 + 1 -> 2\n",
    "# 1487 - (48 + 1) + 1 = 1439"
   ]
  },
  {
   "cell_type": "code",
   "execution_count": 20,
   "metadata": {},
   "outputs": [],
   "source": [
    "n_window = 48\n",
    "x, y, f = data_transform(data_pivot, n_window=n_window, n_ahead=1)"
   ]
  },
  {
   "cell_type": "code",
   "execution_count": 21,
   "metadata": {},
   "outputs": [
    {
     "data": {
      "text/plain": [
       "(torch.Size([1439, 1, 48, 94]),\n",
       " torch.Size([1439, 94]),\n",
       " torch.Size([1439, 8, 48, 94]))"
      ]
     },
     "execution_count": 21,
     "metadata": {},
     "output_type": "execute_result"
    }
   ],
   "source": [
    "x.shape, y.shape, f.shape"
   ]
  },
  {
   "cell_type": "code",
   "execution_count": 48,
   "metadata": {},
   "outputs": [],
   "source": [
    "\n"
   ]
  },
  {
   "cell_type": "code",
   "execution_count": 23,
   "metadata": {},
   "outputs": [
    {
     "name": "stdout",
     "output_type": "stream",
     "text": [
      "True\n",
      "True\n",
      "True\n",
      "True\n"
     ]
    }
   ],
   "source": [
    "# first\n",
    "i = 0 \n",
    "print(np.isclose(x[i].reshape(-1, 94).cpu().numpy(), data_pivot[\"production\"].iloc[i:i+n_window].values).all())\n",
    "print(np.isclose(y[i].reshape(-1, 94).cpu().numpy(), data_pivot[\"production\"].iloc[i+n_window].values).all())\n",
    "\n",
    "# last\n",
    "i = data_pivot.shape[0] - 48 - 1 \n",
    "print(np.isclose(x[i].reshape(-1, 94).cpu().numpy(), data_pivot[\"production\"].iloc[i:i+n_window].values).all())\n",
    "print(np.isclose(y[i].reshape(-1, 94).cpu().numpy(), data_pivot[\"production\"].iloc[i+n_window].values).all())"
   ]
  },
  {
   "cell_type": "code",
   "execution_count": 79,
   "metadata": {},
   "outputs": [],
   "source": [
    "# scaler = StandardScaler()\n",
    "# scaler.fit_transform(x)"
   ]
  },
  {
   "cell_type": "code",
   "execution_count": null,
   "metadata": {},
   "outputs": [],
   "source": []
  },
  {
   "cell_type": "code",
   "execution_count": 24,
   "metadata": {},
   "outputs": [
    {
     "name": "stdout",
     "output_type": "stream",
     "text": [
      "torch.Size([1439, 1, 48, 94]) torch.Size([1439, 94]) torch.Size([1439, 8, 48, 94])\n",
      "torch.Size([1295, 1, 48, 94]) torch.Size([1295, 94]) torch.Size([1295, 8, 48, 94])\n",
      "torch.Size([144, 1, 48, 94]) torch.Size([144, 94]) torch.Size([144, 8, 48, 94])\n"
     ]
    }
   ],
   "source": [
    "print(x.shape, y.shape, f.shape)\n",
    "\n",
    "train_ratio = 0.9\n",
    "val_ratio = 0.1\n",
    "\n",
    "len_val = round(x.shape[0] * val_ratio)\n",
    "len_train = round(x.shape[0] * train_ratio)\n",
    "\n",
    "x_train = x[:len_train]\n",
    "y_train = y[:len_train]\n",
    "f_train = f[:len_train]\n",
    "\n",
    "x_val = x[len_train:len_train + len_val]\n",
    "y_val = y[len_train:len_train + len_val]\n",
    "f_val = f[len_train:len_train + len_val]\n",
    "\n",
    "print(x_train.shape, y_train.shape, f_train.shape)\n",
    "print(x_val.shape, y_val.shape, f_val.shape)\n"
   ]
  },
  {
   "cell_type": "code",
   "execution_count": null,
   "metadata": {},
   "outputs": [],
   "source": [
    "# train_ratio = 0.9\n",
    "# val_ratio = 0.099\n",
    "# len_val = round(num_samples * val_ratio)\n",
    "# len_train = round(num_samples * train_ratio)\n",
    "\n",
    "# train_indices = [_ for _ in range(len_train)]\n",
    "# val_indices = [len_train + _ for _ in range(len_val)]\n",
    "# test_indices = [_ for _ in range(len(df)) if _ not in train_indices + val_indices]\n",
    "\n",
    "# train = df[train_indices]\n",
    "# val = df[val_indices]\n",
    "# test = df[test_indices]\n",
    "\n",
    "# print(len(train), len(val), len(test))\n",
    "\n",
    "# scaler = StandardScaler()\n",
    "# train = scaler.fit_transform(train)\n",
    "# val = scaler.transform(val)\n",
    "# test = scaler.transform(test)"
   ]
  },
  {
   "cell_type": "code",
   "execution_count": null,
   "metadata": {},
   "outputs": [],
   "source": [
    "# df[val_indices]\n",
    "\n",
    "# df_.iloc[val_indices]\n",
    "\n",
    "# df_.iloc[train_indices + val_indices]\n",
    "\n",
    "# pd.DataFrame(scaler.inverse_transform(train))\n",
    "\n",
    "# plt.plot(np.append(train[:, 0], val[:, 0]))\n",
    "\n",
    "# plt.plot(df[train_indices + val_indices, 0])"
   ]
  },
  {
   "cell_type": "code",
   "execution_count": null,
   "metadata": {},
   "outputs": [],
   "source": [
    "# plant_id = 0\n",
    "# df_.iloc[train_indices + val_indices, plant_id].plot(figsize=(20,10))\n",
    "# # draw vertical line at the end of training period\n",
    "# plt.axvline(x=df_.index[len_train], color=\"red\")\n",
    "# plt.title(rev_plant_mapping.get(plant_id))\n"
   ]
  },
  {
   "cell_type": "code",
   "execution_count": 89,
   "metadata": {},
   "outputs": [],
   "source": [
    "# n_window, n_ahead = 2 * 24, 1\n",
    "# x_train, y_train = data_transform(train, n_window, n_ahead)\n",
    "# x_val, y_val = data_transform(val, n_window, n_ahead)\n",
    "# # x_test, y_test = data_transform(test, n_window, n_ahead)"
   ]
  },
  {
   "cell_type": "code",
   "execution_count": null,
   "metadata": {},
   "outputs": [],
   "source": []
  },
  {
   "cell_type": "code",
   "execution_count": 25,
   "metadata": {},
   "outputs": [],
   "source": [
    "batch_size = 50\n",
    "train_data = torch.utils.data.TensorDataset(x_train, y_train)\n",
    "train_iter = torch.utils.data.DataLoader(train_data, batch_size)\n",
    "val_data = torch.utils.data.TensorDataset(x_val, y_val)\n",
    "val_iter = torch.utils.data.DataLoader(val_data, batch_size)\n",
    "# test_data = torch.utils.data.TensorDataset(x_test, y_test)\n",
    "# test_iter = torch.utils.data.DataLoader(test_data, batch_size)"
   ]
  },
  {
   "cell_type": "code",
   "execution_count": 26,
   "metadata": {},
   "outputs": [],
   "source": [
    "import math\n",
    "import torch\n",
    "import torch.nn as nn\n",
    "import torch.nn.functional as F\n",
    "from dgl.nn.pytorch import GraphConv\n",
    "\n",
    "class TemporalConvLayer(nn.Module):\n",
    "    ''' Temporal convolution layer.\n",
    "    \n",
    "    arguments\n",
    "    ---------\n",
    "    c_in : int\n",
    "        The number of input channels (features)\n",
    "    c_out : int\n",
    "        The number of output channels (features)\n",
    "    dia : int\n",
    "        The dilation size\n",
    "    '''\n",
    "    def __init__(self, c_in, c_out, dia = 1):\n",
    "        super(TemporalConvLayer, self).__init__()\n",
    "        self.c_out = c_out\n",
    "        self.c_in = c_in\n",
    "        self.conv = nn.Conv2d(c_in, c_out, (2, 1), 1, dilation = dia, padding = (0,0))\n",
    "\n",
    "\n",
    "    def forward(self, x):\n",
    "        return torch.relu(self.conv(x))\n",
    "\n",
    "\n",
    "class SpatioConvLayer(nn.Module):\n",
    "    def __init__(self, c, Lk): # c : hidden dimension Lk: graph matrix\n",
    "        super(SpatioConvLayer, self).__init__()\n",
    "        self.g = Lk\n",
    "        self.gc = GraphConv(c, c, activation=F.relu)\n",
    "\n",
    "    def init(self):\n",
    "        stdv = 1. / math.sqrt(self.W.weight.size(1))\n",
    "        self.W.weight.data.uniform_(-stdv, stdv)\n",
    "\n",
    "    def forward(self, x):\n",
    "        x = x.transpose(0, 3)\n",
    "        x = x.transpose(1, 3)\n",
    "        output = self.gc(self.g, x)\n",
    "        output = output.transpose(1, 3)\n",
    "        output = output.transpose(0, 3)\n",
    "        return torch.relu(output)\n",
    "\n",
    "class FullyConvLayer(nn.Module):\n",
    "    def __init__(self, c):\n",
    "        super(FullyConvLayer, self).__init__()\n",
    "        self.conv = nn.Conv2d(c, 1, 1)\n",
    "\n",
    "    def forward(self, x):\n",
    "        return self.conv(x)\n",
    "\n",
    "class OutputLayer(nn.Module):\n",
    "    def __init__(self, c, T, n):\n",
    "        super(OutputLayer, self).__init__()\n",
    "        self.tconv1 = nn.Conv2d(c, c, (T, 1), 1, dilation = 1, padding = (0,0))\n",
    "        self.ln = nn.LayerNorm([n, c])\n",
    "        self.tconv2 = nn.Conv2d(c, c, (1, 1), 1, dilation = 1, padding = (0,0))\n",
    "        self.fc = FullyConvLayer(c)\n",
    "\n",
    "    def forward(self, x):\n",
    "        x_t1 = self.tconv1(x)\n",
    "        x_ln = self.ln(x_t1.permute(0, 2, 3, 1)).permute(0, 3, 1, 2)\n",
    "        x_t2 = self.tconv2(x_ln)\n",
    "        return self.fc(x_t2)\n",
    "\n",
    "class STGCN_WAVE(nn.Module):\n",
    "    def __init__(self, c, T, n, Lk, device=torch.device(\"cpu\"), control_str='TNTSTNTST'):\n",
    "        super(STGCN_WAVE, self).__init__()\n",
    "        self.control_str = control_str\n",
    "        self.num_layers = len(control_str)\n",
    "        self.layers = nn.ModuleList([])\n",
    "        cnt = 0\n",
    "        diapower = 0\n",
    "        for i in range(self.num_layers):\n",
    "            i_layer = control_str[i]\n",
    "            if i_layer == 'T': # Temporal Layer\n",
    "                self.layers.append(TemporalConvLayer(c[cnt], c[cnt + 1], dia = 2**diapower))\n",
    "                diapower += 1\n",
    "                cnt += 1\n",
    "            if i_layer == 'S': # Spatio Layer\n",
    "                self.layers.append(SpatioConvLayer(c[cnt], Lk))\n",
    "            if i_layer == 'N': # Norm Layer\n",
    "                self.layers.append(nn.LayerNorm([n,c[cnt]]))\n",
    "        self.output = OutputLayer(c[cnt], T + 1 - 2**(diapower), n)\n",
    "        for layer in self.layers:\n",
    "            layer = layer.to(device)\n",
    "    \n",
    "    def forward(self, x):\n",
    "        for i in range(self.num_layers):\n",
    "            i_layer = self.control_str[i]\n",
    "            if i_layer == 'N':\n",
    "                x = self.layers[i](x.permute(0, 2, 3, 1)).permute(0, 3, 1, 2)  \n",
    "            else:\n",
    "                x = self.layers[i](x)\n",
    "        return self.output(x)"
   ]
  },
  {
   "cell_type": "code",
   "execution_count": 31,
   "metadata": {},
   "outputs": [],
   "source": [
    "blocks = [1, 16, 32, 64, 32, 128]\n",
    "lr = 0.001\n",
    "num_nodes = 94\n",
    "\n",
    "loss = nn.MSELoss()\n",
    "device=torch.device(\"cpu\")\n",
    "G = G.to(device)\n",
    "model = STGCN_WAVE(blocks, n_window, num_nodes, G).to(device)\n",
    "\n",
    "optimizer = torch.optim.RMSprop(model.parameters(), lr=lr)\n",
    "\n",
    "scheduler = torch.optim.lr_scheduler.StepLR(optimizer, step_size=5, gamma=0.7)"
   ]
  },
  {
   "cell_type": "code",
   "execution_count": 32,
   "metadata": {},
   "outputs": [],
   "source": [
    "save_path = \"stgcnwavemodel.pt\"\n",
    "epochs = 5\n",
    "\n",
    "def evaluate_model(model, loss, data_iter):\n",
    "    model.eval()\n",
    "    l_sum, n = 0.0, 0\n",
    "    with torch.no_grad():\n",
    "        for x, y in data_iter:\n",
    "            y_pred = model(x).view(len(x), -1)\n",
    "            l = loss(y_pred, y)\n",
    "            l_sum += l.item() * y.shape[0]\n",
    "            n += y.shape[0]\n",
    "        return l_sum / n\n",
    "\n",
    "\n",
    "def evaluate_metric(model, data_iter, scaler):\n",
    "    model.eval()\n",
    "    with torch.no_grad():\n",
    "        mae, mape, mse = [], [], []\n",
    "        for x, y in data_iter:\n",
    "            y = scaler.inverse_transform(y.cpu().numpy()).reshape(-1)\n",
    "            y_pred = scaler.inverse_transform(model(x).view(len(x), -1).cpu().numpy()).reshape(-1)\n",
    "            d = np.abs(y - y_pred)\n",
    "            mae += d.tolist()\n",
    "            mape += (d / y).tolist()\n",
    "            mse += (d ** 2).tolist()\n",
    "        MAE = np.array(mae).mean()\n",
    "        MAPE = np.array(mape).mean()\n",
    "        RMSE = np.sqrt(np.array(mse).mean())\n",
    "        return MAE, MAPE, RMSE"
   ]
  },
  {
   "cell_type": "code",
   "execution_count": 33,
   "metadata": {},
   "outputs": [],
   "source": [
    "from time import time\n",
    "min_val_loss = np.inf"
   ]
  },
  {
   "cell_type": "code",
   "execution_count": 34,
   "metadata": {},
   "outputs": [
    {
     "name": "stderr",
     "output_type": "stream",
     "text": [
      "/home/mert/miniconda3/envs/thesis_torch/lib/python3.9/site-packages/torch/autocast_mode.py:141: UserWarning: User provided device_type of 'cuda', but CUDA is not available. Disabling\n",
      "  warnings.warn('User provided device_type of \\'cuda\\', but CUDA is not available. Disabling')\n"
     ]
    },
    {
     "name": "stdout",
     "output_type": "stream",
     "text": [
      "epoch 1 , time: 22.76 , train loss: 754.5783408617881 , validation loss: 917.2060860527886\n",
      "epoch 2 , time: 23.18 , train loss: 682.3176132850205 , validation loss: 862.1371409098307\n",
      "epoch 3 , time: 24.74 , train loss: 655.1492501630746 , validation loss: 815.3544879489475\n",
      "epoch 4 , time: 22.13 , train loss: 660.7566589591125 , validation loss: 780.3645341661241\n",
      "epoch 5 , time: 22.1 , train loss: 601.3744014312862 , validation loss: 738.1640057033962\n"
     ]
    }
   ],
   "source": [
    "for epoch in range(1, epochs + 1):\n",
    "    l_sum, n = 0.0, 0\n",
    "    model.train()\n",
    "    t_ = time()\n",
    "    for x, y in train_iter:\n",
    "        y_pred = model(x).view(len(x), -1)\n",
    "        l = loss(y_pred, y)\n",
    "        optimizer.zero_grad()\n",
    "        l.backward()\n",
    "        optimizer.step()\n",
    "        l_sum += l.item() * y.shape[0]\n",
    "        n += y.shape[0]\n",
    "    scheduler.step()\n",
    "    val_loss = evaluate_model(model, loss, val_iter)\n",
    "    if val_loss < min_val_loss:\n",
    "        min_val_loss = val_loss\n",
    "        torch.save(model.state_dict(), save_path)\n",
    "    print(\"epoch\", epoch, \", time:\", round(time() - t_, 2),  \", train loss:\", l_sum / n, \", validation loss:\", val_loss)\n",
    "\n",
    "    "
   ]
  },
  {
   "cell_type": "code",
   "execution_count": 98,
   "metadata": {},
   "outputs": [],
   "source": [
    "# adj matrixi train datadan oluştur"
   ]
  },
  {
   "cell_type": "code",
   "execution_count": 35,
   "metadata": {},
   "outputs": [
    {
     "data": {
      "text/plain": [
       "<All keys matched successfully>"
      ]
     },
     "execution_count": 35,
     "metadata": {},
     "output_type": "execute_result"
    }
   ],
   "source": [
    "best_model = STGCN_WAVE(blocks, n_window, num_nodes, G).to(device)\n",
    "best_model.load_state_dict(torch.load(save_path))"
   ]
  },
  {
   "cell_type": "code",
   "execution_count": null,
   "metadata": {},
   "outputs": [],
   "source": []
  },
  {
   "cell_type": "code",
   "execution_count": 36,
   "metadata": {},
   "outputs": [
    {
     "ename": "ValueError",
     "evalue": "operands could not be broadcast together with shapes (50,94) (846,) (50,94) ",
     "output_type": "error",
     "traceback": [
      "\u001b[0;31m---------------------------------------------------------------------------\u001b[0m",
      "\u001b[0;31mValueError\u001b[0m                                Traceback (most recent call last)",
      "\u001b[0;32m/tmp/ipykernel_72974/847474571.py\u001b[0m in \u001b[0;36m<module>\u001b[0;34m\u001b[0m\n\u001b[1;32m      1\u001b[0m \u001b[0ml\u001b[0m \u001b[0;34m=\u001b[0m \u001b[0mevaluate_model\u001b[0m\u001b[0;34m(\u001b[0m\u001b[0mbest_model\u001b[0m\u001b[0;34m,\u001b[0m \u001b[0mloss\u001b[0m\u001b[0;34m,\u001b[0m \u001b[0mval_iter\u001b[0m\u001b[0;34m)\u001b[0m\u001b[0;34m\u001b[0m\u001b[0;34m\u001b[0m\u001b[0m\n\u001b[0;32m----> 2\u001b[0;31m \u001b[0mMAE\u001b[0m\u001b[0;34m,\u001b[0m \u001b[0mMAPE\u001b[0m\u001b[0;34m,\u001b[0m \u001b[0mRMSE\u001b[0m \u001b[0;34m=\u001b[0m \u001b[0mevaluate_metric\u001b[0m\u001b[0;34m(\u001b[0m\u001b[0mbest_model\u001b[0m\u001b[0;34m,\u001b[0m \u001b[0mval_iter\u001b[0m\u001b[0;34m,\u001b[0m \u001b[0mscaler\u001b[0m\u001b[0;34m)\u001b[0m\u001b[0;34m\u001b[0m\u001b[0;34m\u001b[0m\u001b[0m\n\u001b[0m\u001b[1;32m      3\u001b[0m \u001b[0mprint\u001b[0m\u001b[0;34m(\u001b[0m\u001b[0;34m\"test loss:\"\u001b[0m\u001b[0;34m,\u001b[0m \u001b[0ml\u001b[0m\u001b[0;34m,\u001b[0m \u001b[0;34m\"\\nMAE:\"\u001b[0m\u001b[0;34m,\u001b[0m \u001b[0mMAE\u001b[0m\u001b[0;34m,\u001b[0m \u001b[0;34m\", MAPE:\"\u001b[0m\u001b[0;34m,\u001b[0m \u001b[0mMAPE\u001b[0m\u001b[0;34m,\u001b[0m \u001b[0;34m\", RMSE:\"\u001b[0m\u001b[0;34m,\u001b[0m \u001b[0mRMSE\u001b[0m\u001b[0;34m)\u001b[0m\u001b[0;34m\u001b[0m\u001b[0;34m\u001b[0m\u001b[0m\n",
      "\u001b[0;32m/tmp/ipykernel_72974/3860118275.py\u001b[0m in \u001b[0;36mevaluate_metric\u001b[0;34m(model, data_iter, scaler)\u001b[0m\n\u001b[1;32m     19\u001b[0m         \u001b[0mmae\u001b[0m\u001b[0;34m,\u001b[0m \u001b[0mmape\u001b[0m\u001b[0;34m,\u001b[0m \u001b[0mmse\u001b[0m \u001b[0;34m=\u001b[0m \u001b[0;34m[\u001b[0m\u001b[0;34m]\u001b[0m\u001b[0;34m,\u001b[0m \u001b[0;34m[\u001b[0m\u001b[0;34m]\u001b[0m\u001b[0;34m,\u001b[0m \u001b[0;34m[\u001b[0m\u001b[0;34m]\u001b[0m\u001b[0;34m\u001b[0m\u001b[0;34m\u001b[0m\u001b[0m\n\u001b[1;32m     20\u001b[0m         \u001b[0;32mfor\u001b[0m \u001b[0mx\u001b[0m\u001b[0;34m,\u001b[0m \u001b[0my\u001b[0m \u001b[0;32min\u001b[0m \u001b[0mdata_iter\u001b[0m\u001b[0;34m:\u001b[0m\u001b[0;34m\u001b[0m\u001b[0;34m\u001b[0m\u001b[0m\n\u001b[0;32m---> 21\u001b[0;31m             \u001b[0my\u001b[0m \u001b[0;34m=\u001b[0m \u001b[0mscaler\u001b[0m\u001b[0;34m.\u001b[0m\u001b[0minverse_transform\u001b[0m\u001b[0;34m(\u001b[0m\u001b[0my\u001b[0m\u001b[0;34m.\u001b[0m\u001b[0mcpu\u001b[0m\u001b[0;34m(\u001b[0m\u001b[0;34m)\u001b[0m\u001b[0;34m.\u001b[0m\u001b[0mnumpy\u001b[0m\u001b[0;34m(\u001b[0m\u001b[0;34m)\u001b[0m\u001b[0;34m)\u001b[0m\u001b[0;34m.\u001b[0m\u001b[0mreshape\u001b[0m\u001b[0;34m(\u001b[0m\u001b[0;34m-\u001b[0m\u001b[0;36m1\u001b[0m\u001b[0;34m)\u001b[0m\u001b[0;34m\u001b[0m\u001b[0;34m\u001b[0m\u001b[0m\n\u001b[0m\u001b[1;32m     22\u001b[0m             \u001b[0my_pred\u001b[0m \u001b[0;34m=\u001b[0m \u001b[0mscaler\u001b[0m\u001b[0;34m.\u001b[0m\u001b[0minverse_transform\u001b[0m\u001b[0;34m(\u001b[0m\u001b[0mmodel\u001b[0m\u001b[0;34m(\u001b[0m\u001b[0mx\u001b[0m\u001b[0;34m)\u001b[0m\u001b[0;34m.\u001b[0m\u001b[0mview\u001b[0m\u001b[0;34m(\u001b[0m\u001b[0mlen\u001b[0m\u001b[0;34m(\u001b[0m\u001b[0mx\u001b[0m\u001b[0;34m)\u001b[0m\u001b[0;34m,\u001b[0m \u001b[0;34m-\u001b[0m\u001b[0;36m1\u001b[0m\u001b[0;34m)\u001b[0m\u001b[0;34m.\u001b[0m\u001b[0mcpu\u001b[0m\u001b[0;34m(\u001b[0m\u001b[0;34m)\u001b[0m\u001b[0;34m.\u001b[0m\u001b[0mnumpy\u001b[0m\u001b[0;34m(\u001b[0m\u001b[0;34m)\u001b[0m\u001b[0;34m)\u001b[0m\u001b[0;34m.\u001b[0m\u001b[0mreshape\u001b[0m\u001b[0;34m(\u001b[0m\u001b[0;34m-\u001b[0m\u001b[0;36m1\u001b[0m\u001b[0;34m)\u001b[0m\u001b[0;34m\u001b[0m\u001b[0;34m\u001b[0m\u001b[0m\n\u001b[1;32m     23\u001b[0m             \u001b[0md\u001b[0m \u001b[0;34m=\u001b[0m \u001b[0mnp\u001b[0m\u001b[0;34m.\u001b[0m\u001b[0mabs\u001b[0m\u001b[0;34m(\u001b[0m\u001b[0my\u001b[0m \u001b[0;34m-\u001b[0m \u001b[0my_pred\u001b[0m\u001b[0;34m)\u001b[0m\u001b[0;34m\u001b[0m\u001b[0;34m\u001b[0m\u001b[0m\n",
      "\u001b[0;32m~/miniconda3/envs/thesis_torch/lib/python3.9/site-packages/sklearn/preprocessing/_data.py\u001b[0m in \u001b[0;36minverse_transform\u001b[0;34m(self, X, copy)\u001b[0m\n\u001b[1;32m   1033\u001b[0m         \u001b[0;32melse\u001b[0m\u001b[0;34m:\u001b[0m\u001b[0;34m\u001b[0m\u001b[0;34m\u001b[0m\u001b[0m\n\u001b[1;32m   1034\u001b[0m             \u001b[0;32mif\u001b[0m \u001b[0mself\u001b[0m\u001b[0;34m.\u001b[0m\u001b[0mwith_std\u001b[0m\u001b[0;34m:\u001b[0m\u001b[0;34m\u001b[0m\u001b[0;34m\u001b[0m\u001b[0m\n\u001b[0;32m-> 1035\u001b[0;31m                 \u001b[0mX\u001b[0m \u001b[0;34m*=\u001b[0m \u001b[0mself\u001b[0m\u001b[0;34m.\u001b[0m\u001b[0mscale_\u001b[0m\u001b[0;34m\u001b[0m\u001b[0;34m\u001b[0m\u001b[0m\n\u001b[0m\u001b[1;32m   1036\u001b[0m             \u001b[0;32mif\u001b[0m \u001b[0mself\u001b[0m\u001b[0;34m.\u001b[0m\u001b[0mwith_mean\u001b[0m\u001b[0;34m:\u001b[0m\u001b[0;34m\u001b[0m\u001b[0;34m\u001b[0m\u001b[0m\n\u001b[1;32m   1037\u001b[0m                 \u001b[0mX\u001b[0m \u001b[0;34m+=\u001b[0m \u001b[0mself\u001b[0m\u001b[0;34m.\u001b[0m\u001b[0mmean_\u001b[0m\u001b[0;34m\u001b[0m\u001b[0;34m\u001b[0m\u001b[0m\n",
      "\u001b[0;31mValueError\u001b[0m: operands could not be broadcast together with shapes (50,94) (846,) (50,94) "
     ]
    }
   ],
   "source": [
    "l = evaluate_model(best_model, loss, val_iter)\n",
    "MAE, MAPE, RMSE = evaluate_metric(best_model, val_iter, scaler)\n",
    "print(\"test loss:\", l, \"\\nMAE:\", MAE, \", MAPE:\", MAPE, \", RMSE:\", RMSE)"
   ]
  },
  {
   "cell_type": "code",
   "execution_count": 37,
   "metadata": {},
   "outputs": [
    {
     "data": {
      "text/plain": [
       "423.0"
      ]
     },
     "execution_count": 37,
     "metadata": {},
     "output_type": "execute_result"
    }
   ],
   "source": [
    "846 / 2"
   ]
  },
  {
   "cell_type": "code",
   "execution_count": 38,
   "metadata": {},
   "outputs": [
    {
     "data": {
      "text/plain": [
       "141.0"
      ]
     },
     "execution_count": 38,
     "metadata": {},
     "output_type": "execute_result"
    }
   ],
   "source": [
    "423 / 3"
   ]
  },
  {
   "cell_type": "code",
   "execution_count": null,
   "metadata": {},
   "outputs": [],
   "source": []
  },
  {
   "cell_type": "code",
   "execution_count": 39,
   "metadata": {},
   "outputs": [],
   "source": [
    "import matplotlib.pyplot as plt"
   ]
  },
  {
   "cell_type": "code",
   "execution_count": 40,
   "metadata": {},
   "outputs": [],
   "source": [
    "def plot(y, y_pred, i=0):\n",
    "    y_pred = scaler.inverse_transform(y_pred.cpu().numpy())\n",
    "    y = scaler.inverse_transform(y.cpu().numpy())\n",
    "    plt.plot(y[:, i], label=\"y\")\n",
    "    plt.plot(y_pred[:, i], label=\"y_pred\")\n",
    "    plt.legend()\n",
    "    plt.show()"
   ]
  },
  {
   "cell_type": "code",
   "execution_count": 41,
   "metadata": {},
   "outputs": [],
   "source": [
    "def plot_pred(model, data_iter, plant_id=0):\n",
    "    model.eval()\n",
    "    with torch.no_grad():\n",
    "        x, y = list(data_iter)[0]\n",
    "        y_pred = model(x).view(len(x), -1)\n",
    "    y_pred = scaler.inverse_transform(y_pred.cpu().numpy())\n",
    "    y = scaler.inverse_transform(y.cpu().numpy())\n",
    "    plt.plot(y[:, plant_id], label=\"y\")\n",
    "    plt.plot(y_pred[:, plant_id], label=\"y_pred\")\n",
    "    plt.legend()\n",
    "    plt.show()"
   ]
  },
  {
   "cell_type": "code",
   "execution_count": 42,
   "metadata": {},
   "outputs": [
    {
     "name": "stdout",
     "output_type": "stream",
     "text": [
      "0 torch.Size([50, 1, 48, 94]) torch.Size([50, 94])\n",
      "1 torch.Size([50, 1, 48, 94]) torch.Size([50, 94])\n",
      "2 torch.Size([50, 1, 48, 94]) torch.Size([50, 94])\n",
      "3 torch.Size([50, 1, 48, 94]) torch.Size([50, 94])\n",
      "4 torch.Size([50, 1, 48, 94]) torch.Size([50, 94])\n",
      "5 torch.Size([50, 1, 48, 94]) torch.Size([50, 94])\n",
      "6 torch.Size([50, 1, 48, 94]) torch.Size([50, 94])\n",
      "7 torch.Size([50, 1, 48, 94]) torch.Size([50, 94])\n",
      "8 torch.Size([50, 1, 48, 94]) torch.Size([50, 94])\n",
      "9 torch.Size([50, 1, 48, 94]) torch.Size([50, 94])\n",
      "10 torch.Size([50, 1, 48, 94]) torch.Size([50, 94])\n",
      "11 torch.Size([50, 1, 48, 94]) torch.Size([50, 94])\n",
      "12 torch.Size([50, 1, 48, 94]) torch.Size([50, 94])\n",
      "13 torch.Size([50, 1, 48, 94]) torch.Size([50, 94])\n",
      "14 torch.Size([50, 1, 48, 94]) torch.Size([50, 94])\n",
      "15 torch.Size([50, 1, 48, 94]) torch.Size([50, 94])\n",
      "16 torch.Size([50, 1, 48, 94]) torch.Size([50, 94])\n",
      "17 torch.Size([50, 1, 48, 94]) torch.Size([50, 94])\n",
      "18 torch.Size([50, 1, 48, 94]) torch.Size([50, 94])\n",
      "19 torch.Size([50, 1, 48, 94]) torch.Size([50, 94])\n",
      "20 torch.Size([50, 1, 48, 94]) torch.Size([50, 94])\n",
      "21 torch.Size([50, 1, 48, 94]) torch.Size([50, 94])\n",
      "22 torch.Size([50, 1, 48, 94]) torch.Size([50, 94])\n",
      "23 torch.Size([50, 1, 48, 94]) torch.Size([50, 94])\n",
      "24 torch.Size([50, 1, 48, 94]) torch.Size([50, 94])\n",
      "25 torch.Size([45, 1, 48, 94]) torch.Size([45, 94])\n",
      "0 torch.Size([50, 1, 48, 94]) torch.Size([50, 94])\n",
      "1 torch.Size([50, 1, 48, 94]) torch.Size([50, 94])\n",
      "2 torch.Size([44, 1, 48, 94]) torch.Size([44, 94])\n"
     ]
    }
   ],
   "source": [
    "for i, t in enumerate(train_iter):\n",
    "    print(i, t[0].shape, t[1].shape)\n",
    "\n",
    "for i, t in enumerate(val_iter):\n",
    "    print(i, t[0].shape, t[1].shape)"
   ]
  },
  {
   "cell_type": "code",
   "execution_count": 43,
   "metadata": {},
   "outputs": [
    {
     "ename": "ValueError",
     "evalue": "operands could not be broadcast together with shapes (50,94) (846,) (50,94) ",
     "output_type": "error",
     "traceback": [
      "\u001b[0;31m---------------------------------------------------------------------------\u001b[0m",
      "\u001b[0;31mValueError\u001b[0m                                Traceback (most recent call last)",
      "\u001b[0;32m/tmp/ipykernel_72974/2890510507.py\u001b[0m in \u001b[0;36m<module>\u001b[0;34m\u001b[0m\n\u001b[0;32m----> 1\u001b[0;31m \u001b[0mplot_pred\u001b[0m\u001b[0;34m(\u001b[0m\u001b[0mbest_model\u001b[0m\u001b[0;34m,\u001b[0m \u001b[0mtrain_iter\u001b[0m\u001b[0;34m,\u001b[0m \u001b[0mplant_id\u001b[0m\u001b[0;34m=\u001b[0m\u001b[0;36m4\u001b[0m\u001b[0;34m)\u001b[0m\u001b[0;34m\u001b[0m\u001b[0;34m\u001b[0m\u001b[0m\n\u001b[0m",
      "\u001b[0;32m/tmp/ipykernel_72974/3406706740.py\u001b[0m in \u001b[0;36mplot_pred\u001b[0;34m(model, data_iter, plant_id)\u001b[0m\n\u001b[1;32m      4\u001b[0m         \u001b[0mx\u001b[0m\u001b[0;34m,\u001b[0m \u001b[0my\u001b[0m \u001b[0;34m=\u001b[0m \u001b[0mlist\u001b[0m\u001b[0;34m(\u001b[0m\u001b[0mdata_iter\u001b[0m\u001b[0;34m)\u001b[0m\u001b[0;34m[\u001b[0m\u001b[0;36m0\u001b[0m\u001b[0;34m]\u001b[0m\u001b[0;34m\u001b[0m\u001b[0;34m\u001b[0m\u001b[0m\n\u001b[1;32m      5\u001b[0m         \u001b[0my_pred\u001b[0m \u001b[0;34m=\u001b[0m \u001b[0mmodel\u001b[0m\u001b[0;34m(\u001b[0m\u001b[0mx\u001b[0m\u001b[0;34m)\u001b[0m\u001b[0;34m.\u001b[0m\u001b[0mview\u001b[0m\u001b[0;34m(\u001b[0m\u001b[0mlen\u001b[0m\u001b[0;34m(\u001b[0m\u001b[0mx\u001b[0m\u001b[0;34m)\u001b[0m\u001b[0;34m,\u001b[0m \u001b[0;34m-\u001b[0m\u001b[0;36m1\u001b[0m\u001b[0;34m)\u001b[0m\u001b[0;34m\u001b[0m\u001b[0;34m\u001b[0m\u001b[0m\n\u001b[0;32m----> 6\u001b[0;31m     \u001b[0my_pred\u001b[0m \u001b[0;34m=\u001b[0m \u001b[0mscaler\u001b[0m\u001b[0;34m.\u001b[0m\u001b[0minverse_transform\u001b[0m\u001b[0;34m(\u001b[0m\u001b[0my_pred\u001b[0m\u001b[0;34m.\u001b[0m\u001b[0mcpu\u001b[0m\u001b[0;34m(\u001b[0m\u001b[0;34m)\u001b[0m\u001b[0;34m.\u001b[0m\u001b[0mnumpy\u001b[0m\u001b[0;34m(\u001b[0m\u001b[0;34m)\u001b[0m\u001b[0;34m)\u001b[0m\u001b[0;34m\u001b[0m\u001b[0;34m\u001b[0m\u001b[0m\n\u001b[0m\u001b[1;32m      7\u001b[0m     \u001b[0my\u001b[0m \u001b[0;34m=\u001b[0m \u001b[0mscaler\u001b[0m\u001b[0;34m.\u001b[0m\u001b[0minverse_transform\u001b[0m\u001b[0;34m(\u001b[0m\u001b[0my\u001b[0m\u001b[0;34m.\u001b[0m\u001b[0mcpu\u001b[0m\u001b[0;34m(\u001b[0m\u001b[0;34m)\u001b[0m\u001b[0;34m.\u001b[0m\u001b[0mnumpy\u001b[0m\u001b[0;34m(\u001b[0m\u001b[0;34m)\u001b[0m\u001b[0;34m)\u001b[0m\u001b[0;34m\u001b[0m\u001b[0;34m\u001b[0m\u001b[0m\n\u001b[1;32m      8\u001b[0m     \u001b[0mplt\u001b[0m\u001b[0;34m.\u001b[0m\u001b[0mplot\u001b[0m\u001b[0;34m(\u001b[0m\u001b[0my\u001b[0m\u001b[0;34m[\u001b[0m\u001b[0;34m:\u001b[0m\u001b[0;34m,\u001b[0m \u001b[0mplant_id\u001b[0m\u001b[0;34m]\u001b[0m\u001b[0;34m,\u001b[0m \u001b[0mlabel\u001b[0m\u001b[0;34m=\u001b[0m\u001b[0;34m\"y\"\u001b[0m\u001b[0;34m)\u001b[0m\u001b[0;34m\u001b[0m\u001b[0;34m\u001b[0m\u001b[0m\n",
      "\u001b[0;32m~/miniconda3/envs/thesis_torch/lib/python3.9/site-packages/sklearn/preprocessing/_data.py\u001b[0m in \u001b[0;36minverse_transform\u001b[0;34m(self, X, copy)\u001b[0m\n\u001b[1;32m   1033\u001b[0m         \u001b[0;32melse\u001b[0m\u001b[0;34m:\u001b[0m\u001b[0;34m\u001b[0m\u001b[0;34m\u001b[0m\u001b[0m\n\u001b[1;32m   1034\u001b[0m             \u001b[0;32mif\u001b[0m \u001b[0mself\u001b[0m\u001b[0;34m.\u001b[0m\u001b[0mwith_std\u001b[0m\u001b[0;34m:\u001b[0m\u001b[0;34m\u001b[0m\u001b[0;34m\u001b[0m\u001b[0m\n\u001b[0;32m-> 1035\u001b[0;31m                 \u001b[0mX\u001b[0m \u001b[0;34m*=\u001b[0m \u001b[0mself\u001b[0m\u001b[0;34m.\u001b[0m\u001b[0mscale_\u001b[0m\u001b[0;34m\u001b[0m\u001b[0;34m\u001b[0m\u001b[0m\n\u001b[0m\u001b[1;32m   1036\u001b[0m             \u001b[0;32mif\u001b[0m \u001b[0mself\u001b[0m\u001b[0;34m.\u001b[0m\u001b[0mwith_mean\u001b[0m\u001b[0;34m:\u001b[0m\u001b[0;34m\u001b[0m\u001b[0;34m\u001b[0m\u001b[0m\n\u001b[1;32m   1037\u001b[0m                 \u001b[0mX\u001b[0m \u001b[0;34m+=\u001b[0m \u001b[0mself\u001b[0m\u001b[0;34m.\u001b[0m\u001b[0mmean_\u001b[0m\u001b[0;34m\u001b[0m\u001b[0;34m\u001b[0m\u001b[0m\n",
      "\u001b[0;31mValueError\u001b[0m: operands could not be broadcast together with shapes (50,94) (846,) (50,94) "
     ]
    }
   ],
   "source": [
    "plot_pred(best_model, train_iter, plant_id=4)"
   ]
  },
  {
   "cell_type": "code",
   "execution_count": 47,
   "metadata": {},
   "outputs": [
    {
     "data": {
      "text/plain": [
       "9.0"
      ]
     },
     "execution_count": 47,
     "metadata": {},
     "output_type": "execute_result"
    }
   ],
   "source": [
    "846 / 94"
   ]
  },
  {
   "cell_type": "code",
   "execution_count": null,
   "metadata": {},
   "outputs": [],
   "source": [
    "plot_pred(best_model, val_iter, plant_id=8)"
   ]
  },
  {
   "cell_type": "code",
   "execution_count": null,
   "metadata": {},
   "outputs": [],
   "source": [
    "model = best_model\n",
    "data_iter = val_iter\n"
   ]
  },
  {
   "cell_type": "code",
   "execution_count": null,
   "metadata": {},
   "outputs": [],
   "source": [
    "y_list, y_pred_list, x_list = [], [], []\n",
    "model.eval()\n",
    "with torch.no_grad():\n",
    "    for data in data_iter:\n",
    "        x, y = data\n",
    "        y_pred = model(x).view(len(x), -1)\n",
    "        y_list.append(y.cpu().numpy())\n",
    "        x_list.append(x.cpu().numpy())\n",
    "        y_pred_list.append(y_pred.cpu().numpy())\n",
    "\n",
    "y_list = np.concatenate(y_list)\n",
    "x_list = np.concatenate(x_list)\n",
    "y_pred_list = np.concatenate(y_pred_list)\n",
    "\n",
    "y_list = scaler.inverse_transform(y_list)\n",
    "# x_list = scaler.inverse_transform(x_list)\n",
    "y_pred_list = scaler.inverse_transform(y_pred_list)"
   ]
  },
  {
   "cell_type": "code",
   "execution_count": null,
   "metadata": {},
   "outputs": [],
   "source": [
    "for x_ in x_list:\n",
    "    x_df_ = pd.DataFrame(scaler.inverse_transform(x_[0]))\n",
    "    print(x_df_.iloc[-3:, :3])"
   ]
  },
  {
   "cell_type": "code",
   "execution_count": null,
   "metadata": {},
   "outputs": [],
   "source": [
    "pd.DataFrame(scaler.inverse_transform(x_list[1][0])).head().append(pd.DataFrame(scaler.inverse_transform(x_list[1][0])).tail(5))"
   ]
  },
  {
   "cell_type": "code",
   "execution_count": null,
   "metadata": {},
   "outputs": [],
   "source": [
    "pd.DataFrame(scaler.inverse_transform(x_list[0][0])).head().append(pd.DataFrame(scaler.inverse_transform(x_list[0][0])).tail(5))"
   ]
  },
  {
   "cell_type": "code",
   "execution_count": null,
   "metadata": {},
   "outputs": [],
   "source": [
    "pd.DataFrame(y_list[0].reshape(1, -1))"
   ]
  },
  {
   "cell_type": "code",
   "execution_count": null,
   "metadata": {},
   "outputs": [],
   "source": [
    "pd.DataFrame(y_pred_list[0].reshape(1, -1))"
   ]
  },
  {
   "cell_type": "code",
   "execution_count": null,
   "metadata": {},
   "outputs": [],
   "source": [
    "data_iter.sampler"
   ]
  },
  {
   "cell_type": "code",
   "execution_count": null,
   "metadata": {},
   "outputs": [],
   "source": [
    "[i for i in dir(data_iter) if \"__\" not in i]"
   ]
  },
  {
   "cell_type": "code",
   "execution_count": null,
   "metadata": {},
   "outputs": [],
   "source": [
    "len(list(data_iter)[0])"
   ]
  },
  {
   "cell_type": "code",
   "execution_count": null,
   "metadata": {},
   "outputs": [],
   "source": [
    "plant_id = 4\n",
    "# figsize\n",
    "# fig, ax = plt.subplots(figsize=(20, 10))\n",
    "\n",
    "y_values = y_list[:, plant_id]\n",
    "y_pred_values = y_pred_list[:, plant_id]\n",
    "\n",
    "# ax.plot(y_values, label=\"y\")\n",
    "# ax.plot(y_pred_values, label=\"y_pred\")\n",
    "# fig.show()"
   ]
  },
  {
   "cell_type": "code",
   "execution_count": null,
   "metadata": {},
   "outputs": [],
   "source": [
    "output = df_.iloc[train_indices + val_indices, plant_id]\n"
   ]
  },
  {
   "cell_type": "code",
   "execution_count": null,
   "metadata": {},
   "outputs": [],
   "source": [
    "output = pd.DataFrame(df_.iloc[train_indices + val_indices, plant_id])\n",
    "output.columns = [\"production\"]\n",
    "output"
   ]
  },
  {
   "cell_type": "code",
   "execution_count": null,
   "metadata": {},
   "outputs": [],
   "source": [
    "output[\"y\"] = np.nan\n",
    "output.iloc[48:48+len(y_values), 1] = y_values\n",
    "output.iloc[48:]"
   ]
  },
  {
   "cell_type": "code",
   "execution_count": null,
   "metadata": {},
   "outputs": [],
   "source": [
    "len(y_values)"
   ]
  },
  {
   "cell_type": "code",
   "execution_count": null,
   "metadata": {},
   "outputs": [],
   "source": [
    "np.relen(y_values)"
   ]
  },
  {
   "cell_type": "code",
   "execution_count": null,
   "metadata": {},
   "outputs": [],
   "source": [
    "797 - 48 - 1"
   ]
  },
  {
   "cell_type": "code",
   "execution_count": null,
   "metadata": {},
   "outputs": [],
   "source": [
    "len(y_values), len(train_indices), len(val_indices)"
   ]
  },
  {
   "cell_type": "code",
   "execution_count": null,
   "metadata": {},
   "outputs": [],
   "source": [
    "plant_id = 4\n",
    "df_.iloc[train_indices + val_indices, plant_id].plot(figsize=(20,10))\n",
    "# draw vertical line at the end of training period\n",
    "plt.axvline(x=df_.index[len_train], color=\"red\")\n",
    "plt.title(rev_plant_mapping.get(plant_id))\n"
   ]
  },
  {
   "cell_type": "code",
   "execution_count": null,
   "metadata": {},
   "outputs": [],
   "source": [
    "print(x_val.shape, y_val.shape)"
   ]
  },
  {
   "cell_type": "code",
   "execution_count": null,
   "metadata": {},
   "outputs": [],
   "source": []
  },
  {
   "cell_type": "code",
   "execution_count": null,
   "metadata": {},
   "outputs": [],
   "source": [
    "def to_df(x, transform=True):\n",
    "    x = x.reshape(-1, 98).cpu().numpy()\n",
    "    if transform:\n",
    "        x = scaler.inverse_transform(x)\n",
    "    return pd.DataFrame(x)"
   ]
  },
  {
   "cell_type": "code",
   "execution_count": null,
   "metadata": {},
   "outputs": [],
   "source": [
    "df_[round(0.5*len(df_)) + len_train: round(0.5*len(df_)) + len_train + len_val]\n"
   ]
  },
  {
   "cell_type": "code",
   "execution_count": null,
   "metadata": {},
   "outputs": [],
   "source": []
  },
  {
   "cell_type": "code",
   "execution_count": null,
   "metadata": {},
   "outputs": [],
   "source": []
  },
  {
   "cell_type": "code",
   "execution_count": null,
   "metadata": {},
   "outputs": [],
   "source": [
    "to_df(x_val[0, 0])"
   ]
  },
  {
   "cell_type": "code",
   "execution_count": null,
   "metadata": {},
   "outputs": [],
   "source": [
    "to_df(x_val[1, 0]).tail()"
   ]
  },
  {
   "cell_type": "code",
   "execution_count": null,
   "metadata": {},
   "outputs": [],
   "source": [
    "to_df(y_val[0])"
   ]
  },
  {
   "cell_type": "code",
   "execution_count": null,
   "metadata": {},
   "outputs": [],
   "source": [
    "x, y = list(val_iter)[0]\n",
    "print(x.shape, y.shape)"
   ]
  },
  {
   "cell_type": "code",
   "execution_count": null,
   "metadata": {},
   "outputs": [],
   "source": [
    "best_model.eval()\n",
    "with torch.no_grad():\n",
    "    x, y = list(val_iter)[0]\n",
    "    y_pred = best_model(x).view(len(x), -1)\n",
    "    plot(y, y_pred, 0)\n",
    "        "
   ]
  },
  {
   "cell_type": "code",
   "execution_count": null,
   "metadata": {},
   "outputs": [],
   "source": [
    "print(best_model(x).shape)\n",
    "print(best_model(x).view(len(x), -1).shape)"
   ]
  },
  {
   "cell_type": "code",
   "execution_count": null,
   "metadata": {},
   "outputs": [],
   "source": [
    "best_model(x).reshape(len(x), -1).shape"
   ]
  },
  {
   "cell_type": "code",
   "execution_count": null,
   "metadata": {},
   "outputs": [],
   "source": [
    "len(x)"
   ]
  },
  {
   "cell_type": "code",
   "execution_count": null,
   "metadata": {},
   "outputs": [],
   "source": [
    "i = 0\n",
    "pd.DataFrame(scaler.inverse_transform(np.expand_dims(y[i].cpu().numpy(), axis=0)))"
   ]
  },
  {
   "cell_type": "code",
   "execution_count": null,
   "metadata": {},
   "outputs": [],
   "source": [
    "data[(data[\"rt_plant_id\"] == 0) & (data[\"forecast_dt\"] > \"2019-02-15\") & (data[\"forecast_dt\"] < \"2019-02-16\")]"
   ]
  },
  {
   "cell_type": "code",
   "execution_count": null,
   "metadata": {},
   "outputs": [],
   "source": [
    "data[(data[\"rt_plant_id\"] == 0) & (abs(data[\"production\"] - 65.39) <= 0.02)]"
   ]
  },
  {
   "cell_type": "code",
   "execution_count": null,
   "metadata": {},
   "outputs": [],
   "source": [
    "results = {}\n",
    "for j in data.rt_plant_id.unique():\n",
    "    m_ = data[(data[\"rt_plant_id\"] == j)][\"production\"]\n",
    "    results[j] = {}\n",
    "    for i in range(len(m_) - 50):\n",
    "        results[j][i] = np.sqrt(np.sum((m_[i: i + 50].values - n_) ** 2))"
   ]
  },
  {
   "cell_type": "code",
   "execution_count": null,
   "metadata": {},
   "outputs": [],
   "source": [
    "a_ = pd.melt(pd.DataFrame.from_dict(results).reset_index(), id_vars=\"index\")\n",
    "a_.columns = [\"time\", \"rt_plant_id\", \"error\"]"
   ]
  },
  {
   "cell_type": "code",
   "execution_count": null,
   "metadata": {},
   "outputs": [],
   "source": [
    "a_.sort_values(\"error\")"
   ]
  },
  {
   "cell_type": "code",
   "execution_count": null,
   "metadata": {},
   "outputs": [],
   "source": [
    "a_ = pd.DataFrame.from_records([results]).T.reset_index()\n",
    "a_.columns = [\"index\", \"error\"]\n",
    "a_.sort_values(by=\"error\")"
   ]
  },
  {
   "cell_type": "code",
   "execution_count": null,
   "metadata": {},
   "outputs": [],
   "source": [
    "n_ = scaler.inverse_transform(y_pred)[:, 0]"
   ]
  },
  {
   "cell_type": "code",
   "execution_count": null,
   "metadata": {},
   "outputs": [],
   "source": [
    "plot(y, y_pred, i=51)"
   ]
  },
  {
   "cell_type": "code",
   "execution_count": null,
   "metadata": {},
   "outputs": [],
   "source": [
    "y_pred.shape"
   ]
  },
  {
   "cell_type": "code",
   "execution_count": null,
   "metadata": {},
   "outputs": [],
   "source": [
    "a = scaler.inverse_transform(y_pred.cpu().numpy())\n",
    "a"
   ]
  },
  {
   "cell_type": "code",
   "execution_count": null,
   "metadata": {},
   "outputs": [],
   "source": [
    "a.shape"
   ]
  },
  {
   "cell_type": "code",
   "execution_count": null,
   "metadata": {},
   "outputs": [],
   "source": [
    "b = scaler.inverse_transform(y.cpu().numpy())\n",
    "b"
   ]
  },
  {
   "cell_type": "code",
   "execution_count": null,
   "metadata": {},
   "outputs": [],
   "source": [
    "b[:, 0]\n"
   ]
  },
  {
   "cell_type": "code",
   "execution_count": null,
   "metadata": {},
   "outputs": [],
   "source": [
    "import matplotlib.pyplot as plt"
   ]
  },
  {
   "cell_type": "code",
   "execution_count": null,
   "metadata": {},
   "outputs": [],
   "source": []
  },
  {
   "cell_type": "code",
   "execution_count": null,
   "metadata": {},
   "outputs": [],
   "source": []
  },
  {
   "cell_type": "code",
   "execution_count": null,
   "metadata": {},
   "outputs": [],
   "source": []
  },
  {
   "cell_type": "code",
   "execution_count": null,
   "metadata": {},
   "outputs": [],
   "source": []
  },
  {
   "cell_type": "code",
   "execution_count": null,
   "metadata": {},
   "outputs": [],
   "source": []
  },
  {
   "cell_type": "code",
   "execution_count": null,
   "metadata": {},
   "outputs": [],
   "source": []
  },
  {
   "cell_type": "code",
   "execution_count": null,
   "metadata": {},
   "outputs": [],
   "source": []
  },
  {
   "cell_type": "code",
   "execution_count": null,
   "metadata": {},
   "outputs": [],
   "source": []
  },
  {
   "cell_type": "code",
   "execution_count": null,
   "metadata": {},
   "outputs": [],
   "source": []
  },
  {
   "cell_type": "code",
   "execution_count": null,
   "metadata": {},
   "outputs": [],
   "source": []
  },
  {
   "cell_type": "code",
   "execution_count": null,
   "metadata": {},
   "outputs": [],
   "source": []
  }
 ],
 "metadata": {
  "interpreter": {
   "hash": "eb2ab97fed459a161174961b67d20d1eb4f3414b90b70660d35ba0f38956576f"
  },
  "kernelspec": {
   "display_name": "Python 3 (ipykernel)",
   "language": "python",
   "name": "python3"
  },
  "language_info": {
   "codemirror_mode": {
    "name": "ipython",
    "version": 3
   },
   "file_extension": ".py",
   "mimetype": "text/x-python",
   "name": "python",
   "nbconvert_exporter": "python",
   "pygments_lexer": "ipython3",
   "version": "3.9.0"
  }
 },
 "nbformat": 4,
 "nbformat_minor": 4
}
