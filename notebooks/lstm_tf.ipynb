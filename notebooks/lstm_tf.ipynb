{
 "cells": [
  {
   "cell_type": "code",
   "execution_count": 1,
   "metadata": {},
   "outputs": [],
   "source": [
    "import warnings; warnings.filterwarnings(\"ignore\")"
   ]
  },
  {
   "cell_type": "code",
   "execution_count": 2,
   "metadata": {},
   "outputs": [
    {
     "name": "stderr",
     "output_type": "stream",
     "text": [
      "2022-04-03 21:13:32.511488: W tensorflow/stream_executor/platform/default/dso_loader.cc:64] Could not load dynamic library 'libcudart.so.11.0'; dlerror: libcudart.so.11.0: cannot open shared object file: No such file or directory\n",
      "2022-04-03 21:13:32.511503: I tensorflow/stream_executor/cuda/cudart_stub.cc:29] Ignore above cudart dlerror if you do not have a GPU set up on your machine.\n"
     ]
    }
   ],
   "source": [
    "import pandas as pd\n",
    "import numpy as np\n",
    "import tensorflow as tf\n",
    "import matplotlib.pyplot as plt"
   ]
  },
  {
   "cell_type": "code",
   "execution_count": 3,
   "metadata": {},
   "outputs": [],
   "source": [
    "df = pd.read_parquet(\"../data/processed/outlier_removed.parquet\")\n",
    "\n",
    "GENERATE_SPEED_ANGLE = True\n",
    "\n",
    "weather_cols = [col for col in df.columns if col.startswith((\"UGRD\", \"VGRD\"))]\n",
    "\n",
    "df = df.set_index(\"forecast_dt\")[[\"rt_plant_id\", \"production\", *weather_cols]]\n",
    "\n",
    "if GENERATE_SPEED_ANGLE:\n",
    "    for box in [\"SW\", \"NW\", \"NE\", \"SE\"]:\n",
    "        df[f\"speed_{box}\"] = np.sqrt(np.square(df[f\"UGRD_80.m.above.ground.{box}\"]) + np.square(df[f\"VGRD_80.m.above.ground.{box}\"]))\n",
    "        df[f\"angle_{box}\"] = np.arctan(df[f\"UGRD_80.m.above.ground.{box}\"] / df[f\"VGRD_80.m.above.ground.{box}\"])\n",
    "        \n",
    "time_indices = sorted(df.index.unique())\n",
    "train_ratio = 0.8\n",
    "valid_ratio = 0.1\n",
    "\n",
    "train_indices = time_indices[:int(len(time_indices) * train_ratio)]\n",
    "valid_indices = time_indices[int(len(time_indices) * train_ratio):int(len(time_indices) * (train_ratio + valid_ratio))]\n",
    "test_indices = time_indices[int(len(time_indices) * (train_ratio + valid_ratio)):]\n",
    "\n",
    "train_df = df.loc[train_indices, :]\n",
    "valid_df = df.loc[valid_indices, :]\n",
    "test_df = df.loc[test_indices, :]\n",
    "\n",
    "PLANTS = sorted(df.rt_plant_id.unique())\n",
    "\n",
    "def expand_plant_dimension(df):\n",
    "    n_loc = len(PLANTS)\n",
    "    n_time = df.index.nunique()\n",
    "    cols = [col for col in df.columns if col != \"rt_plant_id\"]\n",
    "    n_cols = len(cols)\n",
    "\n",
    "    df_np = np.zeros((n_time, n_loc, n_cols))\n",
    "    for i, plant_id in enumerate(PLANTS):\n",
    "        df_np[:, i, :] = df[df.rt_plant_id == plant_id][cols].values\n",
    "    return df_np\n",
    "\n",
    "train_df_np = expand_plant_dimension(train_df)\n",
    "valid_df_np = expand_plant_dimension(valid_df)\n",
    "test_df_np = expand_plant_dimension(test_df)\n",
    "\n",
    "from sklearn.preprocessing import MinMaxScaler\n",
    "from pathlib import Path\n",
    "\n",
    "scalers = {}\n",
    "for i, plant in enumerate(PLANTS):\n",
    "    scalers[plant] = MinMaxScaler()\n",
    "    # train_df = pd.DataFrame(scaler.fit_transform(train_df), index=train_df.index, columns=train_df.columns)\n",
    "    train_df_np[:, i, :] = scalers[plant].fit_transform(train_df_np[:, i, :])\n",
    "    valid_df_np[:, i, :] = scalers[plant].transform(valid_df_np[:, i, :])\n",
    "    test_df_np[:, i, :] = scalers[plant].transform(test_df_np[:, i, :])\n",
    "    \n",
    "train_df_np = np.array(train_df_np, dtype=np.float32)\n",
    "valid_df_np = np.array(valid_df_np, dtype=np.float32)\n",
    "test_df_np = np.array(test_df_np, dtype=np.float32)\n",
    "\n",
    "# valid_df[valid_df[\"rt_plant_id\"] == PLANTS[0]].iloc[0]\n",
    "# scalers[PLANTS[0]].inverse_transform(valid_df_np[0])[0]"
   ]
  },
  {
   "cell_type": "markdown",
   "metadata": {},
   "source": [
    "## 2D"
   ]
  },
  {
   "cell_type": "code",
   "execution_count": 4,
   "metadata": {},
   "outputs": [
    {
     "name": "stdout",
     "output_type": "stream",
     "text": [
      "(21117, 94, 17)\n"
     ]
    }
   ],
   "source": [
    "print(train_df_np.shape)"
   ]
  },
  {
   "cell_type": "code",
   "execution_count": null,
   "metadata": {},
   "outputs": [],
   "source": []
  },
  {
   "cell_type": "code",
   "execution_count": null,
   "metadata": {},
   "outputs": [],
   "source": []
  },
  {
   "cell_type": "code",
   "execution_count": null,
   "metadata": {},
   "outputs": [],
   "source": []
  },
  {
   "cell_type": "code",
   "execution_count": null,
   "metadata": {},
   "outputs": [],
   "source": []
  },
  {
   "cell_type": "code",
   "execution_count": null,
   "metadata": {},
   "outputs": [],
   "source": []
  },
  {
   "cell_type": "code",
   "execution_count": null,
   "metadata": {},
   "outputs": [],
   "source": []
  },
  {
   "cell_type": "code",
   "execution_count": null,
   "metadata": {},
   "outputs": [],
   "source": []
  },
  {
   "cell_type": "code",
   "execution_count": 7,
   "metadata": {},
   "outputs": [],
   "source": [
    "SELECTED_PLANT = 0\n",
    "\n",
    "SELECTED_PLANT_ID = PLANTS[SELECTED_PLANT]\n",
    "\n",
    "columns = [col for col in train_df.columns if col != \"rt_plant_id\"]\n",
    "\n",
    "train_df_pd_0 = pd.DataFrame(train_df_np[:, SELECTED_PLANT], index=train_indices, columns=columns) \n",
    "valid_df_pd_0 = pd.DataFrame(valid_df_np[:, SELECTED_PLANT], index=valid_indices, columns=columns) \n",
    "test_df_pd_0 = pd.DataFrame(test_df_np[:, SELECTED_PLANT], index=test_indices, columns=columns) \n"
   ]
  },
  {
   "cell_type": "code",
   "execution_count": 229,
   "metadata": {},
   "outputs": [],
   "source": [
    "class WindowGenerator():\n",
    "    def __init__(self, input_width, label_width, shift,\n",
    "                 train_df=train_df, valid_df=valid_df, test_df=test_df,\n",
    "                 columns=None, label_columns=None):\n",
    "        # Store the raw data.\n",
    "        self.train_df = train_df\n",
    "        self.valid_df = valid_df\n",
    "        self.test_df = test_df\n",
    "        self.ndim = self.train_df.ndim\n",
    "        assert self.ndim in [2, 3]\n",
    "        if columns is None:\n",
    "            columns = train_df.columns\n",
    "\n",
    "        # Work out the label column indices.\n",
    "        self.label_columns = label_columns\n",
    "        if label_columns is not None:\n",
    "            self.label_columns_indices = {name: i for i, name in enumerate(label_columns)}\n",
    "        self.column_indices = {name: i for i, name in enumerate(columns)}\n",
    "        # feature_column_indices = [v for k,v in self.column_indices.items() if k not in self.label_columns]\n",
    "        # list(self.label_columns_indices.values())\n",
    "\n",
    "        # Work out the window parameters.\n",
    "        self.input_width = input_width\n",
    "        self.label_width = label_width\n",
    "        self.shift = shift\n",
    "\n",
    "        self.total_window_size = input_width + shift\n",
    "\n",
    "        self.input_slice = slice(0, input_width)\n",
    "        self.input_indices = np.arange(self.total_window_size)[self.input_slice]\n",
    "\n",
    "        self.label_start = self.total_window_size - self.label_width\n",
    "        self.labels_slice = slice(self.label_start, None)\n",
    "        self.label_indices = np.arange(self.total_window_size)[self.labels_slice]\n",
    "\n",
    "    def __repr__(self):\n",
    "        return '\\n'.join([\n",
    "            f'Total window size: {self.total_window_size}',\n",
    "            f'Input indices: {self.input_indices}',\n",
    "            f'Label indices: {self.label_indices}',\n",
    "            f'Label column name(s): {self.label_columns}'])\n",
    "\n",
    "    def split_window(self, features):\n",
    "        # print(features.shape)\n",
    "        if self.ndim == 2:\n",
    "            # inputs = features[:, self.input_slice, :]\n",
    "            # labels = features[:, self.labels_slice, :]\n",
    "            inputs = features[:, self.input_slice, 1:]\n",
    "            labels = features[:, self.labels_slice, :]\n",
    "        else:\n",
    "            inputs = features[:, self.input_slice, :, 1:]\n",
    "            labels = features[:, self.labels_slice, :, :]\n",
    "        if self.label_columns is not None:\n",
    "            if self.ndim == 3:\n",
    "                labels = tf.stack([labels[:, :, :, self.column_indices[name]] for name in self.label_columns], axis=-1)\n",
    "            else:\n",
    "                labels = tf.stack([labels[:, :, self.column_indices[name]] for name in self.label_columns], axis=-1)\n",
    "        # print(\"labels: \", labels)\n",
    "        # print(\"inputs.shape: \", inputs.shape, \"\\nlabels.shape: \", labels.shape)\n",
    "        if self.ndim == 3:\n",
    "            inputs.set_shape([None, self.input_width, None, None])\n",
    "            labels.set_shape([None, self.label_width, None, None])\n",
    "        else:\n",
    "            inputs.set_shape([None, self.input_width, None])\n",
    "            labels.set_shape([None, self.label_width, None])\n",
    "        # print(\"inputs.shape: \", inputs.shape, \"\\nlabels.shape: \", labels.shape)\n",
    "        return inputs, labels\n",
    "\n",
    "    def plot(self, model=None, plot_col='production', plant=None, max_subplots=3):\n",
    "        inputs, labels = self.example\n",
    "        plt.figure(figsize=(12, 8))\n",
    "        plot_col_index = self.column_indices[plot_col]\n",
    "        max_n = min(max_subplots, len(inputs))\n",
    "        for n in range(max_n):\n",
    "            plt.subplot(max_n, 1, n+1)\n",
    "            plt.ylabel(f'{plot_col} [normed]')\n",
    "            if self.label_columns:\n",
    "                label_col_index = self.label_columns_indices.get(plot_col, None)\n",
    "            else:\n",
    "                label_col_index = plot_col_index\n",
    "\n",
    "            if label_col_index is None:\n",
    "                continue\n",
    "            \n",
    "            if self.ndim == 2:\n",
    "                input_values = inputs[n, :, plot_col_index]\n",
    "                label_values = labels[n, :, label_col_index]\n",
    "            elif plant is not None:\n",
    "                input_values = inputs[n, :, plant, plot_col_index]\n",
    "                label_values = labels[n, :, plant, label_col_index]\n",
    "            else:\n",
    "                input_values = tf.math.reduce_mean(inputs[n, :, :, plot_col_index], axis=1)\n",
    "                label_values = tf.math.reduce_mean(labels[n, :, :, label_col_index], axis=1)\n",
    "                \n",
    "            plt.plot(self.input_indices, input_values, label='Inputs', marker='.', zorder=-10)\n",
    "\n",
    "                \n",
    "            plt.scatter(self.label_indices, label_values, edgecolors='k', label='Labels', c='#2ca02c', s=64)\n",
    "            if model is not None:\n",
    "                predictions = model(inputs)\n",
    "                if self.ndim == 2:\n",
    "                    prediction_values = predictions[n, :, label_col_index]\n",
    "                elif plant is not None:\n",
    "                    prediction_values = predictions[n, :, plant, label_col_index]\n",
    "                else:\n",
    "                    prediction_values = tf.math.reduce_mean(predictions[n, :, :, label_col_index], axis=1)\n",
    "                \n",
    "                prediction_values = tf.clip_by_value(prediction_values, clip_value_min=0, clip_value_max=1)\n",
    "\n",
    "                plt.scatter(self.label_indices, prediction_values,\n",
    "                        marker='X', edgecolors='k', label='Predictions',\n",
    "                        c='#ff7f0e', s=64)\n",
    "\n",
    "            if n == 0:\n",
    "                plt.legend()\n",
    "\n",
    "        plt.xlabel('Time [h]')\n",
    "\n",
    "    def make_dataset(self, data):\n",
    "        data = np.array(data, dtype=np.float32)\n",
    "        ds = tf.keras.utils.timeseries_dataset_from_array(\n",
    "            data=data,\n",
    "            targets=None,\n",
    "            sequence_length=self.total_window_size,\n",
    "            sequence_stride=24,\n",
    "            shuffle=False,\n",
    "            batch_size=64,)\n",
    "        ds = ds.map(self.split_window)\n",
    "        return ds\n",
    "\n",
    "    @property\n",
    "    def train(self):\n",
    "        return self.make_dataset(self.train_df)\n",
    "\n",
    "    @property\n",
    "    def valid(self):\n",
    "        return self.make_dataset(self.valid_df)\n",
    "\n",
    "    @property\n",
    "    def test(self):\n",
    "        return self.make_dataset(self.test_df)\n",
    "\n",
    "    @property\n",
    "    def example(self):\n",
    "        \"\"\"Get and cache an example batch of `inputs, labels` for plotting.\"\"\"\n",
    "        result = getattr(self, '_example', None)\n",
    "        if result is None:\n",
    "            # No example batch was found, so get one from the `.train` dataset\n",
    "            result = next(iter(self.train))\n",
    "            # And cache it for next time\n",
    "            self._example = result\n",
    "        return result"
   ]
  },
  {
   "cell_type": "code",
   "execution_count": 230,
   "metadata": {},
   "outputs": [],
   "source": [
    "MAX_EPOCHS = 100\n",
    "\n",
    "def compile_and_fit(model, window, patience=10):\n",
    "    early_stopping = tf.keras.callbacks.EarlyStopping(\n",
    "        monitor='val_loss',\n",
    "        patience=patience,\n",
    "        mode='min', \n",
    "        verbose=1,\n",
    "        restore_best_weights=True)\n",
    "\n",
    "    model.compile(loss=tf.losses.MeanSquaredError(),\n",
    "                  optimizer=tf.optimizers.Adam(),\n",
    "                  metrics=[tf.metrics.MeanAbsoluteError()]) \n",
    "    \n",
    "    history = model.fit(window.train, epochs=MAX_EPOCHS,\n",
    "                        validation_data=window.valid,\n",
    "                        verbose=1,\n",
    "                        callbacks=[early_stopping])\n",
    "    print(model.summary())\n",
    "    return history"
   ]
  },
  {
   "cell_type": "code",
   "execution_count": 231,
   "metadata": {},
   "outputs": [],
   "source": [
    "OUT_STEPS = 24\n",
    "num_features = 17\n",
    "\n",
    "multi_window = WindowGenerator(\n",
    "    train_df=train_df_pd_0, valid_df=valid_df_pd_0, test_df=test_df_pd_0,\n",
    "    input_width=120, label_width=24, shift=0, label_columns=[\"production\"])"
   ]
  },
  {
   "cell_type": "code",
   "execution_count": 232,
   "metadata": {},
   "outputs": [
    {
     "data": {
      "image/png": "[encoded data removed]",
      "text/plain": [
       "<Figure size 864x576 with 3 Axes>"
      ]
     },
     "metadata": {
      "needs_background": "light"
     },
     "output_type": "display_data"
    }
   ],
   "source": [
    "multi_window.plot()"
   ]
  },
  {
   "cell_type": "code",
   "execution_count": 235,
   "metadata": {},
   "outputs": [
    {
     "data": {
      "text/plain": [
       "Total window size: 120\n",
       "Input indices: [  0   1   2   3   4   5   6   7   8   9  10  11  12  13  14  15  16  17\n",
       "  18  19  20  21  22  23  24  25  26  27  28  29  30  31  32  33  34  35\n",
       "  36  37  38  39  40  41  42  43  44  45  46  47  48  49  50  51  52  53\n",
       "  54  55  56  57  58  59  60  61  62  63  64  65  66  67  68  69  70  71\n",
       "  72  73  74  75  76  77  78  79  80  81  82  83  84  85  86  87  88  89\n",
       "  90  91  92  93  94  95  96  97  98  99 100 101 102 103 104 105 106 107\n",
       " 108 109 110 111 112 113 114 115 116 117 118 119]\n",
       "Label indices: [ 96  97  98  99 100 101 102 103 104 105 106 107 108 109 110 111 112 113\n",
       " 114 115 116 117 118 119]\n",
       "Label column name(s): ['production']"
      ]
     },
     "execution_count": 235,
     "metadata": {},
     "output_type": "execute_result"
    }
   ],
   "source": [
    "columns = [col for col in train_df.columns if col != \"rt_plant_id\"]\n",
    "\n",
    "multi_window2 = WindowGenerator(\n",
    "    train_df=train_df_np, valid_df=valid_df_np, test_df=test_df_np, columns=columns,\n",
    "    input_width=120, label_width=24, shift=0, label_columns=[\"production\"])\n",
    "multi_window2"
   ]
  },
  {
   "cell_type": "code",
   "execution_count": 236,
   "metadata": {},
   "outputs": [
    {
     "data": {
      "image/png": "[encoded data removed]",
      "text/plain": [
       "<Figure size 864x576 with 3 Axes>"
      ]
     },
     "metadata": {
      "needs_background": "light"
     },
     "output_type": "display_data"
    }
   ],
   "source": [
    "multi_window2.plot(plant=4)"
   ]
  },
  {
   "cell_type": "code",
   "execution_count": null,
   "metadata": {},
   "outputs": [],
   "source": []
  },
  {
   "cell_type": "code",
   "execution_count": null,
   "metadata": {},
   "outputs": [],
   "source": []
  },
  {
   "cell_type": "code",
   "execution_count": null,
   "metadata": {},
   "outputs": [],
   "source": []
  },
  {
   "cell_type": "code",
   "execution_count": null,
   "metadata": {},
   "outputs": [],
   "source": []
  },
  {
   "cell_type": "code",
   "execution_count": null,
   "metadata": {},
   "outputs": [],
   "source": []
  },
  {
   "cell_type": "code",
   "execution_count": null,
   "metadata": {},
   "outputs": [],
   "source": []
  },
  {
   "cell_type": "code",
   "execution_count": null,
   "metadata": {},
   "outputs": [],
   "source": []
  },
  {
   "cell_type": "code",
   "execution_count": null,
   "metadata": {},
   "outputs": [],
   "source": []
  },
  {
   "cell_type": "code",
   "execution_count": null,
   "metadata": {},
   "outputs": [],
   "source": []
  },
  {
   "cell_type": "code",
   "execution_count": null,
   "metadata": {},
   "outputs": [],
   "source": []
  },
  {
   "cell_type": "code",
   "execution_count": null,
   "metadata": {},
   "outputs": [],
   "source": []
  },
  {
   "cell_type": "code",
   "execution_count": null,
   "metadata": {},
   "outputs": [],
   "source": []
  },
  {
   "cell_type": "code",
   "execution_count": null,
   "metadata": {},
   "outputs": [],
   "source": []
  },
  {
   "cell_type": "code",
   "execution_count": null,
   "metadata": {},
   "outputs": [],
   "source": []
  },
  {
   "cell_type": "code",
   "execution_count": null,
   "metadata": {},
   "outputs": [],
   "source": []
  },
  {
   "cell_type": "code",
   "execution_count": null,
   "metadata": {},
   "outputs": [],
   "source": []
  },
  {
   "cell_type": "code",
   "execution_count": null,
   "metadata": {},
   "outputs": [],
   "source": []
  },
  {
   "cell_type": "code",
   "execution_count": 237,
   "metadata": {},
   "outputs": [],
   "source": [
    "multi_val_performance = {}\n",
    "multi_performance = {}"
   ]
  },
  {
   "cell_type": "markdown",
   "metadata": {},
   "source": [
    "## Dense"
   ]
  },
  {
   "cell_type": "code",
   "execution_count": 238,
   "metadata": {},
   "outputs": [],
   "source": [
    "from tensorflow.keras import models, layers"
   ]
  },
  {
   "cell_type": "code",
   "execution_count": 239,
   "metadata": {},
   "outputs": [
    {
     "name": "stdout",
     "output_type": "stream",
     "text": [
      "Model: \"sequential_24\"\n",
      "_________________________________________________________________\n",
      " Layer (type)                Output Shape              Param #   \n",
      "=================================================================\n",
      " dense_36 (Dense)            (None, 120, 24)           408       \n",
      "                                                                 \n",
      " flatten_13 (Flatten)        (None, 2880)              0         \n",
      "                                                                 \n",
      " dense_37 (Dense)            (None, 24)                69144     \n",
      "                                                                 \n",
      " reshape_15 (Reshape)        (None, 24, 1)             0         \n",
      "                                                                 \n",
      "=================================================================\n",
      "Total params: 69,552\n",
      "Trainable params: 69,552\n",
      "Non-trainable params: 0\n",
      "_________________________________________________________________\n",
      "Epoch 1/100\n",
      "14/14 [==============================] - 0s 10ms/step - loss: 0.1744 - mean_absolute_error: 0.3456 - val_loss: 0.1071 - val_mean_absolute_error: 0.2699\n",
      "Epoch 2/100\n",
      "14/14 [==============================] - 0s 6ms/step - loss: 0.1305 - mean_absolute_error: 0.3157 - val_loss: 0.0878 - val_mean_absolute_error: 0.2605\n",
      "Epoch 3/100\n",
      "14/14 [==============================] - 0s 6ms/step - loss: 0.1147 - mean_absolute_error: 0.2970 - val_loss: 0.0796 - val_mean_absolute_error: 0.2468\n",
      "Epoch 4/100\n",
      "14/14 [==============================] - 0s 6ms/step - loss: 0.0968 - mean_absolute_error: 0.2710 - val_loss: 0.0624 - val_mean_absolute_error: 0.2154\n",
      "Epoch 5/100\n",
      "14/14 [==============================] - 0s 7ms/step - loss: 0.0792 - mean_absolute_error: 0.2359 - val_loss: 0.0514 - val_mean_absolute_error: 0.1932\n",
      "Epoch 6/100\n",
      "14/14 [==============================] - 0s 6ms/step - loss: 0.0674 - mean_absolute_error: 0.2076 - val_loss: 0.0445 - val_mean_absolute_error: 0.1776\n",
      "Epoch 7/100\n",
      "14/14 [==============================] - 0s 7ms/step - loss: 0.0605 - mean_absolute_error: 0.1927 - val_loss: 0.0405 - val_mean_absolute_error: 0.1685\n",
      "Epoch 8/100\n",
      "14/14 [==============================] - 0s 6ms/step - loss: 0.0561 - mean_absolute_error: 0.1840 - val_loss: 0.0385 - val_mean_absolute_error: 0.1637\n",
      "Epoch 9/100\n",
      "14/14 [==============================] - 0s 6ms/step - loss: 0.0530 - mean_absolute_error: 0.1770 - val_loss: 0.0377 - val_mean_absolute_error: 0.1612\n",
      "Epoch 10/100\n",
      "14/14 [==============================] - 0s 6ms/step - loss: 0.0509 - mean_absolute_error: 0.1718 - val_loss: 0.0375 - val_mean_absolute_error: 0.1601\n",
      "Epoch 11/100\n",
      "14/14 [==============================] - 0s 6ms/step - loss: 0.0494 - mean_absolute_error: 0.1684 - val_loss: 0.0373 - val_mean_absolute_error: 0.1593\n",
      "Epoch 12/100\n",
      "14/14 [==============================] - 0s 6ms/step - loss: 0.0483 - mean_absolute_error: 0.1657 - val_loss: 0.0373 - val_mean_absolute_error: 0.1589\n",
      "Epoch 13/100\n",
      "14/14 [==============================] - 0s 6ms/step - loss: 0.0474 - mean_absolute_error: 0.1635 - val_loss: 0.0374 - val_mean_absolute_error: 0.1587\n",
      "Epoch 14/100\n",
      "14/14 [==============================] - 0s 6ms/step - loss: 0.0466 - mean_absolute_error: 0.1617 - val_loss: 0.0374 - val_mean_absolute_error: 0.1587\n",
      "Epoch 15/100\n",
      "14/14 [==============================] - 0s 6ms/step - loss: 0.0459 - mean_absolute_error: 0.1602 - val_loss: 0.0375 - val_mean_absolute_error: 0.1586\n",
      "Epoch 16/100\n",
      "14/14 [==============================] - 0s 6ms/step - loss: 0.0453 - mean_absolute_error: 0.1588 - val_loss: 0.0375 - val_mean_absolute_error: 0.1585\n",
      "Epoch 17/100\n",
      "14/14 [==============================] - 0s 6ms/step - loss: 0.0448 - mean_absolute_error: 0.1576 - val_loss: 0.0376 - val_mean_absolute_error: 0.1584\n",
      "Epoch 18/100\n",
      "14/14 [==============================] - 0s 6ms/step - loss: 0.0443 - mean_absolute_error: 0.1566 - val_loss: 0.0376 - val_mean_absolute_error: 0.1582\n",
      "Epoch 19/100\n",
      "14/14 [==============================] - 0s 6ms/step - loss: 0.0439 - mean_absolute_error: 0.1557 - val_loss: 0.0375 - val_mean_absolute_error: 0.1581\n",
      "Epoch 20/100\n",
      "14/14 [==============================] - 0s 6ms/step - loss: 0.0435 - mean_absolute_error: 0.1549 - val_loss: 0.0375 - val_mean_absolute_error: 0.1579\n",
      "Epoch 21/100\n",
      "14/14 [==============================] - 0s 6ms/step - loss: 0.0432 - mean_absolute_error: 0.1542 - val_loss: 0.0374 - val_mean_absolute_error: 0.1576\n",
      "Epoch 22/100\n",
      " 1/14 [=>............................] - ETA: 0s - loss: 0.0433 - mean_absolute_error: 0.1625Restoring model weights from the end of the best epoch: 12.\n",
      "14/14 [==============================] - 0s 6ms/step - loss: 0.0429 - mean_absolute_error: 0.1535 - val_loss: 0.0373 - val_mean_absolute_error: 0.1574\n",
      "Epoch 22: early stopping\n",
      "Model: \"sequential_24\"\n",
      "_________________________________________________________________\n",
      " Layer (type)                Output Shape              Param #   \n",
      "=================================================================\n",
      " dense_36 (Dense)            (None, 120, 24)           408       \n",
      "                                                                 \n",
      " flatten_13 (Flatten)        (None, 2880)              0         \n",
      "                                                                 \n",
      " dense_37 (Dense)            (None, 24)                69144     \n",
      "                                                                 \n",
      " reshape_15 (Reshape)        (None, 24, 1)             0         \n",
      "                                                                 \n",
      "=================================================================\n",
      "Total params: 69,552\n",
      "Trainable params: 69,552\n",
      "Non-trainable params: 0\n",
      "_________________________________________________________________\n",
      "None\n"
     ]
    }
   ],
   "source": [
    "model = models.Sequential()\n",
    "model.add(layers.InputLayer(input_shape=(120, 16)))\n",
    "model.add(layers.Dense(OUT_STEPS, kernel_initializer=tf.initializers.zeros()))\n",
    "model.add(layers.Flatten())\n",
    "model.add(layers.Dense(OUT_STEPS))\n",
    "model.add(layers.Reshape([OUT_STEPS, 1]))\n",
    "model.summary()\n",
    "\n",
    "history = compile_and_fit(model, multi_window)"
   ]
  },
  {
   "cell_type": "code",
   "execution_count": 240,
   "metadata": {},
   "outputs": [
    {
     "name": "stdout",
     "output_type": "stream",
     "text": [
      "2/2 [==============================] - 0s 2ms/step - loss: 0.0373 - mean_absolute_error: 0.1589\n"
     ]
    }
   ],
   "source": [
    "multi_val_performance['Linear1'] = model.evaluate(multi_window.valid)\n",
    "multi_performance['Linear1'] = model.evaluate(multi_window.test, verbose=0)\n"
   ]
  },
  {
   "cell_type": "code",
   "execution_count": 241,
   "metadata": {},
   "outputs": [
    {
     "data": {
      "text/plain": [
       "{'Linear1': [0.03730766847729683, 0.15892842411994934]}"
      ]
     },
     "execution_count": 241,
     "metadata": {},
     "output_type": "execute_result"
    }
   ],
   "source": [
    "multi_val_performance"
   ]
  },
  {
   "cell_type": "code",
   "execution_count": 242,
   "metadata": {},
   "outputs": [
    {
     "data": {
      "text/plain": [
       "{'Linear1': [0.05593171343207359, 0.18736369907855988]}"
      ]
     },
     "execution_count": 242,
     "metadata": {},
     "output_type": "execute_result"
    }
   ],
   "source": [
    "multi_performance"
   ]
  },
  {
   "cell_type": "code",
   "execution_count": 243,
   "metadata": {},
   "outputs": [
    {
     "data": {
      "image/png": "[encoded data removed]",
      "text/plain": [
       "<Figure size 864x576 with 5 Axes>"
      ]
     },
     "metadata": {
      "needs_background": "light"
     },
     "output_type": "display_data"
    }
   ],
   "source": [
    "multi_window.plot(model, max_subplots=5)"
   ]
  },
  {
   "cell_type": "code",
   "execution_count": null,
   "metadata": {},
   "outputs": [],
   "source": []
  },
  {
   "cell_type": "code",
   "execution_count": 245,
   "metadata": {},
   "outputs": [
    {
     "data": {
      "text/plain": [
       "array([[0.13480249],\n",
       "       [0.13885595],\n",
       "       [0.15528096],\n",
       "       [0.13294436],\n",
       "       [0.14087778],\n",
       "       [0.12340248],\n",
       "       [0.13333397],\n",
       "       [0.11444721],\n",
       "       [0.11954084],\n",
       "       [0.11983488],\n",
       "       [0.1269971 ],\n",
       "       [0.15499902],\n",
       "       [0.16494387],\n",
       "       [0.21636635],\n",
       "       [0.21925175],\n",
       "       [0.25300518],\n",
       "       [0.2605106 ],\n",
       "       [0.29698545],\n",
       "       [0.30838567],\n",
       "       [0.2947672 ],\n",
       "       [0.3012949 ],\n",
       "       [0.30274957],\n",
       "       [0.2772879 ],\n",
       "       [0.2711351 ]], dtype=float32)"
      ]
     },
     "execution_count": 245,
     "metadata": {},
     "output_type": "execute_result"
    }
   ],
   "source": [
    "predictions = model.predict(multi_window.test)\n",
    "predictions[0]"
   ]
  },
  {
   "cell_type": "code",
   "execution_count": 246,
   "metadata": {},
   "outputs": [
    {
     "data": {
      "text/plain": [
       "array([[0.        ],\n",
       "       [0.        ],\n",
       "       [0.        ],\n",
       "       [0.        ],\n",
       "       [0.        ],\n",
       "       [0.02      ],\n",
       "       [0.00857143],\n",
       "       [0.0072    ],\n",
       "       [0.02502857],\n",
       "       [0.00285714],\n",
       "       [0.        ],\n",
       "       [0.        ],\n",
       "       [0.        ],\n",
       "       [0.        ],\n",
       "       [0.        ],\n",
       "       [0.        ],\n",
       "       [0.        ],\n",
       "       [0.03862857],\n",
       "       [0.07577143],\n",
       "       [0.09714286],\n",
       "       [0.04354286],\n",
       "       [0.00148571],\n",
       "       [0.        ],\n",
       "       [0.01428571]], dtype=float32)"
      ]
     },
     "execution_count": 246,
     "metadata": {},
     "output_type": "execute_result"
    }
   ],
   "source": [
    "actual = np.concatenate([y for x, y in multi_window.test], axis=0)\n",
    "actual[0]"
   ]
  },
  {
   "cell_type": "code",
   "execution_count": 217,
   "metadata": {},
   "outputs": [
    {
     "name": "stdout",
     "output_type": "stream",
     "text": [
      "(<tf.Tensor: shape=(64, 120, 16), dtype=float32, numpy=\n",
      "array([[[0.43766925, 0.47389206, 0.3576842 , ..., 0.66516346,\n",
      "         0.27546185, 0.68531424],\n",
      "        [0.42155945, 0.45165122, 0.36057812, ..., 0.6624111 ,\n",
      "         0.2903231 , 0.68551743],\n",
      "        [0.4224656 , 0.4293302 , 0.36741084, ..., 0.65936416,\n",
      "         0.29372293, 0.6795816 ],\n",
      "        ...,\n",
      "        [0.13235535, 0.14911668, 0.12640372, ..., 0.7424513 ,\n",
      "         0.67661214, 0.7734415 ],\n",
      "        [0.1553141 , 0.16879669, 0.13155936, ..., 0.74484324,\n",
      "         0.6639195 , 0.76505715],\n",
      "        [0.17180414, 0.18013723, 0.15012035, ..., 0.7381456 ,\n",
      "         0.64157104, 0.75604826]],\n",
      "\n",
      "       [[0.3786413 , 0.41417968, 0.34251997, ..., 0.68324447,\n",
      "         0.34478337, 0.6757316 ],\n",
      "        [0.36592063, 0.37395588, 0.33097038, ..., 0.6691191 ,\n",
      "         0.40418774, 0.68858653],\n",
      "        [0.34747955, 0.3686662 , 0.33113867, ..., 0.6755413 ,\n",
      "         0.3925825 , 0.68756944],\n",
      "        ...,\n",
      "        [0.5544123 , 0.53353536, 0.5025052 , ..., 0.5179769 ,\n",
      "         0.34719828, 0.5644486 ],\n",
      "        [0.5701117 , 0.55959827, 0.54014593, ..., 0.56356364,\n",
      "         0.35308775, 0.5785423 ],\n",
      "        [0.5879109 , 0.61212   , 0.5692462 , ..., 0.59957474,\n",
      "         0.33283183, 0.60390675]],\n",
      "\n",
      "       [[0.5263574 , 0.52847546, 0.48313594, ..., 0.5699194 ,\n",
      "         0.01203359, 0.20490335],\n",
      "        [0.5366795 , 0.54936296, 0.48821312, ..., 0.68971044,\n",
      "         0.03752615, 0.8183216 ],\n",
      "        [0.5497362 , 0.5687088 , 0.50642806, ..., 0.97671497,\n",
      "         0.05216853, 0.803     ],\n",
      "        ...,\n",
      "        [0.62444663, 0.65543175, 0.60212594, ..., 0.57600564,\n",
      "         0.5224806 , 0.62987363],\n",
      "        [0.6200697 , 0.6216022 , 0.6012842 , ..., 0.5795172 ,\n",
      "         0.45299846, 0.6304007 ],\n",
      "        [0.6247972 , 0.6275123 , 0.59103763, ..., 0.5742365 ,\n",
      "         0.46949503, 0.6282322 ]],\n",
      "\n",
      "       ...,\n",
      "\n",
      "       [[0.48078096, 0.3351826 , 0.43256468, ..., 0.6043951 ,\n",
      "         0.36595884, 0.7044054 ],\n",
      "        [0.4363555 , 0.352229  , 0.38468426, ..., 0.68333316,\n",
      "         0.31121206, 0.7466378 ],\n",
      "        [0.4439505 , 0.3653663 , 0.38434032, ..., 0.7126465 ,\n",
      "         0.28955477, 0.7494652 ],\n",
      "        ...,\n",
      "        [0.5239227 , 0.5626532 , 0.49372774, ..., 0.4897839 ,\n",
      "         0.03212803, 0.88258356],\n",
      "        [0.5248285 , 0.5470651 , 0.46603283, ..., 0.5648169 ,\n",
      "         0.05004833, 0.11195218],\n",
      "        [0.5270597 , 0.54285455, 0.46397722, ..., 0.58285093,\n",
      "         0.05784691, 0.21230769]],\n",
      "\n",
      "       [[0.45713508, 0.44926545, 0.393952  , ..., 0.6473873 ,\n",
      "         0.2527415 , 0.6532883 ],\n",
      "        [0.4727521 , 0.4512123 , 0.41878223, ..., 0.64427716,\n",
      "         0.21619979, 0.6834506 ],\n",
      "        [0.496982  , 0.46266568, 0.43276817, ..., 0.69885695,\n",
      "         0.17988299, 0.7012161 ],\n",
      "        ...,\n",
      "        [0.5853994 , 0.5708859 , 0.53820336, ..., 0.45680225,\n",
      "         0.49652594, 0.46387073],\n",
      "        [0.5289404 , 0.52039343, 0.4850778 , ..., 0.5042407 ,\n",
      "         0.464197  , 0.4915941 ],\n",
      "        [0.5063737 , 0.49815863, 0.47624555, ..., 0.5121901 ,\n",
      "         0.47142237, 0.5010973 ]],\n",
      "\n",
      "       [[0.5713585 , 0.5199301 , 0.65220207, ..., 0.09082517,\n",
      "         0.10019474, 0.7913069 ],\n",
      "        [0.5796824 , 0.53304094, 0.5733895 , ..., 0.63294053,\n",
      "         0.14681564, 0.69693595],\n",
      "        [0.5064343 , 0.4616586 , 0.5409961 , ..., 0.5927707 ,\n",
      "         0.24324638, 0.5368559 ],\n",
      "        ...,\n",
      "        [0.6441836 , 0.6220565 , 0.52398884, ..., 0.37398517,\n",
      "         0.23359212, 0.29331642],\n",
      "        [0.64174545, 0.61903876, 0.53457767, ..., 0.38052705,\n",
      "         0.21830548, 0.27806476],\n",
      "        [0.64969635, 0.60971177, 0.55164355, ..., 0.3479886 ,\n",
      "         0.25143692, 0.34645844]]], dtype=float32)>, <tf.Tensor: shape=(64, 24, 1), dtype=float32, numpy=\n",
      "array([[[0.4064    ],\n",
      "        [0.2936    ],\n",
      "        [0.08502857],\n",
      "        ...,\n",
      "        [0.99782854],\n",
      "        [0.98502856],\n",
      "        [0.9864    ]],\n",
      "\n",
      "       [[0.34      ],\n",
      "        [0.17782857],\n",
      "        [0.1336    ],\n",
      "        ...,\n",
      "        [0.94354284],\n",
      "        [0.9786286 ],\n",
      "        [0.9729143 ]],\n",
      "\n",
      "       [[0.9878857 ],\n",
      "        [0.99645716],\n",
      "        [0.9957714 ],\n",
      "        ...,\n",
      "        [0.9742857 ],\n",
      "        [0.98925716],\n",
      "        [0.9814857 ]],\n",
      "\n",
      "       ...,\n",
      "\n",
      "       [[0.10285714],\n",
      "        [0.07428572],\n",
      "        [0.07074286],\n",
      "        ...,\n",
      "        [0.        ],\n",
      "        [0.        ],\n",
      "        [0.        ]],\n",
      "\n",
      "       [[0.69714284],\n",
      "        [0.9843429 ],\n",
      "        [0.98354286],\n",
      "        ...,\n",
      "        [0.89645714],\n",
      "        [0.9272    ],\n",
      "        [0.9085714 ]],\n",
      "\n",
      "       [[0.53005713],\n",
      "        [0.45645714],\n",
      "        [0.45142856],\n",
      "        ...,\n",
      "        [0.27211428],\n",
      "        [0.34788573],\n",
      "        [0.33782858]]], dtype=float32)>)\n"
     ]
    }
   ],
   "source": [
    "for i in multi_window.test:\n",
    "    print(i)\n",
    "    break"
   ]
  },
  {
   "cell_type": "code",
   "execution_count": 214,
   "metadata": {},
   "outputs": [
    {
     "data": {
      "text/plain": [
       "(2640, 17)"
      ]
     },
     "execution_count": 214,
     "metadata": {},
     "output_type": "execute_result"
    }
   ],
   "source": [
    "multi_window.test_df.shape"
   ]
  },
  {
   "cell_type": "code",
   "execution_count": null,
   "metadata": {},
   "outputs": [],
   "source": []
  },
  {
   "cell_type": "code",
   "execution_count": 120,
   "metadata": {},
   "outputs": [
    {
     "name": "stdout",
     "output_type": "stream",
     "text": [
      "(None, None, 17)\n",
      "labels:  Tensor(\"stack:0\", shape=(None, None, 1), dtype=float32)\n",
      "inputs.shape:  (None, None, 16) \n",
      "labels.shape:  (None, None, 1)\n",
      "inputs.shape:  (None, 120, 16) \n",
      "labels.shape:  (None, 24, 1)\n",
      "(None, None, 17)\n",
      "labels:  Tensor(\"stack:0\", shape=(None, None, 1), dtype=float32)\n",
      "inputs.shape:  (None, None, 16) \n",
      "labels.shape:  (None, None, 1)\n",
      "inputs.shape:  (None, 120, 16) \n",
      "labels.shape:  (None, 24, 1)\n",
      "Epoch 1/20\n"
     ]
    },
    {
     "ename": "ValueError",
     "evalue": "in user code:\n\n    File \"/home/mert/miniconda3/envs/thesis/lib/python3.9/site-packages/keras/engine/training.py\", line 1021, in train_function  *\n        return step_function(self, iterator)\n    File \"/home/mert/miniconda3/envs/thesis/lib/python3.9/site-packages/keras/engine/training.py\", line 1010, in step_function  **\n        outputs = model.distribute_strategy.run(run_step, args=(data,))\n    File \"/home/mert/miniconda3/envs/thesis/lib/python3.9/site-packages/keras/engine/training.py\", line 1000, in run_step  **\n        outputs = model.train_step(data)\n    File \"/home/mert/miniconda3/envs/thesis/lib/python3.9/site-packages/keras/engine/training.py\", line 859, in train_step\n        y_pred = self(x, training=True)\n    File \"/home/mert/miniconda3/envs/thesis/lib/python3.9/site-packages/keras/utils/traceback_utils.py\", line 67, in error_handler\n        raise e.with_traceback(filtered_tb) from None\n    File \"/home/mert/miniconda3/envs/thesis/lib/python3.9/site-packages/keras/layers/core/reshape.py\", line 110, in _fix_unknown_dimension\n        raise ValueError(msg)\n\n    ValueError: Exception encountered when calling layer \"reshape_3\" (type Reshape).\n    \n    total size of new array must be unchanged, input_shape = [120, 24], output_shape = [24, 1]\n    \n    Call arguments received:\n      • inputs=tf.Tensor(shape=(None, 120, 24), dtype=float32)\n",
     "output_type": "error",
     "traceback": [
      "\u001b[0;31m---------------------------------------------------------------------------\u001b[0m",
      "\u001b[0;31mValueError\u001b[0m                                Traceback (most recent call last)",
      "Input \u001b[0;32mIn [120]\u001b[0m, in \u001b[0;36m<cell line: 9>\u001b[0;34m()\u001b[0m\n\u001b[1;32m      1\u001b[0m num_features \u001b[38;5;241m=\u001b[39m \u001b[38;5;241m17\u001b[39m\n\u001b[1;32m      2\u001b[0m multi_linear_model \u001b[38;5;241m=\u001b[39m tf\u001b[38;5;241m.\u001b[39mkeras\u001b[38;5;241m.\u001b[39mSequential([\n\u001b[1;32m      3\u001b[0m     \u001b[38;5;66;03m# tf.keras.layers.Lambda(lambda x: x[:, -1:, :]),\u001b[39;00m\n\u001b[1;32m      4\u001b[0m     tf\u001b[38;5;241m.\u001b[39mkeras\u001b[38;5;241m.\u001b[39mlayers\u001b[38;5;241m.\u001b[39mDense(OUT_STEPS\u001b[38;5;241m*\u001b[39mnum_features, kernel_initializer\u001b[38;5;241m=\u001b[39mtf\u001b[38;5;241m.\u001b[39minitializers\u001b[38;5;241m.\u001b[39mzeros()),\n\u001b[1;32m      5\u001b[0m     tf\u001b[38;5;241m.\u001b[39mkeras\u001b[38;5;241m.\u001b[39mlayers\u001b[38;5;241m.\u001b[39mDense(OUT_STEPS),\n\u001b[1;32m      6\u001b[0m     tf\u001b[38;5;241m.\u001b[39mkeras\u001b[38;5;241m.\u001b[39mlayers\u001b[38;5;241m.\u001b[39mReshape([OUT_STEPS, \u001b[38;5;241m1\u001b[39m])\n\u001b[1;32m      7\u001b[0m ])\n\u001b[0;32m----> 9\u001b[0m history \u001b[38;5;241m=\u001b[39m \u001b[43mcompile_and_fit\u001b[49m\u001b[43m(\u001b[49m\u001b[43mmulti_linear_model\u001b[49m\u001b[43m,\u001b[49m\u001b[43m \u001b[49m\u001b[43mmulti_window\u001b[49m\u001b[43m)\u001b[49m\n\u001b[1;32m     11\u001b[0m multi_val_performance[\u001b[38;5;124m'\u001b[39m\u001b[38;5;124mLinear1\u001b[39m\u001b[38;5;124m'\u001b[39m] \u001b[38;5;241m=\u001b[39m multi_linear_model\u001b[38;5;241m.\u001b[39mevaluate(multi_window\u001b[38;5;241m.\u001b[39mvalid)\n\u001b[1;32m     12\u001b[0m multi_performance[\u001b[38;5;124m'\u001b[39m\u001b[38;5;124mLinear1\u001b[39m\u001b[38;5;124m'\u001b[39m] \u001b[38;5;241m=\u001b[39m multi_linear_model\u001b[38;5;241m.\u001b[39mevaluate(multi_window\u001b[38;5;241m.\u001b[39mtest, verbose\u001b[38;5;241m=\u001b[39m\u001b[38;5;241m0\u001b[39m)\n",
      "Input \u001b[0;32mIn [116]\u001b[0m, in \u001b[0;36mcompile_and_fit\u001b[0;34m(model, window, patience)\u001b[0m\n\u001b[1;32m      4\u001b[0m early_stopping \u001b[38;5;241m=\u001b[39m tf\u001b[38;5;241m.\u001b[39mkeras\u001b[38;5;241m.\u001b[39mcallbacks\u001b[38;5;241m.\u001b[39mEarlyStopping(\n\u001b[1;32m      5\u001b[0m     monitor\u001b[38;5;241m=\u001b[39m\u001b[38;5;124m'\u001b[39m\u001b[38;5;124mval_loss\u001b[39m\u001b[38;5;124m'\u001b[39m,\n\u001b[1;32m      6\u001b[0m     patience\u001b[38;5;241m=\u001b[39mpatience,\n\u001b[1;32m      7\u001b[0m     mode\u001b[38;5;241m=\u001b[39m\u001b[38;5;124m'\u001b[39m\u001b[38;5;124mmin\u001b[39m\u001b[38;5;124m'\u001b[39m, \n\u001b[1;32m      8\u001b[0m     verbose\u001b[38;5;241m=\u001b[39m\u001b[38;5;241m1\u001b[39m,\n\u001b[1;32m      9\u001b[0m     restore_best_weights\u001b[38;5;241m=\u001b[39m\u001b[38;5;28;01mTrue\u001b[39;00m)\n\u001b[1;32m     11\u001b[0m model\u001b[38;5;241m.\u001b[39mcompile(loss\u001b[38;5;241m=\u001b[39mtf\u001b[38;5;241m.\u001b[39mlosses\u001b[38;5;241m.\u001b[39mMeanSquaredError(),\n\u001b[1;32m     12\u001b[0m               optimizer\u001b[38;5;241m=\u001b[39mtf\u001b[38;5;241m.\u001b[39moptimizers\u001b[38;5;241m.\u001b[39mAdam(),\n\u001b[1;32m     13\u001b[0m               metrics\u001b[38;5;241m=\u001b[39m[tf\u001b[38;5;241m.\u001b[39mmetrics\u001b[38;5;241m.\u001b[39mMeanAbsoluteError()]) \n\u001b[0;32m---> 15\u001b[0m history \u001b[38;5;241m=\u001b[39m \u001b[43mmodel\u001b[49m\u001b[38;5;241;43m.\u001b[39;49m\u001b[43mfit\u001b[49m\u001b[43m(\u001b[49m\u001b[43mwindow\u001b[49m\u001b[38;5;241;43m.\u001b[39;49m\u001b[43mtrain\u001b[49m\u001b[43m,\u001b[49m\u001b[43m \u001b[49m\u001b[43mepochs\u001b[49m\u001b[38;5;241;43m=\u001b[39;49m\u001b[43mMAX_EPOCHS\u001b[49m\u001b[43m,\u001b[49m\n\u001b[1;32m     16\u001b[0m \u001b[43m                    \u001b[49m\u001b[43mvalidation_data\u001b[49m\u001b[38;5;241;43m=\u001b[39;49m\u001b[43mwindow\u001b[49m\u001b[38;5;241;43m.\u001b[39;49m\u001b[43mvalid\u001b[49m\u001b[43m,\u001b[49m\n\u001b[1;32m     17\u001b[0m \u001b[43m                    \u001b[49m\u001b[43mverbose\u001b[49m\u001b[38;5;241;43m=\u001b[39;49m\u001b[38;5;241;43m1\u001b[39;49m\u001b[43m,\u001b[49m\n\u001b[1;32m     18\u001b[0m \u001b[43m                    \u001b[49m\u001b[43mcallbacks\u001b[49m\u001b[38;5;241;43m=\u001b[39;49m\u001b[43m[\u001b[49m\u001b[43mearly_stopping\u001b[49m\u001b[43m]\u001b[49m\u001b[43m)\u001b[49m\n\u001b[1;32m     19\u001b[0m \u001b[38;5;28mprint\u001b[39m(model\u001b[38;5;241m.\u001b[39msummary())\n\u001b[1;32m     20\u001b[0m \u001b[38;5;28;01mreturn\u001b[39;00m history\n",
      "File \u001b[0;32m~/miniconda3/envs/thesis/lib/python3.9/site-packages/keras/utils/traceback_utils.py:67\u001b[0m, in \u001b[0;36mfilter_traceback.<locals>.error_handler\u001b[0;34m(*args, **kwargs)\u001b[0m\n\u001b[1;32m     65\u001b[0m \u001b[38;5;28;01mexcept\u001b[39;00m \u001b[38;5;167;01mException\u001b[39;00m \u001b[38;5;28;01mas\u001b[39;00m e:  \u001b[38;5;66;03m# pylint: disable=broad-except\u001b[39;00m\n\u001b[1;32m     66\u001b[0m   filtered_tb \u001b[38;5;241m=\u001b[39m _process_traceback_frames(e\u001b[38;5;241m.\u001b[39m__traceback__)\n\u001b[0;32m---> 67\u001b[0m   \u001b[38;5;28;01mraise\u001b[39;00m e\u001b[38;5;241m.\u001b[39mwith_traceback(filtered_tb) \u001b[38;5;28;01mfrom\u001b[39;00m \u001b[38;5;28mNone\u001b[39m\n\u001b[1;32m     68\u001b[0m \u001b[38;5;28;01mfinally\u001b[39;00m:\n\u001b[1;32m     69\u001b[0m   \u001b[38;5;28;01mdel\u001b[39;00m filtered_tb\n",
      "File \u001b[0;32m~/miniconda3/envs/thesis/lib/python3.9/site-packages/tensorflow/python/framework/func_graph.py:1147\u001b[0m, in \u001b[0;36mfunc_graph_from_py_func.<locals>.autograph_handler\u001b[0;34m(*args, **kwargs)\u001b[0m\n\u001b[1;32m   1145\u001b[0m \u001b[38;5;28;01mexcept\u001b[39;00m \u001b[38;5;167;01mException\u001b[39;00m \u001b[38;5;28;01mas\u001b[39;00m e:  \u001b[38;5;66;03m# pylint:disable=broad-except\u001b[39;00m\n\u001b[1;32m   1146\u001b[0m   \u001b[38;5;28;01mif\u001b[39;00m \u001b[38;5;28mhasattr\u001b[39m(e, \u001b[38;5;124m\"\u001b[39m\u001b[38;5;124mag_error_metadata\u001b[39m\u001b[38;5;124m\"\u001b[39m):\n\u001b[0;32m-> 1147\u001b[0m     \u001b[38;5;28;01mraise\u001b[39;00m e\u001b[38;5;241m.\u001b[39mag_error_metadata\u001b[38;5;241m.\u001b[39mto_exception(e)\n\u001b[1;32m   1148\u001b[0m   \u001b[38;5;28;01melse\u001b[39;00m:\n\u001b[1;32m   1149\u001b[0m     \u001b[38;5;28;01mraise\u001b[39;00m\n",
      "\u001b[0;31mValueError\u001b[0m: in user code:\n\n    File \"/home/mert/miniconda3/envs/thesis/lib/python3.9/site-packages/keras/engine/training.py\", line 1021, in train_function  *\n        return step_function(self, iterator)\n    File \"/home/mert/miniconda3/envs/thesis/lib/python3.9/site-packages/keras/engine/training.py\", line 1010, in step_function  **\n        outputs = model.distribute_strategy.run(run_step, args=(data,))\n    File \"/home/mert/miniconda3/envs/thesis/lib/python3.9/site-packages/keras/engine/training.py\", line 1000, in run_step  **\n        outputs = model.train_step(data)\n    File \"/home/mert/miniconda3/envs/thesis/lib/python3.9/site-packages/keras/engine/training.py\", line 859, in train_step\n        y_pred = self(x, training=True)\n    File \"/home/mert/miniconda3/envs/thesis/lib/python3.9/site-packages/keras/utils/traceback_utils.py\", line 67, in error_handler\n        raise e.with_traceback(filtered_tb) from None\n    File \"/home/mert/miniconda3/envs/thesis/lib/python3.9/site-packages/keras/layers/core/reshape.py\", line 110, in _fix_unknown_dimension\n        raise ValueError(msg)\n\n    ValueError: Exception encountered when calling layer \"reshape_3\" (type Reshape).\n    \n    total size of new array must be unchanged, input_shape = [120, 24], output_shape = [24, 1]\n    \n    Call arguments received:\n      • inputs=tf.Tensor(shape=(None, 120, 24), dtype=float32)\n"
     ]
    }
   ],
   "source": [
    "num_features = 17\n",
    "multi_linear_model = tf.keras.Sequential([\n",
    "    # tf.keras.layers.Lambda(lambda x: x[:, -1:, :]),\n",
    "    tf.keras.layers.Dense(OUT_STEPS*num_features, kernel_initializer=tf.initializers.zeros()),\n",
    "    tf.keras.layers.Dense(OUT_STEPS),\n",
    "    tf.keras.layers.Reshape([OUT_STEPS, 1])\n",
    "])\n",
    "\n",
    "history = compile_and_fit(multi_linear_model, multi_window)\n",
    "\n",
    "multi_val_performance['Linear1'] = multi_linear_model.evaluate(multi_window.valid)\n",
    "multi_performance['Linear1'] = multi_linear_model.evaluate(multi_window.test, verbose=0)\n",
    "# multi_window.plot(multi_linear_model)\n"
   ]
  },
  {
   "cell_type": "code",
   "execution_count": null,
   "metadata": {},
   "outputs": [],
   "source": []
  },
  {
   "cell_type": "code",
   "execution_count": null,
   "metadata": {},
   "outputs": [],
   "source": [
    "model = models.Sequential()\n",
    "model.add(layers.Reshape([94, 72, 17], input_shape=(72, 94, 17)))\n",
    "model.add(layers.Dense(32, kernel_initializer=tf.initializers.zeros()))\n",
    "model.add(layers.Reshape([94, 32, 72]))\n",
    "model.add(layers.Dense(8))\n",
    "model.add(layers.Reshape([94, 8, 32]))\n",
    "model.add(layers.Dense(3))\n",
    "model.add(layers.Reshape([24, 94, 1]))\n",
    "model.summary()\n",
    "\n",
    "history = compile_and_fit(model, multi_window2)"
   ]
  },
  {
   "cell_type": "code",
   "execution_count": null,
   "metadata": {},
   "outputs": [],
   "source": [
    "multi_window2.plot(model, plant=4)"
   ]
  },
  {
   "cell_type": "code",
   "execution_count": null,
   "metadata": {},
   "outputs": [],
   "source": []
  },
  {
   "cell_type": "code",
   "execution_count": null,
   "metadata": {},
   "outputs": [],
   "source": []
  },
  {
   "cell_type": "code",
   "execution_count": null,
   "metadata": {},
   "outputs": [],
   "source": [
    "model = models.Sequential()\n",
    "# model.add(layers.Lambda(lambda x: x[:, -CONV_WIDTH:, :, :], input_shape=(72, 94, 17)))\n",
    "# model.add(layers.Conv1D(64, CONV_WIDTH, activation='relu', input_shape=(24, 94, 17), padding=\"same\"))\n",
    "# model.add(layers.MaxPooling2D((1, 1)))\n",
    "model.add(layers.Dense(64, kernel_initializer=tf.initializers.zeros(), input_shape=(72, 94, 17)))\n",
    "model.add(layers.Reshape([94, 24, 64 * 3]))\n",
    "model.add(layers.Dense(OUT_STEPS))\n",
    "model.add(layers.Dense(1))\n",
    "# model.add(layers.Flatten())\n",
    "# model.add(layers.Reshape([94, 24*CONV_WIDTH]))\n",
    "# model.add(layers.Dense(OUT_STEPS, kernel_initializer=tf.initializers.zeros()))\n",
    "model.add(layers.Reshape([24, 94, 1]))\n",
    "model.summary()"
   ]
  },
  {
   "cell_type": "code",
   "execution_count": null,
   "metadata": {},
   "outputs": [],
   "source": [
    "history = compile_and_fit(model, multi_window2)"
   ]
  },
  {
   "cell_type": "code",
   "execution_count": null,
   "metadata": {},
   "outputs": [],
   "source": [
    "multi_window2.plot(model, plant=10, max_subplots=10)"
   ]
  },
  {
   "cell_type": "code",
   "execution_count": null,
   "metadata": {},
   "outputs": [],
   "source": []
  },
  {
   "cell_type": "code",
   "execution_count": null,
   "metadata": {},
   "outputs": [],
   "source": []
  },
  {
   "cell_type": "code",
   "execution_count": null,
   "metadata": {},
   "outputs": [],
   "source": []
  },
  {
   "cell_type": "code",
   "execution_count": null,
   "metadata": {},
   "outputs": [],
   "source": []
  },
  {
   "cell_type": "code",
   "execution_count": null,
   "metadata": {},
   "outputs": [],
   "source": []
  },
  {
   "cell_type": "code",
   "execution_count": null,
   "metadata": {},
   "outputs": [],
   "source": []
  },
  {
   "cell_type": "code",
   "execution_count": null,
   "metadata": {},
   "outputs": [],
   "source": []
  },
  {
   "cell_type": "code",
   "execution_count": null,
   "metadata": {},
   "outputs": [],
   "source": []
  },
  {
   "cell_type": "code",
   "execution_count": null,
   "metadata": {},
   "outputs": [],
   "source": []
  },
  {
   "cell_type": "code",
   "execution_count": null,
   "metadata": {},
   "outputs": [],
   "source": []
  },
  {
   "cell_type": "code",
   "execution_count": null,
   "metadata": {},
   "outputs": [],
   "source": [
    "# multi_linear_model.predict(multi_window.train)[0].shape"
   ]
  },
  {
   "cell_type": "code",
   "execution_count": null,
   "metadata": {},
   "outputs": [],
   "source": [
    "# multi_linear_model.summary()"
   ]
  },
  {
   "cell_type": "code",
   "execution_count": null,
   "metadata": {},
   "outputs": [],
   "source": [
    "multi_linear_model = tf.keras.Sequential([\n",
    "    tf.keras.layers.Lambda(lambda x: x[:, -1:, :]),\n",
    "    tf.keras.layers.Dense(OUT_STEPS*num_features, kernel_initializer=tf.initializers.zeros()),\n",
    "    tf.keras.layers.Dense(OUT_STEPS*num_features, kernel_initializer=tf.initializers.zeros()),\n",
    "    tf.keras.layers.Reshape([OUT_STEPS, num_features])\n",
    "])\n",
    "\n",
    "history = compile_and_fit(multi_linear_model, multi_window)\n",
    "\n",
    "multi_val_performance['Linear2'] = multi_linear_model.evaluate(multi_window.valid)\n",
    "multi_performance['Linear2'] = multi_linear_model.evaluate(multi_window.test, verbose=0)\n",
    "multi_window.plot(multi_linear_model)\n"
   ]
  },
  {
   "cell_type": "markdown",
   "metadata": {},
   "source": [
    "## Convolutional"
   ]
  },
  {
   "cell_type": "code",
   "execution_count": null,
   "metadata": {},
   "outputs": [],
   "source": [
    "multi_window2.train_df.shape"
   ]
  },
  {
   "cell_type": "code",
   "execution_count": null,
   "metadata": {},
   "outputs": [],
   "source": [
    "from tensorflow.keras import datasets, layers, models\n",
    "\n",
    "CONV_WIDTH = 3\n",
    "model = models.Sequential()\n",
    "model.add(layers.Lambda(lambda x: x[:, -CONV_WIDTH:, :, :], input_shape=(72, 94, 17)))\n",
    "model.add(layers.Conv1D(64, CONV_WIDTH, activation='relu', input_shape=(24, 94, 17), padding=\"same\"))\n",
    "model.add(layers.MaxPooling2D((1, 1)))\n",
    "model.add(layers.Dense(OUT_STEPS, kernel_initializer=tf.initializers.zeros()))\n",
    "model.add(layers.Flatten())\n",
    "model.add(layers.Reshape([94, 24*CONV_WIDTH]))\n",
    "model.add(layers.Dense(OUT_STEPS, kernel_initializer=tf.initializers.zeros()))\n",
    "model.add(layers.Reshape([24, 94, 1]))\n",
    "\n",
    "\n",
    "# model.add(layers.Conv2D(64, (3, 3), activation='relu'))\n",
    "# model.add(layers.MaxPooling2D((2, 2)))\n",
    "# model.add(layers.Conv2D(64, (3, 3), activation='relu'))\n",
    "model.summary()\n"
   ]
  },
  {
   "cell_type": "code",
   "execution_count": null,
   "metadata": {},
   "outputs": [],
   "source": [
    "history = compile_and_fit(model, multi_window2)"
   ]
  },
  {
   "cell_type": "code",
   "execution_count": null,
   "metadata": {},
   "outputs": [],
   "source": [
    "multi_val_performance['Conv1'] = model.evaluate(multi_window2.valid)\n",
    "multi_performance['Conv1'] = model.evaluate(multi_window2.test, verbose=0)\n",
    "multi_window2.plot(model)"
   ]
  },
  {
   "cell_type": "code",
   "execution_count": null,
   "metadata": {},
   "outputs": [],
   "source": [
    "multi_val_performance = {}\n",
    "multi_performance = {}"
   ]
  },
  {
   "cell_type": "code",
   "execution_count": null,
   "metadata": {},
   "outputs": [],
   "source": [
    "multi_window2.plot(model)"
   ]
  },
  {
   "cell_type": "code",
   "execution_count": null,
   "metadata": {},
   "outputs": [],
   "source": [
    "multi_window2.plot(model, plant=0)"
   ]
  },
  {
   "cell_type": "code",
   "execution_count": null,
   "metadata": {},
   "outputs": [],
   "source": [
    "multi_window2.plot(model, plant=4)"
   ]
  },
  {
   "cell_type": "code",
   "execution_count": null,
   "metadata": {},
   "outputs": [],
   "source": [
    "multi_window2.plot(model, plant=0, max_subplots=5)"
   ]
  },
  {
   "cell_type": "code",
   "execution_count": null,
   "metadata": {},
   "outputs": [],
   "source": []
  },
  {
   "cell_type": "code",
   "execution_count": null,
   "metadata": {},
   "outputs": [],
   "source": []
  },
  {
   "cell_type": "code",
   "execution_count": null,
   "metadata": {},
   "outputs": [],
   "source": []
  },
  {
   "cell_type": "code",
   "execution_count": null,
   "metadata": {},
   "outputs": [],
   "source": []
  },
  {
   "cell_type": "code",
   "execution_count": null,
   "metadata": {},
   "outputs": [],
   "source": []
  },
  {
   "cell_type": "code",
   "execution_count": null,
   "metadata": {},
   "outputs": [],
   "source": []
  },
  {
   "cell_type": "code",
   "execution_count": null,
   "metadata": {},
   "outputs": [],
   "source": []
  },
  {
   "cell_type": "code",
   "execution_count": null,
   "metadata": {},
   "outputs": [],
   "source": []
  },
  {
   "cell_type": "code",
   "execution_count": null,
   "metadata": {},
   "outputs": [],
   "source": []
  },
  {
   "cell_type": "code",
   "execution_count": null,
   "metadata": {},
   "outputs": [],
   "source": [
    "from tensorflow.keras import datasets, layers, models\n",
    "\n",
    "model = models.Sequential()\n",
    "model.add(layers.Lambda(lambda x: x[:, -CONV_WIDTH:, :, :], input_shape=(10000, 94, 17)))\n",
    "# model.add(layers.Conv2D(32, (7, 7), activation='relu', input_shape=(7, 94, 17), padding=\"same\"))\n",
    "model.add(layers.Conv2D(32, (7, 7), activation='relu', input_shape=(7, 94, 17), padding=\"valid\"))\n",
    "# model.add(layers.MaxPooling2D((2, 2)))\n",
    "# model.add(layers.Conv2D(64, (3, 3), activation='relu'))\n",
    "# model.add(layers.MaxPooling2D((2, 2)))\n",
    "# model.add(layers.Conv2D(64, (3, 3), activation='relu'))\n",
    "model.summary()\n"
   ]
  },
  {
   "cell_type": "code",
   "execution_count": null,
   "metadata": {},
   "outputs": [],
   "source": []
  },
  {
   "cell_type": "code",
   "execution_count": null,
   "metadata": {},
   "outputs": [],
   "source": []
  },
  {
   "cell_type": "code",
   "execution_count": null,
   "metadata": {},
   "outputs": [],
   "source": []
  },
  {
   "cell_type": "code",
   "execution_count": null,
   "metadata": {},
   "outputs": [],
   "source": []
  },
  {
   "cell_type": "code",
   "execution_count": null,
   "metadata": {},
   "outputs": [],
   "source": []
  },
  {
   "cell_type": "code",
   "execution_count": null,
   "metadata": {},
   "outputs": [],
   "source": [
    "CONV_WIDTH = 7\n",
    "multi_conv_model = tf.keras.Sequential([\n",
    "    tf.keras.layers.Lambda(lambda x: x[:, -CONV_WIDTH:, :]),\n",
    "    tf.keras.layers.Conv1D(256, activation='relu', kernel_size=(CONV_WIDTH)),\n",
    "    tf.keras.layers.Dense(OUT_STEPS*num_features, kernel_initializer=tf.initializers.zeros()),\n",
    "    tf.keras.layers.Reshape([OUT_STEPS, num_features])\n",
    "])\n",
    "\n",
    "history = compile_and_fit(multi_conv_model, multi_window)\n",
    "multi_val_performance['Conv1'] = multi_conv_model.evaluate(multi_window.valid)\n",
    "multi_performance['Conv1'] = multi_conv_model.evaluate(multi_window.test, verbose=0)\n",
    "multi_window.plot(multi_conv_model)"
   ]
  },
  {
   "cell_type": "code",
   "execution_count": null,
   "metadata": {},
   "outputs": [],
   "source": [
    "CONV_WIDTH = 7\n",
    "multi_conv_model = tf.keras.Sequential([\n",
    "    tf.keras.layers.Lambda(lambda x: x[:, -CONV_WIDTH:, :]),\n",
    "    tf.keras.layers.Conv1D(256, activation='relu', kernel_size=(CONV_WIDTH), padding=\"same\"),\n",
    "    tf.keras.layers.Conv1D(64, activation='relu', kernel_size=(CONV_WIDTH)),\n",
    "    tf.keras.layers.Dense(OUT_STEPS*num_features, kernel_initializer=tf.initializers.zeros()),\n",
    "    tf.keras.layers.Reshape([OUT_STEPS, num_features])\n",
    "])\n",
    "\n",
    "history = compile_and_fit(multi_conv_model, multi_window)\n",
    "multi_val_performance['Conv2'] = multi_conv_model.evaluate(multi_window.valid)\n",
    "multi_performance['Conv2'] = multi_conv_model.evaluate(multi_window.test, verbose=0)\n",
    "multi_window.plot(multi_conv_model)"
   ]
  },
  {
   "cell_type": "code",
   "execution_count": null,
   "metadata": {},
   "outputs": [],
   "source": [
    "CONV_WIDTH = 12\n",
    "multi_conv_model = tf.keras.Sequential([\n",
    "    tf.keras.layers.Lambda(lambda x: x[:, -CONV_WIDTH:, :]),\n",
    "    tf.keras.layers.Conv1D(256, activation='relu', kernel_size=(CONV_WIDTH), padding=\"same\"),\n",
    "    tf.keras.layers.Conv1D(64, activation='relu', kernel_size=(CONV_WIDTH)),\n",
    "    tf.keras.layers.Dense(OUT_STEPS*num_features, kernel_initializer=tf.initializers.zeros()),\n",
    "    tf.keras.layers.Reshape([OUT_STEPS, num_features])\n",
    "])\n",
    "\n",
    "history = compile_and_fit(multi_conv_model, multi_window)\n",
    "multi_val_performance['Conv3'] = multi_conv_model.evaluate(multi_window.valid)\n",
    "multi_performance['Conv3'] = multi_conv_model.evaluate(multi_window.test, verbose=0)\n",
    "multi_window.plot(multi_conv_model)"
   ]
  },
  {
   "cell_type": "code",
   "execution_count": null,
   "metadata": {},
   "outputs": [],
   "source": [
    "CONV_WIDTH = 24\n",
    "multi_conv_model = tf.keras.Sequential([\n",
    "    tf.keras.layers.Lambda(lambda x: x[:, -CONV_WIDTH:, :]),\n",
    "    # tf.keras.layers.Conv1D(16, activation='relu', kernel_size=(CONV_WIDTH), padding=\"same\"),\n",
    "    # tf.keras.layers.Conv1D(16, activation='relu', kernel_size=(CONV_WIDTH), padding=\"same\"),\n",
    "    tf.keras.layers.Conv1D(1024, activation='relu', kernel_size=(CONV_WIDTH)),\n",
    "    tf.keras.layers.Dense(OUT_STEPS*num_features, kernel_initializer=tf.initializers.zeros()),\n",
    "    tf.keras.layers.Reshape([OUT_STEPS, num_features])\n",
    "])\n",
    "\n",
    "history = compile_and_fit(multi_conv_model, multi_window)\n",
    "multi_val_performance['Conv4'] = multi_conv_model.evaluate(multi_window.valid)\n",
    "multi_performance['Conv4'] = multi_conv_model.evaluate(multi_window.test, verbose=0)\n",
    "multi_window.plot(multi_conv_model)"
   ]
  },
  {
   "cell_type": "code",
   "execution_count": null,
   "metadata": {},
   "outputs": [],
   "source": [
    "CONV_WIDTH = 24\n",
    "multi_conv_model = tf.keras.Sequential([\n",
    "    tf.keras.layers.Lambda(lambda x: x[:, -CONV_WIDTH:, :]),\n",
    "    tf.keras.layers.Conv1D(128, activation='relu', kernel_size=(CONV_WIDTH), padding=\"same\"),\n",
    "    tf.keras.layers.Conv1D(128, activation='relu', kernel_size=(CONV_WIDTH), padding=\"same\"),\n",
    "    tf.keras.layers.Conv1D(64, activation='relu', kernel_size=(CONV_WIDTH)), \n",
    "    tf.keras.layers.Dense(OUT_STEPS*num_features, kernel_initializer=tf.initializers.zeros()),\n",
    "    tf.keras.layers.Reshape([OUT_STEPS, num_features])\n",
    "])\n",
    "\n",
    "history = compile_and_fit(multi_conv_model, multi_window)\n",
    "multi_val_performance['Conv4'] = multi_conv_model.evaluate(multi_window.valid)\n",
    "multi_performance['Conv4'] = multi_conv_model.evaluate(multi_window.test, verbose=0)\n",
    "multi_window.plot(multi_conv_model)"
   ]
  },
  {
   "cell_type": "markdown",
   "metadata": {},
   "source": [
    "## RNN"
   ]
  },
  {
   "cell_type": "code",
   "execution_count": null,
   "metadata": {},
   "outputs": [],
   "source": [
    "multi_lstm_model = tf.keras.Sequential([\n",
    "    tf.keras.layers.LSTM(32, return_sequences=False),\n",
    "    tf.keras.layers.Dense(OUT_STEPS*num_features, kernel_initializer=tf.initializers.zeros()),\n",
    "    tf.keras.layers.Reshape([OUT_STEPS, num_features])\n",
    "])\n",
    "\n",
    "history = compile_and_fit(multi_lstm_model, multi_window)\n",
    "\n",
    "multi_val_performance['RNN1'] = multi_lstm_model.evaluate(multi_window.valid)\n",
    "multi_performance['RNN1'] = multi_lstm_model.evaluate(multi_window.test, verbose=0)\n",
    "multi_window.plot(multi_lstm_model)\n"
   ]
  },
  {
   "cell_type": "code",
   "execution_count": null,
   "metadata": {},
   "outputs": [],
   "source": [
    "multi_lstm_model = tf.keras.Sequential([\n",
    "    tf.keras.layers.LSTM(64, return_sequences=False),\n",
    "    tf.keras.layers.Dense(OUT_STEPS*num_features, kernel_initializer=tf.initializers.zeros()),\n",
    "    tf.keras.layers.Reshape([OUT_STEPS, num_features])\n",
    "])\n",
    "\n",
    "history = compile_and_fit(multi_lstm_model, multi_window)\n",
    "\n",
    "multi_val_performance['RNN2'] = multi_lstm_model.evaluate(multi_window.valid)\n",
    "multi_performance['RNN2'] = multi_lstm_model.evaluate(multi_window.test, verbose=0)\n",
    "multi_window.plot(multi_lstm_model)\n"
   ]
  },
  {
   "cell_type": "code",
   "execution_count": null,
   "metadata": {},
   "outputs": [],
   "source": [
    "multi_lstm_model = tf.keras.Sequential([\n",
    "    tf.keras.layers.LSTM(64, return_sequences=True),\n",
    "    tf.keras.layers.LSTM(32, return_sequences=False),\n",
    "    tf.keras.layers.Dense(OUT_STEPS*num_features, kernel_initializer=tf.initializers.zeros()),\n",
    "    tf.keras.layers.Reshape([OUT_STEPS, num_features])\n",
    "])\n",
    "\n",
    "history = compile_and_fit(multi_lstm_model, multi_window)\n",
    "\n",
    "multi_val_performance['RNN3'] = multi_lstm_model.evaluate(multi_window.valid)\n",
    "multi_performance['RNN3'] = multi_lstm_model.evaluate(multi_window.test, verbose=0)\n",
    "multi_window.plot(multi_lstm_model)\n"
   ]
  },
  {
   "cell_type": "code",
   "execution_count": null,
   "metadata": {},
   "outputs": [],
   "source": [
    "multi_lstm_model = tf.keras.Sequential([\n",
    "    tf.keras.layers.LSTM(32, return_sequences=True),\n",
    "    tf.keras.layers.LSTM(16, return_sequences=False),\n",
    "    tf.keras.layers.Dense(OUT_STEPS*num_features, kernel_initializer=tf.initializers.zeros()),\n",
    "    tf.keras.layers.Reshape([OUT_STEPS, num_features])\n",
    "])\n",
    "\n",
    "history = compile_and_fit(multi_lstm_model, multi_window)\n",
    "\n",
    "multi_val_performance['RNN4'] = multi_lstm_model.evaluate(multi_window.valid)\n",
    "multi_performance['RNN4'] = multi_lstm_model.evaluate(multi_window.test, verbose=0)\n",
    "multi_window.plot(multi_lstm_model)\n"
   ]
  },
  {
   "cell_type": "code",
   "execution_count": null,
   "metadata": {},
   "outputs": [],
   "source": [
    "CONV_WIDTH = 12\n",
    "multi_conv_model = tf.keras.Sequential([\n",
    "    tf.keras.layers.Lambda(lambda x: x[:, -CONV_WIDTH:, :]),\n",
    "    tf.keras.layers.Conv1D(128, activation='relu', kernel_size=(CONV_WIDTH), padding=\"same\"),\n",
    "    tf.keras.layers.LSTM(32, return_sequences=False),\n",
    "    tf.keras.layers.Dense(OUT_STEPS*num_features,kernel_initializer=tf.initializers.zeros()),\n",
    "    tf.keras.layers.Reshape([OUT_STEPS, num_features])\n",
    "])\n",
    "\n",
    "history = compile_and_fit(multi_conv_model, multi_window)\n",
    "\n",
    "multi_val_performance['ConvLSTM1'] = multi_conv_model.evaluate(multi_window.valid)\n",
    "multi_performance['ConvLSTM1'] = multi_conv_model.evaluate(multi_window.test, verbose=0)\n",
    "multi_window.plot(multi_conv_model)"
   ]
  },
  {
   "cell_type": "code",
   "execution_count": null,
   "metadata": {},
   "outputs": [],
   "source": [
    "CONV_WIDTH = 12\n",
    "multi_conv_model = tf.keras.Sequential([\n",
    "    tf.keras.layers.Lambda(lambda x: x[:, -CONV_WIDTH:, :]),\n",
    "    tf.keras.layers.Conv1D(128, activation='relu', kernel_size=(CONV_WIDTH), padding=\"same\"),\n",
    "    tf.keras.layers.LSTM(32, return_sequences=True),\n",
    "    tf.keras.layers.Conv1D(32, activation='relu', kernel_size=(CONV_WIDTH)),\n",
    "    tf.keras.layers.LSTM(16, return_sequences=False),\n",
    "    tf.keras.layers.Dense(OUT_STEPS*num_features,kernel_initializer=tf.initializers.zeros()),\n",
    "    tf.keras.layers.Reshape([OUT_STEPS, num_features])\n",
    "])\n",
    "\n",
    "history = compile_and_fit(multi_conv_model, multi_window)\n",
    "\n",
    "multi_val_performance['ConvLSTM2'] = multi_conv_model.evaluate(multi_window.valid)\n",
    "multi_performance['ConvLSTM2'] = multi_conv_model.evaluate(multi_window.test, verbose=0)\n",
    "multi_window.plot(multi_conv_model)"
   ]
  },
  {
   "cell_type": "code",
   "execution_count": null,
   "metadata": {},
   "outputs": [],
   "source": [
    "def plot_metrics(sort_test=True):\n",
    "    plt.figure(figsize=(12, 15))\n",
    "    x = np.arange(len(multi_performance))\n",
    "    width = 0.3\n",
    "    \n",
    "    for n in range(len(multi_linear_model.metrics_names)):\n",
    "        plt.subplot(len(multi_linear_model.metrics_names), 1, n+1)\n",
    "        metric_name = multi_linear_model.metrics_names[n]\n",
    "        val_mae = [v[n] for v in multi_val_performance.values()]\n",
    "        test_mae = [v[n] for v in multi_performance.values()]\n",
    "        \n",
    "        if sort_test:\n",
    "            sorted_index = np.argsort(test_mae)\n",
    "        else:\n",
    "            sorted_index = np.argsort(val_mae)\n",
    "        val_mae = [val_mae[i] for i in sorted_index]\n",
    "        test_mae = [test_mae[i] for i in sorted_index]\n",
    "\n",
    "        plt.bar(x - 0.17, val_mae, width, label='Validation')\n",
    "        plt.bar(x + 0.17, test_mae, width, label='Test')\n",
    "        plt.xticks(ticks=x, labels=[list(multi_performance.keys())[i] for i in sorted_index], rotation=45)\n",
    "        plt.ylabel(metric_name)\n",
    "        plt.title(metric_name)\n",
    "        if n == 0:\n",
    "            _ = plt.legend()"
   ]
  },
  {
   "cell_type": "code",
   "execution_count": null,
   "metadata": {},
   "outputs": [],
   "source": [
    "plot_metrics()"
   ]
  },
  {
   "cell_type": "code",
   "execution_count": null,
   "metadata": {},
   "outputs": [],
   "source": [
    "plot_metrics(False)"
   ]
  },
  {
   "cell_type": "code",
   "execution_count": null,
   "metadata": {},
   "outputs": [],
   "source": [
    "multi_performance"
   ]
  },
  {
   "cell_type": "code",
   "execution_count": null,
   "metadata": {},
   "outputs": [],
   "source": []
  }
 ],
 "metadata": {
  "interpreter": {
   "hash": "eb2ab97fed459a161174961b67d20d1eb4f3414b90b70660d35ba0f38956576f"
  },
  "kernelspec": {
   "display_name": "Python 3 (ipykernel)",
   "language": "python",
   "name": "python3"
  },
  "language_info": {
   "codemirror_mode": {
    "name": "ipython",
    "version": 3
   },
   "file_extension": ".py",
   "mimetype": "text/x-python",
   "name": "python",
   "nbconvert_exporter": "python",
   "pygments_lexer": "ipython3",
   "version": "3.9.10"
  }
 },
 "nbformat": 4,
 "nbformat_minor": 4
}
