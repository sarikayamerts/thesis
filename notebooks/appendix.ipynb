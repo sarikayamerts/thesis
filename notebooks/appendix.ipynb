{
 "cells": [
  {
   "cell_type": "code",
   "execution_count": 1,
   "id": "7c387396-5348-4b90-b30b-31f1e86716da",
   "metadata": {},
   "outputs": [],
   "source": [
    "import pandas as pd"
   ]
  },
  {
   "cell_type": "code",
   "execution_count": 3,
   "id": "78af7ad0-c628-4c40-86fe-711ac3f65aad",
   "metadata": {},
   "outputs": [
    {
     "data": {
      "text/plain": [
       "'/home/mert/Desktop/thesis/notebooks'"
      ]
     },
     "execution_count": 3,
     "metadata": {},
     "output_type": "execute_result"
    }
   ],
   "source": [
    "import os; os.getcwd()"
   ]
  },
  {
   "cell_type": "code",
   "execution_count": 10,
   "id": "418db96d-2420-4988-a1b9-917a2518620d",
   "metadata": {},
   "outputs": [],
   "source": [
    "ege_farms = pd.read_csv(\"../data/meta/ege_farms.csv\")\n",
    "df = pd.read_parquet(\"../data/processed/outlier_removed.parquet\")"
   ]
  },
  {
   "cell_type": "code",
   "execution_count": 11,
   "id": "713d87e8-ced2-4b6c-b3f1-829f63c9873f",
   "metadata": {},
   "outputs": [],
   "source": [
    "ege_farms = ege_farms[ege_farms.rt_plant_id.isin(df.rt_plant_id.unique())]"
   ]
  },
  {
   "cell_type": "code",
   "execution_count": 18,
   "id": "5de397d0-bbec-442c-86f6-65d675bd0094",
   "metadata": {},
   "outputs": [
    {
     "ename": "TypeError",
     "evalue": "to_latex() got an unexpected keyword argument 'largetable'",
     "output_type": "error",
     "traceback": [
      "\u001b[0;31m---------------------------------------------------------------------------\u001b[0m",
      "\u001b[0;31mTypeError\u001b[0m                                 Traceback (most recent call last)",
      "Input \u001b[0;32mIn [18]\u001b[0m, in \u001b[0;36m<cell line: 1>\u001b[0;34m()\u001b[0m\n\u001b[0;32m----> 1\u001b[0m \u001b[38;5;28mprint\u001b[39m(\u001b[43mege_farms\u001b[49m\u001b[43m[\u001b[49m\u001b[43m[\u001b[49m\u001b[38;5;124;43m\"\u001b[39;49m\u001b[38;5;124;43mprovince\u001b[39;49m\u001b[38;5;124;43m\"\u001b[39;49m\u001b[43m,\u001b[49m\u001b[43m \u001b[49m\u001b[38;5;124;43m\"\u001b[39;49m\u001b[38;5;124;43msubProvince\u001b[39;49m\u001b[38;5;124;43m\"\u001b[39;49m\u001b[43m,\u001b[49m\u001b[43m \u001b[49m\u001b[38;5;124;43m\"\u001b[39;49m\u001b[38;5;124;43mname\u001b[39;49m\u001b[38;5;124;43m\"\u001b[39;49m\u001b[43m,\u001b[49m\u001b[43m \u001b[49m\u001b[38;5;124;43m\"\u001b[39;49m\u001b[38;5;124;43mlat\u001b[39;49m\u001b[38;5;124;43m\"\u001b[39;49m\u001b[43m,\u001b[49m\u001b[43m \u001b[49m\u001b[38;5;124;43m\"\u001b[39;49m\u001b[38;5;124;43mlon\u001b[39;49m\u001b[38;5;124;43m\"\u001b[39;49m\u001b[43m,\u001b[49m\u001b[43m \u001b[49m\u001b[38;5;124;43m\"\u001b[39;49m\u001b[38;5;124;43mrt_plant_id\u001b[39;49m\u001b[38;5;124;43m\"\u001b[39;49m\u001b[43m]\u001b[49m\u001b[43m]\u001b[49m\u001b[38;5;241;43m.\u001b[39;49m\u001b[43msort_values\u001b[49m\u001b[43m(\u001b[49m\u001b[38;5;124;43m\"\u001b[39;49m\u001b[38;5;124;43mrt_plant_id\u001b[39;49m\u001b[38;5;124;43m\"\u001b[39;49m\u001b[43m)\u001b[49m\u001b[38;5;241;43m.\u001b[39;49m\u001b[43mto_latex\u001b[49m\u001b[43m(\u001b[49m\u001b[43mbuf\u001b[49m\u001b[38;5;241;43m=\u001b[39;49m\u001b[38;5;124;43m'\u001b[39;49m\u001b[38;5;124;43mcitations.tex\u001b[39;49m\u001b[38;5;124;43m'\u001b[39;49m\u001b[43m,\u001b[49m\u001b[43m \u001b[49m\u001b[43mlargetable\u001b[49m\u001b[38;5;241;43m=\u001b[39;49m\u001b[38;5;28;43;01mTrue\u001b[39;49;00m\u001b[43m,\u001b[49m\u001b[43m \u001b[49m\u001b[43mindex\u001b[49m\u001b[38;5;241;43m=\u001b[39;49m\u001b[38;5;28;43;01mFalse\u001b[39;49;00m\u001b[43m)\u001b[49m)\n",
      "\u001b[0;31mTypeError\u001b[0m: to_latex() got an unexpected keyword argument 'largetable'"
     ]
    }
   ],
   "source": [
    "\n",
    "print(ege_farms[[\"province\", \"subProvince\", \"name\", \"lat\", \"lon\", \"rt_plant_id\"]].sort_values(\"rt_plant_id\").to_latex(buf='citations.tex', largetable=True, index=False))"
   ]
  },
  {
   "cell_type": "code",
   "execution_count": 17,
   "id": "74398eef-3b88-4eba-9fc4-5e0414ff5c5f",
   "metadata": {},
   "outputs": [
    {
     "name": "stdout",
     "output_type": "stream",
     "text": [
      "\\begin{tabular}{lllrrr}\n",
      "\\toprule\n",
      " province &    subProvince &                   name &       lat &       lon &  rt\\_plant\\_id \\\\\n",
      "\\midrule\n",
      "Balikesir &       Bandırma &           BANDIRMA RES & 40.275464 & 27.990105 &          672 \\\\\n",
      "Balikesir &         Manyas &           GÜNAYDIN RES & 40.047991 & 27.936865 &          757 \\\\\n",
      "    Izmir &      Karaburun &              LODOS RES & 38.557534 & 26.480112 &          968 \\\\\n",
      "   Manisa &           Soma &               SOMA RES & 39.235351 & 27.590109 &          969 \\\\\n",
      "Çanakkale &         Merkez &             BURGAZ RES & 40.051362 & 26.490631 &         1194 \\\\\n",
      "    Aydin &           Çine &         TURGUTTEPE RES & 37.610605 & 28.034082 &         1459 \\\\\n",
      "    Mugla &          Datça &              DATÇA RES & 36.741677 & 27.679906 &         1460 \\\\\n",
      "    Aydin &          Didim &              AKBÜK RES & 37.438939 & 27.306191 &         1472 \\\\\n",
      "    Izmir &         Aliağa &     ALİAĞA BERGAMA RES & 38.809698 & 27.037129 &         1484 \\\\\n",
      "    Izmir &          Çeşme &              ALİZE RES & 38.280380 & 26.379425 &         1485 \\\\\n",
      "    Izmir &        Bergama &             DÜZOVA RES & 39.173150 & 27.190281 &         1487 \\\\\n",
      "    Izmir &         Aliağa &      KARADAĞ GARET RES & 38.809698 & 27.037129 &         1488 \\\\\n",
      "Çanakkale &          Ezine &              SARES RES & 39.798211 & 26.291050 &         1489 \\\\\n",
      "Çanakkale &         Merkez &             İNTEPE RES & 40.051362 & 26.490631 &         1490 \\\\\n",
      "Çanakkale &          Ezine & ENERJİSA ÇANAKKALE RES & 39.798211 & 26.291050 &         1491 \\\\\n",
      "Çanakkale &          Ezine &            ÇAMSEKİ RES & 39.798211 & 26.291050 &         1492 \\\\\n",
      "Çanakkale &        Ayvacık &       SEYİT ONBAŞI RES & 39.586788 & 26.371420 &         1493 \\\\\n",
      "    Izmir &          Çeşme &            KOCADAĞ RES & 38.280380 & 26.379425 &         1494 \\\\\n",
      "    Izmir &           Urla &           KOZBEYLİ RES & 38.297417 & 26.625275 &         1498 \\\\\n",
      "    Izmir &          Çeşme &               MARE RES & 38.280380 & 26.379425 &         1499 \\\\\n",
      "    Izmir &          Çeşme &               MAZI RES & 38.280380 & 26.379425 &         1501 \\\\\n",
      "    Izmir &        Torbalı &            SAMURLU RES & 38.180782 & 27.357286 &         1502 \\\\\n",
      "Çanakkale &         Merkez &                  BORES & 40.051362 & 26.490631 &         1503 \\\\\n",
      "    Izmir & Bornova\\_x000D\\_ &           SEYİTALİ RES & 38.485144 & 27.261047 &         1504 \\\\\n",
      "    Izmir &          Çeşme &          ZEYTİNELİ RES & 38.280380 & 26.379425 &         1505 \\\\\n",
      "    Izmir &         Aliağa &           YUNTDAĞI RES & 38.809698 & 27.037129 &         1506 \\\\\n",
      "Balikesir &         Merkez &              ŞAMLI RES & 39.639274 & 27.869806 &         1507 \\\\\n",
      "Balikesir &       Bandırma &                ŞAH RES & 40.275464 & 27.990105 &         1508 \\\\\n",
      "Balikesir &       Susurluk &           SUSURLUK RES & 39.905415 & 28.132483 &         1509 \\\\\n",
      "Balikesir &         Kepsut &             POYRAZ RES & 39.693671 & 28.247393 &         1511 \\\\\n",
      "Balikesir &       Susurluk &            KELTEPE RES & 39.905415 & 28.132483 &         1512 \\\\\n",
      "Balikesir &          Erdek &            KAPIDAĞ RES & 40.460177 & 27.853408 &         1513 \\\\\n",
      "Balikesir &         Havran &          ÇATALTEPE RES & 39.603643 & 27.207329 &         1514 \\\\\n",
      "Balikesir &       Bandırma &                  BARES & 40.275464 & 27.990105 &         1516 \\\\\n",
      "Balikesir &       Bandırma &          BANDIRMA3 RES & 40.275464 & 27.990105 &         1517 \\\\\n",
      "Balikesir &         Merkez &          BALIKESİR RES & 39.639274 & 27.869806 &         1518 \\\\\n",
      "Balikesir &       Bandırma &           AYYILDIZ RES & 40.275464 & 27.990105 &         1519 \\\\\n",
      "   Manisa &         Merkez &            AKHİSAR RES & 38.710603 & 27.400094 &         1523 \\\\\n",
      "   Manisa &        Akhisar &           KARAKURT RES & 38.960366 & 27.886544 &         1524 \\\\\n",
      "   Manisa &       Kırkağaç &            KUYUCAK RES & 39.180884 & 27.793273 &         1525 \\\\\n",
      "   Manisa &         Merkez &              SOMA1 RES & 38.710603 & 27.400094 &         1527 \\\\\n",
      "   Manisa &         Merkez &              SOMA2 RES & 38.710603 & 27.400094 &         1528 \\\\\n",
      "Balikesir &       Bandırma &            EDİNCİK RES & 40.275464 & 27.990105 &         1537 \\\\\n",
      "    Izmir &      Karaburun &      MORDOĞAN AYEN RES & 38.557534 & 26.480112 &         1578 \\\\\n",
      "Balikesir &          Erdek &         PAŞALİMANI RES & 40.460177 & 27.853408 &         1655 \\\\\n",
      "   Manisa &       Kırkağaç &              GERES RES & 39.180884 & 27.793273 &         1709 \\\\\n",
      "    Izmir &      Karaburun &             SALMAN RES & 38.557534 & 26.480112 &         1737 \\\\\n",
      "   Manisa &        Akhisar &            GÖKRES2 RES & 38.960366 & 27.886544 &         1741 \\\\\n",
      "    Izmir &    Seferihisar &            KORKMAZ RES & 38.170945 & 26.875423 &         1759 \\\\\n",
      "Balikesir &         Merkez &            KAVAKLI RES & 39.639274 & 27.869806 &         1761 \\\\\n",
      "    Izmir &         Aliağa &             ALİAĞA RES & 38.809698 & 27.037129 &         1781 \\\\\n",
      "    Izmir &         Dikili &             PİTANE RES & 39.070279 & 26.908389 &         1843 \\\\\n",
      "Çanakkale &        Lapseki &               KORU RES & 40.269261 & 26.786767 &         1878 \\\\\n",
      "Balikesir &         Merkez &        ORTAMANDIRA RES & 39.639274 & 27.869806 &         1883 \\\\\n",
      "    Izmir &          Çeşme &              ÇEŞME RES & 38.280380 & 26.379425 &         1899 \\\\\n",
      "    Izmir &           Tire &             ÖDEMİŞ RES & 38.064870 & 27.697942 &         1900 \\\\\n",
      "Balikesir &         Kepsut &         POYRAZGÖLÜ RES & 39.693671 & 28.247393 &         1928 \\\\\n",
      "    Aydin &        Koçarlı &           BAĞARASI RES & 37.691466 & 27.692614 &         1929 \\\\\n",
      "    Izmir &         Selçuk &             ADARES RES & 37.960240 & 27.357523 &         1939 \\\\\n",
      "    Izmir &      Kemalpaşa &                EGE RES & 38.422561 & 27.486769 &         1943 \\\\\n",
      "    Aydin &          Didim &         SUAY AKBÜK RES & 37.438939 & 27.306191 &         1944 \\\\\n",
      "Çanakkale &           Biga &               BİGA RES & 40.277127 & 27.224720 &         1945 \\\\\n",
      "    Izmir &      Kemalpaşa &            FUATRES RES & 38.422561 & 27.486769 &         1959 \\\\\n",
      "    Aydin &           Söke &               SÖKE RES & 37.647136 & 27.384445 &         1977 \\\\\n",
      "    Mugla &          Milas &             AKBÜK2 RES & 37.284770 & 27.732642 &         2031 \\\\\n",
      "    Izmir &      Karaburun &           YAYLAKÖY RES & 38.557534 & 26.480112 &         2040 \\\\\n",
      "    Izmir &          Konak &           GERMİYAN RES & 38.384474 & 27.130678 &         2050 \\\\\n",
      "    Izmir &           Urla &          URLA ENDA RES & 38.297417 & 26.625275 &         2058 \\\\\n",
      "    Izmir &    Seferihisar &  SEFERİHİSAR ÜÇGEN RES & 38.170945 & 26.875423 &         2062 \\\\\n",
      "    Izmir &          Çeşme &            ALAÇATI RES & 38.280380 & 26.379425 &         2063 \\\\\n",
      "    Izmir &      Karaburun &    MORDOĞAN EGENDA RES & 38.557534 & 26.480112 &         2070 \\\\\n",
      "    Izmir &           Urla &          DEMİRCİLİ RES & 38.297417 & 26.625275 &         2073 \\\\\n",
      "    Izmir &          Çeşme &      KARADAĞ OKMAN RES & 38.280380 & 26.379425 &         2083 \\\\\n",
      "    Aydin &           Köşk &                OVA RES & 37.942656 & 28.106745 &         2089 \\\\\n",
      "    Izmir &           Urla &        URLA HASSAS RES & 38.297417 & 26.625275 &         2112 \\\\\n",
      "    Mugla &         Merkez &              FATMA RES & 37.227949 & 28.437919 &         2113 \\\\\n",
      "    Bursa &      Karacabey &          KARACABEY RES & 40.248219 & 28.364875 &         2114 \\\\\n",
      "    Izmir &     Güzelbahçe &  SEFERİHİSAR EKSİM RES & 38.333507 & 26.897073 &         2116 \\\\\n",
      "   Manisa &       Kırkağaç &           KIRKAĞAÇ RES & 39.180884 & 27.793273 &         2123 \\\\\n",
      "    Izmir &      Karaburun &          SARPINCIK RES & 38.557534 & 26.480112 &         2125 \\\\\n",
      "    Izmir &        Bergama &              KINIK RES & 39.173150 & 27.190281 &         2140 \\\\\n",
      "    Izmir &         Aliağa &             PETKİM RES & 38.809698 & 27.037129 &         2166 \\\\\n",
      "    Izmir &        Bergama &            BERGRES RES & 39.173150 & 27.190281 &         2180 \\\\\n",
      "    Izmir &           Tire &               TİRE RES & 38.064870 & 27.697942 &         2184 \\\\\n",
      "    Mugla &         Bodrum &             KAROVA RES & 37.059491 & 27.490532 &         2224 \\\\\n",
      "    Mugla &          Datça &         DATÇA AKSA RES & 36.741677 & 27.679906 &         2288 \\\\\n",
      "Balikesir &          Gönen &           KALFAKÖY RES & 40.118308 & 27.649883 &         2291 \\\\\n",
      "    Izmir &        Bergama &      BERGAMA VENTO RES & 39.173150 & 27.190281 &         2323 \\\\\n",
      "Balikesir &      Burhaniye &             ALİBEY RES & 39.459210 & 27.026033 &         2326 \\\\\n",
      "    Aydin &          Didim &          YENİHİSAR RES & 37.438939 & 27.306191 &         2374 \\\\\n",
      "\\bottomrule\n",
      "\\end{tabular}\n",
      "\n"
     ]
    },
    {
     "name": "stderr",
     "output_type": "stream",
     "text": [
      "/tmp/ipykernel_40567/2592658971.py:1: FutureWarning: In future versions `DataFrame.to_latex` is expected to utilise the base implementation of `Styler.to_latex` for formatting and rendering. The arguments signature may therefore change. It is recommended instead to use `DataFrame.style.to_latex` which also contains additional functionality.\n",
      "  print(ege_farms[[\"province\", \"subProvince\", \"name\", \"lat\", \"lon\", \"rt_plant_id\"]].sort_values(\"rt_plant_id\").to_latex(index=False))\n"
     ]
    }
   ],
   "source": [
    "print(ege_farms[[\"province\", \"subProvince\", \"name\", \"lat\", \"lon\", \"rt_plant_id\"]].sort_values(\"rt_plant_id\").to_latex(index=False))"
   ]
  },
  {
   "cell_type": "code",
   "execution_count": null,
   "id": "986576c4-7fa8-4d8a-b256-6a4992ed5556",
   "metadata": {},
   "outputs": [],
   "source": []
  }
 ],
 "metadata": {
  "kernelspec": {
   "display_name": "Python 3 (ipykernel)",
   "language": "python",
   "name": "python3"
  },
  "language_info": {
   "codemirror_mode": {
    "name": "ipython",
    "version": 3
   },
   "file_extension": ".py",
   "mimetype": "text/x-python",
   "name": "python",
   "nbconvert_exporter": "python",
   "pygments_lexer": "ipython3",
   "version": "3.9.0"
  }
 },
 "nbformat": 4,
 "nbformat_minor": 5
}
