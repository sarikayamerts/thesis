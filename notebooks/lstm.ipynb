{
 "cells": [
  {
   "cell_type": "markdown",
   "metadata": {},
   "source": [
    "## Notes"
   ]
  },
  {
   "cell_type": "markdown",
   "metadata": {},
   "source": [
    "This snippet is taking from deep-forecasting by Daniel Herkert. Btc price is trying to be predicted. It uses some features like open close ratio and so on. But in our context we are using it as follows\n",
    "\n",
    "last N hours of data is taken in a batch, say from Hour0 to Hour99, it has Production0 to Production99 values and Feature1_0 to Feature8_99 values, 9 * 100 feature goes into the model, and model tries to predict Production100 value.\n",
    "\n",
    "We need to add\n",
    "- Utilizing Feature1_100 to Feature8_100 for prediction of Prod100 (almost done)\n",
    "- Predicting Prod100 to Prod124 in a single shot (almost done)\n",
    "- scaling seperately for each rt_plant_id\n",
    "- scaling for capacity (utilization)"
   ]
  },
  {
   "cell_type": "markdown",
   "metadata": {},
   "source": [
    "### Resources \n",
    "- https://stackoverflow.com/questions/56858924/multivariate-input-lstm-in-pytorch\n",
    "- https://github.com/danielhkt/deep-forecasting\n",
    "    - main code is taken from here\n",
    "- https://www.crosstab.io/articles/time-series-pytorch-lstm\n",
    "- https://pangkh98.medium.com/multi-step-multivariate-time-series-forecasting-using-lstm-92c6d22cd9c2\n",
    "    - Shifting of y\n",
    "- https://machinelearningmastery.com/how-to-develop-lstm-models-for-multi-step-time-series-forecasting-of-household-power-consumption/\n",
    "    - seq2seq introduction\n",
    "    - lstm autoregressive tasklarda çok iyi çalışmayabilir diyor, seq2seq'te encoder cnn decoder lstm kullanan bi approachtan bahsediyor\n",
    "- https://machinelearningmastery.com/how-to-develop-lstm-models-for-time-series-forecasting/\n",
    "    - multistep lstm\n",
    "    - multivariate lstm\n",
    "    - multivariate & multistep lstm\n",
    "\n",
    "\n"
   ]
  },
  {
   "cell_type": "markdown",
   "metadata": {},
   "source": []
  },
  {
   "cell_type": "markdown",
   "metadata": {},
   "source": [
    "## Read Data"
   ]
  },
  {
   "cell_type": "code",
   "execution_count": 1,
   "metadata": {},
   "outputs": [],
   "source": [
    "import torch\n",
    "import torch.nn as nn\n",
    "import pandas as pd\n",
    "import numpy as np\n",
    "from pathlib import Path\n",
    "\n",
    "import warnings\n",
    "warnings.filterwarnings(\"ignore\")"
   ]
  },
  {
   "cell_type": "code",
   "execution_count": 2,
   "metadata": {},
   "outputs": [
    {
     "name": "stdout",
     "output_type": "stream",
     "text": [
      "(2586416, 16)\n"
     ]
    }
   ],
   "source": [
    "df = pd.read_parquet(\"data/wind/2019-01-24_outlier_removed.parquet\")    \n",
    "# df = pd.read_parquet(\"/content/drive/MyDrive/thesis/data/2019-01-24_outlier_removed.parquet\")\n",
    "df = df[~df[\"rt_plant_id\"].isin([2397, 2420, 2538])]\n",
    "print(df.shape)"
   ]
  },
  {
   "cell_type": "code",
   "execution_count": 3,
   "metadata": {},
   "outputs": [
    {
     "name": "stdout",
     "output_type": "stream",
     "text": [
      "[969]\n",
      "(26392, 16)\n"
     ]
    }
   ],
   "source": [
    "selected_plants = df.groupby(\"rt_plant_id\")[[\"production\"]].sum().sort_values(\"production\", ascending=False).index[:1].to_list()\n",
    "print(selected_plants)\n",
    "df = df[df[\"rt_plant_id\"].isin(selected_plants)].reset_index(drop=True)\n",
    "print(df.shape)"
   ]
  },
  {
   "cell_type": "code",
   "execution_count": 4,
   "metadata": {},
   "outputs": [],
   "source": [
    "weather_cols = [col for col in df.columns if col.startswith((\"UGRD\", \"VGRD\"))]\n",
    "\n",
    "df.forecast_dt = df.forecast_dt.dt.tz_localize(None)\n",
    "df = df.set_index(\"forecast_dt\")[[\"rt_plant_id\", \"production\", *weather_cols]]\n",
    "\n",
    "df = df[df.index > \"2021-01-01\"]\n",
    "\n",
    "df = df.groupby(\"rt_plant_id\").resample(\"1H\").interpolate()\n",
    "df = df.drop(columns=[\"rt_plant_id\"]).reset_index().set_index(\"forecast_dt\").sort_index()"
   ]
  },
  {
   "cell_type": "code",
   "execution_count": 5,
   "metadata": {},
   "outputs": [
    {
     "data": {
      "text/html": [
       "<div>\n",
       "<style scoped>\n",
       "    .dataframe tbody tr th:only-of-type {\n",
       "        vertical-align: middle;\n",
       "    }\n",
       "\n",
       "    .dataframe tbody tr th {\n",
       "        vertical-align: top;\n",
       "    }\n",
       "\n",
       "    .dataframe thead th {\n",
       "        text-align: right;\n",
       "    }\n",
       "</style>\n",
       "<table border=\"1\" class=\"dataframe\">\n",
       "  <thead>\n",
       "    <tr style=\"text-align: right;\">\n",
       "      <th></th>\n",
       "      <th>rt_plant_id</th>\n",
       "      <th>production</th>\n",
       "      <th>UGRD_80.m.above.ground.SW</th>\n",
       "      <th>UGRD_80.m.above.ground.NW</th>\n",
       "      <th>UGRD_80.m.above.ground.NE</th>\n",
       "      <th>UGRD_80.m.above.ground.SE</th>\n",
       "      <th>VGRD_80.m.above.ground.SW</th>\n",
       "      <th>VGRD_80.m.above.ground.NW</th>\n",
       "      <th>VGRD_80.m.above.ground.NE</th>\n",
       "      <th>VGRD_80.m.above.ground.SE</th>\n",
       "    </tr>\n",
       "    <tr>\n",
       "      <th>forecast_dt</th>\n",
       "      <th></th>\n",
       "      <th></th>\n",
       "      <th></th>\n",
       "      <th></th>\n",
       "      <th></th>\n",
       "      <th></th>\n",
       "      <th></th>\n",
       "      <th></th>\n",
       "      <th></th>\n",
       "      <th></th>\n",
       "    </tr>\n",
       "  </thead>\n",
       "  <tbody>\n",
       "    <tr>\n",
       "      <th>2021-01-01 01:00:00</th>\n",
       "      <td>969</td>\n",
       "      <td>149.0</td>\n",
       "      <td>-0.703479</td>\n",
       "      <td>-0.713479</td>\n",
       "      <td>-0.163479</td>\n",
       "      <td>-0.033479</td>\n",
       "      <td>3.54302</td>\n",
       "      <td>2.04302</td>\n",
       "      <td>3.70302</td>\n",
       "      <td>4.95302</td>\n",
       "    </tr>\n",
       "    <tr>\n",
       "      <th>2021-01-01 02:00:00</th>\n",
       "      <td>969</td>\n",
       "      <td>188.0</td>\n",
       "      <td>-1.021530</td>\n",
       "      <td>-0.931533</td>\n",
       "      <td>-0.511533</td>\n",
       "      <td>-0.531533</td>\n",
       "      <td>3.26271</td>\n",
       "      <td>1.76271</td>\n",
       "      <td>3.49271</td>\n",
       "      <td>4.75271</td>\n",
       "    </tr>\n",
       "    <tr>\n",
       "      <th>2021-01-01 03:00:00</th>\n",
       "      <td>969</td>\n",
       "      <td>195.0</td>\n",
       "      <td>-1.173110</td>\n",
       "      <td>-1.243110</td>\n",
       "      <td>-0.273107</td>\n",
       "      <td>-0.693107</td>\n",
       "      <td>3.46422</td>\n",
       "      <td>1.78422</td>\n",
       "      <td>3.56422</td>\n",
       "      <td>4.54422</td>\n",
       "    </tr>\n",
       "    <tr>\n",
       "      <th>2021-01-01 04:00:00</th>\n",
       "      <td>969</td>\n",
       "      <td>197.0</td>\n",
       "      <td>-1.257270</td>\n",
       "      <td>-1.307270</td>\n",
       "      <td>-0.647266</td>\n",
       "      <td>-0.917266</td>\n",
       "      <td>3.23561</td>\n",
       "      <td>1.70561</td>\n",
       "      <td>3.06561</td>\n",
       "      <td>3.78561</td>\n",
       "    </tr>\n",
       "    <tr>\n",
       "      <th>2021-01-01 05:00:00</th>\n",
       "      <td>969</td>\n",
       "      <td>211.0</td>\n",
       "      <td>-0.950615</td>\n",
       "      <td>-0.970615</td>\n",
       "      <td>0.149385</td>\n",
       "      <td>-0.560615</td>\n",
       "      <td>3.36557</td>\n",
       "      <td>1.63557</td>\n",
       "      <td>3.11557</td>\n",
       "      <td>3.93557</td>\n",
       "    </tr>\n",
       "  </tbody>\n",
       "</table>\n",
       "</div>"
      ],
      "text/plain": [
       "                     rt_plant_id  production  UGRD_80.m.above.ground.SW  \\\n",
       "forecast_dt                                                               \n",
       "2021-01-01 01:00:00          969       149.0                  -0.703479   \n",
       "2021-01-01 02:00:00          969       188.0                  -1.021530   \n",
       "2021-01-01 03:00:00          969       195.0                  -1.173110   \n",
       "2021-01-01 04:00:00          969       197.0                  -1.257270   \n",
       "2021-01-01 05:00:00          969       211.0                  -0.950615   \n",
       "\n",
       "                     UGRD_80.m.above.ground.NW  UGRD_80.m.above.ground.NE  \\\n",
       "forecast_dt                                                                 \n",
       "2021-01-01 01:00:00                  -0.713479                  -0.163479   \n",
       "2021-01-01 02:00:00                  -0.931533                  -0.511533   \n",
       "2021-01-01 03:00:00                  -1.243110                  -0.273107   \n",
       "2021-01-01 04:00:00                  -1.307270                  -0.647266   \n",
       "2021-01-01 05:00:00                  -0.970615                   0.149385   \n",
       "\n",
       "                     UGRD_80.m.above.ground.SE  VGRD_80.m.above.ground.SW  \\\n",
       "forecast_dt                                                                 \n",
       "2021-01-01 01:00:00                  -0.033479                    3.54302   \n",
       "2021-01-01 02:00:00                  -0.531533                    3.26271   \n",
       "2021-01-01 03:00:00                  -0.693107                    3.46422   \n",
       "2021-01-01 04:00:00                  -0.917266                    3.23561   \n",
       "2021-01-01 05:00:00                  -0.560615                    3.36557   \n",
       "\n",
       "                     VGRD_80.m.above.ground.NW  VGRD_80.m.above.ground.NE  \\\n",
       "forecast_dt                                                                 \n",
       "2021-01-01 01:00:00                    2.04302                    3.70302   \n",
       "2021-01-01 02:00:00                    1.76271                    3.49271   \n",
       "2021-01-01 03:00:00                    1.78422                    3.56422   \n",
       "2021-01-01 04:00:00                    1.70561                    3.06561   \n",
       "2021-01-01 05:00:00                    1.63557                    3.11557   \n",
       "\n",
       "                     VGRD_80.m.above.ground.SE  \n",
       "forecast_dt                                     \n",
       "2021-01-01 01:00:00                    4.95302  \n",
       "2021-01-01 02:00:00                    4.75271  \n",
       "2021-01-01 03:00:00                    4.54422  \n",
       "2021-01-01 04:00:00                    3.78561  \n",
       "2021-01-01 05:00:00                    3.93557  "
      ]
     },
     "execution_count": 5,
     "metadata": {},
     "output_type": "execute_result"
    }
   ],
   "source": [
    "df.head()"
   ]
  },
  {
   "cell_type": "code",
   "execution_count": 6,
   "metadata": {},
   "outputs": [],
   "source": [
    "PLANTS = sorted(df.rt_plant_id.unique())\n",
    "\n",
    "def expand_plant_dimension(df):\n",
    "    n_loc = len(PLANTS)\n",
    "    n_time = df.index.nunique()\n",
    "    cols = [col for col in df.columns if col != \"rt_plant_id\"]\n",
    "    n_cols = len(cols)\n",
    "\n",
    "    df_np = np.zeros((n_loc, n_time, n_cols))\n",
    "    for i, plant_id in enumerate(PLANTS):\n",
    "        df_np[i, :, :] = df[df.rt_plant_id == plant_id][cols].values\n",
    "    return df_np"
   ]
  },
  {
   "cell_type": "markdown",
   "metadata": {},
   "source": [
    "## Train Test Split & Shifting"
   ]
  },
  {
   "cell_type": "code",
   "execution_count": null,
   "metadata": {},
   "outputs": [],
   "source": [
    "# I shifted production values by 48\n",
    "# and then splited them into train and test, some observations in train (last 48) should be used in test\n",
    "# or simply we can shift in test and ignore first 48 hours"
   ]
  },
  {
   "cell_type": "code",
   "execution_count": 7,
   "metadata": {},
   "outputs": [],
   "source": [
    "apply_shift = False\n",
    "n_steps = 48\n",
    "\n",
    "if apply_shift:\n",
    "    df[\"original_production\"] = df[\"production\"]"
   ]
  },
  {
   "cell_type": "code",
   "execution_count": 8,
   "metadata": {},
   "outputs": [],
   "source": [
    "time_indices = sorted(df.index.unique())\n",
    "train_ratio = 0.8\n",
    "\n",
    "train_indices = time_indices[:int(len(time_indices) * train_ratio)]\n",
    "test_indices = time_indices[int(len(time_indices) * train_ratio):]\n",
    "\n",
    "if apply_shift:\n",
    "    df.loc[test_indices, \"production\"] = np.nan\n",
    "    df[\"production\"] = df.groupby(\"rt_plant_id\").production.shift(n_steps)\n",
    "\n",
    "test_df = df.loc[test_indices, :]\n",
    "train_df = df.loc[train_indices, :]\n",
    "\n",
    "if apply_shift:\n",
    "    train_df = train_df.dropna()\n",
    "    df = pd.concat([train_df, test_df]) \n",
    "    intersect = set(train_indices).intersection(df.index)\n",
    "    df = df.loc[intersect, :]"
   ]
  },
  {
   "cell_type": "code",
   "execution_count": 9,
   "metadata": {},
   "outputs": [],
   "source": [
    "train_df_np = expand_plant_dimension(train_df)\n",
    "test_df_np = expand_plant_dimension(test_df)"
   ]
  },
  {
   "cell_type": "code",
   "execution_count": 10,
   "metadata": {},
   "outputs": [],
   "source": [
    "from sklearn.preprocessing import MinMaxScaler\n",
    "from pathlib import Path\n",
    "\n",
    "scalers = {}\n",
    "for i in range(train_df_np.shape[0]):\n",
    "    scalers[PLANTS[i]] = MinMaxScaler()\n",
    "    train_df_np[i, :, :] = scalers[PLANTS[i]].fit_transform(train_df_np[i, :, :])\n",
    "\n",
    "for i in range(train_df_np.shape[0]):\n",
    "    test_df_np[i, :, :] = scalers[PLANTS[i]].transform(test_df_np[i, :, :])"
   ]
  },
  {
   "cell_type": "code",
   "execution_count": 11,
   "metadata": {},
   "outputs": [],
   "source": [
    "train_df_np = train_df_np.reshape(-1, 9)\n",
    "test_df_np = test_df_np.reshape(-1, 9)"
   ]
  },
  {
   "cell_type": "code",
   "execution_count": null,
   "metadata": {},
   "outputs": [],
   "source": []
  },
  {
   "cell_type": "code",
   "execution_count": null,
   "metadata": {},
   "outputs": [],
   "source": []
  },
  {
   "cell_type": "code",
   "execution_count": null,
   "metadata": {},
   "outputs": [],
   "source": []
  },
  {
   "cell_type": "code",
   "execution_count": null,
   "metadata": {},
   "outputs": [],
   "source": [
    "# plant_id = 0\n",
    "# print(PLANTS[plant_id])\n",
    "# pd.DataFrame(scalers[plant_id].inverse_transform(test_df_np[plant_id]))\n",
    "\n",
    "# test_df[test_df[\"rt_plant_id\"] == PLANTS[plant_id]]"
   ]
  },
  {
   "cell_type": "code",
   "execution_count": 12,
   "metadata": {},
   "outputs": [],
   "source": [
    "model_dir = \"data/wind\""
   ]
  },
  {
   "cell_type": "markdown",
   "metadata": {},
   "source": [
    "## Scaling (Not for now)"
   ]
  },
  {
   "cell_type": "code",
   "execution_count": null,
   "metadata": {},
   "outputs": [],
   "source": [
    "# scaling for each rt plant id seperately\n",
    "# train_df = train_df.groupby(\"rt_plant_id\").transform(lambda x: (x - x.mean()) / x.std())"
   ]
  },
  {
   "cell_type": "code",
   "execution_count": null,
   "metadata": {},
   "outputs": [],
   "source": [
    "from sklearn.preprocessing import MinMaxScaler\n",
    "import joblib\n",
    "from pathlib import Path\n",
    "\n",
    "scaler = MinMaxScaler()\n",
    "scaler = scaler.fit(train_df)\n",
    "\n",
    "train_df = pd.DataFrame(\n",
    "    scaler.transform(train_df),\n",
    "    index=train_df.index,\n",
    "    columns=train_df.columns)\n",
    "\n",
    "# save trained data scaler\n",
    "joblib.dump(scaler, Path(model_dir, 'scaler.gz'))\n",
    "\n",
    "scaler = joblib.load(Path(model_dir, 'scaler.gz'))\n",
    "test_df = pd.DataFrame(\n",
    "    scaler.transform(test_df),\n",
    "    index=test_df.index,\n",
    "    columns=test_df.columns)"
   ]
  },
  {
   "cell_type": "markdown",
   "metadata": {},
   "source": [
    "## Data Loader"
   ]
  },
  {
   "cell_type": "code",
   "execution_count": 13,
   "metadata": {},
   "outputs": [],
   "source": [
    "if len(train_df_np.shape) == 2:\n",
    "    X_train, y_train = train_df_np[:, 1:], train_df_np[:, 0]\n",
    "    X_test, y_test = test_df_np[:, 1:], test_df_np[:, 0]\n",
    "    print(X_train.shape, y_train.shape)\n",
    "\n",
    "elif len(train_df_np.shape) == 3:\n",
    "    X_train, y_train = train_df_np[:, :, 1:], train_df_np[:, :, 0]\n",
    "    X_test, y_test = test_df_np[:, :, 1:], test_df_np[:, :, 0]\n",
    "    print(X_train.shape, y_train.shape)"
   ]
  },
  {
   "cell_type": "code",
   "execution_count": 14,
   "metadata": {},
   "outputs": [
    {
     "name": "stdout",
     "output_type": "stream",
     "text": [
      "(7525, 8) (7525,)\n"
     ]
    }
   ],
   "source": []
  },
  {
   "cell_type": "code",
   "execution_count": 87,
   "metadata": {},
   "outputs": [],
   "source": [
    "from torch.utils.data import Dataset, DataLoader\n",
    "\n",
    "sequence_length = 6 * 24\n",
    "batch_size = 10 * 24\n",
    "n_epochs = 20\n",
    "n_epochs_stop = 5\n",
    "\n",
    "class TimeSeriesDataset(Dataset):\n",
    "    def __init__(self, X, y, sequence_length):\n",
    "        self.X = X\n",
    "        self.y = y\n",
    "        self.sequence_length = sequence_length\n",
    "        \n",
    "    def __len__(self):\n",
    "        return self.X.shape[0] - self.sequence_length\n",
    "\n",
    "    def __getitem__(self, index):\n",
    "        return self.X[index:index+self.sequence_length], self.y[index+self.sequence_length]\n",
    "\n",
    "train_dataset = TimeSeriesDataset(X_train, y_train, sequence_length=sequence_length)\n",
    "train_loader = DataLoader(train_dataset, batch_size=batch_size, shuffle=False)\n",
    "\n",
    "test_dataset = TimeSeriesDataset(X_test, y_test, sequence_length=sequence_length)\n",
    "test_loader = DataLoader(test_dataset, batch_size=100, shuffle=False)"
   ]
  },
  {
   "cell_type": "code",
   "execution_count": 88,
   "metadata": {},
   "outputs": [],
   "source": [
    "class TSModel(nn.Module):\n",
    "    def __init__(self, n_features, n_hidden=100, n_layers=4, n_steps=1):\n",
    "        super(TSModel, self).__init__()\n",
    "        self.lstm = nn.LSTM(\n",
    "            input_size=n_features,\n",
    "            hidden_size=n_hidden,\n",
    "            batch_first=True,\n",
    "            num_layers=n_layers,\n",
    "            dropout=0.2\n",
    "        )\n",
    "        self.linear = nn.Linear(n_hidden, n_steps)\n",
    "\n",
    "    def forward(self, x):\n",
    "        _, (hidden, _) = self.lstm(x)\n",
    "        lstm_out = hidden[-1]  # output last hidden state output\n",
    "        y_pred = self.linear(lstm_out)\n",
    "\n",
    "        return y_pred\n"
   ]
  },
  {
   "cell_type": "code",
   "execution_count": 89,
   "metadata": {},
   "outputs": [],
   "source": [
    "n_features = X_train.shape[-1]\n",
    "model = TSModel(n_features)\n",
    "criterion = torch.nn.MSELoss()  # L1Loss()\n",
    "optimizer = torch.optim.Adam(model.parameters(), lr=0.001)"
   ]
  },
  {
   "cell_type": "code",
   "execution_count": 90,
   "metadata": {},
   "outputs": [
    {
     "name": "stdout",
     "output_type": "stream",
     "text": [
      "Epoch 1 train loss: 0.1371 test loss: 0.0915\n",
      "Epoch 2 train loss: 0.1043 test loss: 0.0944\n",
      "Epoch 3 train loss: 0.1015 test loss: 0.0916\n",
      "Epoch 4 train loss: 0.0995 test loss: 0.0905\n",
      "Epoch 5 train loss: 0.0987 test loss: 0.0909\n",
      "Epoch 6 train loss: 0.0984 test loss: 0.091\n",
      "Epoch 7 train loss: 0.0971 test loss: 0.1164\n",
      "Epoch 8 train loss: 0.0969 test loss: 0.0903\n",
      "Epoch 9 train loss: 0.0944 test loss: 0.0988\n",
      "Epoch 10 train loss: 0.0991 test loss: 0.0924\n",
      "Epoch 11 train loss: 0.0871 test loss: 0.1007\n",
      "Epoch 12 train loss: 0.0836 test loss: 0.1101\n",
      "Early stopping.\n"
     ]
    }
   ],
   "source": [
    "train_hist = []\n",
    "test_hist = []\n",
    "\n",
    "# start training\n",
    "best_loss = np.inf\n",
    "n_epochs = 20\n",
    "epochs_no_improve = 0\n",
    "for epoch in range(1, n_epochs+1):\n",
    "    running_loss = 0\n",
    "    model.train()\n",
    "\n",
    "    for batch_idx, (data, target) in enumerate(train_loader, 1):\n",
    "        # zero the parameter gradients\n",
    "        optimizer.zero_grad()\n",
    "\n",
    "        # forward + backward + optimize\n",
    "        data = torch.Tensor(np.array(data))\n",
    "        output = model(data)\n",
    "        loss = criterion(output.flatten(), target.type_as(output))\n",
    "        # if type(criterion) == torch.nn.modules.loss.MSELoss:\n",
    "        #     loss = torch.sqrt(loss)  # RMSE\n",
    "        loss.backward()\n",
    "        optimizer.step()\n",
    "\n",
    "        running_loss += loss.item()\n",
    "    running_loss /= len(train_loader)\n",
    "    train_hist.append(running_loss)\n",
    "\n",
    "    # test loss\n",
    "    model.eval()\n",
    "    test_loss = 0\n",
    "    with torch.no_grad():\n",
    "        for data, target in test_loader:\n",
    "            data = torch.Tensor(np.array(data))\n",
    "            output = model(data)\n",
    "            loss = criterion(output.flatten(), target.type_as(output))\n",
    "            test_loss += loss.item()\n",
    "        test_loss /= len(test_loader)\n",
    "        test_hist.append(test_loss)\n",
    "\n",
    "        # early stopping\n",
    "        if test_loss < best_loss:\n",
    "            best_loss = test_loss\n",
    "            torch.save(model.state_dict(), Path(model_dir, 'model.pt'))\n",
    "            epochs_no_improve = 0\n",
    "        else:\n",
    "            epochs_no_improve += 1\n",
    "        if epochs_no_improve == n_epochs_stop:\n",
    "            print(\"Early stopping.\")\n",
    "            break\n",
    "\n",
    "    print(f'Epoch {epoch} train loss: {round(running_loss,4)} test loss: {round(test_loss,4)}')\n",
    "\n",
    "    hist = pd.DataFrame()\n",
    "    hist['training_loss'] = train_hist\n",
    "    hist['test_loss'] = test_hist\n"
   ]
  },
  {
   "cell_type": "code",
   "execution_count": 91,
   "metadata": {},
   "outputs": [],
   "source": [
    "df = test_df\n",
    "label_name = 'production'\n",
    "\n",
    "\n",
    "model = TSModel(n_features)\n",
    "model.load_state_dict(torch.load(Path(model_dir, 'model.pt')))\n",
    "model.eval()\n",
    "\n",
    "test_dataset = TimeSeriesDataset(X_test, y_test, sequence_length=sequence_length)\n",
    "test_loader = DataLoader(test_dataset, batch_size=1, shuffle=False)\n",
    "\n",
    "predictions = []\n",
    "labels = []\n",
    "with torch.no_grad():\n",
    "    for features, target in test_loader:\n",
    "        features = torch.Tensor(np.array(features))\n",
    "        output = model(features)\n",
    "        predictions.append(output.item())\n",
    "        labels.append(target.item())\n"
   ]
  },
  {
   "cell_type": "code",
   "execution_count": 92,
   "metadata": {},
   "outputs": [],
   "source": [
    "# bring predictions back to original scale\n",
    "# scaler = joblib.load(Path(model_dir, 'scaler.gz'))\n",
    "scaler = scalers[PLANTS[0]]\n",
    "descaler = MinMaxScaler()\n",
    "descaler.min_, descaler.scale_ = scaler.min_[0], scaler.scale_[0]\n",
    "\n",
    "def descale(descaler, values):\n",
    "    values_2d = np.array(values)[:, np.newaxis]\n",
    "    return descaler.inverse_transform(values_2d).flatten()\n",
    "\n",
    "predictions_descaled = descale(descaler, predictions)\n",
    "labels_descaled = descale(descaler, labels)"
   ]
  },
  {
   "cell_type": "code",
   "execution_count": 93,
   "metadata": {},
   "outputs": [
    {
     "data": {
      "text/plain": [
       "<AxesSubplot:>"
      ]
     },
     "execution_count": 93,
     "metadata": {},
     "output_type": "execute_result"
    },
    {
     "data": {
      "image/png": "[encoded data removed]",
      "text/plain": [
       "<Figure size 1080x576 with 1 Axes>"
      ]
     },
     "metadata": {
      "needs_background": "light"
     },
     "output_type": "display_data"
    }
   ],
   "source": [
    "df_pred = pd.DataFrame()\n",
    "df_pred['predicted'] = predictions_descaled\n",
    "df_pred['true'] = labels_descaled\n",
    "# df_pred['residual'] = labels_descaled - predictions_descaled\n",
    "df_pred.plot(figsize=(15,8))"
   ]
  },
  {
   "cell_type": "code",
   "execution_count": null,
   "metadata": {},
   "outputs": [],
   "source": []
  },
  {
   "cell_type": "code",
   "execution_count": null,
   "metadata": {},
   "outputs": [],
   "source": []
  },
  {
   "cell_type": "code",
   "execution_count": null,
   "metadata": {},
   "outputs": [],
   "source": []
  },
  {
   "cell_type": "code",
   "execution_count": null,
   "metadata": {},
   "outputs": [],
   "source": []
  },
  {
   "cell_type": "code",
   "execution_count": null,
   "metadata": {},
   "outputs": [],
   "source": []
  },
  {
   "cell_type": "code",
   "execution_count": null,
   "metadata": {},
   "outputs": [],
   "source": []
  },
  {
   "cell_type": "code",
   "execution_count": null,
   "metadata": {},
   "outputs": [],
   "source": [
    "n_window = 24\n",
    "n_loc = df.rt_plant_id.nunique()\n",
    "n_feat = len(weather_cols)\n",
    "n_time = df.index.nunique()\n",
    "num = n_time - n_window + 1\n",
    "\n",
    "x = np.zeros([n_loc, num, n_feat, n_window])\n",
    "y = np.zeros([n_loc, num, n_window])\n",
    "\n",
    "for i, plant_id in enumerate(sorted(df.rt_plant_id.unique())):\n",
    "    df_ = df[df[\"rt_plant_id\"] == plant_id]\n",
    "    for j in range(num):\n",
    "        for k, feat in enumerate(weather_cols):\n",
    "            x[i, j, k, :] = df_[feat][j: j+n_window].values\n",
    "            # x[i, k, :] = df_[feat].values\n",
    "        y[i, j, :] = df_[\"production\"][j: j+n_window].values\n",
    "        # y[i, :] = df_[\"production\"].values"
   ]
  },
  {
   "cell_type": "code",
   "execution_count": null,
   "metadata": {},
   "outputs": [],
   "source": []
  },
  {
   "cell_type": "code",
   "execution_count": null,
   "metadata": {},
   "outputs": [],
   "source": [
    "x.shape, y.shape"
   ]
  },
  {
   "cell_type": "code",
   "execution_count": null,
   "metadata": {},
   "outputs": [],
   "source": [
    "np.transpose(x, [0, 2, 1])[:, 0, :]"
   ]
  },
  {
   "cell_type": "code",
   "execution_count": null,
   "metadata": {},
   "outputs": [],
   "source": [
    "x[:, :, 0]"
   ]
  }
 ],
 "metadata": {
  "interpreter": {
   "hash": "3101b2c80d66a6543ff34d47ca09bd4d72b95f0f8bb6d61c06edb00070ba9e48"
  },
  "kernelspec": {
   "display_name": "Python 3.9.0 ('thesis_torch')",
   "language": "python",
   "name": "python3"
  },
  "language_info": {
   "codemirror_mode": {
    "name": "ipython",
    "version": 3
   },
   "file_extension": ".py",
   "mimetype": "text/x-python",
   "name": "python",
   "nbconvert_exporter": "python",
   "pygments_lexer": "ipython3",
   "version": "3.9.0"
  },
  "orig_nbformat": 4
 },
 "nbformat": 4,
 "nbformat_minor": 2
}
