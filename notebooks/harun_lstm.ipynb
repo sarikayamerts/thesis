{
 "cells": [
  {
   "cell_type": "code",
   "execution_count": 1,
   "id": "16219ad2-7d17-4c3b-b54b-e2fdb3ac8ae0",
   "metadata": {},
   "outputs": [],
   "source": [
    "import warnings; warnings.filterwarnings(\"ignore\")"
   ]
  },
  {
   "cell_type": "code",
   "execution_count": 2,
   "id": "bb9070ed-233d-4532-8679-f8369cadb514",
   "metadata": {},
   "outputs": [
    {
     "ename": "ModuleNotFoundError",
     "evalue": "No module named 'torch'",
     "output_type": "error",
     "traceback": [
      "\u001b[0;31m---------------------------------------------------------------------------\u001b[0m",
      "\u001b[0;31mModuleNotFoundError\u001b[0m                       Traceback (most recent call last)",
      "Input \u001b[0;32mIn [2]\u001b[0m, in \u001b[0;36m<cell line: 4>\u001b[0;34m()\u001b[0m\n\u001b[1;32m      2\u001b[0m \u001b[38;5;28;01mimport\u001b[39;00m \u001b[38;5;21;01mnumpy\u001b[39;00m \u001b[38;5;28;01mas\u001b[39;00m \u001b[38;5;21;01mnp\u001b[39;00m\n\u001b[1;32m      3\u001b[0m \u001b[38;5;28;01mimport\u001b[39;00m \u001b[38;5;21;01mmatplotlib\u001b[39;00m\u001b[38;5;21;01m.\u001b[39;00m\u001b[38;5;21;01mpyplot\u001b[39;00m \u001b[38;5;28;01mas\u001b[39;00m \u001b[38;5;21;01mplt\u001b[39;00m\n\u001b[0;32m----> 4\u001b[0m \u001b[38;5;28;01mimport\u001b[39;00m \u001b[38;5;21;01mtorch\u001b[39;00m\n",
      "\u001b[0;31mModuleNotFoundError\u001b[0m: No module named 'torch'"
     ]
    }
   ],
   "source": [
    "import pandas as pd\n",
    "import numpy as np\n",
    "import matplotlib.pyplot as plt\n",
    "import torch"
   ]
  },
  {
   "cell_type": "code",
   "execution_count": 18,
   "id": "60e8fc41-0137-4c72-ab74-c3cdd6914379",
   "metadata": {},
   "outputs": [],
   "source": [
    "df = pd.read_parquet(\"../data/processed/outlier_removed.parquet\")\n",
    "\n",
    "GENERATE_SPEED_ANGLE = True\n",
    "\n",
    "weather_cols = [col for col in df.columns if col.startswith((\"UGRD\", \"VGRD\"))]\n",
    "\n",
    "df = df.set_index(\"forecast_dt\")[[\"rt_plant_id\", \"production\", *weather_cols]]\n",
    "\n",
    "df = df[df[\"rt_plant_id\"] == 672].drop(\"rt_plant_id\", axis=1)\n",
    "\n",
    "if GENERATE_SPEED_ANGLE:\n",
    "    for box in [\"SW\", \"NW\", \"NE\", \"SE\"]:\n",
    "        df[f\"speed_{box}\"] = np.sqrt(np.square(df[f\"UGRD_80.m.above.ground.{box}\"]) + np.square(df[f\"VGRD_80.m.above.ground.{box}\"]))\n",
    "        df[f\"angle_{box}\"] = np.arctan(df[f\"UGRD_80.m.above.ground.{box}\"] / df[f\"VGRD_80.m.above.ground.{box}\"])\n",
    " "
   ]
  },
  {
   "cell_type": "code",
   "execution_count": null,
   "id": "9691c21d",
   "metadata": {},
   "outputs": [],
   "source": []
  },
  {
   "cell_type": "code",
   "execution_count": 21,
   "id": "143bea0a",
   "metadata": {},
   "outputs": [],
   "source": [
    "time_indices = sorted(df.index.unique())\n",
    "train_ratio = 0.8\n",
    "valid_ratio = 0.1\n",
    "\n",
    "train_indices = time_indices[:int(len(time_indices) * train_ratio)]\n",
    "valid_indices = time_indices[int(len(time_indices) * train_ratio):int(len(time_indices) * (train_ratio + valid_ratio))]\n",
    "test_indices = time_indices[int(len(time_indices) * (train_ratio + valid_ratio)):]\n",
    "\n",
    "train_df = df.loc[train_indices, :]\n",
    "valid_df = df.loc[valid_indices, :]\n",
    "test_df = df.loc[test_indices, :]"
   ]
  },
  {
   "cell_type": "code",
   "execution_count": 26,
   "id": "110fb2ca",
   "metadata": {},
   "outputs": [
    {
     "data": {
      "text/plain": [
       "21117"
      ]
     },
     "execution_count": 26,
     "metadata": {},
     "output_type": "execute_result"
    }
   ],
   "source": []
  },
  {
   "cell_type": "code",
   "execution_count": 24,
   "id": "d2cf47e3",
   "metadata": {},
   "outputs": [
    {
     "data": {
      "text/plain": [
       "21117"
      ]
     },
     "execution_count": 24,
     "metadata": {},
     "output_type": "execute_result"
    }
   ],
   "source": [
    "int(len(time_indices) * train_ratio)"
   ]
  },
  {
   "cell_type": "code",
   "execution_count": 13,
   "id": "595477ce",
   "metadata": {},
   "outputs": [],
   "source": [
    "window_size = 5\n",
    "\n",
    "serie_names = [col for col in df.columns if col not in [\"production\"]]\n",
    "\n",
    "df = df.sort_index()\n",
    "X = df[serie_names].values\n",
    "y = df.production.values\n",
    "\n",
    "idx = [[j+i for i in range(window_size)] for j in range(0, X.shape[0]-window_size)]\n",
    "X_sliding = X[idx, :]\n"
   ]
  },
  {
   "cell_type": "code",
   "execution_count": 40,
   "id": "09da7eec",
   "metadata": {},
   "outputs": [
    {
     "data": {
      "text/html": [
       "<div>\n",
       "<style scoped>\n",
       "    .dataframe tbody tr th:only-of-type {\n",
       "        vertical-align: middle;\n",
       "    }\n",
       "\n",
       "    .dataframe tbody tr th {\n",
       "        vertical-align: top;\n",
       "    }\n",
       "\n",
       "    .dataframe thead th {\n",
       "        text-align: right;\n",
       "    }\n",
       "</style>\n",
       "<table border=\"1\" class=\"dataframe\">\n",
       "  <thead>\n",
       "    <tr style=\"text-align: right;\">\n",
       "      <th></th>\n",
       "      <th>production</th>\n",
       "      <th>UGRD_80.m.above.ground.SW</th>\n",
       "      <th>UGRD_80.m.above.ground.NW</th>\n",
       "      <th>UGRD_80.m.above.ground.NE</th>\n",
       "      <th>UGRD_80.m.above.ground.SE</th>\n",
       "      <th>VGRD_80.m.above.ground.SW</th>\n",
       "      <th>VGRD_80.m.above.ground.NW</th>\n",
       "      <th>VGRD_80.m.above.ground.NE</th>\n",
       "      <th>VGRD_80.m.above.ground.SE</th>\n",
       "      <th>speed_SW</th>\n",
       "      <th>angle_SW</th>\n",
       "      <th>speed_NW</th>\n",
       "      <th>angle_NW</th>\n",
       "      <th>speed_NE</th>\n",
       "      <th>angle_NE</th>\n",
       "      <th>speed_SE</th>\n",
       "      <th>angle_SE</th>\n",
       "    </tr>\n",
       "    <tr>\n",
       "      <th>forecast_dt</th>\n",
       "      <th></th>\n",
       "      <th></th>\n",
       "      <th></th>\n",
       "      <th></th>\n",
       "      <th></th>\n",
       "      <th></th>\n",
       "      <th></th>\n",
       "      <th></th>\n",
       "      <th></th>\n",
       "      <th></th>\n",
       "      <th></th>\n",
       "      <th></th>\n",
       "      <th></th>\n",
       "      <th></th>\n",
       "      <th></th>\n",
       "      <th></th>\n",
       "      <th></th>\n",
       "    </tr>\n",
       "  </thead>\n",
       "  <tbody>\n",
       "    <tr>\n",
       "      <th>2019-01-24 03:00:00</th>\n",
       "      <td>49.00</td>\n",
       "      <td>-4.011990</td>\n",
       "      <td>-3.941990</td>\n",
       "      <td>-2.581990</td>\n",
       "      <td>-3.181990</td>\n",
       "      <td>1.89919</td>\n",
       "      <td>1.99919</td>\n",
       "      <td>0.529194</td>\n",
       "      <td>1.029190</td>\n",
       "      <td>4.438805</td>\n",
       "      <td>-1.128672</td>\n",
       "      <td>4.419960</td>\n",
       "      <td>-1.101443</td>\n",
       "      <td>2.635663</td>\n",
       "      <td>-1.368640</td>\n",
       "      <td>3.344293</td>\n",
       "      <td>-1.257974</td>\n",
       "    </tr>\n",
       "    <tr>\n",
       "      <th>2019-01-24 04:00:00</th>\n",
       "      <td>59.00</td>\n",
       "      <td>-4.967610</td>\n",
       "      <td>-4.717610</td>\n",
       "      <td>-3.677610</td>\n",
       "      <td>-4.087610</td>\n",
       "      <td>1.23072</td>\n",
       "      <td>1.31072</td>\n",
       "      <td>0.090718</td>\n",
       "      <td>0.540718</td>\n",
       "      <td>5.117795</td>\n",
       "      <td>-1.327937</td>\n",
       "      <td>4.896308</td>\n",
       "      <td>-1.299796</td>\n",
       "      <td>3.678729</td>\n",
       "      <td>-1.546134</td>\n",
       "      <td>4.123219</td>\n",
       "      <td>-1.439278</td>\n",
       "    </tr>\n",
       "    <tr>\n",
       "      <th>2019-01-24 05:00:00</th>\n",
       "      <td>32.00</td>\n",
       "      <td>-4.763300</td>\n",
       "      <td>-4.813300</td>\n",
       "      <td>-3.693300</td>\n",
       "      <td>-4.343300</td>\n",
       "      <td>1.20729</td>\n",
       "      <td>1.03729</td>\n",
       "      <td>0.447295</td>\n",
       "      <td>0.757295</td>\n",
       "      <td>4.913917</td>\n",
       "      <td>-1.322567</td>\n",
       "      <td>4.923802</td>\n",
       "      <td>-1.358538</td>\n",
       "      <td>3.720287</td>\n",
       "      <td>-1.450273</td>\n",
       "      <td>4.408826</td>\n",
       "      <td>-1.398172</td>\n",
       "    </tr>\n",
       "    <tr>\n",
       "      <th>2019-01-24 06:00:00</th>\n",
       "      <td>34.00</td>\n",
       "      <td>-4.417460</td>\n",
       "      <td>-4.687460</td>\n",
       "      <td>-3.407460</td>\n",
       "      <td>-4.127460</td>\n",
       "      <td>1.33664</td>\n",
       "      <td>1.45664</td>\n",
       "      <td>0.766641</td>\n",
       "      <td>1.416640</td>\n",
       "      <td>4.615253</td>\n",
       "      <td>-1.276973</td>\n",
       "      <td>4.908572</td>\n",
       "      <td>-1.269504</td>\n",
       "      <td>3.492638</td>\n",
       "      <td>-1.349492</td>\n",
       "      <td>4.363805</td>\n",
       "      <td>-1.240171</td>\n",
       "    </tr>\n",
       "    <tr>\n",
       "      <th>2019-01-24 07:00:00</th>\n",
       "      <td>44.00</td>\n",
       "      <td>-4.042970</td>\n",
       "      <td>-4.582970</td>\n",
       "      <td>-3.192970</td>\n",
       "      <td>-3.992970</td>\n",
       "      <td>1.14367</td>\n",
       "      <td>1.56367</td>\n",
       "      <td>0.753667</td>\n",
       "      <td>1.673670</td>\n",
       "      <td>4.201617</td>\n",
       "      <td>-1.295120</td>\n",
       "      <td>4.842383</td>\n",
       "      <td>-1.241990</td>\n",
       "      <td>3.280712</td>\n",
       "      <td>-1.339000</td>\n",
       "      <td>4.329547</td>\n",
       "      <td>-1.173888</td>\n",
       "    </tr>\n",
       "    <tr>\n",
       "      <th>...</th>\n",
       "      <td>...</td>\n",
       "      <td>...</td>\n",
       "      <td>...</td>\n",
       "      <td>...</td>\n",
       "      <td>...</td>\n",
       "      <td>...</td>\n",
       "      <td>...</td>\n",
       "      <td>...</td>\n",
       "      <td>...</td>\n",
       "      <td>...</td>\n",
       "      <td>...</td>\n",
       "      <td>...</td>\n",
       "      <td>...</td>\n",
       "      <td>...</td>\n",
       "      <td>...</td>\n",
       "      <td>...</td>\n",
       "      <td>...</td>\n",
       "    </tr>\n",
       "    <tr>\n",
       "      <th>2022-01-27 19:00:00</th>\n",
       "      <td>0.00</td>\n",
       "      <td>-0.794146</td>\n",
       "      <td>-0.094145</td>\n",
       "      <td>-0.784146</td>\n",
       "      <td>0.995854</td>\n",
       "      <td>1.59903</td>\n",
       "      <td>2.78903</td>\n",
       "      <td>2.049030</td>\n",
       "      <td>2.969030</td>\n",
       "      <td>1.785375</td>\n",
       "      <td>-0.460958</td>\n",
       "      <td>2.790619</td>\n",
       "      <td>-0.033743</td>\n",
       "      <td>2.193948</td>\n",
       "      <td>-0.365497</td>\n",
       "      <td>3.131591</td>\n",
       "      <td>0.323622</td>\n",
       "    </tr>\n",
       "    <tr>\n",
       "      <th>2022-01-27 20:00:00</th>\n",
       "      <td>0.13</td>\n",
       "      <td>-0.807156</td>\n",
       "      <td>-0.297156</td>\n",
       "      <td>-1.207160</td>\n",
       "      <td>0.572844</td>\n",
       "      <td>1.71534</td>\n",
       "      <td>2.89534</td>\n",
       "      <td>2.205340</td>\n",
       "      <td>3.425340</td>\n",
       "      <td>1.895756</td>\n",
       "      <td>-0.439813</td>\n",
       "      <td>2.910549</td>\n",
       "      <td>-0.102274</td>\n",
       "      <td>2.514112</td>\n",
       "      <td>-0.500830</td>\n",
       "      <td>3.472910</td>\n",
       "      <td>0.165704</td>\n",
       "    </tr>\n",
       "    <tr>\n",
       "      <th>2022-01-27 21:00:00</th>\n",
       "      <td>0.00</td>\n",
       "      <td>-0.550332</td>\n",
       "      <td>-0.110332</td>\n",
       "      <td>-1.300330</td>\n",
       "      <td>0.499668</td>\n",
       "      <td>2.12260</td>\n",
       "      <td>2.94260</td>\n",
       "      <td>2.712600</td>\n",
       "      <td>3.682600</td>\n",
       "      <td>2.192783</td>\n",
       "      <td>-0.253687</td>\n",
       "      <td>2.944668</td>\n",
       "      <td>-0.037477</td>\n",
       "      <td>3.008165</td>\n",
       "      <td>-0.447005</td>\n",
       "      <td>3.716344</td>\n",
       "      <td>0.134860</td>\n",
       "    </tr>\n",
       "    <tr>\n",
       "      <th>2022-01-27 22:00:00</th>\n",
       "      <td>0.00</td>\n",
       "      <td>-0.368333</td>\n",
       "      <td>-0.218333</td>\n",
       "      <td>-1.118330</td>\n",
       "      <td>0.851667</td>\n",
       "      <td>2.30947</td>\n",
       "      <td>3.24947</td>\n",
       "      <td>2.929470</td>\n",
       "      <td>3.849470</td>\n",
       "      <td>2.338658</td>\n",
       "      <td>-0.158156</td>\n",
       "      <td>3.256797</td>\n",
       "      <td>-0.067090</td>\n",
       "      <td>3.135675</td>\n",
       "      <td>-0.364677</td>\n",
       "      <td>3.942557</td>\n",
       "      <td>0.217735</td>\n",
       "    </tr>\n",
       "    <tr>\n",
       "      <th>2022-01-27 23:00:00</th>\n",
       "      <td>0.38</td>\n",
       "      <td>-0.382947</td>\n",
       "      <td>-0.342947</td>\n",
       "      <td>-1.042950</td>\n",
       "      <td>1.057050</td>\n",
       "      <td>2.44918</td>\n",
       "      <td>3.51918</td>\n",
       "      <td>3.009180</td>\n",
       "      <td>4.089180</td>\n",
       "      <td>2.478937</td>\n",
       "      <td>-0.155101</td>\n",
       "      <td>3.535851</td>\n",
       "      <td>-0.097144</td>\n",
       "      <td>3.184793</td>\n",
       "      <td>-0.333633</td>\n",
       "      <td>4.223594</td>\n",
       "      <td>0.252962</td>\n",
       "    </tr>\n",
       "  </tbody>\n",
       "</table>\n",
       "<p>26397 rows × 17 columns</p>\n",
       "</div>"
      ],
      "text/plain": [
       "                     production  UGRD_80.m.above.ground.SW  \\\n",
       "forecast_dt                                                  \n",
       "2019-01-24 03:00:00       49.00                  -4.011990   \n",
       "2019-01-24 04:00:00       59.00                  -4.967610   \n",
       "2019-01-24 05:00:00       32.00                  -4.763300   \n",
       "2019-01-24 06:00:00       34.00                  -4.417460   \n",
       "2019-01-24 07:00:00       44.00                  -4.042970   \n",
       "...                         ...                        ...   \n",
       "2022-01-27 19:00:00        0.00                  -0.794146   \n",
       "2022-01-27 20:00:00        0.13                  -0.807156   \n",
       "2022-01-27 21:00:00        0.00                  -0.550332   \n",
       "2022-01-27 22:00:00        0.00                  -0.368333   \n",
       "2022-01-27 23:00:00        0.38                  -0.382947   \n",
       "\n",
       "                     UGRD_80.m.above.ground.NW  UGRD_80.m.above.ground.NE  \\\n",
       "forecast_dt                                                                 \n",
       "2019-01-24 03:00:00                  -3.941990                  -2.581990   \n",
       "2019-01-24 04:00:00                  -4.717610                  -3.677610   \n",
       "2019-01-24 05:00:00                  -4.813300                  -3.693300   \n",
       "2019-01-24 06:00:00                  -4.687460                  -3.407460   \n",
       "2019-01-24 07:00:00                  -4.582970                  -3.192970   \n",
       "...                                        ...                        ...   \n",
       "2022-01-27 19:00:00                  -0.094145                  -0.784146   \n",
       "2022-01-27 20:00:00                  -0.297156                  -1.207160   \n",
       "2022-01-27 21:00:00                  -0.110332                  -1.300330   \n",
       "2022-01-27 22:00:00                  -0.218333                  -1.118330   \n",
       "2022-01-27 23:00:00                  -0.342947                  -1.042950   \n",
       "\n",
       "                     UGRD_80.m.above.ground.SE  VGRD_80.m.above.ground.SW  \\\n",
       "forecast_dt                                                                 \n",
       "2019-01-24 03:00:00                  -3.181990                    1.89919   \n",
       "2019-01-24 04:00:00                  -4.087610                    1.23072   \n",
       "2019-01-24 05:00:00                  -4.343300                    1.20729   \n",
       "2019-01-24 06:00:00                  -4.127460                    1.33664   \n",
       "2019-01-24 07:00:00                  -3.992970                    1.14367   \n",
       "...                                        ...                        ...   \n",
       "2022-01-27 19:00:00                   0.995854                    1.59903   \n",
       "2022-01-27 20:00:00                   0.572844                    1.71534   \n",
       "2022-01-27 21:00:00                   0.499668                    2.12260   \n",
       "2022-01-27 22:00:00                   0.851667                    2.30947   \n",
       "2022-01-27 23:00:00                   1.057050                    2.44918   \n",
       "\n",
       "                     VGRD_80.m.above.ground.NW  VGRD_80.m.above.ground.NE  \\\n",
       "forecast_dt                                                                 \n",
       "2019-01-24 03:00:00                    1.99919                   0.529194   \n",
       "2019-01-24 04:00:00                    1.31072                   0.090718   \n",
       "2019-01-24 05:00:00                    1.03729                   0.447295   \n",
       "2019-01-24 06:00:00                    1.45664                   0.766641   \n",
       "2019-01-24 07:00:00                    1.56367                   0.753667   \n",
       "...                                        ...                        ...   \n",
       "2022-01-27 19:00:00                    2.78903                   2.049030   \n",
       "2022-01-27 20:00:00                    2.89534                   2.205340   \n",
       "2022-01-27 21:00:00                    2.94260                   2.712600   \n",
       "2022-01-27 22:00:00                    3.24947                   2.929470   \n",
       "2022-01-27 23:00:00                    3.51918                   3.009180   \n",
       "\n",
       "                     VGRD_80.m.above.ground.SE  speed_SW  angle_SW  speed_NW  \\\n",
       "forecast_dt                                                                    \n",
       "2019-01-24 03:00:00                   1.029190  4.438805 -1.128672  4.419960   \n",
       "2019-01-24 04:00:00                   0.540718  5.117795 -1.327937  4.896308   \n",
       "2019-01-24 05:00:00                   0.757295  4.913917 -1.322567  4.923802   \n",
       "2019-01-24 06:00:00                   1.416640  4.615253 -1.276973  4.908572   \n",
       "2019-01-24 07:00:00                   1.673670  4.201617 -1.295120  4.842383   \n",
       "...                                        ...       ...       ...       ...   \n",
       "2022-01-27 19:00:00                   2.969030  1.785375 -0.460958  2.790619   \n",
       "2022-01-27 20:00:00                   3.425340  1.895756 -0.439813  2.910549   \n",
       "2022-01-27 21:00:00                   3.682600  2.192783 -0.253687  2.944668   \n",
       "2022-01-27 22:00:00                   3.849470  2.338658 -0.158156  3.256797   \n",
       "2022-01-27 23:00:00                   4.089180  2.478937 -0.155101  3.535851   \n",
       "\n",
       "                     angle_NW  speed_NE  angle_NE  speed_SE  angle_SE  \n",
       "forecast_dt                                                            \n",
       "2019-01-24 03:00:00 -1.101443  2.635663 -1.368640  3.344293 -1.257974  \n",
       "2019-01-24 04:00:00 -1.299796  3.678729 -1.546134  4.123219 -1.439278  \n",
       "2019-01-24 05:00:00 -1.358538  3.720287 -1.450273  4.408826 -1.398172  \n",
       "2019-01-24 06:00:00 -1.269504  3.492638 -1.349492  4.363805 -1.240171  \n",
       "2019-01-24 07:00:00 -1.241990  3.280712 -1.339000  4.329547 -1.173888  \n",
       "...                       ...       ...       ...       ...       ...  \n",
       "2022-01-27 19:00:00 -0.033743  2.193948 -0.365497  3.131591  0.323622  \n",
       "2022-01-27 20:00:00 -0.102274  2.514112 -0.500830  3.472910  0.165704  \n",
       "2022-01-27 21:00:00 -0.037477  3.008165 -0.447005  3.716344  0.134860  \n",
       "2022-01-27 22:00:00 -0.067090  3.135675 -0.364677  3.942557  0.217735  \n",
       "2022-01-27 23:00:00 -0.097144  3.184793 -0.333633  4.223594  0.252962  \n",
       "\n",
       "[26397 rows x 17 columns]"
      ]
     },
     "execution_count": 40,
     "metadata": {},
     "output_type": "execute_result"
    }
   ],
   "source": [
    "df"
   ]
  },
  {
   "cell_type": "code",
   "execution_count": 29,
   "id": "6f6b8c5a",
   "metadata": {},
   "outputs": [],
   "source": [
    "train_end_idx = train_df.shape[0]\n",
    "val_end_idx = valid_df.shape[0]\n",
    "\n",
    "shift_size = 3"
   ]
  },
  {
   "cell_type": "code",
   "execution_count": null,
   "id": "7e2a6a72",
   "metadata": {},
   "outputs": [],
   "source": []
  },
  {
   "cell_type": "code",
   "execution_count": 41,
   "id": "ac940f87",
   "metadata": {},
   "outputs": [],
   "source": [
    "X_train = torch.from_numpy(X_sliding[:train_end_idx-shift_size]).float()\n",
    "y_train = torch.from_numpy(y[shift_size:train_end_idx]).float()\n",
    "trainset = torch.utils.data.TensorDataset(X_train, y_train)\n",
    "\n",
    "X_val = torch.from_numpy(X_sliding[train_end_idx-shift_size:train_end_idx+val_end_idx-shift_size]).float()\n",
    "y_val = torch.from_numpy(y[train_end_idx:train_end_idx+val_end_idx]).float()\n",
    "valset = torch.utils.data.TensorDataset(X_val, y_val)"
   ]
  },
  {
   "cell_type": "code",
   "execution_count": 43,
   "id": "aeaa551a",
   "metadata": {},
   "outputs": [],
   "source": [
    "import torch\n",
    "import torch.nn as nn\n",
    "import torch.nn.functional as F\n",
    "\n",
    "class SimpleLSTMModel(nn.Module):\n",
    "    \n",
    "    def __init__(self, in_series=16, zdim=32):\n",
    "        super().__init__()\n",
    "        \n",
    "        self.in_series = in_series\n",
    "        self.zdim = zdim\n",
    "        self.fc_in = 2*zdim\n",
    "        fc_outs = [1]\n",
    "        self.fc_outs = fc_outs\n",
    "        self.lstm_layer = nn.LSTM(in_series, zdim, bidirectional=True, batch_first=True)\n",
    "        \n",
    "        self.fc_list = nn.ModuleList([])\n",
    "        for i, out_dim in enumerate(self.fc_outs):\n",
    "            fc_in = fc_outs[i-1] if i > 0 else self.fc_in\n",
    "            self.fc_list.append(\n",
    "                nn.Linear(in_features=fc_in, out_features=out_dim)\n",
    "            )\n",
    "            \n",
    "    def forward(self, x):\n",
    "        \n",
    "        _, (lstm_out, _) = self.lstm_layer(x)\n",
    "        \n",
    "        lstm_out_dir0 = lstm_out[0].view(-1, self.zdim)\n",
    "        lstm_out_dir1 = lstm_out[1].view(-1, self.zdim)\n",
    "        x = torch.cat([lstm_out_dir0, lstm_out_dir1], axis=1)\n",
    "        \n",
    "        #x = x.view(-1, self.zdim)\n",
    "        \n",
    "        for layer in self.fc_list:\n",
    "            x = layer(x)\n",
    "            x = F.relu(x)\n",
    "            \n",
    "        return x\n",
    "        "
   ]
  },
  {
   "cell_type": "code",
   "execution_count": 44,
   "id": "71137d8d",
   "metadata": {},
   "outputs": [
    {
     "name": "stdout",
     "output_type": "stream",
     "text": [
      "SimpleLSTMModel(\n",
      "  (lstm_layer): LSTM(16, 32, batch_first=True, bidirectional=True)\n",
      "  (fc_list): ModuleList(\n",
      "    (0): Linear(in_features=64, out_features=1, bias=True)\n",
      "  )\n",
      ")\n"
     ]
    },
    {
     "name": "stderr",
     "output_type": "stream",
     "text": [
      "100%|██████████| 165/165 [00:01<00:00, 136.46it/s]\n"
     ]
    },
    {
     "name": "stdout",
     "output_type": "stream",
     "text": [
      "\n",
      "    Epoch 0: Train Loss: 1973.1591359571978, Val Loss: 1544.5896526518322\n",
      "                   Train Wmape:  0.9521843791007996,  Val Wmape:  0.8791828155517578\n"
     ]
    },
    {
     "name": "stderr",
     "output_type": "stream",
     "text": [
      "100%|██████████| 165/165 [00:01<00:00, 123.47it/s]\n"
     ]
    },
    {
     "name": "stdout",
     "output_type": "stream",
     "text": [
      "\n",
      "    Epoch 1: Train Loss: 1625.9990007805102, Val Loss: 1259.009753999256\n",
      "                   Train Wmape:  0.8686073422431946,  Val Wmape:  0.790295422077179\n"
     ]
    },
    {
     "name": "stderr",
     "output_type": "stream",
     "text": [
      "100%|██████████| 165/165 [00:01<00:00, 130.17it/s]\n"
     ]
    },
    {
     "name": "stdout",
     "output_type": "stream",
     "text": [
      "\n",
      "    Epoch 2: Train Loss: 1380.3469993244519, Val Loss: 1068.0050788152785\n",
      "                   Train Wmape:  0.7993890643119812,  Val Wmape:  0.7147771716117859\n"
     ]
    },
    {
     "name": "stderr",
     "output_type": "stream",
     "text": [
      "100%|██████████| 165/165 [00:01<00:00, 127.19it/s]\n"
     ]
    },
    {
     "name": "stdout",
     "output_type": "stream",
     "text": [
      "\n",
      "    Epoch 3: Train Loss: 1195.6054631551108, Val Loss: 901.8076378958566\n",
      "                   Train Wmape:  0.7379761338233948,  Val Wmape:  0.645941436290741\n"
     ]
    },
    {
     "name": "stderr",
     "output_type": "stream",
     "text": [
      "100%|██████████| 165/165 [00:01<00:00, 137.54it/s]\n"
     ]
    },
    {
     "name": "stdout",
     "output_type": "stream",
     "text": [
      "\n",
      "    Epoch 4: Train Loss: 1039.0058294007272, Val Loss: 777.6416021074567\n",
      "                   Train Wmape:  0.6831896901130676,  Val Wmape:  0.5949961543083191\n"
     ]
    },
    {
     "name": "stderr",
     "output_type": "stream",
     "text": [
      "100%|██████████| 165/165 [00:01<00:00, 118.08it/s]\n"
     ]
    },
    {
     "name": "stdout",
     "output_type": "stream",
     "text": [
      "\n",
      "    Epoch 5: Train Loss: 913.2833246520071, Val Loss: 677.2555400303432\n",
      "                   Train Wmape:  0.6397050619125366,  Val Wmape:  0.5531402230262756\n"
     ]
    },
    {
     "name": "stderr",
     "output_type": "stream",
     "text": [
      "100%|██████████| 165/165 [00:01<00:00, 109.60it/s]\n"
     ]
    },
    {
     "name": "stdout",
     "output_type": "stream",
     "text": [
      "\n",
      "    Epoch 6: Train Loss: 809.8678207975445, Val Loss: 594.9230922517322\n",
      "                   Train Wmape:  0.6035309433937073,  Val Wmape:  0.5184664726257324\n"
     ]
    },
    {
     "name": "stderr",
     "output_type": "stream",
     "text": [
      "100%|██████████| 165/165 [00:01<00:00, 129.57it/s]\n"
     ]
    },
    {
     "name": "stdout",
     "output_type": "stream",
     "text": [
      "\n",
      "    Epoch 7: Train Loss: 722.5865466840339, Val Loss: 527.4437880743118\n",
      "                   Train Wmape:  0.5722809433937073,  Val Wmape:  0.4899769425392151\n"
     ]
    },
    {
     "name": "stderr",
     "output_type": "stream",
     "text": [
      "100%|██████████| 165/165 [00:01<00:00, 130.29it/s]\n"
     ]
    },
    {
     "name": "stdout",
     "output_type": "stream",
     "text": [
      "\n",
      "    Epoch 8: Train Loss: 648.6494672601873, Val Loss: 472.4497855050223\n",
      "                   Train Wmape:  0.5450080633163452,  Val Wmape:  0.4662661552429199\n"
     ]
    },
    {
     "name": "stderr",
     "output_type": "stream",
     "text": [
      "100%|██████████| 165/165 [00:01<00:00, 126.07it/s]\n"
     ]
    },
    {
     "name": "stdout",
     "output_type": "stream",
     "text": [
      "\n",
      "    Epoch 9: Train Loss: 585.5587718616832, Val Loss: 426.5450726463681\n",
      "                   Train Wmape:  0.5208346843719482,  Val Wmape:  0.4461524486541748\n"
     ]
    },
    {
     "name": "stderr",
     "output_type": "stream",
     "text": [
      "100%|██████████| 165/165 [00:01<00:00, 117.23it/s]\n"
     ]
    },
    {
     "name": "stdout",
     "output_type": "stream",
     "text": [
      "\n",
      "    Epoch 10: Train Loss: 531.1702792543354, Val Loss: 386.31517646426244\n",
      "                   Train Wmape:  0.4987764060497284,  Val Wmape:  0.4279818832874298\n"
     ]
    },
    {
     "name": "stderr",
     "output_type": "stream",
     "text": [
      "100%|██████████| 165/165 [00:01<00:00, 117.29it/s]\n"
     ]
    },
    {
     "name": "stdout",
     "output_type": "stream",
     "text": [
      "\n",
      "    Epoch 11: Train Loss: 484.18736653183447, Val Loss: 355.14569600423175\n",
      "                   Train Wmape:  0.4785810708999634,  Val Wmape:  0.4130685329437256\n"
     ]
    },
    {
     "name": "stderr",
     "output_type": "stream",
     "text": [
      "100%|██████████| 165/165 [00:01<00:00, 129.40it/s]\n"
     ]
    },
    {
     "name": "stdout",
     "output_type": "stream",
     "text": [
      "\n",
      "    Epoch 12: Train Loss: 443.70663121541344, Val Loss: 329.3343734741211\n",
      "                   Train Wmape:  0.4603303372859955,  Val Wmape:  0.4004099369049072\n"
     ]
    },
    {
     "name": "stderr",
     "output_type": "stream",
     "text": [
      "100%|██████████| 165/165 [00:01<00:00, 113.66it/s]\n"
     ]
    },
    {
     "name": "stdout",
     "output_type": "stream",
     "text": [
      "\n",
      "    Epoch 13: Train Loss: 409.01638608990294, Val Loss: 308.9941853114537\n",
      "                   Train Wmape:  0.44382840394973755,  Val Wmape:  0.3902297019958496\n"
     ]
    },
    {
     "name": "stderr",
     "output_type": "stream",
     "text": [
      "100%|██████████| 165/165 [00:01<00:00, 120.35it/s]\n"
     ]
    },
    {
     "name": "stdout",
     "output_type": "stream",
     "text": [
      "\n",
      "    Epoch 14: Train Loss: 379.3630583560828, Val Loss: 292.26444771176295\n",
      "                   Train Wmape:  0.42901483178138733,  Val Wmape:  0.38164135813713074\n"
     ]
    },
    {
     "name": "stderr",
     "output_type": "stream",
     "text": [
      "100%|██████████| 165/165 [00:01<00:00, 117.10it/s]\n"
     ]
    },
    {
     "name": "stdout",
     "output_type": "stream",
     "text": [
      "\n",
      "    Epoch 15: Train Loss: 354.1767820878462, Val Loss: 279.39181682041715\n",
      "                   Train Wmape:  0.41585773229599,  Val Wmape:  0.3744254410266876\n"
     ]
    },
    {
     "name": "stderr",
     "output_type": "stream",
     "text": [
      "100%|██████████| 165/165 [00:01<00:00, 120.72it/s]\n"
     ]
    },
    {
     "name": "stdout",
     "output_type": "stream",
     "text": [
      "\n",
      "    Epoch 16: Train Loss: 332.96581780404756, Val Loss: 269.0089654468355\n",
      "                   Train Wmape:  0.4042070508003235,  Val Wmape:  0.36832550168037415\n"
     ]
    },
    {
     "name": "stderr",
     "output_type": "stream",
     "text": [
      "100%|██████████| 165/165 [00:01<00:00, 120.62it/s]\n"
     ]
    },
    {
     "name": "stdout",
     "output_type": "stream",
     "text": [
      "\n",
      "    Epoch 17: Train Loss: 314.9661681204131, Val Loss: 260.9095577058338\n",
      "                   Train Wmape:  0.3937601149082184,  Val Wmape:  0.3633125424385071\n"
     ]
    },
    {
     "name": "stderr",
     "output_type": "stream",
     "text": [
      "100%|██████████| 165/165 [00:01<00:00, 116.90it/s]\n"
     ]
    },
    {
     "name": "stdout",
     "output_type": "stream",
     "text": [
      "\n",
      "    Epoch 18: Train Loss: 299.69627071727405, Val Loss: 254.34947913033622\n",
      "                   Train Wmape:  0.38431668281555176,  Val Wmape:  0.3591424822807312\n"
     ]
    },
    {
     "name": "stderr",
     "output_type": "stream",
     "text": [
      "100%|██████████| 165/165 [00:01<00:00, 117.91it/s]\n"
     ]
    },
    {
     "name": "stdout",
     "output_type": "stream",
     "text": [
      "\n",
      "    Epoch 19: Train Loss: 286.60106101758555, Val Loss: 249.46138908749535\n",
      "                   Train Wmape:  0.3757253885269165,  Val Wmape:  0.35573461651802063\n"
     ]
    },
    {
     "name": "stderr",
     "output_type": "stream",
     "text": [
      "100%|██████████| 165/165 [00:01<00:00, 125.74it/s]\n"
     ]
    },
    {
     "name": "stdout",
     "output_type": "stream",
     "text": [
      "\n",
      "    Epoch 20: Train Loss: 275.52580262386437, Val Loss: 245.68587021600632\n",
      "                   Train Wmape:  0.36803317070007324,  Val Wmape:  0.35252130031585693\n"
     ]
    },
    {
     "name": "stderr",
     "output_type": "stream",
     "text": [
      "100%|██████████| 165/165 [00:01<00:00, 119.36it/s]\n"
     ]
    },
    {
     "name": "stdout",
     "output_type": "stream",
     "text": [
      "\n",
      "    Epoch 21: Train Loss: 266.05618326591724, Val Loss: 242.59186553955078\n",
      "                   Train Wmape:  0.36105284094810486,  Val Wmape:  0.3495689928531647\n"
     ]
    },
    {
     "name": "stderr",
     "output_type": "stream",
     "text": [
      "100%|██████████| 165/165 [00:01<00:00, 119.18it/s]\n"
     ]
    },
    {
     "name": "stdout",
     "output_type": "stream",
     "text": [
      "\n",
      "    Epoch 22: Train Loss: 257.81646318146676, Val Loss: 240.21084703717912\n",
      "                   Train Wmape:  0.35460373759269714,  Val Wmape:  0.34692344069480896\n"
     ]
    },
    {
     "name": "stderr",
     "output_type": "stream",
     "text": [
      "100%|██████████| 165/165 [00:01<00:00, 118.70it/s]\n"
     ]
    },
    {
     "name": "stdout",
     "output_type": "stream",
     "text": [
      "\n",
      "    Epoch 23: Train Loss: 250.95672271034934, Val Loss: 238.25814474196662\n",
      "                   Train Wmape:  0.3488590121269226,  Val Wmape:  0.34444886445999146\n"
     ]
    },
    {
     "name": "stderr",
     "output_type": "stream",
     "text": [
      "100%|██████████| 165/165 [00:01<00:00, 122.50it/s]\n"
     ]
    },
    {
     "name": "stdout",
     "output_type": "stream",
     "text": [
      "\n",
      "    Epoch 24: Train Loss: 245.09430747754647, Val Loss: 236.33890642438615\n",
      "                   Train Wmape:  0.3435582220554352,  Val Wmape:  0.3423786461353302\n"
     ]
    },
    {
     "name": "stderr",
     "output_type": "stream",
     "text": [
      "100%|██████████| 165/165 [00:01<00:00, 121.36it/s]\n"
     ]
    },
    {
     "name": "stdout",
     "output_type": "stream",
     "text": [
      "\n",
      "    Epoch 25: Train Loss: 239.9957027088512, Val Loss: 235.05119959513345\n",
      "                   Train Wmape:  0.3387468159198761,  Val Wmape:  0.3408350348472595\n"
     ]
    },
    {
     "name": "stderr",
     "output_type": "stream",
     "text": [
      "100%|██████████| 165/165 [00:01<00:00, 122.03it/s]\n"
     ]
    },
    {
     "name": "stdout",
     "output_type": "stream",
     "text": [
      "\n",
      "    Epoch 26: Train Loss: 235.55905856508198, Val Loss: 233.38963790166946\n",
      "                   Train Wmape:  0.3342578709125519,  Val Wmape:  0.338981568813324\n"
     ]
    },
    {
     "name": "stderr",
     "output_type": "stream",
     "text": [
      "100%|██████████| 165/165 [00:01<00:00, 116.78it/s]\n"
     ]
    },
    {
     "name": "stdout",
     "output_type": "stream",
     "text": [
      "\n",
      "    Epoch 27: Train Loss: 232.11821731798577, Val Loss: 231.57432628813245\n",
      "                   Train Wmape:  0.3304766118526459,  Val Wmape:  0.3373976945877075\n"
     ]
    },
    {
     "name": "stderr",
     "output_type": "stream",
     "text": [
      "100%|██████████| 165/165 [00:01<00:00, 119.41it/s]\n"
     ]
    },
    {
     "name": "stdout",
     "output_type": "stream",
     "text": [
      "\n",
      "    Epoch 28: Train Loss: 228.6422275312019, Val Loss: 229.93352054414294\n",
      "                   Train Wmape:  0.3267473876476288,  Val Wmape:  0.33556798100471497\n"
     ]
    },
    {
     "name": "stderr",
     "output_type": "stream",
     "text": [
      "100%|██████████| 165/165 [00:01<00:00, 118.48it/s]\n"
     ]
    },
    {
     "name": "stdout",
     "output_type": "stream",
     "text": [
      "\n",
      "    Epoch 29: Train Loss: 225.76244949572015, Val Loss: 228.22760373070128\n",
      "                   Train Wmape:  0.32347026467323303,  Val Wmape:  0.33402019739151\n"
     ]
    },
    {
     "name": "stderr",
     "output_type": "stream",
     "text": [
      "100%|██████████| 165/165 [00:01<00:00, 123.66it/s]\n"
     ]
    },
    {
     "name": "stdout",
     "output_type": "stream",
     "text": [
      "\n",
      "    Epoch 30: Train Loss: 223.24297647187205, Val Loss: 226.99220911661783\n",
      "                   Train Wmape:  0.32052701711654663,  Val Wmape:  0.33288314938545227\n"
     ]
    },
    {
     "name": "stderr",
     "output_type": "stream",
     "text": [
      "100%|██████████| 165/165 [00:01<00:00, 114.07it/s]\n"
     ]
    },
    {
     "name": "stdout",
     "output_type": "stream",
     "text": [
      "\n",
      "    Epoch 31: Train Loss: 220.83664887168192, Val Loss: 225.31857009161087\n",
      "                   Train Wmape:  0.3176429569721222,  Val Wmape:  0.33138662576675415\n"
     ]
    },
    {
     "name": "stderr",
     "output_type": "stream",
     "text": [
      "100%|██████████| 165/165 [00:01<00:00, 117.28it/s]\n"
     ]
    },
    {
     "name": "stdout",
     "output_type": "stream",
     "text": [
      "\n",
      "    Epoch 32: Train Loss: 219.02066738244258, Val Loss: 224.8310278029669\n",
      "                   Train Wmape:  0.31526830792427063,  Val Wmape:  0.3306286931037903\n"
     ]
    },
    {
     "name": "stderr",
     "output_type": "stream",
     "text": [
      "100%|██████████| 165/165 [00:01<00:00, 114.16it/s]\n"
     ]
    },
    {
     "name": "stdout",
     "output_type": "stream",
     "text": [
      "\n",
      "    Epoch 33: Train Loss: 217.20967132105972, Val Loss: 223.40150905790784\n",
      "                   Train Wmape:  0.3128853142261505,  Val Wmape:  0.32924777269363403\n"
     ]
    },
    {
     "name": "stderr",
     "output_type": "stream",
     "text": [
      "100%|██████████| 165/165 [00:01<00:00, 125.48it/s]\n"
     ]
    },
    {
     "name": "stdout",
     "output_type": "stream",
     "text": [
      "\n",
      "    Epoch 34: Train Loss: 215.85812318975275, Val Loss: 222.57416243780227\n",
      "                   Train Wmape:  0.3109161853790283,  Val Wmape:  0.32825830578804016\n"
     ]
    },
    {
     "name": "stderr",
     "output_type": "stream",
     "text": [
      "100%|██████████| 165/165 [00:01<00:00, 120.80it/s]\n"
     ]
    },
    {
     "name": "stdout",
     "output_type": "stream",
     "text": [
      "\n",
      "    Epoch 35: Train Loss: 214.5880976821437, Val Loss: 221.470523470924\n",
      "                   Train Wmape:  0.309074729681015,  Val Wmape:  0.3271496593952179\n"
     ]
    },
    {
     "name": "stderr",
     "output_type": "stream",
     "text": [
      "100%|██████████| 165/165 [00:01<00:00, 116.40it/s]\n"
     ]
    },
    {
     "name": "stdout",
     "output_type": "stream",
     "text": [
      "\n",
      "    Epoch 36: Train Loss: 213.51688723708645, Val Loss: 220.3969357808431\n",
      "                   Train Wmape:  0.3074408173561096,  Val Wmape:  0.3261301517486572\n"
     ]
    },
    {
     "name": "stderr",
     "output_type": "stream",
     "text": [
      "100%|██████████| 165/165 [00:01<00:00, 120.18it/s]\n"
     ]
    },
    {
     "name": "stdout",
     "output_type": "stream",
     "text": [
      "\n",
      "    Epoch 37: Train Loss: 212.5700206640995, Val Loss: 219.35688073294503\n",
      "                   Train Wmape:  0.30596673488616943,  Val Wmape:  0.32518282532691956\n"
     ]
    },
    {
     "name": "stderr",
     "output_type": "stream",
     "text": [
      "100%|██████████| 165/165 [00:01<00:00, 118.38it/s]\n"
     ]
    },
    {
     "name": "stdout",
     "output_type": "stream",
     "text": [
      "\n",
      "    Epoch 38: Train Loss: 211.74257192900686, Val Loss: 218.42604519072034\n",
      "                   Train Wmape:  0.3046508729457855,  Val Wmape:  0.3243498206138611\n"
     ]
    },
    {
     "name": "stderr",
     "output_type": "stream",
     "text": [
      "100%|██████████| 165/165 [00:01<00:00, 112.50it/s]\n"
     ]
    },
    {
     "name": "stdout",
     "output_type": "stream",
     "text": [
      "\n",
      "    Epoch 39: Train Loss: 211.02334094192042, Val Loss: 217.61482275099982\n",
      "                   Train Wmape:  0.3034789264202118,  Val Wmape:  0.3236294090747833\n"
     ]
    },
    {
     "name": "stderr",
     "output_type": "stream",
     "text": [
      "100%|██████████| 165/165 [00:01<00:00, 123.99it/s]\n"
     ]
    },
    {
     "name": "stdout",
     "output_type": "stream",
     "text": [
      "\n",
      "    Epoch 40: Train Loss: 210.34704483494613, Val Loss: 216.93756521315802\n",
      "                   Train Wmape:  0.3023792803287506,  Val Wmape:  0.32304647564888\n"
     ]
    },
    {
     "name": "stderr",
     "output_type": "stream",
     "text": [
      "100%|██████████| 165/165 [00:01<00:00, 116.44it/s]\n"
     ]
    },
    {
     "name": "stdout",
     "output_type": "stream",
     "text": [
      "\n",
      "    Epoch 41: Train Loss: 209.67620586048474, Val Loss: 216.39792941865466\n",
      "                   Train Wmape:  0.3013313412666321,  Val Wmape:  0.3225551247596741\n"
     ]
    },
    {
     "name": "stderr",
     "output_type": "stream",
     "text": [
      "100%|██████████| 165/165 [00:01<00:00, 116.97it/s]\n"
     ]
    },
    {
     "name": "stdout",
     "output_type": "stream",
     "text": [
      "\n",
      "    Epoch 42: Train Loss: 209.02244466145834, Val Loss: 216.0361368088495\n",
      "                   Train Wmape:  0.30036211013793945,  Val Wmape:  0.322195440530777\n"
     ]
    },
    {
     "name": "stderr",
     "output_type": "stream",
     "text": [
      "100%|██████████| 165/165 [00:01<00:00, 121.54it/s]\n"
     ]
    },
    {
     "name": "stdout",
     "output_type": "stream",
     "text": [
      "\n",
      "    Epoch 43: Train Loss: 208.4504439382842, Val Loss: 215.85989815848214\n",
      "                   Train Wmape:  0.2995242476463318,  Val Wmape:  0.32209664583206177\n"
     ]
    },
    {
     "name": "stderr",
     "output_type": "stream",
     "text": [
      "100%|██████████| 165/165 [00:01<00:00, 115.91it/s]\n"
     ]
    },
    {
     "name": "stdout",
     "output_type": "stream",
     "text": [
      "\n",
      "    Epoch 44: Train Loss: 207.80678798791135, Val Loss: 215.20575714111328\n",
      "                   Train Wmape:  0.298682302236557,  Val Wmape:  0.3214980661869049\n"
     ]
    },
    {
     "name": "stderr",
     "output_type": "stream",
     "text": [
      "100%|██████████| 165/165 [00:01<00:00, 115.14it/s]\n"
     ]
    },
    {
     "name": "stdout",
     "output_type": "stream",
     "text": [
      "\n",
      "    Epoch 45: Train Loss: 207.14667262453023, Val Loss: 214.76570347377233\n",
      "                   Train Wmape:  0.2977128028869629,  Val Wmape:  0.3210985064506531\n"
     ]
    },
    {
     "name": "stderr",
     "output_type": "stream",
     "text": [
      "100%|██████████| 165/165 [00:01<00:00, 119.97it/s]\n"
     ]
    },
    {
     "name": "stdout",
     "output_type": "stream",
     "text": [
      "\n",
      "    Epoch 46: Train Loss: 206.58251323121968, Val Loss: 214.4024418422154\n",
      "                   Train Wmape:  0.2968892753124237,  Val Wmape:  0.3207462728023529\n"
     ]
    },
    {
     "name": "stderr",
     "output_type": "stream",
     "text": [
      "100%|██████████| 165/165 [00:01<00:00, 121.64it/s]\n"
     ]
    },
    {
     "name": "stdout",
     "output_type": "stream",
     "text": [
      "\n",
      "    Epoch 47: Train Loss: 206.05479218454073, Val Loss: 214.08889461698988\n",
      "                   Train Wmape:  0.2961343824863434,  Val Wmape:  0.3204520046710968\n"
     ]
    },
    {
     "name": "stderr",
     "output_type": "stream",
     "text": [
      "100%|██████████| 165/165 [00:01<00:00, 120.44it/s]\n"
     ]
    },
    {
     "name": "stdout",
     "output_type": "stream",
     "text": [
      "\n",
      "    Epoch 48: Train Loss: 205.55978568105988, Val Loss: 213.8066793169294\n",
      "                   Train Wmape:  0.29543983936309814,  Val Wmape:  0.3201891779899597\n"
     ]
    },
    {
     "name": "stderr",
     "output_type": "stream",
     "text": [
      "100%|██████████| 165/165 [00:01<00:00, 119.15it/s]\n"
     ]
    },
    {
     "name": "stdout",
     "output_type": "stream",
     "text": [
      "\n",
      "    Epoch 49: Train Loss: 205.08899888703317, Val Loss: 213.55098942347936\n",
      "                   Train Wmape:  0.29479458928108215,  Val Wmape:  0.31995272636413574\n"
     ]
    },
    {
     "name": "stderr",
     "output_type": "stream",
     "text": [
      "100%|██████████| 165/165 [00:01<00:00, 119.94it/s]\n"
     ]
    },
    {
     "name": "stdout",
     "output_type": "stream",
     "text": [
      "\n",
      "    Epoch 50: Train Loss: 204.64087675845985, Val Loss: 213.31284495762415\n",
      "                   Train Wmape:  0.29419463872909546,  Val Wmape:  0.31973814964294434\n"
     ]
    },
    {
     "name": "stderr",
     "output_type": "stream",
     "text": [
      "100%|██████████| 165/165 [00:01<00:00, 115.02it/s]\n"
     ]
    },
    {
     "name": "stdout",
     "output_type": "stream",
     "text": [
      "\n",
      "    Epoch 51: Train Loss: 204.21197487802218, Val Loss: 213.08637437366303\n",
      "                   Train Wmape:  0.29362013936042786,  Val Wmape:  0.3195301592350006\n"
     ]
    },
    {
     "name": "stderr",
     "output_type": "stream",
     "text": [
      "100%|██████████| 165/165 [00:01<00:00, 120.23it/s]\n"
     ]
    },
    {
     "name": "stdout",
     "output_type": "stream",
     "text": [
      "\n",
      "    Epoch 52: Train Loss: 203.79882472645153, Val Loss: 212.86810829525902\n",
      "                   Train Wmape:  0.29306933283805847,  Val Wmape:  0.31933730840682983\n"
     ]
    },
    {
     "name": "stderr",
     "output_type": "stream",
     "text": [
      "100%|██████████| 165/165 [00:01<00:00, 118.81it/s]\n"
     ]
    },
    {
     "name": "stdout",
     "output_type": "stream",
     "text": [
      "\n",
      "    Epoch 53: Train Loss: 203.39729966828318, Val Loss: 212.64700063069662\n",
      "                   Train Wmape:  0.29254183173179626,  Val Wmape:  0.3191317617893219\n"
     ]
    },
    {
     "name": "stderr",
     "output_type": "stream",
     "text": [
      "100%|██████████| 165/165 [00:01<00:00, 115.49it/s]\n"
     ]
    },
    {
     "name": "stdout",
     "output_type": "stream",
     "text": [
      "\n",
      "    Epoch 54: Train Loss: 203.00644630663322, Val Loss: 212.42102777390252\n",
      "                   Train Wmape:  0.2920418083667755,  Val Wmape:  0.3189350962638855\n"
     ]
    },
    {
     "name": "stderr",
     "output_type": "stream",
     "text": [
      "100%|██████████| 165/165 [00:01<00:00, 117.83it/s]\n"
     ]
    },
    {
     "name": "stdout",
     "output_type": "stream",
     "text": [
      "\n",
      "    Epoch 55: Train Loss: 202.62861819411768, Val Loss: 212.1820905776251\n",
      "                   Train Wmape:  0.2915654182434082,  Val Wmape:  0.3187285363674164\n"
     ]
    },
    {
     "name": "stderr",
     "output_type": "stream",
     "text": [
      "100%|██████████| 165/165 [00:01<00:00, 122.24it/s]\n"
     ]
    },
    {
     "name": "stdout",
     "output_type": "stream",
     "text": [
      "\n",
      "    Epoch 56: Train Loss: 202.26142059094977, Val Loss: 211.92857106526694\n",
      "                   Train Wmape:  0.2911135256290436,  Val Wmape:  0.31851229071617126\n"
     ]
    },
    {
     "name": "stderr",
     "output_type": "stream",
     "text": [
      "100%|██████████| 165/165 [00:01<00:00, 117.89it/s]\n"
     ]
    },
    {
     "name": "stdout",
     "output_type": "stream",
     "text": [
      "\n",
      "    Epoch 57: Train Loss: 201.9010911768133, Val Loss: 211.66749845232283\n",
      "                   Train Wmape:  0.29068848490715027,  Val Wmape:  0.318286269903183\n"
     ]
    },
    {
     "name": "stderr",
     "output_type": "stream",
     "text": [
      "100%|██████████| 165/165 [00:01<00:00, 115.17it/s]\n"
     ]
    },
    {
     "name": "stdout",
     "output_type": "stream",
     "text": [
      "\n",
      "    Epoch 58: Train Loss: 201.5422003659335, Val Loss: 211.39936029343377\n",
      "                   Train Wmape:  0.2902837097644806,  Val Wmape:  0.31806284189224243\n"
     ]
    },
    {
     "name": "stderr",
     "output_type": "stream",
     "text": [
      "100%|██████████| 165/165 [00:01<00:00, 121.13it/s]\n"
     ]
    },
    {
     "name": "stdout",
     "output_type": "stream",
     "text": [
      "\n",
      "    Epoch 59: Train Loss: 201.1932936697295, Val Loss: 211.1316640944708\n",
      "                   Train Wmape:  0.2898947298526764,  Val Wmape:  0.3178533613681793\n"
     ]
    },
    {
     "name": "stderr",
     "output_type": "stream",
     "text": [
      "100%|██████████| 165/165 [00:01<00:00, 124.07it/s]\n"
     ]
    },
    {
     "name": "stdout",
     "output_type": "stream",
     "text": [
      "\n",
      "    Epoch 60: Train Loss: 200.84940308079575, Val Loss: 210.86883363269624\n",
      "                   Train Wmape:  0.2895149886608124,  Val Wmape:  0.31767040491104126\n"
     ]
    },
    {
     "name": "stderr",
     "output_type": "stream",
     "text": [
      "100%|██████████| 165/165 [00:01<00:00, 117.77it/s]\n"
     ]
    },
    {
     "name": "stdout",
     "output_type": "stream",
     "text": [
      "\n",
      "    Epoch 61: Train Loss: 200.50259936939585, Val Loss: 210.61127962384904\n",
      "                   Train Wmape:  0.28916510939598083,  Val Wmape:  0.317509263753891\n"
     ]
    },
    {
     "name": "stderr",
     "output_type": "stream",
     "text": [
      "100%|██████████| 165/165 [00:01<00:00, 120.26it/s]\n"
     ]
    },
    {
     "name": "stdout",
     "output_type": "stream",
     "text": [
      "\n",
      "    Epoch 62: Train Loss: 200.1591229063092, Val Loss: 210.37793059576126\n",
      "                   Train Wmape:  0.28881949186325073,  Val Wmape:  0.317350834608078\n"
     ]
    },
    {
     "name": "stderr",
     "output_type": "stream",
     "text": [
      "100%|██████████| 165/165 [00:01<00:00, 120.17it/s]\n"
     ]
    },
    {
     "name": "stdout",
     "output_type": "stream",
     "text": [
      "\n",
      "    Epoch 63: Train Loss: 199.82844642870353, Val Loss: 210.16453152611143\n",
      "                   Train Wmape:  0.2884690761566162,  Val Wmape:  0.3171786069869995\n"
     ]
    },
    {
     "name": "stderr",
     "output_type": "stream",
     "text": [
      "100%|██████████| 165/165 [00:01<00:00, 126.22it/s]\n"
     ]
    },
    {
     "name": "stdout",
     "output_type": "stream",
     "text": [
      "\n",
      "    Epoch 64: Train Loss: 199.5061566323945, Val Loss: 209.97113454909552\n",
      "                   Train Wmape:  0.28810954093933105,  Val Wmape:  0.3170143961906433\n"
     ]
    },
    {
     "name": "stderr",
     "output_type": "stream",
     "text": [
      "100%|██████████| 165/165 [00:01<00:00, 114.37it/s]\n"
     ]
    },
    {
     "name": "stdout",
     "output_type": "stream",
     "text": [
      "\n",
      "    Epoch 65: Train Loss: 199.19000832528778, Val Loss: 209.8014030456543\n",
      "                   Train Wmape:  0.28775036334991455,  Val Wmape:  0.316867858171463\n"
     ]
    },
    {
     "name": "stderr",
     "output_type": "stream",
     "text": [
      "100%|██████████| 165/165 [00:01<00:00, 119.95it/s]\n"
     ]
    },
    {
     "name": "stdout",
     "output_type": "stream",
     "text": [
      "\n",
      "    Epoch 66: Train Loss: 198.8807014696526, Val Loss: 209.65403620402017\n",
      "                   Train Wmape:  0.2873959243297577,  Val Wmape:  0.31673863530158997\n"
     ]
    },
    {
     "name": "stderr",
     "output_type": "stream",
     "text": [
      "100%|██████████| 165/165 [00:01<00:00, 120.53it/s]\n"
     ]
    },
    {
     "name": "stdout",
     "output_type": "stream",
     "text": [
      "\n",
      "    Epoch 67: Train Loss: 198.57711995442708, Val Loss: 209.51845768519811\n",
      "                   Train Wmape:  0.28705042600631714,  Val Wmape:  0.316610723733902\n"
     ]
    },
    {
     "name": "stderr",
     "output_type": "stream",
     "text": [
      "100%|██████████| 165/165 [00:01<00:00, 123.31it/s]\n"
     ]
    },
    {
     "name": "stdout",
     "output_type": "stream",
     "text": [
      "\n",
      "    Epoch 68: Train Loss: 198.27812229503286, Val Loss: 209.3902190072196\n",
      "                   Train Wmape:  0.28671348094940186,  Val Wmape:  0.3164835274219513\n"
     ]
    },
    {
     "name": "stderr",
     "output_type": "stream",
     "text": [
      "100%|██████████| 165/165 [00:01<00:00, 120.15it/s]\n"
     ]
    },
    {
     "name": "stdout",
     "output_type": "stream",
     "text": [
      "\n",
      "    Epoch 69: Train Loss: 197.9834205858635, Val Loss: 209.26963479178292\n",
      "                   Train Wmape:  0.28639140725135803,  Val Wmape:  0.316368967294693\n"
     ]
    },
    {
     "name": "stderr",
     "output_type": "stream",
     "text": [
      "100%|██████████| 165/165 [00:01<00:00, 121.71it/s]\n"
     ]
    },
    {
     "name": "stdout",
     "output_type": "stream",
     "text": [
      "\n",
      "    Epoch 70: Train Loss: 197.69258073748964, Val Loss: 209.15135156540643\n",
      "                   Train Wmape:  0.286079078912735,  Val Wmape:  0.3162619173526764\n"
     ]
    },
    {
     "name": "stderr",
     "output_type": "stream",
     "text": [
      "100%|██████████| 165/165 [00:01<00:00, 127.25it/s]\n"
     ]
    },
    {
     "name": "stdout",
     "output_type": "stream",
     "text": [
      "\n",
      "    Epoch 71: Train Loss: 197.4051727294922, Val Loss: 209.03762217930384\n",
      "                   Train Wmape:  0.2857758700847626,  Val Wmape:  0.3161605894565582\n"
     ]
    },
    {
     "name": "stderr",
     "output_type": "stream",
     "text": [
      "100%|██████████| 165/165 [00:01<00:00, 121.33it/s]\n"
     ]
    },
    {
     "name": "stdout",
     "output_type": "stream",
     "text": [
      "\n",
      "    Epoch 72: Train Loss: 197.1204063762318, Val Loss: 208.9255456470308\n",
      "                   Train Wmape:  0.2854764759540558,  Val Wmape:  0.3160623610019684\n"
     ]
    },
    {
     "name": "stderr",
     "output_type": "stream",
     "text": [
      "100%|██████████| 165/165 [00:01<00:00, 120.84it/s]\n"
     ]
    },
    {
     "name": "stdout",
     "output_type": "stream",
     "text": [
      "\n",
      "    Epoch 73: Train Loss: 196.83718171553178, Val Loss: 208.8207510085333\n",
      "                   Train Wmape:  0.2851809561252594,  Val Wmape:  0.3159666657447815\n"
     ]
    },
    {
     "name": "stderr",
     "output_type": "stream",
     "text": [
      "100%|██████████| 165/165 [00:01<00:00, 124.71it/s]\n"
     ]
    },
    {
     "name": "stdout",
     "output_type": "stream",
     "text": [
      "\n",
      "    Epoch 74: Train Loss: 196.53893444176876, Val Loss: 208.92719504946754\n",
      "                   Train Wmape:  0.2848919630050659,  Val Wmape:  0.316093385219574\n"
     ]
    },
    {
     "name": "stderr",
     "output_type": "stream",
     "text": [
      "100%|██████████| 165/165 [00:01<00:00, 117.67it/s]\n"
     ]
    },
    {
     "name": "stdout",
     "output_type": "stream",
     "text": [
      "\n",
      "    Epoch 75: Train Loss: 196.13614689220083, Val Loss: 209.19793955485025\n",
      "                   Train Wmape:  0.284684419631958,  Val Wmape:  0.31667691469192505\n"
     ]
    },
    {
     "name": "stderr",
     "output_type": "stream",
     "text": [
      "100%|██████████| 165/165 [00:01<00:00, 121.23it/s]\n"
     ]
    },
    {
     "name": "stdout",
     "output_type": "stream",
     "text": [
      "\n",
      "    Epoch 76: Train Loss: 195.91025632222494, Val Loss: 208.98952175322034\n",
      "                   Train Wmape:  0.28451764583587646,  Val Wmape:  0.3163681924343109\n"
     ]
    },
    {
     "name": "stderr",
     "output_type": "stream",
     "text": [
      "100%|██████████| 165/165 [00:01<00:00, 113.23it/s]\n"
     ]
    },
    {
     "name": "stdout",
     "output_type": "stream",
     "text": [
      "\n",
      "    Epoch 77: Train Loss: 195.60545828848174, Val Loss: 208.8651731581915\n",
      "                   Train Wmape:  0.2841624915599823,  Val Wmape:  0.31625300645828247\n"
     ]
    },
    {
     "name": "stderr",
     "output_type": "stream",
     "text": [
      "100%|██████████| 165/165 [00:01<00:00, 116.67it/s]\n"
     ]
    },
    {
     "name": "stdout",
     "output_type": "stream",
     "text": [
      "\n",
      "    Epoch 78: Train Loss: 195.38090108235676, Val Loss: 208.72194653465635\n",
      "                   Train Wmape:  0.2839549481868744,  Val Wmape:  0.31607118248939514\n"
     ]
    },
    {
     "name": "stderr",
     "output_type": "stream",
     "text": [
      "100%|██████████| 165/165 [00:01<00:00, 118.36it/s]\n"
     ]
    },
    {
     "name": "stdout",
     "output_type": "stream",
     "text": [
      "\n",
      "    Epoch 79: Train Loss: 195.11648885553532, Val Loss: 208.6232555934361\n",
      "                   Train Wmape:  0.2836275100708008,  Val Wmape:  0.3160409927368164\n"
     ]
    },
    {
     "name": "stderr",
     "output_type": "stream",
     "text": [
      "100%|██████████| 165/165 [00:01<00:00, 119.84it/s]\n"
     ]
    },
    {
     "name": "stdout",
     "output_type": "stream",
     "text": [
      "\n",
      "    Epoch 80: Train Loss: 194.84734515565813, Val Loss: 208.53582654680525\n",
      "                   Train Wmape:  0.28336817026138306,  Val Wmape:  0.31594276428222656\n"
     ]
    },
    {
     "name": "stderr",
     "output_type": "stream",
     "text": [
      "100%|██████████| 165/165 [00:01<00:00, 124.71it/s]\n"
     ]
    },
    {
     "name": "stdout",
     "output_type": "stream",
     "text": [
      "\n",
      "    Epoch 81: Train Loss: 194.59417279561362, Val Loss: 208.42944608415877\n",
      "                   Train Wmape:  0.2831198275089264,  Val Wmape:  0.3158251941204071\n"
     ]
    },
    {
     "name": "stderr",
     "output_type": "stream",
     "text": [
      "100%|██████████| 165/165 [00:01<00:00, 125.08it/s]\n"
     ]
    },
    {
     "name": "stdout",
     "output_type": "stream",
     "text": [
      "\n",
      "    Epoch 82: Train Loss: 194.35066442778617, Val Loss: 208.3746277945382\n",
      "                   Train Wmape:  0.2828681468963623,  Val Wmape:  0.31575965881347656\n"
     ]
    },
    {
     "name": "stderr",
     "output_type": "stream",
     "text": [
      "100%|██████████| 165/165 [00:01<00:00, 119.03it/s]\n"
     ]
    },
    {
     "name": "stdout",
     "output_type": "stream",
     "text": [
      "\n",
      "    Epoch 83: Train Loss: 194.12403219974402, Val Loss: 208.2706456865583\n",
      "                   Train Wmape:  0.28268614411354065,  Val Wmape:  0.3156089186668396\n"
     ]
    },
    {
     "name": "stderr",
     "output_type": "stream",
     "text": [
      "100%|██████████| 165/165 [00:01<00:00, 125.06it/s]\n"
     ]
    },
    {
     "name": "stdout",
     "output_type": "stream",
     "text": [
      "\n",
      "    Epoch 84: Train Loss: 193.86277943235456, Val Loss: 208.2310182480585\n",
      "                   Train Wmape:  0.28241944313049316,  Val Wmape:  0.3156006634235382\n"
     ]
    },
    {
     "name": "stderr",
     "output_type": "stream",
     "text": [
      "100%|██████████| 165/165 [00:01<00:00, 118.48it/s]\n"
     ]
    },
    {
     "name": "stdout",
     "output_type": "stream",
     "text": [
      "\n",
      "    Epoch 85: Train Loss: 193.56947367119068, Val Loss: 208.16329956054688\n",
      "                   Train Wmape:  0.28218182921409607,  Val Wmape:  0.31551918387413025\n"
     ]
    },
    {
     "name": "stderr",
     "output_type": "stream",
     "text": [
      "100%|██████████| 165/165 [00:01<00:00, 124.94it/s]\n"
     ]
    },
    {
     "name": "stdout",
     "output_type": "stream",
     "text": [
      "\n",
      "    Epoch 86: Train Loss: 193.3101667808764, Val Loss: 208.09907804216658\n",
      "                   Train Wmape:  0.28194156289100647,  Val Wmape:  0.3154083788394928\n"
     ]
    },
    {
     "name": "stderr",
     "output_type": "stream",
     "text": [
      "100%|██████████| 165/165 [00:01<00:00, 122.05it/s]\n"
     ]
    },
    {
     "name": "stdout",
     "output_type": "stream",
     "text": [
      "\n",
      "    Epoch 87: Train Loss: 193.07017792210434, Val Loss: 208.22080557686942\n",
      "                   Train Wmape:  0.2817454934120178,  Val Wmape:  0.3155975341796875\n"
     ]
    },
    {
     "name": "stderr",
     "output_type": "stream",
     "text": [
      "100%|██████████| 165/165 [00:01<00:00, 118.02it/s]\n"
     ]
    },
    {
     "name": "stdout",
     "output_type": "stream",
     "text": [
      "\n",
      "    Epoch 88: Train Loss: 192.80053635799524, Val Loss: 208.332948412214\n",
      "                   Train Wmape:  0.2815748155117035,  Val Wmape:  0.31582921743392944\n"
     ]
    },
    {
     "name": "stderr",
     "output_type": "stream",
     "text": [
      "100%|██████████| 165/165 [00:01<00:00, 120.67it/s]\n"
     ]
    },
    {
     "name": "stdout",
     "output_type": "stream",
     "text": [
      "\n",
      "    Epoch 89: Train Loss: 192.50971968679718, Val Loss: 208.4442425682431\n",
      "                   Train Wmape:  0.28138554096221924,  Val Wmape:  0.31596726179122925\n"
     ]
    },
    {
     "name": "stderr",
     "output_type": "stream",
     "text": [
      "100%|██████████| 165/165 [00:01<00:00, 120.17it/s]\n"
     ]
    },
    {
     "name": "stdout",
     "output_type": "stream",
     "text": [
      "\n",
      "    Epoch 90: Train Loss: 192.24580389080626, Val Loss: 208.44699151175362\n",
      "                   Train Wmape:  0.2811214029788971,  Val Wmape:  0.3158707022666931\n"
     ]
    },
    {
     "name": "stderr",
     "output_type": "stream",
     "text": [
      "100%|██████████| 165/165 [00:01<00:00, 117.75it/s]\n"
     ]
    },
    {
     "name": "stdout",
     "output_type": "stream",
     "text": [
      "\n",
      "    Epoch 91: Train Loss: 191.98822419137664, Val Loss: 208.50692095075334\n",
      "                   Train Wmape:  0.28086841106414795,  Val Wmape:  0.3158584237098694\n"
     ]
    },
    {
     "name": "stderr",
     "output_type": "stream",
     "text": [
      "100%|██████████| 165/165 [00:01<00:00, 121.47it/s]\n"
     ]
    },
    {
     "name": "stdout",
     "output_type": "stream",
     "text": [
      "\n",
      "    Epoch 92: Train Loss: 191.71742771033084, Val Loss: 208.5601416088286\n",
      "                   Train Wmape:  0.28058817982673645,  Val Wmape:  0.31583184003829956\n"
     ]
    },
    {
     "name": "stderr",
     "output_type": "stream",
     "text": [
      "100%|██████████| 165/165 [00:01<00:00, 122.25it/s]\n"
     ]
    },
    {
     "name": "stdout",
     "output_type": "stream",
     "text": [
      "\n",
      "    Epoch 93: Train Loss: 191.4492017919367, Val Loss: 208.61395390828451\n",
      "                   Train Wmape:  0.2803258001804352,  Val Wmape:  0.3158141076564789\n"
     ]
    },
    {
     "name": "stderr",
     "output_type": "stream",
     "text": [
      "100%|██████████| 165/165 [00:01<00:00, 117.84it/s]\n"
     ]
    },
    {
     "name": "stdout",
     "output_type": "stream",
     "text": [
      "\n",
      "    Epoch 94: Train Loss: 191.18879836111358, Val Loss: 208.6785756065732\n",
      "                   Train Wmape:  0.28007686138153076,  Val Wmape:  0.31586429476737976\n"
     ]
    },
    {
     "name": "stderr",
     "output_type": "stream",
     "text": [
      "100%|██████████| 165/165 [00:01<00:00, 114.82it/s]\n"
     ]
    },
    {
     "name": "stdout",
     "output_type": "stream",
     "text": [
      "\n",
      "    Epoch 95: Train Loss: 190.93686311895198, Val Loss: 208.75411188034784\n",
      "                   Train Wmape:  0.27983349561691284,  Val Wmape:  0.31588393449783325\n"
     ]
    },
    {
     "name": "stderr",
     "output_type": "stream",
     "text": [
      "100%|██████████| 165/165 [00:01<00:00, 120.96it/s]\n"
     ]
    },
    {
     "data": {
      "image/png": "[encoded data removed]",
      "text/plain": [
       "<Figure size 864x576 with 1 Axes>"
      ]
     },
     "metadata": {},
     "output_type": "display_data"
    },
    {
     "data": {
      "image/png": "[encoded data removed]",
      "text/plain": [
       "<Figure size 864x576 with 1 Axes>"
      ]
     },
     "metadata": {},
     "output_type": "display_data"
    },
    {
     "name": "stdout",
     "output_type": "stream",
     "text": [
      "Best Acc:  tensor(0.3154)\n"
     ]
    }
   ],
   "source": [
    "import os\n",
    "\n",
    "import torch\n",
    "import torch.nn as nn\n",
    "from tqdm import tqdm\n",
    "import pickle\n",
    "import matplotlib.pyplot as plt\n",
    "import numpy as np\n",
    "\n",
    "MAX_EPOCH = 100\n",
    "early_stop_steps = 10\n",
    "batch_size=128\n",
    "lr = 5e-4\n",
    "\n",
    "wd = 3e-4 # For adam\n",
    "\n",
    "device = torch.device(\"cuda:0\" if torch.cuda.is_available() else \"cpu\")\n",
    "\n",
    "trainloader = torch.utils.data.DataLoader(trainset, batch_size=batch_size,\n",
    "                                          shuffle=False, num_workers=10)\n",
    "valloader = torch.utils.data.DataLoader(valset, batch_size=batch_size,\n",
    "                                         shuffle=False, num_workers=10)\n",
    "\n",
    "model = SimpleLSTMModel()\n",
    "model.to(device)\n",
    "print(model)\n",
    "loss_fn = nn.MSELoss()\n",
    "\n",
    "optimizer = torch.optim.Adam(model.parameters(), lr = lr, weight_decay=wd)\n",
    "\n",
    "\n",
    "\n",
    "train_losses=[]\n",
    "train_wmapes=[]\n",
    "val_losses=[]\n",
    "val_wmapes=[]\n",
    "best_val_wmape = 100\n",
    "early_stop_count = 0\n",
    "for epoch in range(MAX_EPOCH):\n",
    "    train_loss = 0\n",
    "    train_abs_dev = 0\n",
    "    train_prod = 0\n",
    "    for instance, prod in tqdm(trainloader):\n",
    "        instance = instance.to(device)\n",
    "        prod = prod.to(device)\n",
    "        out = model(instance)\n",
    "        out = out.flatten()\n",
    "        loss = loss_fn(out, prod)\n",
    "        optimizer.zero_grad()\n",
    "        loss.backward()\n",
    "        optimizer.step()\n",
    "\n",
    "        train_loss += loss.item()\n",
    "        train_abs_dev += torch.sum(torch.abs(out-prod))\n",
    "        train_prod += torch.sum(prod)\n",
    "        \n",
    "\n",
    "    val_loss = 0\n",
    "    val_abs_dev = 0\n",
    "    val_prods = 0\n",
    "    with torch.no_grad():\n",
    "        for val_instance, val_prod in valloader:\n",
    "            val_instance = val_instance.to(device)\n",
    "            val_prod = val_prod.to(device)\n",
    "            val_out = model(val_instance)\n",
    "            val_out = val_out.flatten()\n",
    "            loss = loss_fn(val_out, val_prod)\n",
    "\n",
    "            val_loss += loss.item()\n",
    "            val_abs_dev += torch.sum(torch.abs(val_out-val_prod))\n",
    "            val_prods += torch.sum(val_prod)\n",
    "\n",
    "    train_loss = train_loss/(len(trainloader))\n",
    "    train_wmape = train_abs_dev/train_prod\n",
    "    train_losses.append(train_loss)\n",
    "    train_wmapes.append(train_wmape.detach().cpu())\n",
    "\n",
    "    val_loss = val_loss/(len(valloader))\n",
    "    val_wmape = val_abs_dev/val_prods\n",
    "    val_losses.append(val_loss)\n",
    "    val_wmapes.append(val_wmape.detach().cpu())\n",
    "\n",
    "    if val_wmape < best_val_wmape:\n",
    "        early_stop_count=0\n",
    "        best_val_wmape = val_wmape\n",
    "        torch.save(model.state_dict(), \"./best_model.pkl\")\n",
    "    else:\n",
    "        early_stop_count+=1\n",
    "\n",
    "    if early_stop_count >= early_stop_steps:\n",
    "        break\n",
    "\n",
    "    print(f\"\"\"\n",
    "    Epoch {epoch}: Train Loss: {train_loss}, Val Loss: {val_loss}\n",
    "                   Train Wmape:  {train_wmape},  Val Wmape:  {val_wmape}\"\"\")\n",
    "\n",
    "    \n",
    "plt.style.use(\"ggplot\")\n",
    "plt.figure(figsize=(12,8))\n",
    "plt.plot(list(range(len(train_wmapes))), train_wmapes, label='Train Wmape')\n",
    "plt.plot(list(range(len(val_wmapes))), val_wmapes, label='Validation Wmape')\n",
    "plt.xlabel(\"# of Epoch\")\n",
    "plt.ylabel(\"Wmape\")\n",
    "plt.legend()\n",
    "plt.show()\n",
    "\n",
    "plt.figure(figsize=(12,8))\n",
    "plt.plot(list(range(len(train_losses))), train_losses, label='Train Loss')\n",
    "plt.plot(list(range(len(val_losses))), val_losses, label='Validation Loss')\n",
    "plt.xlabel(\"# of Epoch\")\n",
    "plt.ylabel(\"MSE Loss\")\n",
    "plt.legend()\n",
    "plt.show()\n",
    "\n",
    "print(\"Best Acc: \", best_val_wmape)"
   ]
  },
  {
   "cell_type": "code",
   "execution_count": 45,
   "id": "978f76e6",
   "metadata": {},
   "outputs": [
    {
     "name": "stdout",
     "output_type": "stream",
     "text": [
      "TEST L2 LOSS: 305.60205078125\n",
      "TEST WMAPE: 0.29733362793922424\n"
     ]
    }
   ],
   "source": [
    "X_test = torch.from_numpy(X_sliding[train_end_idx+val_end_idx-window_size:]).float()\n",
    "y_test= torch.from_numpy(y[train_end_idx+val_end_idx:]).float()\n",
    "testset = torch.utils.data.TensorDataset(X_test, y_test)\n",
    "\n",
    "testloader = torch.utils.data.DataLoader(testset, batch_size=X_test.shape[0], shuffle=False, num_workers=10)\n",
    "\n",
    "with torch.no_grad():\n",
    "    for test_instance, test_prod in testloader:\n",
    "        test_instance = test_instance.to(device)\n",
    "        test_prod = test_prod.to(device)\n",
    "        test_out = model(test_instance)\n",
    "        test_out = test_out.flatten()\n",
    "        loss = loss_fn(test_out, test_prod)\n",
    "\n",
    "        print(f\"TEST L2 LOSS: {loss}\")\n",
    "        test_abs_dev = torch.sum(torch.abs(test_out-test_prod))\n",
    "        test_prods = torch.sum(test_prod)\n",
    "\n",
    "        print(f\"TEST WMAPE: {test_abs_dev/test_prods}\")"
   ]
  },
  {
   "cell_type": "code",
   "execution_count": 52,
   "id": "d16ea5fc",
   "metadata": {},
   "outputs": [
    {
     "data": {
      "text/plain": [
       "DatetimeIndex(['2021-10-10 00:00:00', '2021-10-10 01:00:00',\n",
       "               '2021-10-10 02:00:00', '2021-10-10 03:00:00',\n",
       "               '2021-10-10 04:00:00', '2021-10-10 05:00:00',\n",
       "               '2021-10-10 06:00:00', '2021-10-10 07:00:00',\n",
       "               '2021-10-10 08:00:00', '2021-10-10 09:00:00',\n",
       "               ...\n",
       "               '2022-01-27 14:00:00', '2022-01-27 15:00:00',\n",
       "               '2022-01-27 16:00:00', '2022-01-27 17:00:00',\n",
       "               '2022-01-27 18:00:00', '2022-01-27 19:00:00',\n",
       "               '2022-01-27 20:00:00', '2022-01-27 21:00:00',\n",
       "               '2022-01-27 22:00:00', '2022-01-27 23:00:00'],\n",
       "              dtype='datetime64[ns]', name='forecast_dt', length=2640, freq=None)"
      ]
     },
     "execution_count": 52,
     "metadata": {},
     "output_type": "execute_result"
    }
   ],
   "source": []
  },
  {
   "cell_type": "code",
   "execution_count": 57,
   "id": "6ffac3a5",
   "metadata": {},
   "outputs": [],
   "source": [
    "output = df.iloc[train_end_idx+val_end_idx:].reset_index()[[\"forecast_dt\"]]\n",
    "output[\"prediction\"] = test_out.detach().cpu().numpy()\n",
    "output[\"actual\"] = test_prod.detach().cpu().numpy()\n",
    "output = output.set_index(\"forecast_dt\")"
   ]
  },
  {
   "cell_type": "code",
   "execution_count": 59,
   "id": "72277207",
   "metadata": {},
   "outputs": [
    {
     "data": {
      "text/plain": [
       "<AxesSubplot:xlabel='forecast_dt'>"
      ]
     },
     "execution_count": 59,
     "metadata": {},
     "output_type": "execute_result"
    },
    {
     "data": {
      "image/png": "[encoded data removed]",
      "text/plain": [
       "<Figure size 864x576 with 1 Axes>"
      ]
     },
     "metadata": {},
     "output_type": "display_data"
    }
   ],
   "source": [
    "output.iloc[:500].plot(figsize=(12,8))"
   ]
  },
  {
   "cell_type": "code",
   "execution_count": null,
   "id": "aab73e88",
   "metadata": {},
   "outputs": [],
   "source": []
  }
 ],
 "metadata": {
  "kernelspec": {
   "display_name": "Python 3 (ipykernel)",
   "language": "python",
   "name": "python3"
  },
  "language_info": {
   "codemirror_mode": {
    "name": "ipython",
    "version": 3
   },
   "file_extension": ".py",
   "mimetype": "text/x-python",
   "name": "python",
   "nbconvert_exporter": "python",
   "pygments_lexer": "ipython3",
   "version": "3.9.10"
  }
 },
 "nbformat": 4,
 "nbformat_minor": 5
}
