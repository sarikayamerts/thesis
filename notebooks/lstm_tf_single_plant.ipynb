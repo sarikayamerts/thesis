{
 "cells": [
  {
   "cell_type": "code",
   "execution_count": null,
   "id": "6194d407-1536-4e4e-8a74-02c77bc78cab",
   "metadata": {},
   "outputs": [],
   "source": [
    "# biz multistep'i joint olarak tahmin ediyoruz, her stepi independent tahmin eden bir şey de deneyebilirdik\n",
    "# joint vs independent multistep forecasting"
   ]
  },
  {
   "cell_type": "code",
   "execution_count": null,
   "id": "2ee0c770-ab9e-4002-b356-05b611c4b6cc",
   "metadata": {},
   "outputs": [],
   "source": [
    "# cross entropy ile train etmek\n",
    "# sigmoid dene,\n",
    "\n",
    "# (94,24)lük bi output üretmeye çalışıyoruz, bunun yerine channel'ı tutmayıp dense flattened bir şeyer üretsek (94*24)lük "
   ]
  },
  {
   "cell_type": "markdown",
   "id": "42a211ba-3a07-49a9-bc19-5eff7a6422fb",
   "metadata": {},
   "source": [
    "#### Summary\n",
    "\n",
    "- 672 nolu plant seçildi\n",
    "- 120 saatlik featurelar verildi\n",
    "- speed ve angle feature'ı yaratıldı \n",
    "- son 24 saat tahmin edilmeye çalışıldı\n",
    "\n",
    "- **Linear**\n",
    "    - dense - dropout - dense **Linear2**  \n",
    "        - test wmape **0.3449** valid wmape **0.3324**\n",
    "    - dense - dropout - dense - dropout - dense\n",
    "        - test wmape **0.3504** valid wmape **0.3343**\n",
    "    - dense - dense\n",
    "        - test wmape **0.3622** valid wmape **0.3279**\n",
    "- **Convolution**\n",
    "    - Conv(64, 5) - MaxPooling(2) - Conv(64, 5) - MaxPooling(2) - dense - dense **CNN4**\n",
    "        - test wmape **0.2697** valid wmape **0.3221** - testte en iyi\n",
    "    - Conv(64, 3) - MaxPooling(2) - Conv(64, 3) - MaxPooling(2) - dense - dense\n",
    "        - test wmape **0.2797** valid wmape **0.3230** - testte en iyi ikinci\n",
    "    - Conv(64, 5) - MaxPooling(2) - Conv(64, 5) - MaxPooling(2) - Conv(64, 5) - Dropout(0.2) - dense - dense **CNN8**\n",
    "        - test wmape **0.2839** valid wmape **0.3307** - testte en iyi üçüncü\n",
    "    - Conv(64, 5) - MaxPooling(2) - Conv(64, 5) - Dropout(0.2) - dense - dense\n",
    "        - test wmape **0.3080** valid wmape **0.3113** - validasyonda overall en iyi     \n",
    "    - Conv(64, 5) - Dropout(0.2) - Conv(64, 5) - Dropout(0.2) - dense - dense\n",
    "        - test wmape **0.2993** valid wmape **0.3161** - validasyonda en iyi ikinci\n",
    "    - Conv(64, 24) - Conv(64, 24) - dense - dense\n",
    "        - test wmape **0.3020** valid wmape **0.3211** - validasyonda en iyi üçüncü\n",
    "\n",
    "- **Recurrent**\n",
    "    - Conv(64, 5) - MaxPooling(2) - Conv(32, 5) - MaxPooling(2) - LSTM(32) - dense **RNN5**\n",
    "        - test wmape **0.2640** valid wmape **0.3225** - testte overall en iyi \n",
    "    - LSTM(64) - LSTM(32) - dense\n",
    "        - test wmape **0.2656** valid wmape **0.3240**\n",
    "    - Conv(64, 5) - MaxPooling(2) - LSTM(32) - dense **RNN4**\n",
    "        - test wmape **0.2670** valid wmape **0.3235** \n",
    "    \n",
    "    \n",
    " Others:\n",
    " - 72 window size'de LSTM CNN'den kötü çalıştı\n",
    " - 144 window size, 969, no speed & angle\n",
    "|         |   test_WMAPE |   valid_WMAPE |\n",
    "|:--------|-------------:|--------------:|\n",
    "| CNN4    |     0.269104 |      0.195882 |\n",
    "| RNN4    |     0.286094 |      0.222127 |\n",
    "| RNN2    |     0.301866 |      0.225191 |\n",
    "| CNN8    |     0.306718 |      0.186613 |\n",
    "| Linear2 |     0.591632 |      0.270318 |\n",
    "\n",
    "- 144 window size, 969, with speed & angle\n",
    "|         |   test_WMAPE |   valid_WMAPE |\n",
    "|:--------|-------------:|--------------:|\n",
    "| RNN5    |     0.268528 |      0.221569 |\n",
    "| RNN4    |     0.272068 |      0.223544 |\n",
    "| CNN8    |     0.281256 |      0.211298 |\n",
    "| RNN2    |     0.290445 |      0.215808 |\n",
    "| CNN4    |     0.297803 |      0.197183 |\n",
    "| Linear2 |     0.35967  |      0.23287  |\n",
    "\n",
    "- 144 window size, 969, no speed & angle, with 48 hour lagged y\n",
    "|         |   test_WMAPE |   valid_WMAPE |\n",
    "|:--------|-------------:|--------------:|\n",
    "| RNN4    |     0.301939 |      0.208679 |\n",
    "| RNN5    |     0.313499 |      0.209053 |\n",
    "| CNN4    |     0.321136 |      0.194933 |\n",
    "| CNN8    |     0.322948 |      0.196475 |\n",
    "| Linear2 |     0.521663 |      0.279276 |\n",
    "\n",
    "- 144 window size, 969, with speed & angle, with 48 hour lagged y\n",
    "|         |   test_WMAPE |   valid_WMAPE |\n",
    "|:--------|-------------:|--------------:|\n",
    "| RNN4    |     0.27648  |      0.209708 |\n",
    "| RNN5    |     0.2771   |      0.221818 |\n",
    "| CNN8    |     0.288945 |      0.200607 |\n",
    "| CNN4    |     0.297947 |      0.194816 |\n",
    "| Linear2 |     0.355495 |      0.2217   |\n",
    " \n",
    " \n",
    "|         |   test_WMAPE |   valid_WMAPE |\n",
    "|:--------|-------------:|--------------:|\n",
    "| RNN4    |     0.275004 |      0.218043 |\n",
    "| CNN9    |     0.282984 |      0.198089 |\n",
    "| RNN5    |     0.284812 |      0.224892 |\n",
    "| CNN8    |     0.286998 |      0.215724 |\n",
    "| CNN7    |     0.288347 |      0.202105 |\n",
    "| CNN5    |     0.291741 |      0.202178 |\n",
    "| CNN4    |     0.291896 |      0.193898 |\n",
    "| CNN6    |     0.294105 |      0.199657 |\n",
    "| CNN1    |     0.297852 |      0.207869 |\n",
    "| CNN2    |     0.300469 |      0.198918 |\n",
    "| CNN3    |     0.305155 |      0.216291 |\n",
    "| RNN2    |     0.312107 |      0.211223 |\n",
    "| RNN1    |     0.313431 |      0.208321 |\n",
    "| RNN3    |     0.316233 |      0.210959 |\n",
    "| Linear2 |     0.355035 |      0.224861 |\n",
    "| Linear3 |     0.362393 |      0.226505 |\n",
    "| Linear1 |     0.368817 |      0.21642  |\n",
    "\n",
    "\n",
    "- 144 window size, 969, with speed & angle, with 48 hour lagged y, train ratio 0.6, valid 0.06 (approx. 1 year of test period)\n",
    "|         |   test_WMAPE |   valid_WMAPE |\n",
    "|:--------|-------------:|--------------:|\n",
    "| RNN5    |     0.308653 |      0.350136 |\n",
    "| CNN8    |     0.31365  |      0.319489 |\n",
    "| RNN1    |     0.315903 |      0.345974 |\n",
    "| RNN4    |     0.317685 |      0.35182  |\n",
    "| CNN4    |     0.319224 |      0.308687 |\n",
    "| Linear2 |     0.365302 |      0.398116 |\n",
    "\n",
    "\n",
    "- 144 window size, 969, with speed & angle, with 48 hour lagged y\n",
    "\n",
    "|         |   test_WMAPE |   valid_WMAPE |\n",
    "|:--------|-------------:|--------------:|\n",
    "| MAE     |     0.358325 |      0.21528  |\n",
    "| Huber   |     0.36017  |      0.221245 |\n",
    "| LogCosh |     0.361389 |      0.221966 |\n",
    "| MSE     |     0.362175 |      0.217444 |\n",
    "| MSLE    |     0.366114 |      0.23139  |\n",
    "| MAPE    |     0.83053  |      0.805053 |\n",
    "| CS      |     5.31436  |      4.52681  |\n",
    "\n",
    " "
   ]
  },
  {
   "cell_type": "code",
   "execution_count": 1,
   "id": "8acccecf-1cb0-472e-ab7c-ae4c4737a745",
   "metadata": {},
   "outputs": [],
   "source": [
    "import subprocess; FOLDER_PATH = subprocess.Popen(['git', 'rev-parse', '--show-toplevel'], stdout=subprocess.PIPE).communicate()[0].rstrip().decode('utf-8')\n",
    "import warnings; warnings.filterwarnings(\"ignore\")\n",
    "import sys, os; sys.path.append(os.path.dirname(f'{FOLDER_PATH}/scripts'))"
   ]
  },
  {
   "cell_type": "code",
   "execution_count": 2,
   "id": "af2224f4-9fce-4bcf-afab-c12ee0b5eb79",
   "metadata": {},
   "outputs": [
    {
     "name": "stderr",
     "output_type": "stream",
     "text": [
      "2022-04-16 15:33:40.682427: W tensorflow/stream_executor/platform/default/dso_loader.cc:64] Could not load dynamic library 'libcudart.so.11.0'; dlerror: libcudart.so.11.0: cannot open shared object file: No such file or directory\n",
      "2022-04-16 15:33:40.682442: I tensorflow/stream_executor/cuda/cudart_stub.cc:29] Ignore above cudart dlerror if you do not have a GPU set up on your machine.\n"
     ]
    }
   ],
   "source": [
    "from scripts.helpers import read_data, split_data, WindowGenerator, compile_and_fit"
   ]
  },
  {
   "cell_type": "code",
   "execution_count": 3,
   "id": "4a670ad5-ea2a-4306-83a4-ea8c0ea5e6d6",
   "metadata": {},
   "outputs": [],
   "source": [
    "df = read_data(generate_speed_angle=True, add_lagged=True)"
   ]
  },
  {
   "cell_type": "code",
   "execution_count": 4,
   "id": "26cbb785-ee8e-47a2-bfa0-2c0ee754aebe",
   "metadata": {},
   "outputs": [
    {
     "data": {
      "text/html": [
       "<div>\n",
       "<style scoped>\n",
       "    .dataframe tbody tr th:only-of-type {\n",
       "        vertical-align: middle;\n",
       "    }\n",
       "\n",
       "    .dataframe tbody tr th {\n",
       "        vertical-align: top;\n",
       "    }\n",
       "\n",
       "    .dataframe thead th {\n",
       "        text-align: right;\n",
       "    }\n",
       "</style>\n",
       "<table border=\"1\" class=\"dataframe\">\n",
       "  <thead>\n",
       "    <tr style=\"text-align: right;\">\n",
       "      <th></th>\n",
       "      <th>rt_plant_id</th>\n",
       "      <th>production</th>\n",
       "      <th>production_48_lagged</th>\n",
       "      <th>UGRD_80.m.above.ground.SW</th>\n",
       "      <th>UGRD_80.m.above.ground.NW</th>\n",
       "      <th>UGRD_80.m.above.ground.NE</th>\n",
       "      <th>UGRD_80.m.above.ground.SE</th>\n",
       "      <th>VGRD_80.m.above.ground.SW</th>\n",
       "      <th>VGRD_80.m.above.ground.NW</th>\n",
       "      <th>VGRD_80.m.above.ground.NE</th>\n",
       "      <th>VGRD_80.m.above.ground.SE</th>\n",
       "      <th>speed_SW</th>\n",
       "      <th>angle_SW</th>\n",
       "      <th>speed_NW</th>\n",
       "      <th>angle_NW</th>\n",
       "      <th>speed_NE</th>\n",
       "      <th>angle_NE</th>\n",
       "      <th>speed_SE</th>\n",
       "      <th>angle_SE</th>\n",
       "    </tr>\n",
       "    <tr>\n",
       "      <th>forecast_dt</th>\n",
       "      <th></th>\n",
       "      <th></th>\n",
       "      <th></th>\n",
       "      <th></th>\n",
       "      <th></th>\n",
       "      <th></th>\n",
       "      <th></th>\n",
       "      <th></th>\n",
       "      <th></th>\n",
       "      <th></th>\n",
       "      <th></th>\n",
       "      <th></th>\n",
       "      <th></th>\n",
       "      <th></th>\n",
       "      <th></th>\n",
       "      <th></th>\n",
       "      <th></th>\n",
       "      <th></th>\n",
       "      <th></th>\n",
       "    </tr>\n",
       "  </thead>\n",
       "  <tbody>\n",
       "    <tr>\n",
       "      <th>2019-01-26 03:00:00</th>\n",
       "      <td>672</td>\n",
       "      <td>82.0</td>\n",
       "      <td>49.0</td>\n",
       "      <td>-0.827966</td>\n",
       "      <td>-1.09797</td>\n",
       "      <td>-0.537966</td>\n",
       "      <td>-1.22797</td>\n",
       "      <td>10.27310</td>\n",
       "      <td>5.73309</td>\n",
       "      <td>7.26309</td>\n",
       "      <td>4.13309</td>\n",
       "      <td>10.306411</td>\n",
       "      <td>-0.080422</td>\n",
       "      <td>5.837282</td>\n",
       "      <td>-0.189223</td>\n",
       "      <td>7.282986</td>\n",
       "      <td>-0.073933</td>\n",
       "      <td>4.311652</td>\n",
       "      <td>-0.288801</td>\n",
       "    </tr>\n",
       "    <tr>\n",
       "      <th>2019-01-26 04:00:00</th>\n",
       "      <td>672</td>\n",
       "      <td>84.0</td>\n",
       "      <td>59.0</td>\n",
       "      <td>-2.003720</td>\n",
       "      <td>-2.34372</td>\n",
       "      <td>-1.463720</td>\n",
       "      <td>-1.65372</td>\n",
       "      <td>4.91564</td>\n",
       "      <td>4.24564</td>\n",
       "      <td>2.54564</td>\n",
       "      <td>2.45564</td>\n",
       "      <td>5.308334</td>\n",
       "      <td>-0.387059</td>\n",
       "      <td>4.849586</td>\n",
       "      <td>-0.504400</td>\n",
       "      <td>2.936454</td>\n",
       "      <td>-0.521827</td>\n",
       "      <td>2.960567</td>\n",
       "      <td>-0.592675</td>\n",
       "    </tr>\n",
       "    <tr>\n",
       "      <th>2019-01-26 05:00:00</th>\n",
       "      <td>672</td>\n",
       "      <td>81.0</td>\n",
       "      <td>32.0</td>\n",
       "      <td>-2.598570</td>\n",
       "      <td>-3.06857</td>\n",
       "      <td>-1.828570</td>\n",
       "      <td>-2.63857</td>\n",
       "      <td>4.42559</td>\n",
       "      <td>4.01559</td>\n",
       "      <td>1.86559</td>\n",
       "      <td>2.28559</td>\n",
       "      <td>5.132096</td>\n",
       "      <td>-0.530932</td>\n",
       "      <td>5.053819</td>\n",
       "      <td>-0.652505</td>\n",
       "      <td>2.612297</td>\n",
       "      <td>-0.775377</td>\n",
       "      <td>3.490841</td>\n",
       "      <td>-0.856959</td>\n",
       "    </tr>\n",
       "    <tr>\n",
       "      <th>2019-01-26 06:00:00</th>\n",
       "      <td>672</td>\n",
       "      <td>61.0</td>\n",
       "      <td>34.0</td>\n",
       "      <td>-2.810980</td>\n",
       "      <td>-3.16098</td>\n",
       "      <td>-2.160980</td>\n",
       "      <td>-2.79098</td>\n",
       "      <td>4.98780</td>\n",
       "      <td>3.58780</td>\n",
       "      <td>3.39780</td>\n",
       "      <td>2.67780</td>\n",
       "      <td>5.725361</td>\n",
       "      <td>-0.513203</td>\n",
       "      <td>4.781642</td>\n",
       "      <td>-0.722238</td>\n",
       "      <td>4.026770</td>\n",
       "      <td>-0.566466</td>\n",
       "      <td>3.867839</td>\n",
       "      <td>-0.806091</td>\n",
       "    </tr>\n",
       "    <tr>\n",
       "      <th>2019-01-26 07:00:00</th>\n",
       "      <td>672</td>\n",
       "      <td>71.0</td>\n",
       "      <td>44.0</td>\n",
       "      <td>-2.665620</td>\n",
       "      <td>-3.07562</td>\n",
       "      <td>-2.005620</td>\n",
       "      <td>-2.64562</td>\n",
       "      <td>5.39222</td>\n",
       "      <td>3.32222</td>\n",
       "      <td>4.43222</td>\n",
       "      <td>2.91222</td>\n",
       "      <td>6.015112</td>\n",
       "      <td>-0.459114</td>\n",
       "      <td>4.527315</td>\n",
       "      <td>-0.746873</td>\n",
       "      <td>4.864883</td>\n",
       "      <td>-0.424939</td>\n",
       "      <td>3.934505</td>\n",
       "      <td>-0.737467</td>\n",
       "    </tr>\n",
       "  </tbody>\n",
       "</table>\n",
       "</div>"
      ],
      "text/plain": [
       "                     rt_plant_id  production  production_48_lagged  \\\n",
       "forecast_dt                                                          \n",
       "2019-01-26 03:00:00          672        82.0                  49.0   \n",
       "2019-01-26 04:00:00          672        84.0                  59.0   \n",
       "2019-01-26 05:00:00          672        81.0                  32.0   \n",
       "2019-01-26 06:00:00          672        61.0                  34.0   \n",
       "2019-01-26 07:00:00          672        71.0                  44.0   \n",
       "\n",
       "                     UGRD_80.m.above.ground.SW  UGRD_80.m.above.ground.NW  \\\n",
       "forecast_dt                                                                 \n",
       "2019-01-26 03:00:00                  -0.827966                   -1.09797   \n",
       "2019-01-26 04:00:00                  -2.003720                   -2.34372   \n",
       "2019-01-26 05:00:00                  -2.598570                   -3.06857   \n",
       "2019-01-26 06:00:00                  -2.810980                   -3.16098   \n",
       "2019-01-26 07:00:00                  -2.665620                   -3.07562   \n",
       "\n",
       "                     UGRD_80.m.above.ground.NE  UGRD_80.m.above.ground.SE  \\\n",
       "forecast_dt                                                                 \n",
       "2019-01-26 03:00:00                  -0.537966                   -1.22797   \n",
       "2019-01-26 04:00:00                  -1.463720                   -1.65372   \n",
       "2019-01-26 05:00:00                  -1.828570                   -2.63857   \n",
       "2019-01-26 06:00:00                  -2.160980                   -2.79098   \n",
       "2019-01-26 07:00:00                  -2.005620                   -2.64562   \n",
       "\n",
       "                     VGRD_80.m.above.ground.SW  VGRD_80.m.above.ground.NW  \\\n",
       "forecast_dt                                                                 \n",
       "2019-01-26 03:00:00                   10.27310                    5.73309   \n",
       "2019-01-26 04:00:00                    4.91564                    4.24564   \n",
       "2019-01-26 05:00:00                    4.42559                    4.01559   \n",
       "2019-01-26 06:00:00                    4.98780                    3.58780   \n",
       "2019-01-26 07:00:00                    5.39222                    3.32222   \n",
       "\n",
       "                     VGRD_80.m.above.ground.NE  VGRD_80.m.above.ground.SE  \\\n",
       "forecast_dt                                                                 \n",
       "2019-01-26 03:00:00                    7.26309                    4.13309   \n",
       "2019-01-26 04:00:00                    2.54564                    2.45564   \n",
       "2019-01-26 05:00:00                    1.86559                    2.28559   \n",
       "2019-01-26 06:00:00                    3.39780                    2.67780   \n",
       "2019-01-26 07:00:00                    4.43222                    2.91222   \n",
       "\n",
       "                      speed_SW  angle_SW  speed_NW  angle_NW  speed_NE  \\\n",
       "forecast_dt                                                              \n",
       "2019-01-26 03:00:00  10.306411 -0.080422  5.837282 -0.189223  7.282986   \n",
       "2019-01-26 04:00:00   5.308334 -0.387059  4.849586 -0.504400  2.936454   \n",
       "2019-01-26 05:00:00   5.132096 -0.530932  5.053819 -0.652505  2.612297   \n",
       "2019-01-26 06:00:00   5.725361 -0.513203  4.781642 -0.722238  4.026770   \n",
       "2019-01-26 07:00:00   6.015112 -0.459114  4.527315 -0.746873  4.864883   \n",
       "\n",
       "                     angle_NE  speed_SE  angle_SE  \n",
       "forecast_dt                                        \n",
       "2019-01-26 03:00:00 -0.073933  4.311652 -0.288801  \n",
       "2019-01-26 04:00:00 -0.521827  2.960567 -0.592675  \n",
       "2019-01-26 05:00:00 -0.775377  3.490841 -0.856959  \n",
       "2019-01-26 06:00:00 -0.566466  3.867839 -0.806091  \n",
       "2019-01-26 07:00:00 -0.424939  3.934505 -0.737467  "
      ]
     },
     "execution_count": 4,
     "metadata": {},
     "output_type": "execute_result"
    }
   ],
   "source": [
    "df.head()"
   ]
  },
  {
   "cell_type": "code",
   "execution_count": 5,
   "id": "772355dc-de74-462b-8730-68c00e578a69",
   "metadata": {},
   "outputs": [
    {
     "name": "stdout",
     "output_type": "stream",
     "text": [
      "Train start and end dates:  2019-01-26 03:00:00 2021-06-22 09:00:00\n",
      "Validation start and end dates:  2021-06-22 10:00:00 2021-10-10 04:00:00\n",
      "Test start and end dates:  2021-10-10 05:00:00 2022-01-27 23:00:00\n"
     ]
    }
   ],
   "source": [
    "train_df_np, valid_df_np, test_df_np = split_data(df, scaler=\"minmax\")"
   ]
  },
  {
   "cell_type": "code",
   "execution_count": 7,
   "id": "6585ee3b-cf7e-4801-8a62-ecd9c39a7678",
   "metadata": {},
   "outputs": [
    {
     "ename": "NameError",
     "evalue": "name 'train_df' is not defined",
     "output_type": "error",
     "traceback": [
      "\u001b[0;31m---------------------------------------------------------------------------\u001b[0m",
      "\u001b[0;31mNameError\u001b[0m                                 Traceback (most recent call last)",
      "Input \u001b[0;32mIn [7]\u001b[0m, in \u001b[0;36m<cell line: 3>\u001b[0;34m()\u001b[0m\n\u001b[1;32m      1\u001b[0m OUT_STEPS \u001b[38;5;241m=\u001b[39m \u001b[38;5;241m24\u001b[39m\n\u001b[1;32m      3\u001b[0m multi_window \u001b[38;5;241m=\u001b[39m WindowGenerator(\n\u001b[0;32m----> 4\u001b[0m     train_df\u001b[38;5;241m=\u001b[39m\u001b[43mtrain_df\u001b[49m, valid_df\u001b[38;5;241m=\u001b[39mvalid_df, test_df\u001b[38;5;241m=\u001b[39mtest_df,\n\u001b[1;32m      5\u001b[0m     input_width\u001b[38;5;241m=\u001b[39mINPUT_WIDTH, label_width\u001b[38;5;241m=\u001b[39m\u001b[38;5;241m24\u001b[39m, shift\u001b[38;5;241m=\u001b[39m\u001b[38;5;241m0\u001b[39m, label_columns\u001b[38;5;241m=\u001b[39m[\u001b[38;5;124m\"\u001b[39m\u001b[38;5;124mproduction\u001b[39m\u001b[38;5;124m\"\u001b[39m])\n\u001b[1;32m      6\u001b[0m multi_window\n",
      "\u001b[0;31mNameError\u001b[0m: name 'train_df' is not defined"
     ]
    }
   ],
   "source": [
    "OUT_STEPS = 24\n",
    "\n",
    "multi_window = WindowGenerator(\n",
    "    train_df=train_df, valid_df=valid_df, test_df=test_df,\n",
    "    input_width=INPUT_WIDTH, label_width=24, shift=0, label_columns=[\"production\"])\n",
    "multi_window"
   ]
  },
  {
   "cell_type": "code",
   "execution_count": null,
   "id": "07a6c623-b6ac-4bd5-a3c2-d507a3afe988",
   "metadata": {},
   "outputs": [],
   "source": []
  },
  {
   "cell_type": "code",
   "execution_count": null,
   "id": "24191cca-9e08-47d0-be9e-f070f324846a",
   "metadata": {},
   "outputs": [],
   "source": []
  },
  {
   "cell_type": "code",
   "execution_count": null,
   "id": "5e86d73d-9a53-49da-8f23-394ded4ca233",
   "metadata": {},
   "outputs": [],
   "source": []
  },
  {
   "cell_type": "code",
   "execution_count": null,
   "id": "e0441e51-e005-4600-a27a-00a8f57345b7",
   "metadata": {},
   "outputs": [],
   "source": []
  },
  {
   "cell_type": "code",
   "execution_count": null,
   "id": "6ce42b5f-0e90-40a3-b2d6-f715052b2e37",
   "metadata": {},
   "outputs": [],
   "source": []
  },
  {
   "cell_type": "code",
   "execution_count": null,
   "id": "701467a5-3e57-4833-a9e8-b99304d85682",
   "metadata": {},
   "outputs": [],
   "source": []
  },
  {
   "cell_type": "code",
   "execution_count": null,
   "id": "43ffca61-be8d-4819-98f0-d16372ce102d",
   "metadata": {},
   "outputs": [],
   "source": []
  },
  {
   "cell_type": "code",
   "execution_count": null,
   "id": "ea60fb5f-9a4f-4075-bba3-adb52a81fd41",
   "metadata": {},
   "outputs": [],
   "source": []
  },
  {
   "cell_type": "code",
   "execution_count": null,
   "id": "0f95f9e1-b962-4c8a-a76c-338dc6ec5193",
   "metadata": {},
   "outputs": [],
   "source": []
  },
  {
   "cell_type": "code",
   "execution_count": null,
   "id": "a724889b-66bd-4270-85c0-ec019fbd3e21",
   "metadata": {},
   "outputs": [],
   "source": []
  },
  {
   "cell_type": "code",
   "execution_count": null,
   "id": "bf1dc5d9-bd53-4e4e-bd61-80dc16e04004",
   "metadata": {},
   "outputs": [],
   "source": []
  },
  {
   "cell_type": "code",
   "execution_count": null,
   "id": "929405f4-8091-4d3c-9cfb-51610f638e9a",
   "metadata": {},
   "outputs": [],
   "source": []
  },
  {
   "cell_type": "code",
   "execution_count": null,
   "id": "56a148ef-45ff-43f3-b982-153d0ca0b194",
   "metadata": {},
   "outputs": [],
   "source": []
  },
  {
   "cell_type": "code",
   "execution_count": null,
   "id": "684decf3-acf7-4293-ae91-51a867403c24",
   "metadata": {},
   "outputs": [],
   "source": [
    "GENERATE_SPEED_ANGLE = True\n",
    "add_lagged = True\n",
    "INPUT_WIDTH = 144\n",
    "\n",
    "train_ratio = 0.8\n",
    "valid_ratio = 0.1"
   ]
  },
  {
   "cell_type": "code",
   "execution_count": null,
   "id": "0962a06c-0ffc-42a1-9f19-d14c04392449",
   "metadata": {},
   "outputs": [],
   "source": [
    "import os; os.getcwd()"
   ]
  },
  {
   "cell_type": "code",
   "execution_count": null,
   "id": "7955d2d0-c468-4b42-ace3-144b0861f26d",
   "metadata": {},
   "outputs": [],
   "source": [
    "from ..scripts import window"
   ]
  },
  {
   "cell_type": "code",
   "execution_count": null,
   "id": "626c8a56-3a31-472a-91a2-ea6392bd41ec",
   "metadata": {},
   "outputs": [],
   "source": [
    "import warnings; warnings.filterwarnings(\"ignore\")"
   ]
  },
  {
   "cell_type": "code",
   "execution_count": null,
   "id": "ed657ea5-9e8d-40db-85ab-f8694a4b8edb",
   "metadata": {},
   "outputs": [],
   "source": [
    "import pandas as pd\n",
    "import numpy as np\n",
    "import tensorflow as tf\n",
    "import matplotlib.pyplot as plt\n",
    "\n",
    "from sklearn.preprocessing import MinMaxScaler\n",
    "from tensorflow.keras import models, layers"
   ]
  },
  {
   "cell_type": "code",
   "execution_count": null,
   "id": "3a015e65-8ad8-490a-a65e-9a648ea4cda4",
   "metadata": {},
   "outputs": [],
   "source": [
    "df = pd.read_parquet(\"../data/processed/outlier_removed.parquet\")"
   ]
  },
  {
   "cell_type": "code",
   "execution_count": null,
   "id": "ac2843d0-508d-46fb-a2aa-0635fb4d4686",
   "metadata": {},
   "outputs": [],
   "source": [
    "if add_lagged:\n",
    "    df[\"production_48_lagged\"] = df.groupby(\"rt_plant_id\").production.shift(48)\n",
    "\n",
    "# SELECTED_PLANT = 0\n",
    "# PLANTS = sorted(df.rt_plant_id.unique())\n",
    "# SELECTED_PLANT_ID = PLANTS[SELECTED_PLANT]\n",
    "\n",
    "SELECTED_PLANT_ID = df.groupby(\"rt_plant_id\").production.sum().sort_values(ascending=False).index[0]\n",
    "print(SELECTED_PLANT_ID)\n",
    "weather_cols = [col for col in df.columns if col.startswith((\"UGRD\", \"VGRD\"))]\n",
    "if add_lagged:\n",
    "    df = df.set_index(\"forecast_dt\")[[\"rt_plant_id\", \"production\", \"production_48_lagged\", *weather_cols]]\n",
    "    df = df.dropna()\n",
    "else:    \n",
    "    df = df.set_index(\"forecast_dt\")[[\"rt_plant_id\", \"production\", *weather_cols]]\n",
    "df = df[df[\"rt_plant_id\"] == SELECTED_PLANT_ID].drop(\"rt_plant_id\", axis=1)"
   ]
  },
  {
   "cell_type": "code",
   "execution_count": null,
   "id": "fc94faed-b8d6-423b-8eba-0b98340271d1",
   "metadata": {},
   "outputs": [],
   "source": [
    "if GENERATE_SPEED_ANGLE:\n",
    "    for box in [\"SW\", \"NW\", \"NE\", \"SE\"]:\n",
    "        df[f\"speed_{box}\"] = np.sqrt(np.square(df[f\"UGRD_80.m.above.ground.{box}\"]) + np.square(df[f\"VGRD_80.m.above.ground.{box}\"]))\n",
    "        df[f\"angle_{box}\"] = np.arctan(df[f\"UGRD_80.m.above.ground.{box}\"] / df[f\"VGRD_80.m.above.ground.{box}\"])\n",
    "        \n",
    "time_indices = sorted(df.index.unique())\n",
    "\n",
    "train_indices = time_indices[:int(len(time_indices) * train_ratio)]\n",
    "valid_indices = time_indices[int(len(time_indices) * train_ratio):int(len(time_indices) * (train_ratio + valid_ratio))]\n",
    "test_indices = time_indices[int(len(time_indices) * (train_ratio + valid_ratio)):]\n",
    "\n",
    "train_df = df.loc[train_indices, :]\n",
    "valid_df = df.loc[valid_indices, :]\n",
    "test_df = df.loc[test_indices, :]\n",
    "\n",
    "print(\"Train start and end dates: \", train_indices[0], train_indices[-1])\n",
    "try:\n",
    "    print(\"Validation start and end dates: \", valid_indices[0], valid_indices[-1])\n",
    "except:\n",
    "    pass\n",
    "print(\"Test start and end dates: \", test_indices[0], test_indices[-1])"
   ]
  },
  {
   "cell_type": "code",
   "execution_count": null,
   "id": "6c3278ab-dc45-425d-9697-26211e2069f4",
   "metadata": {},
   "outputs": [],
   "source": [
    "if 0:\n",
    "    plt.figure(figsize=(12, 8))\n",
    "    plt.subplot(3, 1, 1)\n",
    "    plt.plot(train_df.index, train_df.production)\n",
    "    plt.subplot(3, 1, 2)\n",
    "    plt.plot(valid_df.index, valid_df.production)\n",
    "    plt.subplot(3, 1, 3)\n",
    "    plt.plot(test_df.index, test_df.production)\n",
    "    plt.show()\n"
   ]
  },
  {
   "cell_type": "code",
   "execution_count": null,
   "id": "0a50ef8e-4854-478b-82b3-f2d759e134f1",
   "metadata": {},
   "outputs": [],
   "source": [
    "scaler = MinMaxScaler()\n",
    "train_df = pd.DataFrame(scaler.fit_transform(train_df), index=train_df.index, columns=train_df.columns)\n",
    "try:\n",
    "    valid_df = pd.DataFrame(scaler.transform(valid_df), index=valid_df.index, columns=valid_df.columns)\n",
    "except:\n",
    "    pass\n",
    "test_df = pd.DataFrame(scaler.transform(test_df), index=test_df.index, columns=test_df.columns)"
   ]
  },
  {
   "cell_type": "code",
   "execution_count": null,
   "id": "0f07f43d-1171-48c7-b466-43b8558961ad",
   "metadata": {},
   "outputs": [],
   "source": []
  },
  {
   "cell_type": "code",
   "execution_count": null,
   "id": "6b099daf-b94b-4229-9e41-93c42fb66e0b",
   "metadata": {},
   "outputs": [],
   "source": [
    "class WindowGenerator():\n",
    "    def __init__(self, input_width, label_width, shift,\n",
    "                 train_df=train_df, valid_df=valid_df, test_df=test_df,\n",
    "                 columns=None, label_columns=None):\n",
    "        self.train_df = train_df\n",
    "        self.valid_df = valid_df\n",
    "        self.test_df = test_df\n",
    "        if columns is None:\n",
    "            columns = train_df.columns\n",
    "\n",
    "        self.label_columns = label_columns\n",
    "        self.label_columns_indices = {name: i for i, name in enumerate(label_columns)}\n",
    "        self.column_indices = {name: i for i, name in enumerate(columns)}\n",
    "        self.feature_column_indices = [v for k,v in self.column_indices.items() if k not in self.label_columns]\n",
    "        self.feature_number = len(self.feature_column_indices)\n",
    "        # list(self.label_columns_indices.values())\n",
    "\n",
    "        self.input_width = input_width\n",
    "        self.label_width = label_width\n",
    "        self.shift = shift\n",
    "\n",
    "        self.total_window_size = input_width + shift\n",
    "\n",
    "        self.input_slice = slice(0, input_width)\n",
    "        self.input_indices = np.arange(self.total_window_size)[self.input_slice]\n",
    "\n",
    "        self.label_start = self.total_window_size - self.label_width\n",
    "        self.labels_slice = slice(self.label_start, None)\n",
    "        self.label_indices = np.arange(self.total_window_size)[self.labels_slice]\n",
    "\n",
    "    def __repr__(self):\n",
    "        return '\\n'.join([\n",
    "            f'Total window size: {self.total_window_size}',\n",
    "            f'Input indices: {self.input_indices}',\n",
    "            f'Label indices: {self.label_indices}',\n",
    "            f'Label column name(s): {self.label_columns}'])\n",
    "\n",
    "    def split_window(self, features):\n",
    "        inputs = features[:, self.input_slice, 1:]\n",
    "        labels = features[:, self.labels_slice, :1]\n",
    "        labels = tf.stack([labels[:, :, self.column_indices[name]] for name in self.label_columns], axis=-1)\n",
    "        inputs.set_shape([None, self.input_width, None])\n",
    "        labels.set_shape([None, self.label_width, None])\n",
    "        return inputs, labels\n",
    "\n",
    "    def plot(self, model=None, plot_col='production', plant=None, max_subplots=3):\n",
    "        inputs, labels = self.example\n",
    "        plt.figure(figsize=(12, 8))\n",
    "        plot_col_index = self.column_indices[plot_col]\n",
    "        max_n = min(max_subplots, len(inputs))\n",
    "        for n in range(max_n):\n",
    "            plt.subplot(max_n, 1, n+1)\n",
    "            plt.ylabel(f'{plot_col} [normed]')\n",
    "            label_col_index = self.label_columns_indices.get(plot_col, None)  \n",
    "            input_values = inputs[n, :, plot_col_index]\n",
    "            label_values = labels[n, :, label_col_index]\n",
    "            plt.plot(self.input_indices, input_values, label='Inputs', marker='.', zorder=-10)\n",
    "            plt.scatter(self.label_indices, label_values, edgecolors='k', label='Labels', c='#2ca02c', s=64)\n",
    "            if model is not None:\n",
    "                predictions = model(inputs)\n",
    "                prediction_values = predictions[n, :, label_col_index]\n",
    "                prediction_values = tf.clip_by_value(prediction_values, clip_value_min=0, clip_value_max=1)\n",
    "                plt.scatter(self.label_indices, prediction_values, marker='X', edgecolors='k', label='Predictions', c='#ff7f0e', s=64)\n",
    "            if n == 0:\n",
    "                plt.legend()\n",
    "        plt.xlabel('Time [h]')\n",
    "\n",
    "    def make_dataset(self, data):\n",
    "        data = np.array(data, dtype=np.float32)\n",
    "        ds = tf.keras.utils.timeseries_dataset_from_array(\n",
    "            data=data, targets=None,\n",
    "            sequence_length=self.total_window_size,\n",
    "            # sequence_stride=24, shuffle=False,\n",
    "            sequence_stride=1, shuffle=True,\n",
    "            batch_size=64,)\n",
    "        ds = ds.map(self.split_window)\n",
    "        return ds\n",
    "\n",
    "    @property\n",
    "    def train(self):\n",
    "        return self.make_dataset(self.train_df)\n",
    "\n",
    "    @property\n",
    "    def valid(self):\n",
    "        return self.make_dataset(self.valid_df)\n",
    "\n",
    "    @property\n",
    "    def test(self):\n",
    "        return self.make_dataset(self.test_df)\n",
    "\n",
    "    @property\n",
    "    def example(self):\n",
    "        \"\"\"Get and cache an example batch of `inputs, labels` for plotting.\"\"\"\n",
    "        result = getattr(self, '_example', None)\n",
    "        if result is None:\n",
    "            result = next(iter(self.train))\n",
    "            self._example = result\n",
    "        return result"
   ]
  },
  {
   "cell_type": "code",
   "execution_count": null,
   "id": "065df786-9495-4647-aaad-f19e7750c5da",
   "metadata": {},
   "outputs": [],
   "source": [
    "def wmape(y_true, y_pred):\n",
    "    total_abs_diff = tf.reduce_sum(tf.abs(tf.subtract(y_true, y_pred)))\n",
    "    total = tf.reduce_sum(y_true)\n",
    "    wmape = tf.realdiv(total_abs_diff, total)\n",
    "    return wmape\n",
    "\n",
    "MAX_EPOCHS = 100\n",
    "\n",
    "def compile_and_fit(model, window, loss=tf.losses.MeanSquaredError(), patience=10):\n",
    "    early_stopping = tf.keras.callbacks.EarlyStopping(\n",
    "        monitor='val_wmape',\n",
    "        patience=patience,\n",
    "        mode='min', \n",
    "        verbose=0,\n",
    "        restore_best_weights=True)\n",
    "    \n",
    "    optimizer=tf.keras.optimizers.RMSprop(clipvalue=1.0), loss='mae')\n",
    "    model.compile(loss=loss,\n",
    "                  optimizer=tf.optimizers.Adam(),\n",
    "                  metrics=[wmape]) # tf.metrics.MeanAbsoluteError(), wmape]) \n",
    "    \n",
    "    history = model.fit(window.train, epochs=MAX_EPOCHS,\n",
    "                        validation_data=window.valid,\n",
    "                        verbose=1,\n",
    "                        callbacks=[early_stopping],\n",
    "                       #  validation_steps=50\n",
    "                       )\n",
    "    return history"
   ]
  },
  {
   "cell_type": "code",
   "execution_count": null,
   "id": "c9a45a5e-ea39-479d-9af9-b21b7d27337c",
   "metadata": {},
   "outputs": [],
   "source": [
    "OUT_STEPS = 24\n",
    "\n",
    "multi_window = WindowGenerator(\n",
    "    train_df=train_df, valid_df=valid_df, test_df=test_df,\n",
    "    input_width=INPUT_WIDTH, label_width=24, shift=0, label_columns=[\"production\"])\n",
    "# multi_window"
   ]
  },
  {
   "cell_type": "code",
   "execution_count": null,
   "id": "8771bd2b-9f6c-4d47-9b1f-9a86b729dc11",
   "metadata": {},
   "outputs": [],
   "source": [
    "# multi_window.plot()"
   ]
  },
  {
   "cell_type": "code",
   "execution_count": null,
   "id": "77f18b59-4501-4a09-a18f-1f165cb221f4",
   "metadata": {},
   "outputs": [],
   "source": [
    "multi_val_performance = {}\n",
    "multi_performance = {}"
   ]
  },
  {
   "cell_type": "markdown",
   "id": "99fa3913-bef3-4ffd-90c2-d234db95c2be",
   "metadata": {
    "tags": []
   },
   "source": [
    "## Dense"
   ]
  },
  {
   "cell_type": "markdown",
   "id": "b1389476-62d1-4c13-8211-7db3cf9c4619",
   "metadata": {
    "jp-MarkdownHeadingCollapsed": true,
    "tags": []
   },
   "source": [
    "### Linear1"
   ]
  },
  {
   "cell_type": "code",
   "execution_count": null,
   "id": "56d93d6c-3673-4715-b44d-e3161d6f45a0",
   "metadata": {},
   "outputs": [],
   "source": [
    "model = models.Sequential()\n",
    "model.add(layers.InputLayer(input_shape=(multi_window.input_width, multi_window.feature_number)))\n",
    "model.add(layers.Dense(OUT_STEPS, kernel_initializer=tf.initializers.zeros()))\n",
    "model.add(layers.Flatten())\n",
    "model.add(layers.Dense(OUT_STEPS))\n",
    "model.add(layers.Reshape([OUT_STEPS, 1]))\n",
    "model.summary()"
   ]
  },
  {
   "cell_type": "code",
   "execution_count": null,
   "id": "bdbbff86-27ff-4ee5-8e1a-efdf63241e51",
   "metadata": {},
   "outputs": [],
   "source": [
    "history = compile_and_fit(model, multi_window)"
   ]
  },
  {
   "cell_type": "code",
   "execution_count": null,
   "id": "098b047a-1adc-4152-9c90-87640db56848",
   "metadata": {},
   "outputs": [],
   "source": [
    "multi_val_performance['Linear1'] = model.evaluate(multi_window.valid)\n",
    "multi_performance['Linear1'] = model.evaluate(multi_window.test)"
   ]
  },
  {
   "cell_type": "code",
   "execution_count": null,
   "id": "a30b5699-f4b8-4e03-bedf-fe0880d91eea",
   "metadata": {},
   "outputs": [],
   "source": [
    "multi_window.plot(model, max_subplots=5)"
   ]
  },
  {
   "cell_type": "markdown",
   "id": "c9fd0872-815f-4fa1-bc55-b5f03febb26a",
   "metadata": {
    "jp-MarkdownHeadingCollapsed": true,
    "tags": []
   },
   "source": [
    "### Linear2"
   ]
  },
  {
   "cell_type": "code",
   "execution_count": null,
   "id": "3ad07c03-d27c-44e8-bc34-7ca8b18e6ccb",
   "metadata": {},
   "outputs": [],
   "source": [
    "model = models.Sequential()\n",
    "model.add(layers.InputLayer(input_shape=(multi_window.input_width, multi_window.feature_number)))\n",
    "model.add(layers.Dense(OUT_STEPS, kernel_initializer=tf.initializers.zeros()))\n",
    "model.add(layers.Dropout(0.2))\n",
    "model.add(layers.Flatten())\n",
    "model.add(layers.Dense(OUT_STEPS))\n",
    "model.add(layers.Reshape([OUT_STEPS, 1]))\n",
    "model.summary()"
   ]
  },
  {
   "cell_type": "code",
   "execution_count": null,
   "id": "a74ee3eb-5ba6-49a8-97ac-616c50778b86",
   "metadata": {},
   "outputs": [],
   "source": [
    "history = compile_and_fit(model, multi_window, loss=tf.keras.losses.MeanSquaredError())\n",
    "multi_val_performance['MSE'] = model.evaluate(multi_window.valid)\n",
    "multi_performance['MSE'] = model.evaluate(multi_window.test)"
   ]
  },
  {
   "cell_type": "code",
   "execution_count": null,
   "id": "57d00124-1a27-47c8-9112-750990e2db2d",
   "metadata": {},
   "outputs": [],
   "source": [
    "history = compile_and_fit(model, multi_window, loss=tf.keras.losses.MeanAbsoluteError())\n",
    "multi_val_performance['MAE'] = model.evaluate(multi_window.valid)\n",
    "multi_performance['MAE'] = model.evaluate(multi_window.test)"
   ]
  },
  {
   "cell_type": "code",
   "execution_count": null,
   "id": "4e820819-ef9b-4e92-8890-703cd3746116",
   "metadata": {},
   "outputs": [],
   "source": [
    "history = compile_and_fit(model, multi_window, loss=tf.keras.losses.MeanAbsolutePercentageError())\n",
    "multi_val_performance['MAPE'] = model.evaluate(multi_window.valid)\n",
    "multi_performance['MAPE'] = model.evaluate(multi_window.test)"
   ]
  },
  {
   "cell_type": "code",
   "execution_count": null,
   "id": "46626854-d411-4f8d-9b57-f3a9087419be",
   "metadata": {},
   "outputs": [],
   "source": [
    "history = compile_and_fit(model, multi_window, loss=tf.keras.losses.MeanSquaredLogarithmicError())\n",
    "multi_val_performance['MSLE'] = model.evaluate(multi_window.valid)\n",
    "multi_performance['MSLE'] = model.evaluate(multi_window.test)\n"
   ]
  },
  {
   "cell_type": "code",
   "execution_count": null,
   "id": "050c9798-84a1-4a51-8cf9-0c769188c5cb",
   "metadata": {},
   "outputs": [],
   "source": [
    "history = compile_and_fit(model, multi_window, loss=tf.keras.losses.CosineSimilarity())\n",
    "multi_val_performance['CS'] = model.evaluate(multi_window.valid)\n",
    "multi_performance['CS'] = model.evaluate(multi_window.test)"
   ]
  },
  {
   "cell_type": "code",
   "execution_count": null,
   "id": "d5fde761-0dfd-4216-8f6f-ef3eacfed0ac",
   "metadata": {},
   "outputs": [],
   "source": [
    "history = compile_and_fit(model, multi_window, loss=tf.keras.losses.Huber())\n",
    "multi_val_performance['Huber'] = model.evaluate(multi_window.valid)\n",
    "multi_performance['Huber'] = model.evaluate(multi_window.test)"
   ]
  },
  {
   "cell_type": "code",
   "execution_count": null,
   "id": "02ad1c19-a09e-4372-88ee-71610ba7327f",
   "metadata": {},
   "outputs": [],
   "source": [
    "history = compile_and_fit(model, multi_window, loss=tf.keras.losses.LogCosh())\n",
    "multi_val_performance['LogCosh'] = model.evaluate(multi_window.valid)\n",
    "multi_performance['LogCosh'] = model.evaluate(multi_window.test)"
   ]
  },
  {
   "cell_type": "code",
   "execution_count": null,
   "id": "88fc5874-7b99-4a36-b98e-b05ed56c0020",
   "metadata": {},
   "outputs": [],
   "source": [
    "history = compile_and_fit(model, multi_window, loss= tf.nn.sigmoid_cross_entropy_with_logits)\n"
   ]
  },
  {
   "cell_type": "code",
   "execution_count": null,
   "id": "e0de3afa-6057-47dd-8c20-97fcc9eddb47",
   "metadata": {},
   "outputs": [],
   "source": []
  },
  {
   "cell_type": "code",
   "execution_count": null,
   "id": "c092efc2-1b0a-4825-8182-5cd3dca50551",
   "metadata": {},
   "outputs": [],
   "source": []
  },
  {
   "cell_type": "code",
   "execution_count": null,
   "id": "382f2ddb-88ac-413b-b54b-8f1a18b0b4e1",
   "metadata": {},
   "outputs": [],
   "source": [
    "multi_val_performance['Linear2'] = model.evaluate(multi_window.valid)\n",
    "multi_performance['Linear2'] = model.evaluate(multi_window.test)"
   ]
  },
  {
   "cell_type": "code",
   "execution_count": null,
   "id": "6a4f2d2d-9111-41ee-9ea6-aa109bc8a0ce",
   "metadata": {},
   "outputs": [],
   "source": [
    "multi_window.plot(model, max_subplots=5)"
   ]
  },
  {
   "cell_type": "markdown",
   "id": "15f3c279-0d36-45c7-a090-fe4c1f85d360",
   "metadata": {
    "jp-MarkdownHeadingCollapsed": true,
    "tags": []
   },
   "source": [
    "### Linear3"
   ]
  },
  {
   "cell_type": "code",
   "execution_count": null,
   "id": "ac4ec33c-6235-4a12-bef9-f5e86748b295",
   "metadata": {},
   "outputs": [],
   "source": [
    "model = models.Sequential()\n",
    "model.add(layers.InputLayer(input_shape=(multi_window.input_width, multi_window.feature_number)))\n",
    "model.add(layers.Dense(OUT_STEPS, kernel_initializer=tf.initializers.zeros()))\n",
    "model.add(layers.Dropout(0.2))\n",
    "model.add(layers.Dense(OUT_STEPS))\n",
    "model.add(layers.Dropout(0.2))\n",
    "model.add(layers.Flatten())\n",
    "model.add(layers.Dense(OUT_STEPS))\n",
    "model.add(layers.Reshape([OUT_STEPS, 1]))\n",
    "model.summary()"
   ]
  },
  {
   "cell_type": "code",
   "execution_count": null,
   "id": "9c48bcaf-5900-49a4-8052-e99d43ce6ca1",
   "metadata": {},
   "outputs": [],
   "source": [
    "history = compile_and_fit(model, multi_window)"
   ]
  },
  {
   "cell_type": "code",
   "execution_count": null,
   "id": "957b1618-acb3-4be7-b40d-595783b3eb8f",
   "metadata": {},
   "outputs": [],
   "source": [
    "multi_val_performance['Linear3'] = model.evaluate(multi_window.valid)\n",
    "multi_performance['Linear3'] = model.evaluate(multi_window.test)"
   ]
  },
  {
   "cell_type": "code",
   "execution_count": null,
   "id": "759968c7-f18e-4e2f-bd31-41fb3d29b3a4",
   "metadata": {},
   "outputs": [],
   "source": [
    "multi_window.plot(model, max_subplots=5)"
   ]
  },
  {
   "cell_type": "markdown",
   "id": "f754e326-2cb3-4806-932f-40d3c3e2d859",
   "metadata": {
    "jp-MarkdownHeadingCollapsed": true,
    "tags": []
   },
   "source": [
    "## Convolution"
   ]
  },
  {
   "cell_type": "markdown",
   "id": "17eba794-cba6-4ad9-8823-19f2bc3f8509",
   "metadata": {
    "jp-MarkdownHeadingCollapsed": true,
    "tags": []
   },
   "source": [
    "### Conv1"
   ]
  },
  {
   "cell_type": "code",
   "execution_count": null,
   "id": "f7ef90f2-8d1d-4604-8071-8087bdbdd14b",
   "metadata": {},
   "outputs": [],
   "source": [
    "CONV_WIDTH = 5\n",
    "\n",
    "model = models.Sequential()\n",
    "model.add(layers.InputLayer(input_shape=(multi_window.input_width, multi_window.feature_number)))\n",
    "model.add(layers.Conv1D(256, CONV_WIDTH, activation=\"relu\"))\n",
    "model.add(layers.Dense(OUT_STEPS, kernel_initializer=tf.initializers.zeros()))\n",
    "model.add(layers.Flatten())\n",
    "model.add(layers.Dense(OUT_STEPS))\n",
    "model.add(layers.Reshape([OUT_STEPS, 1]))\n",
    "model.summary()"
   ]
  },
  {
   "cell_type": "code",
   "execution_count": null,
   "id": "1d1bdbd1-553f-40ef-9314-aa5843e9005f",
   "metadata": {},
   "outputs": [],
   "source": [
    "history = compile_and_fit(model, multi_window)"
   ]
  },
  {
   "cell_type": "code",
   "execution_count": null,
   "id": "807f618b-8f92-4879-8a01-49bf4017b37c",
   "metadata": {},
   "outputs": [],
   "source": [
    "multi_val_performance['CNN1'] = model.evaluate(multi_window.valid)\n",
    "multi_performance['CNN1'] = model.evaluate(multi_window.test)"
   ]
  },
  {
   "cell_type": "code",
   "execution_count": null,
   "id": "efd44836-9564-47d5-b4c4-7df3d67fc404",
   "metadata": {},
   "outputs": [],
   "source": [
    "multi_window.plot(model, max_subplots=5)"
   ]
  },
  {
   "cell_type": "code",
   "execution_count": null,
   "id": "db0c6eec-e43d-4b31-ab1f-ce41cb88f257",
   "metadata": {},
   "outputs": [],
   "source": [
    "pd.DataFrame(multi_val_performance, index=[\"loss\", \"MAE\", \"WMAPE\"])"
   ]
  },
  {
   "cell_type": "code",
   "execution_count": null,
   "id": "4bcb66a7-0917-43c4-8483-f2511a052416",
   "metadata": {},
   "outputs": [],
   "source": [
    "pd.DataFrame(multi_performance, index=[\"loss\", \"MAE\", \"WMAPE\"])"
   ]
  },
  {
   "cell_type": "markdown",
   "id": "a2ac74ef-fba0-4b76-b0de-5c85c2c7fa21",
   "metadata": {
    "jp-MarkdownHeadingCollapsed": true,
    "tags": []
   },
   "source": [
    "### Conv2"
   ]
  },
  {
   "cell_type": "markdown",
   "id": "2c0e662f-f9f1-41bc-a700-39eace2ae63f",
   "metadata": {},
   "source": [
    "- CONV WIDTH 5 24ten daha iyi çalıştı"
   ]
  },
  {
   "cell_type": "code",
   "execution_count": null,
   "id": "d9922fa5-6a1e-4dca-b4ef-d701ce4e7bf8",
   "metadata": {},
   "outputs": [],
   "source": [
    "CONV_WIDTH = 24\n",
    "\n",
    "model = models.Sequential()\n",
    "model.add(layers.InputLayer(input_shape=(multi_window.input_width, multi_window.feature_number)))\n",
    "model.add(layers.Conv1D(256, CONV_WIDTH, activation=\"relu\"))\n",
    "model.add(layers.Dense(OUT_STEPS, kernel_initializer=tf.initializers.zeros()))\n",
    "model.add(layers.Flatten())\n",
    "model.add(layers.Dense(OUT_STEPS))\n",
    "model.add(layers.Reshape([OUT_STEPS, 1]))\n",
    "model.summary()"
   ]
  },
  {
   "cell_type": "code",
   "execution_count": null,
   "id": "ac26a879-5b56-41d5-99f9-9089db251e51",
   "metadata": {},
   "outputs": [],
   "source": [
    "history = compile_and_fit(model, multi_window)"
   ]
  },
  {
   "cell_type": "code",
   "execution_count": null,
   "id": "214ea1bb-17b7-422a-89a3-3be9d34b340a",
   "metadata": {},
   "outputs": [],
   "source": [
    "multi_val_performance['CNN2'] = model.evaluate(multi_window.valid)\n",
    "multi_performance['CNN2'] = model.evaluate(multi_window.test)"
   ]
  },
  {
   "cell_type": "code",
   "execution_count": null,
   "id": "e1485b8a-043a-4f22-93ca-daaa915bf7cc",
   "metadata": {},
   "outputs": [],
   "source": [
    "pd.DataFrame(multi_val_performance, index=[\"loss\", \"MAE\", \"WMAPE\"])"
   ]
  },
  {
   "cell_type": "code",
   "execution_count": null,
   "id": "0dade4b1-c73f-4381-923a-6b47f529c6a6",
   "metadata": {},
   "outputs": [],
   "source": [
    "pd.DataFrame(multi_performance, index=[\"loss\", \"MAE\", \"WMAPE\"])"
   ]
  },
  {
   "cell_type": "markdown",
   "id": "d8724e93-f0b3-4f41-ad77-bab620d861eb",
   "metadata": {
    "jp-MarkdownHeadingCollapsed": true,
    "tags": []
   },
   "source": [
    "### Conv3"
   ]
  },
  {
   "cell_type": "code",
   "execution_count": null,
   "id": "0b8911b8-d90b-4050-9076-a42b0aed2b3a",
   "metadata": {},
   "outputs": [],
   "source": [
    "CONV_WIDTH = 24\n",
    "\n",
    "model = models.Sequential()\n",
    "model.add(layers.InputLayer(input_shape=(multi_window.input_width, multi_window.feature_number)))\n",
    "model.add(layers.Conv1D(64, CONV_WIDTH, activation=\"relu\", padding=\"same\"))\n",
    "model.add(layers.Conv1D(64, CONV_WIDTH, activation=\"relu\"))\n",
    "model.add(layers.Dense(OUT_STEPS, kernel_initializer=tf.initializers.zeros()))\n",
    "model.add(layers.Flatten())\n",
    "model.add(layers.Dense(OUT_STEPS))\n",
    "model.add(layers.Reshape([OUT_STEPS, 1]))\n",
    "model.summary()"
   ]
  },
  {
   "cell_type": "code",
   "execution_count": null,
   "id": "51706050-8e89-487e-8bc6-c7cfccd8c1e0",
   "metadata": {},
   "outputs": [],
   "source": [
    "history = compile_and_fit(model, multi_window)"
   ]
  },
  {
   "cell_type": "code",
   "execution_count": null,
   "id": "5015a7ca-2273-48f0-9ac7-cfd55ddf5647",
   "metadata": {},
   "outputs": [],
   "source": [
    "multi_val_performance['CNN3'] = model.evaluate(multi_window.valid)\n",
    "multi_performance['CNN3'] = model.evaluate(multi_window.test)"
   ]
  },
  {
   "cell_type": "markdown",
   "id": "a04ec0a2-c9e2-4b9f-94f4-e409fad6d0cb",
   "metadata": {
    "tags": []
   },
   "source": [
    "### Conv4"
   ]
  },
  {
   "cell_type": "code",
   "execution_count": null,
   "id": "cdd8a06c-8eb9-497f-8b9b-33b1dcc24f8d",
   "metadata": {},
   "outputs": [],
   "source": [
    "CONV_WIDTH = 5\n",
    "\n",
    "model = models.Sequential()\n",
    "model.add(layers.InputLayer(input_shape=(multi_window.input_width, multi_window.feature_number)))\n",
    "model.add(layers.Conv1D(64, CONV_WIDTH, activation=\"relu\", padding=\"same\"))\n",
    "model.add(layers.MaxPooling1D(2))\n",
    "model.add(layers.Conv1D(64, CONV_WIDTH, activation=\"relu\"))\n",
    "model.add(layers.MaxPooling1D(2))\n",
    "model.add(layers.Dense(OUT_STEPS, kernel_initializer=tf.initializers.zeros()))\n",
    "model.add(layers.Flatten())\n",
    "model.add(layers.Dense(OUT_STEPS))\n",
    "model.add(layers.Reshape([OUT_STEPS, 1]))\n",
    "model.summary()"
   ]
  },
  {
   "cell_type": "code",
   "execution_count": null,
   "id": "b6c76cf2-fe86-461b-bc02-a8083327ea2a",
   "metadata": {},
   "outputs": [],
   "source": [
    "history = compile_and_fit(model, multi_window)"
   ]
  },
  {
   "cell_type": "code",
   "execution_count": null,
   "id": "c94950a6-c038-4627-acd0-a26ff7e878fd",
   "metadata": {},
   "outputs": [],
   "source": [
    "multi_val_performance['CNN4'] = model.evaluate(multi_window.valid)\n",
    "multi_performance['CNN4'] = model.evaluate(multi_window.test)"
   ]
  },
  {
   "cell_type": "markdown",
   "id": "7b36039c-bacb-4e3c-8c81-321ca293e649",
   "metadata": {
    "jp-MarkdownHeadingCollapsed": true,
    "tags": []
   },
   "source": [
    "### Conv5"
   ]
  },
  {
   "cell_type": "code",
   "execution_count": null,
   "id": "401295cd-2eaf-4f14-8d60-2687f7c55c8e",
   "metadata": {},
   "outputs": [],
   "source": [
    "CONV_WIDTH = 5\n",
    "\n",
    "model = models.Sequential()\n",
    "model.add(layers.InputLayer(input_shape=(multi_window.input_width, multi_window.feature_number)))\n",
    "model.add(layers.Conv1D(64, CONV_WIDTH, activation=\"relu\", padding=\"same\"))\n",
    "model.add(layers.Dropout(0.2))\n",
    "model.add(layers.Conv1D(64, CONV_WIDTH, activation=\"relu\"))\n",
    "model.add(layers.Dropout(0.2))\n",
    "model.add(layers.Dense(OUT_STEPS, kernel_initializer=tf.initializers.zeros()))\n",
    "model.add(layers.Flatten())\n",
    "model.add(layers.Dense(OUT_STEPS))\n",
    "model.add(layers.Reshape([OUT_STEPS, 1]))\n",
    "model.summary()"
   ]
  },
  {
   "cell_type": "code",
   "execution_count": null,
   "id": "17068719-cd00-4eaa-a7b0-6944edc0804d",
   "metadata": {},
   "outputs": [],
   "source": [
    "history = compile_and_fit(model, multi_window)"
   ]
  },
  {
   "cell_type": "code",
   "execution_count": null,
   "id": "87e6493b-f73b-481a-ab76-089046c791cc",
   "metadata": {},
   "outputs": [],
   "source": [
    "multi_val_performance['CNN5'] = model.evaluate(multi_window.valid)\n",
    "multi_performance['CNN5'] = model.evaluate(multi_window.test)"
   ]
  },
  {
   "cell_type": "markdown",
   "id": "f1e1bdd5-2ae5-4529-8dd9-47caac2aa7a4",
   "metadata": {
    "jp-MarkdownHeadingCollapsed": true,
    "tags": []
   },
   "source": [
    "### Conv6"
   ]
  },
  {
   "cell_type": "code",
   "execution_count": null,
   "id": "6b2089d4-8560-4349-9f8f-250b492d07e1",
   "metadata": {},
   "outputs": [],
   "source": [
    "CONV_WIDTH = 5\n",
    "\n",
    "model = models.Sequential()\n",
    "model.add(layers.InputLayer(input_shape=(multi_window.input_width, multi_window.feature_number)))\n",
    "model.add(layers.Conv1D(64, CONV_WIDTH, activation=\"relu\", padding=\"same\"))\n",
    "model.add(layers.MaxPooling1D(2))\n",
    "model.add(layers.Conv1D(64, CONV_WIDTH, activation=\"relu\"))\n",
    "model.add(layers.Dropout(0.2))\n",
    "model.add(layers.Dense(OUT_STEPS, kernel_initializer=tf.initializers.zeros()))\n",
    "model.add(layers.Flatten())\n",
    "model.add(layers.Dense(OUT_STEPS))\n",
    "model.add(layers.Reshape([OUT_STEPS, 1]))\n",
    "model.summary()"
   ]
  },
  {
   "cell_type": "code",
   "execution_count": null,
   "id": "cc9703d0-598a-4c0e-8f4e-5e98f459ac57",
   "metadata": {},
   "outputs": [],
   "source": [
    "history = compile_and_fit(model, multi_window)"
   ]
  },
  {
   "cell_type": "code",
   "execution_count": null,
   "id": "17a80e44-4699-460d-8376-656e1ce292e3",
   "metadata": {},
   "outputs": [],
   "source": [
    "multi_val_performance['CNN6'] = model.evaluate(multi_window.valid)\n",
    "multi_performance['CNN6'] = model.evaluate(multi_window.test)"
   ]
  },
  {
   "cell_type": "markdown",
   "id": "0f66879c-ad29-4059-85f6-fafdc19b9fb4",
   "metadata": {
    "jp-MarkdownHeadingCollapsed": true,
    "tags": []
   },
   "source": [
    "### Conv7"
   ]
  },
  {
   "cell_type": "code",
   "execution_count": null,
   "id": "56c540a5-2981-4123-9c2f-7b35b99268a2",
   "metadata": {},
   "outputs": [],
   "source": [
    "CONV_WIDTH = 5\n",
    "\n",
    "model = models.Sequential()\n",
    "model.add(layers.InputLayer(input_shape=(multi_window.input_width, multi_window.feature_number)))\n",
    "model.add(layers.Conv1D(128, CONV_WIDTH, activation=\"relu\", padding=\"same\"))\n",
    "model.add(layers.MaxPooling1D(4))\n",
    "model.add(layers.Conv1D(64, CONV_WIDTH, activation=\"relu\"))\n",
    "model.add(layers.Dropout(0.2))\n",
    "model.add(layers.Dense(OUT_STEPS, kernel_initializer=tf.initializers.zeros()))\n",
    "model.add(layers.Flatten())\n",
    "model.add(layers.Dense(OUT_STEPS))\n",
    "model.add(layers.Reshape([OUT_STEPS, 1]))\n",
    "model.summary()"
   ]
  },
  {
   "cell_type": "code",
   "execution_count": null,
   "id": "cff1e69f-7882-40b5-ac5a-cc7f26703d78",
   "metadata": {},
   "outputs": [],
   "source": [
    "history = compile_and_fit(model, multi_window)"
   ]
  },
  {
   "cell_type": "code",
   "execution_count": null,
   "id": "10203d70-41e7-4f13-9315-a89446f50f28",
   "metadata": {},
   "outputs": [],
   "source": [
    "multi_val_performance['CNN7'] = model.evaluate(multi_window.valid)\n",
    "multi_performance['CNN7'] = model.evaluate(multi_window.test)"
   ]
  },
  {
   "cell_type": "markdown",
   "id": "9af8f8a9-757c-4321-be55-dafe01367255",
   "metadata": {
    "tags": []
   },
   "source": [
    "### Conv8"
   ]
  },
  {
   "cell_type": "code",
   "execution_count": null,
   "id": "b8455086-7216-42af-93c2-ea0fe96c96b2",
   "metadata": {},
   "outputs": [],
   "source": [
    "multi_window.input_width, multi_window.feature_number"
   ]
  },
  {
   "cell_type": "code",
   "execution_count": null,
   "id": "8f487b70-c520-482e-8d0c-26b3ffdb3c4f",
   "metadata": {},
   "outputs": [],
   "source": [
    "CONV_WIDTH = 5\n",
    "\n",
    "model = models.Sequential()\n",
    "model.add(layers.InputLayer(input_shape=(multi_window.input_width, multi_window.feature_number)))\n",
    "model.add(layers.Conv1D(64, CONV_WIDTH, activation=\"relu\", padding=\"same\"))\n",
    "model.add(layers.MaxPooling1D(2))\n",
    "model.add(layers.Conv1D(64, CONV_WIDTH, activation=\"relu\"))\n",
    "model.add(layers.MaxPooling1D(2))\n",
    "model.add(layers.Conv1D(64, CONV_WIDTH, activation=\"relu\", padding=\"same\"))\n",
    "model.add(layers.Dropout(.2))\n",
    "model.add(layers.Dense(OUT_STEPS, kernel_initializer=tf.initializers.zeros()))\n",
    "model.add(layers.Flatten())\n",
    "model.add(layers.Dense(OUT_STEPS))\n",
    "model.add(layers.Reshape([OUT_STEPS, 1]))\n",
    "model.summary()"
   ]
  },
  {
   "cell_type": "code",
   "execution_count": null,
   "id": "f2f2c40b-3aaf-4749-a40c-1cc50ed5c09d",
   "metadata": {},
   "outputs": [],
   "source": [
    "history = compile_and_fit(model, multi_window)"
   ]
  },
  {
   "cell_type": "code",
   "execution_count": null,
   "id": "27293f95-11be-4087-ae80-b97b90612d1b",
   "metadata": {},
   "outputs": [],
   "source": [
    "multi_val_performance['CNN8'] = model.evaluate(multi_window.valid)\n",
    "multi_performance['CNN8'] = model.evaluate(multi_window.test)"
   ]
  },
  {
   "cell_type": "markdown",
   "id": "0c50d20b-846d-4884-a653-3da2be2d1092",
   "metadata": {
    "jp-MarkdownHeadingCollapsed": true,
    "tags": []
   },
   "source": [
    "### Conv9 "
   ]
  },
  {
   "cell_type": "code",
   "execution_count": null,
   "id": "a9201375-8659-45e1-93de-8ffa2489ce20",
   "metadata": {},
   "outputs": [],
   "source": [
    "CONV_WIDTH = 3\n",
    "\n",
    "model = models.Sequential()\n",
    "model.add(layers.InputLayer(input_shape=(multi_window.input_width, multi_window.feature_number)))\n",
    "model.add(layers.Conv1D(64, CONV_WIDTH, activation=\"relu\", padding=\"same\"))\n",
    "model.add(layers.MaxPooling1D(2))\n",
    "model.add(layers.Conv1D(64, CONV_WIDTH, activation=\"relu\"))\n",
    "model.add(layers.MaxPooling1D(2))\n",
    "model.add(layers.Dense(OUT_STEPS, kernel_initializer=tf.initializers.zeros()))\n",
    "model.add(layers.Flatten())\n",
    "model.add(layers.Dense(OUT_STEPS))\n",
    "model.add(layers.Reshape([OUT_STEPS, 1]))\n",
    "model.summary()"
   ]
  },
  {
   "cell_type": "code",
   "execution_count": null,
   "id": "5714a349-0e8a-4cb7-ab46-d4868b20bf9f",
   "metadata": {},
   "outputs": [],
   "source": [
    "history = compile_and_fit(model, multi_window)"
   ]
  },
  {
   "cell_type": "code",
   "execution_count": null,
   "id": "78b444f0-0f66-4ddc-8b84-0f2130971f92",
   "metadata": {},
   "outputs": [],
   "source": [
    "multi_val_performance['CNN9'] = model.evaluate(multi_window.valid)\n",
    "multi_performance['CNN9'] = model.evaluate(multi_window.test)"
   ]
  },
  {
   "cell_type": "markdown",
   "id": "d7996ca1-02ce-4b71-bfc2-c96ce3808550",
   "metadata": {
    "tags": []
   },
   "source": [
    "## Recurrent"
   ]
  },
  {
   "cell_type": "code",
   "execution_count": null,
   "id": "1fcc3477-d0a3-4c18-8b46-fe068eb797fb",
   "metadata": {
    "tags": []
   },
   "outputs": [],
   "source": [
    "MAX_EPOCHS = 40\n",
    "\n",
    "def compile_and_fit(model, window, patience=5):\n",
    "    early_stopping = tf.keras.callbacks.EarlyStopping(\n",
    "        monitor='val_loss',\n",
    "        patience=patience,\n",
    "        mode='min', \n",
    "        verbose=1,\n",
    "        restore_best_weights=True)\n",
    "\n",
    "    model.compile(loss=tf.losses.MeanSquaredError(),\n",
    "                  optimizer=tf.optimizers.Adam(),\n",
    "                  metrics=[tf.metrics.MeanAbsoluteError(), wmape]) \n",
    "    \n",
    "    history = model.fit(window.train, epochs=MAX_EPOCHS,\n",
    "                        validation_data=window.valid,\n",
    "                        verbose=2,\n",
    "                        callbacks=[early_stopping])\n",
    "    return history"
   ]
  },
  {
   "cell_type": "markdown",
   "id": "f2afe1cf-3c8a-4a8b-85c5-5a0ee6c2ed3e",
   "metadata": {
    "tags": []
   },
   "source": [
    "### RNN1"
   ]
  },
  {
   "cell_type": "code",
   "execution_count": null,
   "id": "5ecf9bc1-936f-4ac6-8f3e-a147ffb47ae9",
   "metadata": {},
   "outputs": [],
   "source": [
    "model = models.Sequential()\n",
    "model.add(layers.InputLayer(input_shape=(multi_window.input_width, multi_window.feature_number)))\n",
    "model.add(layers.LSTM(64, return_sequences=False))\n",
    "model.add(layers.Dense(OUT_STEPS, kernel_initializer=tf.initializers.zeros()))\n",
    "model.add(layers.Reshape([OUT_STEPS, 1]))\n",
    "model.summary()"
   ]
  },
  {
   "cell_type": "code",
   "execution_count": null,
   "id": "4dfec5ae-e8aa-4af1-a9c0-4a767c278c74",
   "metadata": {},
   "outputs": [],
   "source": [
    "history = compile_and_fit(model, multi_window)\n"
   ]
  },
  {
   "cell_type": "code",
   "execution_count": null,
   "id": "5094dea4-1bd5-4cff-af9e-02d5e391afbf",
   "metadata": {},
   "outputs": [],
   "source": [
    "multi_val_performance['RNN1'] = model.evaluate(multi_window.valid)\n",
    "multi_performance['RNN1'] = model.evaluate(multi_window.test)\n"
   ]
  },
  {
   "cell_type": "markdown",
   "id": "21059b05-0d7c-48db-9850-f95203837dd6",
   "metadata": {
    "jp-MarkdownHeadingCollapsed": true,
    "tags": []
   },
   "source": [
    "### RNN2"
   ]
  },
  {
   "cell_type": "code",
   "execution_count": null,
   "id": "a2400fe1-d233-401e-821e-a905556359d5",
   "metadata": {},
   "outputs": [],
   "source": [
    "model = models.Sequential()\n",
    "model.add(layers.InputLayer(input_shape=(multi_window.input_width, multi_window.feature_number)))\n",
    "model.add(layers.LSTM(24, return_sequences=False))\n",
    "model.add(layers.Dense(OUT_STEPS, kernel_initializer=tf.initializers.zeros()))\n",
    "model.add(layers.Reshape([OUT_STEPS, 1]))\n",
    "model.summary()"
   ]
  },
  {
   "cell_type": "code",
   "execution_count": null,
   "id": "21a44eaf-fd2e-425b-bd65-e19464234b56",
   "metadata": {},
   "outputs": [],
   "source": [
    "history = compile_and_fit(model, multi_window)"
   ]
  },
  {
   "cell_type": "code",
   "execution_count": null,
   "id": "aaf2fabe-9ca5-4f29-84d4-0e3ccbe1dbca",
   "metadata": {},
   "outputs": [],
   "source": [
    "multi_val_performance['RNN2'] = model.evaluate(multi_window.valid)\n",
    "multi_performance['RNN2'] = model.evaluate(multi_window.test)\n"
   ]
  },
  {
   "cell_type": "markdown",
   "id": "8a66d257-d0db-4031-8ca3-8bb4a4b4f821",
   "metadata": {
    "tags": []
   },
   "source": [
    "### RNN3"
   ]
  },
  {
   "cell_type": "code",
   "execution_count": null,
   "id": "fd7ebae8-ea0f-48e5-97e4-597c7e4b18a5",
   "metadata": {},
   "outputs": [],
   "source": [
    "model = models.Sequential()\n",
    "model.add(layers.InputLayer(input_shape=(multi_window.input_width, multi_window.feature_number)))\n",
    "model.add(layers.LSTM(32, return_sequences=True))\n",
    "model.add(layers.LSTM(32, return_sequences=False))\n",
    "model.add(layers.Dense(OUT_STEPS, kernel_initializer=tf.initializers.zeros()))\n",
    "model.add(layers.Reshape([OUT_STEPS, 1]))\n",
    "model.summary()"
   ]
  },
  {
   "cell_type": "code",
   "execution_count": null,
   "id": "410b68db-1618-4533-842b-89cb021056c3",
   "metadata": {},
   "outputs": [],
   "source": [
    "history = compile_and_fit(model, multi_window)"
   ]
  },
  {
   "cell_type": "code",
   "execution_count": null,
   "id": "9c53bf22-1269-41d3-b67c-002717f06ae8",
   "metadata": {},
   "outputs": [],
   "source": [
    "multi_val_performance['RNN3'] = model.evaluate(multi_window.valid)\n",
    "multi_performance['RNN3'] = model.evaluate(multi_window.test)\n"
   ]
  },
  {
   "cell_type": "markdown",
   "id": "57014ae4-cc6a-450c-b64c-15df905d74b7",
   "metadata": {
    "tags": []
   },
   "source": [
    "### RNN4"
   ]
  },
  {
   "cell_type": "code",
   "execution_count": null,
   "id": "df3d58db-9963-413d-9117-4fed171e31bd",
   "metadata": {},
   "outputs": [],
   "source": [
    "CONV_WIDTH = 5\n",
    "\n",
    "model = models.Sequential()\n",
    "model.add(layers.InputLayer(input_shape=(multi_window.input_width, multi_window.feature_number)))\n",
    "model.add(layers.Conv1D(64, CONV_WIDTH, activation=\"relu\", padding=\"same\"))\n",
    "model.add(layers.MaxPooling1D(2))\n",
    "model.add(layers.LSTM(32, return_sequences=False))\n",
    "model.add(layers.Dense(OUT_STEPS, kernel_initializer=tf.initializers.zeros()))\n",
    "model.add(layers.Reshape([OUT_STEPS, 1]))\n",
    "model.summary()"
   ]
  },
  {
   "cell_type": "code",
   "execution_count": null,
   "id": "fa899e2f-fa65-4885-9631-18970461cee9",
   "metadata": {},
   "outputs": [],
   "source": [
    "history = compile_and_fit(model, multi_window)"
   ]
  },
  {
   "cell_type": "code",
   "execution_count": null,
   "id": "2312919a-30cc-4b23-aa81-d4642f35dd14",
   "metadata": {},
   "outputs": [],
   "source": [
    "multi_val_performance['RNN4'] = model.evaluate(multi_window.valid)\n",
    "multi_performance['RNN4'] = model.evaluate(multi_window.test)"
   ]
  },
  {
   "cell_type": "markdown",
   "id": "3687651a-3eef-40d3-9193-4bf8b8e4da35",
   "metadata": {
    "tags": []
   },
   "source": [
    "### RNN5"
   ]
  },
  {
   "cell_type": "code",
   "execution_count": null,
   "id": "c63f4718-fa12-4ad3-ba8c-44609fa9ebdc",
   "metadata": {},
   "outputs": [],
   "source": [
    "CONV_WIDTH = 5\n",
    "\n",
    "model = models.Sequential()\n",
    "model.add(layers.InputLayer(input_shape=(multi_window.input_width, multi_window.feature_number)))\n",
    "model.add(layers.Conv1D(64, CONV_WIDTH, activation=\"relu\", padding=\"same\"))\n",
    "model.add(layers.MaxPooling1D(2))\n",
    "model.add(layers.Conv1D(32, CONV_WIDTH, activation=\"relu\", padding=\"same\"))\n",
    "model.add(layers.MaxPooling1D(2))\n",
    "model.add(layers.LSTM(32, return_sequences=False))\n",
    "model.add(layers.Dense(OUT_STEPS, kernel_initializer=tf.initializers.zeros()))\n",
    "model.add(layers.Reshape([OUT_STEPS, 1]))\n",
    "model.summary()"
   ]
  },
  {
   "cell_type": "code",
   "execution_count": null,
   "id": "27b27e9f-3752-4d02-9b63-ae3aff869fae",
   "metadata": {},
   "outputs": [],
   "source": [
    "history = compile_and_fit(model, multi_window)"
   ]
  },
  {
   "cell_type": "code",
   "execution_count": null,
   "id": "60cf0f53-a63b-407b-8084-4adb2d1b5a3b",
   "metadata": {},
   "outputs": [],
   "source": [
    "multi_val_performance['RNN5'] = model.evaluate(multi_window.valid)\n",
    "multi_performance['RNN5'] = model.evaluate(multi_window.test)\n"
   ]
  },
  {
   "cell_type": "code",
   "execution_count": null,
   "id": "860f54fd-3eb1-41cc-a49f-2c8f69ac3347",
   "metadata": {},
   "outputs": [],
   "source": [
    "multi_window.plot(model, max_subplots=5)"
   ]
  },
  {
   "cell_type": "code",
   "execution_count": null,
   "id": "063f54e7-9092-4ad3-b07e-5a3c91ee1667",
   "metadata": {},
   "outputs": [],
   "source": []
  },
  {
   "cell_type": "code",
   "execution_count": null,
   "id": "974300da-17f3-457d-9585-bc612d7fc6e3",
   "metadata": {},
   "outputs": [],
   "source": []
  },
  {
   "cell_type": "code",
   "execution_count": null,
   "id": "cfddfede-4fff-4f2d-88a1-27c2e2f8ed09",
   "metadata": {},
   "outputs": [],
   "source": [
    "pd.concat([\n",
    "    pd.DataFrame(multi_performance).T, \n",
    "    pd.DataFrame(multi_val_performance).T], axis=1)"
   ]
  },
  {
   "cell_type": "code",
   "execution_count": null,
   "id": "cb7190b9-cc3d-43ae-857c-b8aad4a3ef94",
   "metadata": {},
   "outputs": [],
   "source": []
  },
  {
   "cell_type": "markdown",
   "id": "14aa7d1a-8ba6-46d8-bea3-77b950ac7b0f",
   "metadata": {
    "tags": []
   },
   "source": [
    "## Comparison"
   ]
  },
  {
   "cell_type": "code",
   "execution_count": null,
   "id": "f822d892-0432-4036-8111-d418523233d0",
   "metadata": {},
   "outputs": [],
   "source": [
    "output = pd.concat([\n",
    "    pd.DataFrame(multi_performance).T, \n",
    "    pd.DataFrame(multi_val_performance).T], axis=1)\n",
    "output.columns = [\"test_loss\", \"test_WMAPE\", \"valid_loss\", \"valid_WMAPE\"]\n",
    "# output.columns = [\"test_loss\", \"test_MAE\", \"test_WMAPE\", \"valid_loss\", \"valid_MAE\", \"valid_WMAPE\"]\n",
    "output[[\"test_WMAPE\", \"valid_WMAPE\"]].sort_values(\"test_WMAPE\")"
   ]
  },
  {
   "cell_type": "code",
   "execution_count": null,
   "id": "b09078c2-490e-4fc5-abab-207713a73baa",
   "metadata": {},
   "outputs": [],
   "source": [
    "# !pip install tabulate\n",
    "print(output[[\"test_WMAPE\", \"valid_WMAPE\"]].sort_values(\"test_WMAPE\").to_markdown())"
   ]
  },
  {
   "cell_type": "markdown",
   "id": "ebc4fffa-c49a-4beb-871a-9412017ebaa6",
   "metadata": {},
   "source": []
  },
  {
   "cell_type": "code",
   "execution_count": null,
   "id": "7372bc72-2908-4530-a182-908ea46f869b",
   "metadata": {},
   "outputs": [],
   "source": [
    "def plot_metrics(sort_test=True):\n",
    "    plt.figure(figsize=(12, 15))\n",
    "    x = np.arange(len(multi_performance))\n",
    "    width = 0.3\n",
    "    \n",
    "    for n in range(len(model.metrics_names)):\n",
    "        plt.subplot(len(model.metrics_names), 1, n+1)\n",
    "        metric_name = model.metrics_names[n]\n",
    "        val_mae = [v[n] for v in multi_val_performance.values()]\n",
    "        test_mae = [v[n] for v in multi_performance.values()]\n",
    "        \n",
    "        if sort_test:\n",
    "            sorted_index = np.argsort(test_mae)\n",
    "        else:\n",
    "            sorted_index = np.argsort(val_mae)\n",
    "        val_mae = [val_mae[i] for i in sorted_index]\n",
    "        test_mae = [test_mae[i] for i in sorted_index]\n",
    "\n",
    "        plt.bar(x - 0.17, val_mae, width, label='Validation')\n",
    "        plt.bar(x + 0.17, test_mae, width, label='Test')\n",
    "        plt.xticks(ticks=x, labels=[list(multi_performance.keys())[i] for i in sorted_index], rotation=45)\n",
    "        plt.ylabel(metric_name)\n",
    "        plt.title(metric_name)\n",
    "        if n == 0:\n",
    "            _ = plt.legend()"
   ]
  },
  {
   "cell_type": "code",
   "execution_count": null,
   "id": "4a85cd5a-014d-4419-8483-97b26e590a69",
   "metadata": {},
   "outputs": [],
   "source": [
    "plot_metrics()"
   ]
  },
  {
   "cell_type": "markdown",
   "id": "bbbd60b6-2add-498a-9c8a-3311f035fc67",
   "metadata": {},
   "source": [
    "# Run all"
   ]
  },
  {
   "cell_type": "code",
   "execution_count": null,
   "id": "a08c0cae-2b27-4b3d-b1f4-dcab7e6bf20d",
   "metadata": {},
   "outputs": [],
   "source": [
    "LOSS = \"mae\" # \"mse\", tf.losses.MeanSquaredError()\n",
    "OPTIMIZER = tf.keras.optimizers.RMSprop(clipvalue=1.0)"
   ]
  },
  {
   "cell_type": "code",
   "execution_count": null,
   "id": "fbf51ed2-840a-46ab-9da7-1ac502b96873",
   "metadata": {},
   "outputs": [],
   "source": [
    "def wmape(y_true, y_pred):\n",
    "    total_abs_diff = tf.reduce_sum(tf.abs(tf.subtract(y_true, y_pred)))\n",
    "    total = tf.reduce_sum(y_true)\n",
    "    wmape = tf.realdiv(total_abs_diff, total)\n",
    "    return wmape\n",
    "\n",
    "MAX_EPOCHS = 100\n",
    "\n",
    "def compile_and_fit(model, window, loss=tf.losses.MeanSquaredError(), optimizer=tf.optimizers.Adam(), patience=10):\n",
    "    early_stopping = tf.keras.callbacks.EarlyStopping(\n",
    "        monitor='val_wmape',\n",
    "        patience=patience,\n",
    "        mode='min', \n",
    "        verbose=0,\n",
    "        restore_best_weights=True)\n",
    "    \n",
    "    model.compile(loss=loss, optimizer=optimizer, metrics=[wmape]) \n",
    "    history = model.fit(window.train, epochs=MAX_EPOCHS,\n",
    "                        validation_data=window.valid,\n",
    "                        verbose=0,\n",
    "                        callbacks=[early_stopping],\n",
    "                       #  validation_steps=50\n",
    "                       )\n",
    "    return history"
   ]
  },
  {
   "cell_type": "code",
   "execution_count": null,
   "id": "c7024342-38ea-4ad4-b500-d7936c772cd4",
   "metadata": {},
   "outputs": [],
   "source": [
    "model = models.Sequential()\n",
    "model.add(layers.InputLayer(input_shape=(multi_window.input_width, multi_window.feature_number)))\n",
    "model.add(layers.Dense(OUT_STEPS, kernel_initializer=tf.initializers.zeros()))\n",
    "model.add(layers.Dropout(0.2))\n",
    "model.add(layers.Flatten())\n",
    "model.add(layers.Dense(OUT_STEPS))\n",
    "model.add(layers.Reshape([OUT_STEPS, 1]))\n",
    "\n",
    "history = compile_and_fit(model, multi_window, loss=\"mse\", optimizer=\"rmsprop\")\n",
    "multi_val_performance['MSE-ADAM'] = model.evaluate(multi_window.valid)\n",
    "multi_performance['MSE-ADAM'] = model.evaluate(multi_window.test)"
   ]
  },
  {
   "cell_type": "code",
   "execution_count": null,
   "id": "da4d566e-be02-438c-b3f1-70b22d4c7fe1",
   "metadata": {},
   "outputs": [],
   "source": []
  },
  {
   "cell_type": "code",
   "execution_count": null,
   "id": "06fecc2b-f5c0-4668-9277-e5aed7a51d13",
   "metadata": {},
   "outputs": [],
   "source": []
  },
  {
   "cell_type": "code",
   "execution_count": null,
   "id": "37752887-eaa9-4508-b3b5-18d4f3059470",
   "metadata": {},
   "outputs": [],
   "source": []
  }
 ],
 "metadata": {
  "kernelspec": {
   "display_name": "Python 3 (ipykernel)",
   "language": "python",
   "name": "python3"
  },
  "language_info": {
   "codemirror_mode": {
    "name": "ipython",
    "version": 3
   },
   "file_extension": ".py",
   "mimetype": "text/x-python",
   "name": "python",
   "nbconvert_exporter": "python",
   "pygments_lexer": "ipython3",
   "version": "3.9.0"
  }
 },
 "nbformat": 4,
 "nbformat_minor": 5
}
