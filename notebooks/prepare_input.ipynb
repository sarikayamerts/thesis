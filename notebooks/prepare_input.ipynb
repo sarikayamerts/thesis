{
 "cells": [
  {
   "cell_type": "markdown",
   "metadata": {},
   "source": [
    "## Combining GFS Weather & Production Values "
   ]
  },
  {
   "cell_type": "code",
   "execution_count": 1,
   "metadata": {},
   "outputs": [],
   "source": [
    "import pandas as pd\n",
    "import numpy as np\n",
    "import warnings\n",
    "\n",
    "warnings.filterwarnings(\"ignore\")\n",
    "pd.options.display.max_columns = None"
   ]
  },
  {
   "cell_type": "code",
   "execution_count": 42,
   "metadata": {},
   "outputs": [],
   "source": [
    "weather = pd.read_parquet(\"../data/raw/weather_large.parquet\")\n",
    "production = pd.read_parquet(\"../data/raw/production_large.parquet\")\n",
    "\n",
    "farms = pd.read_csv(\"../data/meta/ege_farms.csv\")"
   ]
  },
  {
   "cell_type": "code",
   "execution_count": 43,
   "metadata": {},
   "outputs": [],
   "source": [
    "longitudes = weather.lon.unique()\n",
    "latitudes = weather.lat.unique()\n",
    "\n",
    "def generate_bbox_weather(lat_, lon_):\n",
    "    lon_bounds = np.max(longitudes[longitudes < lon_]), np.min(longitudes[longitudes > lon_])\n",
    "    lat_bounds = np.max(latitudes[latitudes < lat_]), np.min(latitudes[latitudes > lat_])\n",
    "    # bbox = list(itertools.product(lon_bounds, lat_bounds))\n",
    "    temp_weather = weather[(weather[\"lat\"].isin(lat_bounds)) & (weather[\"lon\"].isin(lon_bounds))].sort_values([\"forecast_epoch\", \"lon\", \"lat\"]).reset_index(drop=True)\n",
    "    temp_weather = temp_weather.pivot_table(index=\"forecast_epoch\", columns=[\"lon\", \"lat\"], values=[\"UGRD_80.m.above.ground\", \"VGRD_80.m.above.ground\"])\n",
    "    # temp_weather.columns = temp_weather.columns.to_flat_index()\n",
    "    temp_weather.columns = temp_weather.columns.get_level_values(0) + [\".SW\", \".NW\", \".NE\", \".SE\"] * 2\n",
    "    return temp_weather"
   ]
  },
  {
   "cell_type": "code",
   "execution_count": 44,
   "metadata": {},
   "outputs": [],
   "source": [
    "df_list = []\n",
    "for _, (lat, lon, plant) in farms[[\"lat\", \"lon\", \"rt_plant_id\"]].iterrows():\n",
    "    df_ = generate_bbox_weather(lat, lon)\n",
    "    df_[\"rt_plant_id\"] = plant\n",
    "    df_list.append(df_)\n",
    "    \n",
    "weather_prepared = pd.concat(df_list).reset_index()\n",
    "weather_prepared[\"rt_plant_id\"] = weather_prepared[\"rt_plant_id\"].astype(int)\n",
    "weather_prepared.rename(columns={\"forecast_epoch\": \"epoch\"}, inplace=True)"
   ]
  },
  {
   "cell_type": "code",
   "execution_count": 45,
   "metadata": {},
   "outputs": [],
   "source": [
    "def convert_epoch_column_to_datetime(epoch_column, turkey_time=True):\n",
    "    \"\"\"\n",
    "    Convert epoch time to datetime object\n",
    "    \"\"\"\n",
    "    utc = pd.to_datetime(epoch_column, unit=\"s\").dt.tz_localize('UTC')\n",
    "    if turkey_time:\n",
    "        return utc.dt.tz_convert('Europe/Istanbul')\n",
    "    return utc"
   ]
  },
  {
   "cell_type": "code",
   "execution_count": 46,
   "metadata": {},
   "outputs": [],
   "source": [
    "production = production[production.rt_plant_id.isin(farms.rt_plant_id)]\n",
    "production[\"forecast_dt\"] = convert_epoch_column_to_datetime(production[\"epoch\"], turkey_time=True)\n",
    "production = production[production.forecast_dt.dt.year >= 2018].reset_index(drop=True)"
   ]
  },
  {
   "cell_type": "code",
   "execution_count": 47,
   "metadata": {},
   "outputs": [],
   "source": [
    "production = pd.merge(production, weather_prepared, on=[\"epoch\", \"rt_plant_id\"])"
   ]
  },
  {
   "cell_type": "code",
   "execution_count": 51,
   "metadata": {},
   "outputs": [
    {
     "data": {
      "text/html": [
       "<div>\n",
       "<style scoped>\n",
       "    .dataframe tbody tr th:only-of-type {\n",
       "        vertical-align: middle;\n",
       "    }\n",
       "\n",
       "    .dataframe tbody tr th {\n",
       "        vertical-align: top;\n",
       "    }\n",
       "\n",
       "    .dataframe thead th {\n",
       "        text-align: right;\n",
       "    }\n",
       "</style>\n",
       "<table border=\"1\" class=\"dataframe\">\n",
       "  <thead>\n",
       "    <tr style=\"text-align: right;\">\n",
       "      <th></th>\n",
       "      <th>epoch</th>\n",
       "      <th>production</th>\n",
       "      <th>rt_plant_id</th>\n",
       "      <th>forecast_dt</th>\n",
       "      <th>UGRD_80.m.above.ground.SW</th>\n",
       "      <th>UGRD_80.m.above.ground.NW</th>\n",
       "      <th>UGRD_80.m.above.ground.NE</th>\n",
       "      <th>UGRD_80.m.above.ground.SE</th>\n",
       "      <th>VGRD_80.m.above.ground.SW</th>\n",
       "      <th>VGRD_80.m.above.ground.NW</th>\n",
       "      <th>VGRD_80.m.above.ground.NE</th>\n",
       "      <th>VGRD_80.m.above.ground.SE</th>\n",
       "    </tr>\n",
       "  </thead>\n",
       "  <tbody>\n",
       "    <tr>\n",
       "      <th>0</th>\n",
       "      <td>1514754000</td>\n",
       "      <td>0.0</td>\n",
       "      <td>1503</td>\n",
       "      <td>2018-01-01 00:00:00+03:00</td>\n",
       "      <td>-0.842773</td>\n",
       "      <td>0.067227</td>\n",
       "      <td>-0.782773</td>\n",
       "      <td>0.067227</td>\n",
       "      <td>1.08792</td>\n",
       "      <td>2.18792</td>\n",
       "      <td>0.997922</td>\n",
       "      <td>2.03792</td>\n",
       "    </tr>\n",
       "    <tr>\n",
       "      <th>1</th>\n",
       "      <td>1514764800</td>\n",
       "      <td>0.0</td>\n",
       "      <td>1503</td>\n",
       "      <td>2018-01-01 03:00:00+03:00</td>\n",
       "      <td>-0.469976</td>\n",
       "      <td>0.720024</td>\n",
       "      <td>-0.179976</td>\n",
       "      <td>0.730024</td>\n",
       "      <td>1.73287</td>\n",
       "      <td>2.92287</td>\n",
       "      <td>1.242870</td>\n",
       "      <td>2.56287</td>\n",
       "    </tr>\n",
       "    <tr>\n",
       "      <th>2</th>\n",
       "      <td>1514775600</td>\n",
       "      <td>0.4</td>\n",
       "      <td>1503</td>\n",
       "      <td>2018-01-01 06:00:00+03:00</td>\n",
       "      <td>-0.932734</td>\n",
       "      <td>0.387266</td>\n",
       "      <td>-0.372734</td>\n",
       "      <td>0.477266</td>\n",
       "      <td>2.52399</td>\n",
       "      <td>3.67399</td>\n",
       "      <td>1.713990</td>\n",
       "      <td>3.02399</td>\n",
       "    </tr>\n",
       "    <tr>\n",
       "      <th>3</th>\n",
       "      <td>1514786400</td>\n",
       "      <td>2.0</td>\n",
       "      <td>1503</td>\n",
       "      <td>2018-01-01 09:00:00+03:00</td>\n",
       "      <td>-1.308400</td>\n",
       "      <td>-0.028396</td>\n",
       "      <td>-0.458396</td>\n",
       "      <td>0.201604</td>\n",
       "      <td>3.69407</td>\n",
       "      <td>4.74407</td>\n",
       "      <td>2.504070</td>\n",
       "      <td>3.39407</td>\n",
       "    </tr>\n",
       "    <tr>\n",
       "      <th>4</th>\n",
       "      <td>1514797200</td>\n",
       "      <td>2.0</td>\n",
       "      <td>1503</td>\n",
       "      <td>2018-01-01 12:00:00+03:00</td>\n",
       "      <td>-0.004195</td>\n",
       "      <td>1.555810</td>\n",
       "      <td>0.825805</td>\n",
       "      <td>1.795810</td>\n",
       "      <td>4.59009</td>\n",
       "      <td>5.41009</td>\n",
       "      <td>2.890090</td>\n",
       "      <td>3.56009</td>\n",
       "    </tr>\n",
       "  </tbody>\n",
       "</table>\n",
       "</div>"
      ],
      "text/plain": [
       "        epoch  production  rt_plant_id               forecast_dt  \\\n",
       "0  1514754000         0.0         1503 2018-01-01 00:00:00+03:00   \n",
       "1  1514764800         0.0         1503 2018-01-01 03:00:00+03:00   \n",
       "2  1514775600         0.4         1503 2018-01-01 06:00:00+03:00   \n",
       "3  1514786400         2.0         1503 2018-01-01 09:00:00+03:00   \n",
       "4  1514797200         2.0         1503 2018-01-01 12:00:00+03:00   \n",
       "\n",
       "   UGRD_80.m.above.ground.SW  UGRD_80.m.above.ground.NW  \\\n",
       "0                  -0.842773                   0.067227   \n",
       "1                  -0.469976                   0.720024   \n",
       "2                  -0.932734                   0.387266   \n",
       "3                  -1.308400                  -0.028396   \n",
       "4                  -0.004195                   1.555810   \n",
       "\n",
       "   UGRD_80.m.above.ground.NE  UGRD_80.m.above.ground.SE  \\\n",
       "0                  -0.782773                   0.067227   \n",
       "1                  -0.179976                   0.730024   \n",
       "2                  -0.372734                   0.477266   \n",
       "3                  -0.458396                   0.201604   \n",
       "4                   0.825805                   1.795810   \n",
       "\n",
       "   VGRD_80.m.above.ground.SW  VGRD_80.m.above.ground.NW  \\\n",
       "0                    1.08792                    2.18792   \n",
       "1                    1.73287                    2.92287   \n",
       "2                    2.52399                    3.67399   \n",
       "3                    3.69407                    4.74407   \n",
       "4                    4.59009                    5.41009   \n",
       "\n",
       "   VGRD_80.m.above.ground.NE  VGRD_80.m.above.ground.SE  \n",
       "0                   0.997922                    2.03792  \n",
       "1                   1.242870                    2.56287  \n",
       "2                   1.713990                    3.02399  \n",
       "3                   2.504070                    3.39407  \n",
       "4                   2.890090                    3.56009  "
      ]
     },
     "execution_count": 51,
     "metadata": {},
     "output_type": "execute_result"
    }
   ],
   "source": [
    "production.head()"
   ]
  },
  {
   "cell_type": "code",
   "execution_count": 52,
   "metadata": {},
   "outputs": [],
   "source": [
    "production.to_parquet(\"../data/processed/enriched.parquet\")"
   ]
  },
  {
   "cell_type": "markdown",
   "metadata": {},
   "source": [
    "## Missing Dates & Outlier Removed"
   ]
  },
  {
   "cell_type": "markdown",
   "metadata": {},
   "source": [
    "93 plant için data 2018-01-01den başlıyor, kalanlar şöyle:\n",
    "- 2288  &emsp;  2018-03-20\n",
    "- 2291  &emsp;  2018-04-13\n",
    "- 2323  &emsp;  2018-09-24\n",
    "- 2326  &emsp;  2018-09-28\n",
    "- 2374  &emsp;  2018-11-13\n",
    "- 2397  &emsp;  2019-03-14\n",
    "- 2420  &emsp;  2019-06-28\n",
    "- 2538  &emsp;  2020-03-28\n",
    "\n",
    "1 saatlik data 3 plant hariç hepsinde data 2019-01-21'de başlıyor, üç plant'in öncesinde 3 saatlik dataları da yok zaten\n",
    "- 2397  &emsp;  2019-03-14\n",
    "- 2420  &emsp;  2019-06-28\n",
    "- 2538  &emsp;  2020-03-28\n",
    "\n",
    "3 saatlik dönemde (2019-01-21 öncesi) :\n",
    "- 6 saat fark olan bir gün var: 2018-05-27 06:00'de \n",
    "\n",
    "1 saatlik dönemde (2019-01-21 sonrası) :\n",
    "- 3 saat fark olan 2019-01-24 00:00 ve 2019-01-24 03:00\n",
    "- 2 saat fark olan 2019-04-15 21:00, 2019-05-05 00:00, 2019-08-17 04:00, 2021-06-08 08:00 ve 2021-06-09 20:00 \n",
    "\n",
    "datayı 2019-01-24ten sonrasına filtrelersek 3 plant sonradan dahil oluyor olacak, 5 saat için de missing data oluyor"
   ]
  },
  {
   "cell_type": "code",
   "execution_count": 4,
   "metadata": {},
   "outputs": [],
   "source": [
    "df = pd.read_parquet(\"../data/processed/enriched.parquet\")\n",
    "df = df[df[\"forecast_dt\"] >= \"2019-01-24 03:00:00+03:00\"]"
   ]
  },
  {
   "cell_type": "markdown",
   "metadata": {},
   "source": [
    "### Interpolation"
   ]
  },
  {
   "cell_type": "code",
   "execution_count": 5,
   "metadata": {},
   "outputs": [
    {
     "data": {
      "text/html": [
       "<div>\n",
       "<style scoped>\n",
       "    .dataframe tbody tr th:only-of-type {\n",
       "        vertical-align: middle;\n",
       "    }\n",
       "\n",
       "    .dataframe tbody tr th {\n",
       "        vertical-align: top;\n",
       "    }\n",
       "\n",
       "    .dataframe thead th {\n",
       "        text-align: right;\n",
       "    }\n",
       "</style>\n",
       "<table border=\"1\" class=\"dataframe\">\n",
       "  <thead>\n",
       "    <tr style=\"text-align: right;\">\n",
       "      <th></th>\n",
       "      <th>forecast_dt</th>\n",
       "      <th>diff</th>\n",
       "      <th>epoch</th>\n",
       "    </tr>\n",
       "  </thead>\n",
       "  <tbody>\n",
       "    <tr>\n",
       "      <th>0</th>\n",
       "      <td>2019-04-15 21:00:00+03:00</td>\n",
       "      <td>0 days 02:00:00</td>\n",
       "      <td>94</td>\n",
       "    </tr>\n",
       "    <tr>\n",
       "      <th>1</th>\n",
       "      <td>2019-05-05 00:00:00+03:00</td>\n",
       "      <td>0 days 02:00:00</td>\n",
       "      <td>94</td>\n",
       "    </tr>\n",
       "    <tr>\n",
       "      <th>2</th>\n",
       "      <td>2019-08-17 04:00:00+03:00</td>\n",
       "      <td>0 days 02:00:00</td>\n",
       "      <td>94</td>\n",
       "    </tr>\n",
       "    <tr>\n",
       "      <th>3</th>\n",
       "      <td>2021-06-08 08:00:00+03:00</td>\n",
       "      <td>0 days 02:00:00</td>\n",
       "      <td>94</td>\n",
       "    </tr>\n",
       "    <tr>\n",
       "      <th>4</th>\n",
       "      <td>2021-06-09 20:00:00+03:00</td>\n",
       "      <td>0 days 02:00:00</td>\n",
       "      <td>94</td>\n",
       "    </tr>\n",
       "  </tbody>\n",
       "</table>\n",
       "</div>"
      ],
      "text/plain": [
       "                forecast_dt            diff  epoch\n",
       "0 2019-04-15 21:00:00+03:00 0 days 02:00:00     94\n",
       "1 2019-05-05 00:00:00+03:00 0 days 02:00:00     94\n",
       "2 2019-08-17 04:00:00+03:00 0 days 02:00:00     94\n",
       "3 2021-06-08 08:00:00+03:00 0 days 02:00:00     94\n",
       "4 2021-06-09 20:00:00+03:00 0 days 02:00:00     94"
      ]
     },
     "execution_count": 5,
     "metadata": {},
     "output_type": "execute_result"
    }
   ],
   "source": [
    "df_ = df.sort_values([\"rt_plant_id\", \"forecast_dt\"]).copy()\n",
    "df_[\"shifted\"] = df_.groupby(\"rt_plant_id\").forecast_dt.shift(1)\n",
    "df_[\"diff\"] = (df_.forecast_dt - df_.shifted)\n",
    "df_[df_[\"diff\"] != pd.Timedelta(hours=1)].groupby([\"forecast_dt\", \"diff\"], as_index=0).epoch.count()"
   ]
  },
  {
   "cell_type": "code",
   "execution_count": 6,
   "metadata": {},
   "outputs": [],
   "source": [
    "weather_cols = [col for col in df.columns if col.startswith((\"UGRD\", \"VGRD\"))]\n",
    "\n",
    "df.forecast_dt = df.forecast_dt.dt.tz_localize(None)\n",
    "df = df.set_index(\"forecast_dt\")[[\"rt_plant_id\", \"production\", *weather_cols]]\n",
    "\n",
    "df = df.groupby(\"rt_plant_id\").resample(\"1H\").interpolate()\n",
    "df = df.drop(columns=[\"rt_plant_id\"]).reset_index().set_index(\"forecast_dt\").sort_index()\n",
    "df = df.sort_values([\"rt_plant_id\", \"forecast_dt\"]).reset_index()"
   ]
  },
  {
   "cell_type": "markdown",
   "metadata": {},
   "source": [
    "### Outlier Clipping"
   ]
  },
  {
   "cell_type": "code",
   "execution_count": 7,
   "metadata": {},
   "outputs": [],
   "source": [
    "def detect_outlier(df, lower=0.01, upper=0.99, rolling=False):\n",
    "    if rolling:\n",
    "        q_lower = df.groupby(\"rt_plant_id\").production.rolling(90 * 24).quantile(lower)\n",
    "        q_upper = df.groupby(\"rt_plant_id\").production.rolling(90 * 24).quantile(upper)\n",
    "        df[\"production_lower\"] = q_lower.values\n",
    "        df[\"production_upper\"] = q_upper.values\n",
    "    else:\n",
    "        q_lower = df.groupby(\"rt_plant_id\").production.quantile(lower)\n",
    "        q_upper = df.groupby(\"rt_plant_id\").production.quantile(upper)\n",
    "        q_lower.name = \"production_lower\"\n",
    "        q_upper.name = \"production_upper\" \n",
    "        df = pd.merge(df, q_lower, on=\"rt_plant_id\", how=\"left\")\n",
    "        df = pd.merge(df, q_upper, on=\"rt_plant_id\", how=\"left\")\n",
    "    return df\n",
    "\n",
    "def clip_outlier(df):\n",
    "    assert \"production_lower\" in df.columns\n",
    "    assert \"production_upper\" in df.columns\n",
    "    df.loc[:, \"is_outlier\"] = (df.production < df.production_lower) | (df.production > df.production_upper)\n",
    "    df[\"production_cleaned\"] = np.clip(df.production, df.production_lower, df.production_upper)\n",
    "    return df"
   ]
  },
  {
   "cell_type": "code",
   "execution_count": 8,
   "metadata": {},
   "outputs": [],
   "source": [
    "df = detect_outlier(df, 0.01, 0.99, rolling=False)\n",
    "df = clip_outlier(df)\n",
    "\n",
    "df = df.rename(columns={\"production\": \"production_old\"})\n",
    "df = df.rename(columns={\"production_cleaned\": \"production\"})"
   ]
  },
  {
   "cell_type": "code",
   "execution_count": 10,
   "metadata": {},
   "outputs": [],
   "source": [
    "# df[df[\"is_outlier\"]].groupby(\"rt_plant_id\").production.count().sort_values().tail(10)\n",
    "# df[df[\"rt_plant_id\"] == 1487].set_index(\"forecast_dt\")[[\"production\", \"production_lower\", \"production_upper\"]].plot(figsize=(20, 10))\n",
    "\n",
    "# azalan 2062 1504\n",
    "# artan 1524 1523 1939 1944\n",
    "# artıp azalan 1939 1781\n",
    "# garip artan 969\n",
    "# garip azalan 1878\n",
    "# stabil 1787\n",
    "# net outlier 1488 2050\n",
    "\n",
    "# capacity & outlier karışık 1761"
   ]
  },
  {
   "cell_type": "code",
   "execution_count": 14,
   "metadata": {},
   "outputs": [],
   "source": [
    "df.to_parquet(\"../data/processed/outlier_removed.parquet\")"
   ]
  }
 ],
 "metadata": {
  "interpreter": {
   "hash": "3101b2c80d66a6543ff34d47ca09bd4d72b95f0f8bb6d61c06edb00070ba9e48"
  },
  "kernelspec": {
   "display_name": "Python 3.9.0 ('thesis_torch')",
   "language": "python",
   "name": "python3"
  },
  "language_info": {
   "codemirror_mode": {
    "name": "ipython",
    "version": 3
   },
   "file_extension": ".py",
   "mimetype": "text/x-python",
   "name": "python",
   "nbconvert_exporter": "python",
   "pygments_lexer": "ipython3",
   "version": "3.9.0"
  },
  "orig_nbformat": 4
 },
 "nbformat": 4,
 "nbformat_minor": 2
}
