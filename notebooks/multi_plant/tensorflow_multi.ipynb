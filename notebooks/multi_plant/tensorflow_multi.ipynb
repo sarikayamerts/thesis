{
 "cells": [
  {
   "cell_type": "markdown",
   "id": "3b0fd067-56f4-4405-bb46-00ec6607a4c3",
   "metadata": {},
   "source": [
    "#### Observations\n",
    "- single plant ve multi plantte aynı model kurunca number of parameters değişmiyor, yani multi plantte her planti aynı weightlerle çarpıyor, bunun sonucu olarak da single plantte gelen wmapeler multi de gelemiyor, dense case'i için, CNN performansı fena değil"
   ]
  },
  {
   "cell_type": "code",
   "execution_count": 13,
   "id": "c744d886-4080-478d-98ff-107f78587a6f",
   "metadata": {
    "tags": []
   },
   "outputs": [
    {
     "name": "stdout",
     "output_type": "stream",
     "text": [
      "The autoreload extension is already loaded. To reload it, use:\n",
      "  %reload_ext autoreload\n"
     ]
    }
   ],
   "source": [
    "%load_ext autoreload\n",
    "%autoreload 2"
   ]
  },
  {
   "cell_type": "code",
   "execution_count": 14,
   "id": "8028b7be-6579-4425-aaf8-50fc407cec64",
   "metadata": {},
   "outputs": [],
   "source": [
    "import subprocess; FOLDER_PATH = subprocess.Popen(['git', 'rev-parse', '--show-toplevel'], stdout=subprocess.PIPE).communicate()[0].rstrip().decode('utf-8')\n",
    "import warnings; warnings.filterwarnings(\"ignore\")\n",
    "import sys, os; sys.path.append(os.path.dirname(f'{FOLDER_PATH}/utils')); sys.path.append(os.path.dirname(f'{FOLDER_PATH}/scripts'))"
   ]
  },
  {
   "cell_type": "code",
   "execution_count": 90,
   "id": "db54687e-c884-4143-a644-472330d60e80",
   "metadata": {},
   "outputs": [],
   "source": [
    "import tensorflow as tf\n",
    "from tensorflow.keras import models, layers\n",
    "from utils.base_helpers import read_data, split_data, plot_metrics\n",
    "from utils.tf_helpers import WindowGenerator, compile_and_fit, calculate_plantwise_wmape, plot_plantwise_predictions\n",
    "from scripts.tf_models import BaseTFModel"
   ]
  },
  {
   "cell_type": "code",
   "execution_count": 16,
   "id": "92c7f409-9874-42ea-9d45-ddd4fa73ca8a",
   "metadata": {},
   "outputs": [
    {
     "name": "stdout",
     "output_type": "stream",
     "text": [
      "Selected plants:\n",
      " [969, 968, 1518, 1484, 1507, 1508, 1527, 672, 1537, 2180]\n"
     ]
    }
   ],
   "source": [
    "df = read_data(generate_speed_angle=True, add_lagged=True, number_of_plants=10)"
   ]
  },
  {
   "cell_type": "code",
   "execution_count": 17,
   "id": "50a32cc9-ad62-4bc5-9797-d218c168fc2c",
   "metadata": {},
   "outputs": [
    {
     "name": "stdout",
     "output_type": "stream",
     "text": [
      "Train start and end dates:  2019-01-26 03:00:00 2021-06-22 09:00:00\n",
      "Validation start and end dates:  2021-06-22 10:00:00 2021-10-10 04:00:00\n",
      "Test start and end dates:  2021-10-10 05:00:00 2022-01-27 23:00:00\n"
     ]
    }
   ],
   "source": [
    "train_df_np, valid_df_np, test_df_np = split_data(df, train_ratio=0.8, valid_ratio=0.1, scaler=\"minmax\")"
   ]
  },
  {
   "cell_type": "code",
   "execution_count": 18,
   "id": "487962c6-83d8-40bd-b1c9-725f30604521",
   "metadata": {},
   "outputs": [
    {
     "data": {
      "text/plain": [
       "Total window size: 48\n",
       "Input indices: [ 0  1  2  3  4  5  6  7  8  9 10 11 12 13 14 15 16 17 18 19 20 21 22 23\n",
       " 24 25 26 27 28 29 30 31 32 33 34 35 36 37 38 39 40 41 42 43 44 45 46 47]\n",
       "Label indices: [24 25 26 27 28 29 30 31 32 33 34 35 36 37 38 39 40 41 42 43 44 45 46 47]\n",
       "Label column name(s): ['production']"
      ]
     },
     "execution_count": 18,
     "metadata": {},
     "output_type": "execute_result"
    }
   ],
   "source": [
    "OUT_STEPS = 24\n",
    "INPUT_WIDTH = 48\n",
    "\n",
    "window = WindowGenerator(\n",
    "    train_df=train_df_np, valid_df=valid_df_np, test_df=test_df_np, \n",
    "    columns=[col for col in df.columns if col != \"rt_plant_id\"],\n",
    "    input_width=INPUT_WIDTH, label_width=24, shift=0, label_columns=[\"production\"])\n",
    "window"
   ]
  },
  {
   "cell_type": "code",
   "execution_count": 19,
   "id": "d9bb6614-6eee-4399-9775-a7c1dad18919",
   "metadata": {},
   "outputs": [],
   "source": [
    "val_performance = {}\n",
    "performance = {}"
   ]
  },
  {
   "cell_type": "markdown",
   "id": "0d32c730-df15-4eed-bfe9-603319f49608",
   "metadata": {},
   "source": [
    "# Dense"
   ]
  },
  {
   "cell_type": "markdown",
   "id": "52313e5d-ebdf-4442-88fa-f3c4b98b32e4",
   "metadata": {},
   "source": [
    "## Linear2"
   ]
  },
  {
   "cell_type": "code",
   "execution_count": 21,
   "id": "7f52868c-001c-47e6-be21-735527c50c14",
   "metadata": {},
   "outputs": [
    {
     "name": "stdout",
     "output_type": "stream",
     "text": [
      "Model: \"sequential_3\"\n",
      "_________________________________________________________________\n",
      " Layer (type)                Output Shape              Param #   \n",
      "=================================================================\n",
      " start------ (Permute)       (None, 48, 10, 17)        0         \n",
      "                                                                 \n",
      " dense_3 (Dense)             (None, 48, 10, 24)        432       \n",
      "                                                                 \n",
      " dropout_1 (Dropout)         (None, 48, 10, 24)        0         \n",
      "                                                                 \n",
      " end-------- (Reshape)       (None, 10, 1152)          0         \n",
      "                                                                 \n",
      " dense_4 (Dense)             (None, 10, 24)            27672     \n",
      "                                                                 \n",
      " permute_8 (Permute)         (None, 24, 10)            0         \n",
      "                                                                 \n",
      " reshape_4 (Reshape)         (None, 24, 10, 1)         0         \n",
      "                                                                 \n",
      "=================================================================\n",
      "Total params: 28,104\n",
      "Trainable params: 28,104\n",
      "Non-trainable params: 0\n",
      "_________________________________________________________________\n"
     ]
    }
   ],
   "source": [
    "class Linear2(BaseTFModel):\n",
    "    def __init__(self, window):\n",
    "        super().__init__(window)\n",
    "\n",
    "    def add_model(self, model):\n",
    "        model.add(layers.Dense(self.OUT_STEPS, kernel_initializer=tf.initializers.zeros()))\n",
    "        model.add(layers.Dropout(0.2))\n",
    "        return model\n",
    "    \n",
    "model = Linear2(window).model\n",
    "model.summary()"
   ]
  },
  {
   "cell_type": "code",
   "execution_count": null,
   "id": "555fecaf",
   "metadata": {},
   "outputs": [],
   "source": [
    "class Linear3(BaseTFModel):\n",
    "    def __init__(self, window):\n",
    "        super().__init__(window)\n",
    "\n",
    "    def add_model(self, model):\n",
    "        model.add(layers.Permute((2,1,3)))\n",
    "        model.add(layers.Dense(16, kernel_initializer=tf.initializers.zeros()))\n",
    "        model.add(layers.Dropout(0.2))\n",
    "        return model\n",
    "    \n",
    "model = Linear3(window).model\n",
    "model.summary()"
   ]
  },
  {
   "cell_type": "code",
   "execution_count": 22,
   "id": "ab93dfc2-c9da-4a9c-9f5a-fd524828105f",
   "metadata": {
    "collapsed": true,
    "jupyter": {
     "outputs_hidden": true
    },
    "tags": []
   },
   "outputs": [
    {
     "name": "stdout",
     "output_type": "stream",
     "text": [
      "Epoch 1/10\n",
      "      0/Unknown - 2s 0s/sample - loss: 0.0885 - wmape: 0.6689\n",
      "Epoch 1: val_wmape improved from inf to 0.50082, saving model to /home/mert/Desktop/thesis/artifacts/checkpoint\n",
      "329/329 [==============================] - 2s 7ms/sample - loss: 0.0885 - wmape: 0.6689 - val_loss: 0.0738 - val_wmape: 0.5008\n",
      "Epoch 2/10\n",
      "  0/329 [..............................] - ETA: 0s - loss: 0.0815 - wmape: 0.6359\n",
      "Epoch 2: val_wmape improved from 0.50082 to 0.47693, saving model to /home/mert/Desktop/thesis/artifacts/checkpoint\n",
      "329/329 [==============================] - 2s 6ms/sample - loss: 0.0814 - wmape: 0.6361 - val_loss: 0.0675 - val_wmape: 0.4769\n",
      "Epoch 3/10\n",
      "  0/329 [..............................] - ETA: 0s - loss: 0.0796 - wmape: 0.6282\n",
      "Epoch 3: val_wmape improved from 0.47693 to 0.47612, saving model to /home/mert/Desktop/thesis/artifacts/checkpoint\n",
      "329/329 [==============================] - 2s 6ms/sample - loss: 0.0795 - wmape: 0.6282 - val_loss: 0.0682 - val_wmape: 0.4761\n",
      "Epoch 4/10\n",
      "  0/329 [..............................] - ETA: 0s - loss: 0.0780 - wmape: 0.6221\n",
      "Epoch 4: val_wmape did not improve from 0.47612\n",
      "329/329 [==============================] - 2s 6ms/sample - loss: 0.0781 - wmape: 0.6224 - val_loss: 0.0679 - val_wmape: 0.4775\n",
      "Epoch 5/10\n",
      "  0/329 [..............................] - ETA: 0s - loss: 0.0773 - wmape: 0.6178\n",
      "Epoch 5: val_wmape improved from 0.47612 to 0.47154, saving model to /home/mert/Desktop/thesis/artifacts/checkpoint\n",
      "329/329 [==============================] - 2s 6ms/sample - loss: 0.0772 - wmape: 0.6178 - val_loss: 0.0662 - val_wmape: 0.4715\n",
      "Epoch 6/10\n",
      "  0/329 [..............................] - ETA: 0s - loss: 0.0768 - wmape: 0.6149\n",
      "Epoch 6: val_wmape improved from 0.47154 to 0.46934, saving model to /home/mert/Desktop/thesis/artifacts/checkpoint\n",
      "329/329 [==============================] - 2s 6ms/sample - loss: 0.0768 - wmape: 0.6149 - val_loss: 0.0653 - val_wmape: 0.4693\n",
      "Epoch 7/10\n",
      "  0/329 [..............................] - ETA: 0s - loss: 0.0766 - wmape: 0.6132\n",
      "Epoch 7: val_wmape did not improve from 0.46934\n",
      "329/329 [==============================] - 2s 6ms/sample - loss: 0.0765 - wmape: 0.6135 - val_loss: 0.0715 - val_wmape: 0.4886\n",
      "Epoch 8/10\n",
      "  0/329 [..............................] - ETA: 0s - loss: 0.0762 - wmape: 0.6128\n",
      "Epoch 8: val_wmape improved from 0.46934 to 0.45789, saving model to /home/mert/Desktop/thesis/artifacts/checkpoint\n",
      "329/329 [==============================] - 2s 6ms/sample - loss: 0.0762 - wmape: 0.6130 - val_loss: 0.0630 - val_wmape: 0.4579\n",
      "Epoch 9/10\n",
      "  0/329 [..............................] - ETA: 0s - loss: 0.0760 - wmape: 0.6119\n",
      "Epoch 9: val_wmape did not improve from 0.45789\n",
      "329/329 [==============================] - 2s 6ms/sample - loss: 0.0760 - wmape: 0.6113 - val_loss: 0.0657 - val_wmape: 0.4727\n",
      "Epoch 10/10\n",
      "  0/329 [..............................] - ETA: 0s - loss: 0.0759 - wmape: 0.6113\n",
      "Epoch 10: val_wmape did not improve from 0.45789\n",
      "329/329 [==============================] - 2s 6ms/sample - loss: 0.0759 - wmape: 0.6114 - val_loss: 0.0651 - val_wmape: 0.4610\n",
      "2/2 [==============================] - 0s 2ms/step - loss: 0.0630 - wmape: 0.4579\n",
      "2/2 [==============================] - 0s 2ms/step - loss: 0.1028 - wmape: 0.6040\n",
      "Epoch 1/10\n",
      "      0/Unknown - 2s 0s/sample - loss: 0.0756 - wmape: 0.6106\n",
      "Epoch 1: val_wmape improved from inf to 0.46148, saving model to /home/mert/Desktop/thesis/artifacts/checkpoint\n",
      "329/329 [==============================] - 2s 7ms/sample - loss: 0.0756 - wmape: 0.6103 - val_loss: 0.0635 - val_wmape: 0.4615\n",
      "Epoch 2/10\n",
      "  0/329 [..............................] - ETA: 0s - loss: 0.0754 - wmape: 0.6094\n",
      "Epoch 2: val_wmape did not improve from 0.46148\n",
      "329/329 [==============================] - 2s 6ms/sample - loss: 0.0755 - wmape: 0.6095 - val_loss: 0.0654 - val_wmape: 0.4753\n",
      "Epoch 3/10\n",
      "  0/329 [..............................] - ETA: 0s - loss: 0.0753 - wmape: 0.6090\n",
      "Epoch 3: val_wmape did not improve from 0.46148\n",
      "329/329 [==============================] - 2s 6ms/sample - loss: 0.0753 - wmape: 0.6089 - val_loss: 0.0638 - val_wmape: 0.4660\n",
      "Epoch 4/10\n",
      "  0/329 [..............................] - ETA: 0s - loss: 0.0753 - wmape: 0.6091\n",
      "Epoch 4: val_wmape did not improve from 0.46148\n",
      "329/329 [==============================] - 2s 6ms/sample - loss: 0.0753 - wmape: 0.6088 - val_loss: 0.0642 - val_wmape: 0.4658\n",
      "Epoch 5/10\n",
      "  0/329 [..............................] - ETA: 0s - loss: 0.0751 - wmape: 0.6085\n",
      "Epoch 5: val_wmape did not improve from 0.46148\n",
      "329/329 [==============================] - 2s 6ms/sample - loss: 0.0752 - wmape: 0.6081 - val_loss: 0.0645 - val_wmape: 0.4624\n",
      "Epoch 6/10\n",
      "  0/329 [..............................] - ETA: 0s - loss: 0.0752 - wmape: 0.6084\n",
      "Epoch 6: val_wmape did not improve from 0.46148\n",
      "329/329 [==============================] - 2s 6ms/sample - loss: 0.0751 - wmape: 0.6078 - val_loss: 0.0635 - val_wmape: 0.4643\n",
      "Epoch 7/10\n",
      "  0/329 [..............................] - ETA: 0s - loss: 0.0751 - wmape: 0.6078\n",
      "Epoch 7: val_wmape did not improve from 0.46148\n",
      "329/329 [==============================] - 2s 6ms/sample - loss: 0.0751 - wmape: 0.6075 - val_loss: 0.0645 - val_wmape: 0.4708\n",
      "Epoch 8/10\n",
      "  0/329 [..............................] - ETA: 0s - loss: 0.0751 - wmape: 0.6080\n",
      "Epoch 8: val_wmape improved from 0.46148 to 0.46122, saving model to /home/mert/Desktop/thesis/artifacts/checkpoint\n",
      "329/329 [==============================] - 2s 6ms/sample - loss: 0.0751 - wmape: 0.6074 - val_loss: 0.0632 - val_wmape: 0.4612\n",
      "Epoch 9/10\n",
      "  0/329 [..............................] - ETA: 0s - loss: 0.0750 - wmape: 0.6072\n",
      "Epoch 9: val_wmape did not improve from 0.46122\n",
      "329/329 [==============================] - 2s 6ms/sample - loss: 0.0750 - wmape: 0.6072 - val_loss: 0.0652 - val_wmape: 0.4671\n",
      "Epoch 10/10\n",
      "  0/329 [..............................] - ETA: 0s - loss: 0.0750 - wmape: 0.6069\n",
      "Epoch 10: val_wmape did not improve from 0.46122\n",
      "329/329 [==============================] - 2s 6ms/sample - loss: 0.0750 - wmape: 0.6074 - val_loss: 0.0643 - val_wmape: 0.4734\n",
      "2/2 [==============================] - 0s 2ms/step - loss: 0.0632 - wmape: 0.4612\n",
      "2/2 [==============================] - 0s 2ms/step - loss: 0.1016 - wmape: 0.6033\n"
     ]
    }
   ],
   "source": [
    "val_performance = {}\n",
    "performance = {}\n",
    "\n",
    "param_list = [\n",
    "    {\"loss\": \"mse\", \"optimizer\": \"rmsprop\"},\n",
    "    {\"loss\": \"mse\", \"optimizer\": \"adam\"},\n",
    "]\n",
    "\n",
    "for param_dict in param_list:\n",
    "    model, history = compile_and_fit(model, window, max_epochs=10, verbose=1, **param_dict)\n",
    "    val_performance[\"-\".join(param_dict.values())] = model.evaluate(window.valid)\n",
    "    performance[\"-\".join(param_dict.values())] = model.evaluate(window.test)\n"
   ]
  },
  {
   "cell_type": "markdown",
   "id": "713fa31c-ae61-4505-9f9f-188b55e1675a",
   "metadata": {},
   "source": [
    "# CNN"
   ]
  },
  {
   "cell_type": "markdown",
   "id": "e02e4b37-a30c-43e7-880c-2d31f0996d00",
   "metadata": {
    "jp-MarkdownHeadingCollapsed": true,
    "tags": []
   },
   "source": [
    "## Conv4"
   ]
  },
  {
   "cell_type": "code",
   "execution_count": 23,
   "id": "93d3e601-b7ed-4187-bf03-d3612d8d6712",
   "metadata": {},
   "outputs": [
    {
     "name": "stdout",
     "output_type": "stream",
     "text": [
      "Model: \"sequential_4\"\n",
      "_________________________________________________________________\n",
      " Layer (type)                Output Shape              Param #   \n",
      "=================================================================\n",
      " start------ (Permute)       (None, 48, 10, 17)        0         \n",
      "                                                                 \n",
      " permute_9 (Permute)         (None, 10, 48, 17)        0         \n",
      "                                                                 \n",
      " conv2d_2 (Conv2D)           (None, 10, 48, 64)        27264     \n",
      "                                                                 \n",
      " permute_10 (Permute)        (None, 48, 64, 10)        0         \n",
      "                                                                 \n",
      " max_pooling2d_2 (MaxPooling  (None, 24, 32, 10)       0         \n",
      " 2D)                                                             \n",
      "                                                                 \n",
      " permute_11 (Permute)        (None, 10, 24, 32)        0         \n",
      "                                                                 \n",
      " conv2d_3 (Conv2D)           (None, 10, 24, 32)        25632     \n",
      "                                                                 \n",
      " permute_12 (Permute)        (None, 24, 32, 10)        0         \n",
      "                                                                 \n",
      " max_pooling2d_3 (MaxPooling  (None, 12, 16, 10)       0         \n",
      " 2D)                                                             \n",
      "                                                                 \n",
      " permute_13 (Permute)        (None, 10, 12, 16)        0         \n",
      "                                                                 \n",
      " end-------- (Reshape)       (None, 10, 192)           0         \n",
      "                                                                 \n",
      " dense_5 (Dense)             (None, 10, 24)            4632      \n",
      "                                                                 \n",
      " permute_14 (Permute)        (None, 24, 10)            0         \n",
      "                                                                 \n",
      " reshape_5 (Reshape)         (None, 24, 10, 1)         0         \n",
      "                                                                 \n",
      "=================================================================\n",
      "Total params: 57,528\n",
      "Trainable params: 57,528\n",
      "Non-trainable params: 0\n",
      "_________________________________________________________________\n"
     ]
    }
   ],
   "source": [
    "CONV_WIDTH = 5\n",
    "\n",
    "class Conv4(BaseTFModel):\n",
    "    def __init__(self, window):\n",
    "        super().__init__(window)\n",
    "\n",
    "    def add_model(self, model):\n",
    "        model.add(layers.Permute((2,1,3)))\n",
    "        model.add(layers.Conv2D(64, CONV_WIDTH, activation=\"relu\", padding=\"same\"))\n",
    "        model.add(layers.Permute((2,3,1)))\n",
    "        model.add(layers.MaxPooling2D(2))\n",
    "        model.add(layers.Permute((3,1,2)))\n",
    "        model.add(layers.Conv2D(32, CONV_WIDTH, activation=\"relu\", padding=\"same\"))\n",
    "        model.add(layers.Permute((2,3,1)))\n",
    "        model.add(layers.MaxPooling2D(2))\n",
    "        model.add(layers.Permute((3,1,2)))\n",
    "        return model\n",
    "    \n",
    "model = Conv4(window).model\n",
    "model.summary()"
   ]
  },
  {
   "cell_type": "code",
   "execution_count": 24,
   "id": "a70d7a0e-0ccf-41ed-9ae5-ae15c1298cb6",
   "metadata": {},
   "outputs": [
    {
     "name": "stdout",
     "output_type": "stream",
     "text": [
      "Epoch 1/10\n",
      "      0/Unknown - 16s 0s/sample - loss: 0.0443 - wmape: 0.4254\n",
      "Epoch 1: val_wmape improved from inf to 0.29734, saving model to /home/mert/Desktop/thesis/artifacts/checkpoint\n",
      "329/329 [==============================] - 16s 49ms/sample - loss: 0.0443 - wmape: 0.4254 - val_loss: 0.0303 - val_wmape: 0.2973\n",
      "Epoch 2/10\n",
      "  0/329 [..............................] - ETA: 0s - loss: 0.0260 - wmape: 0.3219\n",
      "Epoch 2: val_wmape improved from 0.29734 to 0.28245, saving model to /home/mert/Desktop/thesis/artifacts/checkpoint\n",
      "329/329 [==============================] - 16s 49ms/sample - loss: 0.0260 - wmape: 0.3219 - val_loss: 0.0275 - val_wmape: 0.2824\n",
      "Epoch 3/10\n",
      "  0/329 [..............................] - ETA: 0s - loss: 0.0233 - wmape: 0.3025\n",
      "Epoch 3: val_wmape improved from 0.28245 to 0.26848, saving model to /home/mert/Desktop/thesis/artifacts/checkpoint\n",
      "329/329 [==============================] - 16s 49ms/sample - loss: 0.0233 - wmape: 0.3024 - val_loss: 0.0248 - val_wmape: 0.2685\n",
      "Epoch 4/10\n",
      "  0/329 [..............................] - ETA: 0s - loss: 0.0214 - wmape: 0.2892\n",
      "Epoch 4: val_wmape improved from 0.26848 to 0.25443, saving model to /home/mert/Desktop/thesis/artifacts/checkpoint\n",
      "329/329 [==============================] - 17s 52ms/sample - loss: 0.0214 - wmape: 0.2892 - val_loss: 0.0235 - val_wmape: 0.2544\n",
      "Epoch 5/10\n",
      "  0/329 [..............................] - ETA: 0s - loss: 0.0205 - wmape: 0.2815\n",
      "Epoch 5: val_wmape improved from 0.25443 to 0.24999, saving model to /home/mert/Desktop/thesis/artifacts/checkpoint\n",
      "329/329 [==============================] - 16s 50ms/sample - loss: 0.0205 - wmape: 0.2816 - val_loss: 0.0228 - val_wmape: 0.2500\n",
      "Epoch 6/10\n",
      "  0/329 [..............................] - ETA: 0s - loss: 0.0196 - wmape: 0.2749\n",
      "Epoch 6: val_wmape did not improve from 0.24999\n",
      "329/329 [==============================] - 16s 50ms/sample - loss: 0.0196 - wmape: 0.2748 - val_loss: 0.0233 - val_wmape: 0.2540\n",
      "Epoch 7/10\n",
      "  0/329 [..............................] - ETA: 0s - loss: 0.0189 - wmape: 0.2698\n",
      "Epoch 7: val_wmape did not improve from 0.24999\n",
      "329/329 [==============================] - 16s 50ms/sample - loss: 0.0189 - wmape: 0.2698 - val_loss: 0.0234 - val_wmape: 0.2517\n",
      "Epoch 8/10\n",
      "  0/329 [..............................] - ETA: 0s - loss: 0.0183 - wmape: 0.2655\n",
      "Epoch 8: val_wmape did not improve from 0.24999\n",
      "329/329 [==============================] - 17s 50ms/sample - loss: 0.0183 - wmape: 0.2655 - val_loss: 0.0228 - val_wmape: 0.2531\n",
      "Epoch 9/10\n",
      "  0/329 [..............................] - ETA: 0s - loss: 0.0180 - wmape: 0.2636\n",
      "Epoch 9: val_wmape improved from 0.24999 to 0.24186, saving model to /home/mert/Desktop/thesis/artifacts/checkpoint\n",
      "329/329 [==============================] - 17s 50ms/sample - loss: 0.0180 - wmape: 0.2636 - val_loss: 0.0219 - val_wmape: 0.2419\n",
      "Epoch 10/10\n",
      "  0/329 [..............................] - ETA: 0s - loss: 0.0175 - wmape: 0.2595\n",
      "Epoch 10: val_wmape improved from 0.24186 to 0.23489, saving model to /home/mert/Desktop/thesis/artifacts/checkpoint\n",
      "329/329 [==============================] - 17s 50ms/sample - loss: 0.0175 - wmape: 0.2595 - val_loss: 0.0210 - val_wmape: 0.2349\n",
      "2/2 [==============================] - 0s 10ms/step - loss: 0.0210 - wmape: 0.2349\n",
      "2/2 [==============================] - 0s 8ms/step - loss: 0.0280 - wmape: 0.2793\n"
     ]
    }
   ],
   "source": [
    "model, history = compile_and_fit(model, window, max_epochs=10, verbose=1, loss=\"mse\", optimizer=\"adam\")\n",
    "val_performance[\"CNN\"] = model.evaluate(window.valid)\n",
    "performance[\"CNN\"] = model.evaluate(window.test)"
   ]
  },
  {
   "cell_type": "code",
   "execution_count": 25,
   "id": "b52f3b22-489f-4b52-b7e4-37924c8d39ce",
   "metadata": {},
   "outputs": [
    {
     "data": {
      "image/png": "[encoded data removed]",
      "text/plain": [
       "<Figure size 432x288 with 1 Axes>"
      ]
     },
     "metadata": {
      "needs_background": "light"
     },
     "output_type": "display_data"
    }
   ],
   "source": [
    "plot_metrics(performance, val_performance)"
   ]
  },
  {
   "cell_type": "code",
   "execution_count": 89,
   "id": "89107629-88c5-4a2d-adce-1556829bac6f",
   "metadata": {},
   "outputs": [
    {
     "data": {
      "text/html": [
       "<div>\n",
       "<style scoped>\n",
       "    .dataframe tbody tr th:only-of-type {\n",
       "        vertical-align: middle;\n",
       "    }\n",
       "\n",
       "    .dataframe tbody tr th {\n",
       "        vertical-align: top;\n",
       "    }\n",
       "\n",
       "    .dataframe thead th {\n",
       "        text-align: right;\n",
       "    }\n",
       "</style>\n",
       "<table border=\"1\" class=\"dataframe\">\n",
       "  <thead>\n",
       "    <tr style=\"text-align: right;\">\n",
       "      <th></th>\n",
       "      <th>rt_plant_id</th>\n",
       "      <th>wmape</th>\n",
       "      <th>wmape_val</th>\n",
       "    </tr>\n",
       "  </thead>\n",
       "  <tbody>\n",
       "    <tr>\n",
       "      <th>1</th>\n",
       "      <td>968</td>\n",
       "      <td>0.262608</td>\n",
       "      <td>0.269929</td>\n",
       "    </tr>\n",
       "    <tr>\n",
       "      <th>2</th>\n",
       "      <td>969</td>\n",
       "      <td>0.263021</td>\n",
       "      <td>0.199416</td>\n",
       "    </tr>\n",
       "    <tr>\n",
       "      <th>4</th>\n",
       "      <td>1507</td>\n",
       "      <td>0.264555</td>\n",
       "      <td>0.261589</td>\n",
       "    </tr>\n",
       "    <tr>\n",
       "      <th>5</th>\n",
       "      <td>1508</td>\n",
       "      <td>0.271978</td>\n",
       "      <td>0.318705</td>\n",
       "    </tr>\n",
       "    <tr>\n",
       "      <th>6</th>\n",
       "      <td>1518</td>\n",
       "      <td>0.277216</td>\n",
       "      <td>0.198515</td>\n",
       "    </tr>\n",
       "    <tr>\n",
       "      <th>0</th>\n",
       "      <td>672</td>\n",
       "      <td>0.278018</td>\n",
       "      <td>0.314294</td>\n",
       "    </tr>\n",
       "    <tr>\n",
       "      <th>7</th>\n",
       "      <td>1527</td>\n",
       "      <td>0.282388</td>\n",
       "      <td>0.180798</td>\n",
       "    </tr>\n",
       "    <tr>\n",
       "      <th>9</th>\n",
       "      <td>2180</td>\n",
       "      <td>0.291294</td>\n",
       "      <td>0.192010</td>\n",
       "    </tr>\n",
       "    <tr>\n",
       "      <th>8</th>\n",
       "      <td>1537</td>\n",
       "      <td>0.295300</td>\n",
       "      <td>0.286339</td>\n",
       "    </tr>\n",
       "    <tr>\n",
       "      <th>3</th>\n",
       "      <td>1484</td>\n",
       "      <td>0.299170</td>\n",
       "      <td>0.194989</td>\n",
       "    </tr>\n",
       "  </tbody>\n",
       "</table>\n",
       "</div>"
      ],
      "text/plain": [
       "   rt_plant_id     wmape  wmape_val\n",
       "1          968  0.262608   0.269929\n",
       "2          969  0.263021   0.199416\n",
       "4         1507  0.264555   0.261589\n",
       "5         1508  0.271978   0.318705\n",
       "6         1518  0.277216   0.198515\n",
       "0          672  0.278018   0.314294\n",
       "7         1527  0.282388   0.180798\n",
       "9         2180  0.291294   0.192010\n",
       "8         1537  0.295300   0.286339\n",
       "3         1484  0.299170   0.194989"
      ]
     },
     "execution_count": 89,
     "metadata": {},
     "output_type": "execute_result"
    }
   ],
   "source": [
    "wmape_df = calculate_plantwise_wmape(model, window, selected_plants=df.rt_plant_id.unique())\n",
    "wmape_df"
   ]
  },
  {
   "cell_type": "code",
   "execution_count": 92,
   "id": "273dead8-6c67-4a9b-b2ce-2900a4d6a876",
   "metadata": {},
   "outputs": [
    {
     "data": {
      "image/png": "[encoded data removed]",
      "text/plain": [
       "<Figure size 432x288 with 1 Axes>"
      ]
     },
     "metadata": {
      "needs_background": "light"
     },
     "output_type": "display_data"
    }
   ],
   "source": [
    "plot_plantwise_predictions(model, window.test)"
   ]
  },
  {
   "cell_type": "code",
   "execution_count": 93,
   "id": "7f830d67-6e2a-4ed6-a705-8ffacbca21e1",
   "metadata": {},
   "outputs": [
    {
     "data": {
      "image/png": "[encoded data removed]",
      "text/plain": [
       "<Figure size 432x288 with 1 Axes>"
      ]
     },
     "metadata": {
      "needs_background": "light"
     },
     "output_type": "display_data"
    }
   ],
   "source": [
    "plot_plantwise_predictions(model, window.valid)"
   ]
  },
  {
   "cell_type": "markdown",
   "id": "8254719f-dda8-40fd-b687-2c72260b854a",
   "metadata": {},
   "source": [
    "# Recurrent"
   ]
  },
  {
   "cell_type": "markdown",
   "id": "9a997942-e97a-4eca-9f9d-a837584f0021",
   "metadata": {},
   "source": [
    "## RNN3"
   ]
  },
  {
   "cell_type": "code",
   "execution_count": 123,
   "id": "a68eb2d4-92a3-4719-944f-20919e63b03b",
   "metadata": {},
   "outputs": [
    {
     "name": "stdout",
     "output_type": "stream",
     "text": [
      "Model: \"sequential_30\"\n",
      "_________________________________________________________________\n",
      " Layer (type)                Output Shape              Param #   \n",
      "=================================================================\n",
      " start------ (Permute)       (None, 48, 10, 17)        0         \n",
      "                                                                 \n",
      " permute_67 (Permute)        (None, 10, 48, 17)        0         \n",
      "                                                                 \n",
      " reshape_39 (Reshape)        (None, 10, 816)           0         \n",
      "                                                                 \n",
      " permute_68 (Permute)        (None, 816, 10)           0         \n",
      "                                                                 \n",
      " max_pooling1d_9 (MaxPooling  (None, 408, 10)          0         \n",
      " 1D)                                                             \n",
      "                                                                 \n",
      " permute_69 (Permute)        (None, 10, 408)           0         \n",
      "                                                                 \n",
      " lstm_26 (LSTM)              (None, 10, 32)            56448     \n",
      "                                                                 \n",
      " lstm_27 (LSTM)              (None, 10, 24)            5472      \n",
      "                                                                 \n",
      " end-------- (Reshape)       (None, 10, 24)            0         \n",
      "                                                                 \n",
      " dense_26 (Dense)            (None, 10, 24)            600       \n",
      "                                                                 \n",
      " permute_70 (Permute)        (None, 24, 10)            0         \n",
      "                                                                 \n",
      " reshape_40 (Reshape)        (None, 24, 10, 1)         0         \n",
      "                                                                 \n",
      "=================================================================\n",
      "Total params: 62,520\n",
      "Trainable params: 62,520\n",
      "Non-trainable params: 0\n",
      "_________________________________________________________________\n"
     ]
    }
   ],
   "source": [
    "class RNN3(BaseTFModel):\n",
    "    def __init__(self, window):\n",
    "        super().__init__(window)\n",
    "\n",
    "    def add_model(self, model):\n",
    "        model.add(layers.Permute((2,1,3)))\n",
    "        model.add(layers.Reshape((self.window.number_of_plants, -1)))\n",
    "        model.add(layers.Permute((2,1)))\n",
    "        model.add(layers.MaxPooling1D(2))\n",
    "        model.add(layers.Permute((2,1)))\n",
    "        model.add(layers.LSTM(32, return_sequences=True))\n",
    "        model.add(layers.LSTM(24, return_sequences=True))\n",
    "        return model\n",
    "    \n",
    "model = RNN3(window).model\n",
    "model.summary()"
   ]
  },
  {
   "cell_type": "code",
   "execution_count": 124,
   "id": "3d2e01bd-dcfb-442d-9c27-dc6e0d07038c",
   "metadata": {},
   "outputs": [
    {
     "name": "stdout",
     "output_type": "stream",
     "text": [
      "Epoch 1/50\n",
      "      0/Unknown - 7s 0s/sample - loss: 0.0871 - wmape: 0.6613\n",
      "Epoch 1: val_wmape improved from inf to 0.42017, saving model to /home/mert/Desktop/thesis/artifacts/checkpoint\n",
      "329/329 [==============================] - 7s 22ms/sample - loss: 0.0869 - wmape: 0.6603 - val_loss: 0.0547 - val_wmape: 0.4202\n",
      "Epoch 2/50\n",
      "  0/329 [..............................] - ETA: 0s - loss: 0.0549 - wmape: 0.5069\n",
      "Epoch 2: val_wmape improved from 0.42017 to 0.38428, saving model to /home/mert/Desktop/thesis/artifacts/checkpoint\n",
      "329/329 [==============================] - 3s 10ms/sample - loss: 0.0549 - wmape: 0.5065 - val_loss: 0.0468 - val_wmape: 0.3843\n",
      "Epoch 3/50\n",
      "  0/329 [..............................] - ETA: 0s - loss: 0.0481 - wmape: 0.4662\n",
      "Epoch 3: val_wmape did not improve from 0.38428\n",
      "329/329 [==============================] - 3s 10ms/sample - loss: 0.0481 - wmape: 0.4659 - val_loss: 0.0465 - val_wmape: 0.3878\n",
      "Epoch 4/50\n",
      "  0/329 [..............................] - ETA: 0s - loss: 0.0437 - wmape: 0.4403\n",
      "Epoch 4: val_wmape improved from 0.38428 to 0.35988, saving model to /home/mert/Desktop/thesis/artifacts/checkpoint\n",
      "329/329 [==============================] - 4s 14ms/sample - loss: 0.0437 - wmape: 0.4401 - val_loss: 0.0438 - val_wmape: 0.3599\n",
      "Epoch 5/50\n",
      "  0/329 [..............................] - ETA: 0s - loss: 0.0399 - wmape: 0.4176\n",
      "Epoch 5: val_wmape improved from 0.35988 to 0.35134, saving model to /home/mert/Desktop/thesis/artifacts/checkpoint\n",
      "329/329 [==============================] - 4s 11ms/sample - loss: 0.0399 - wmape: 0.4178 - val_loss: 0.0383 - val_wmape: 0.3513\n",
      "Epoch 6/50\n",
      "  0/329 [..............................] - ETA: 0s - loss: 0.0380 - wmape: 0.4061\n",
      "Epoch 6: val_wmape improved from 0.35134 to 0.32760, saving model to /home/mert/Desktop/thesis/artifacts/checkpoint\n",
      "329/329 [==============================] - 4s 13ms/sample - loss: 0.0380 - wmape: 0.4060 - val_loss: 0.0360 - val_wmape: 0.3276\n",
      "Epoch 7/50\n",
      "  0/329 [..............................] - ETA: 0s - loss: 0.0359 - wmape: 0.3927\n",
      "Epoch 7: val_wmape improved from 0.32760 to 0.31829, saving model to /home/mert/Desktop/thesis/artifacts/checkpoint\n",
      "329/329 [==============================] - 3s 10ms/sample - loss: 0.0359 - wmape: 0.3925 - val_loss: 0.0342 - val_wmape: 0.3183\n",
      "Epoch 8/50\n",
      "  0/329 [..............................] - ETA: 0s - loss: 0.0343 - wmape: 0.3820\n",
      "Epoch 8: val_wmape did not improve from 0.31829\n",
      "329/329 [==============================] - 3s 10ms/sample - loss: 0.0343 - wmape: 0.3819 - val_loss: 0.0339 - val_wmape: 0.3204\n",
      "Epoch 9/50\n",
      "  0/329 [..............................] - ETA: 0s - loss: 0.0332 - wmape: 0.3750\n",
      "Epoch 9: val_wmape did not improve from 0.31829\n",
      "329/329 [==============================] - 3s 10ms/sample - loss: 0.0332 - wmape: 0.3750 - val_loss: 0.0354 - val_wmape: 0.3189\n",
      "Epoch 10/50\n",
      "  0/329 [..............................] - ETA: 0s - loss: 0.0325 - wmape: 0.3698\n",
      "Epoch 10: val_wmape did not improve from 0.31829\n",
      "329/329 [==============================] - 6s 18ms/sample - loss: 0.0325 - wmape: 0.3701 - val_loss: 0.0352 - val_wmape: 0.3216\n",
      "Epoch 11/50\n",
      "  0/329 [..............................] - ETA: 0s - loss: 0.0315 - wmape: 0.3636\n",
      "Epoch 11: val_wmape improved from 0.31829 to 0.30538, saving model to /home/mert/Desktop/thesis/artifacts/checkpoint\n",
      "329/329 [==============================] - 3s 10ms/sample - loss: 0.0315 - wmape: 0.3636 - val_loss: 0.0325 - val_wmape: 0.3054\n",
      "Epoch 12/50\n",
      "  0/329 [..............................] - ETA: 0s - loss: 0.0310 - wmape: 0.3606\n",
      "Epoch 12: val_wmape did not improve from 0.30538\n",
      "329/329 [==============================] - 3s 10ms/sample - loss: 0.0309 - wmape: 0.3605 - val_loss: 0.0327 - val_wmape: 0.3058\n",
      "Epoch 13/50\n",
      "  0/329 [..............................] - ETA: 0s - loss: 0.0302 - wmape: 0.3556\n",
      "Epoch 13: val_wmape improved from 0.30538 to 0.29803, saving model to /home/mert/Desktop/thesis/artifacts/checkpoint\n",
      "329/329 [==============================] - 5s 16ms/sample - loss: 0.0302 - wmape: 0.3550 - val_loss: 0.0313 - val_wmape: 0.2980\n",
      "Epoch 14/50\n",
      "  0/329 [..............................] - ETA: 0s - loss: 0.0298 - wmape: 0.3524\n",
      "Epoch 14: val_wmape did not improve from 0.29803\n",
      "329/329 [==============================] - 3s 10ms/sample - loss: 0.0297 - wmape: 0.3521 - val_loss: 0.0334 - val_wmape: 0.3135\n",
      "Epoch 15/50\n",
      "  0/329 [..............................] - ETA: 0s - loss: 0.0290 - wmape: 0.3469\n",
      "Epoch 15: val_wmape did not improve from 0.29803\n",
      "329/329 [==============================] - 4s 11ms/sample - loss: 0.0290 - wmape: 0.3468 - val_loss: 0.0323 - val_wmape: 0.3073\n",
      "Epoch 16/50\n",
      "  0/329 [..............................] - ETA: 0s - loss: 0.0283 - wmape: 0.3429\n",
      "Epoch 16: val_wmape did not improve from 0.29803\n",
      "329/329 [==============================] - 4s 11ms/sample - loss: 0.0283 - wmape: 0.3427 - val_loss: 0.0310 - val_wmape: 0.3033\n",
      "Epoch 17/50\n",
      "  0/329 [..............................] - ETA: 0s - loss: 0.0280 - wmape: 0.3406\n",
      "Epoch 17: val_wmape did not improve from 0.29803\n",
      "329/329 [==============================] - 4s 13ms/sample - loss: 0.0280 - wmape: 0.3406 - val_loss: 0.0323 - val_wmape: 0.3055\n",
      "Epoch 18/50\n",
      "  0/329 [..............................] - ETA: 0s - loss: 0.0276 - wmape: 0.3379\n",
      "Epoch 18: val_wmape improved from 0.29803 to 0.29120, saving model to /home/mert/Desktop/thesis/artifacts/checkpoint\n",
      "329/329 [==============================] - 3s 11ms/sample - loss: 0.0276 - wmape: 0.3378 - val_loss: 0.0303 - val_wmape: 0.2912\n",
      "Epoch 19/50\n",
      "  0/329 [..............................] - ETA: 0s - loss: 0.0272 - wmape: 0.3354\n",
      "Epoch 19: val_wmape improved from 0.29120 to 0.28464, saving model to /home/mert/Desktop/thesis/artifacts/checkpoint\n",
      "329/329 [==============================] - 3s 10ms/sample - loss: 0.0273 - wmape: 0.3354 - val_loss: 0.0287 - val_wmape: 0.2846\n",
      "Epoch 20/50\n",
      "  0/329 [..............................] - ETA: 0s - loss: 0.0271 - wmape: 0.3339\n",
      "Epoch 20: val_wmape did not improve from 0.28464\n",
      "329/329 [==============================] - 3s 10ms/sample - loss: 0.0271 - wmape: 0.3338 - val_loss: 0.0310 - val_wmape: 0.2907\n",
      "Epoch 21/50\n",
      "  0/329 [..............................] - ETA: 0s - loss: 0.0270 - wmape: 0.3335\n",
      "Epoch 21: val_wmape did not improve from 0.28464\n",
      "329/329 [==============================] - 3s 10ms/sample - loss: 0.0270 - wmape: 0.3335 - val_loss: 0.0294 - val_wmape: 0.2898\n",
      "Epoch 22/50\n",
      "  0/329 [..............................] - ETA: 0s - loss: 0.0262 - wmape: 0.3273\n",
      "Epoch 22: val_wmape did not improve from 0.28464\n",
      "329/329 [==============================] - 3s 10ms/sample - loss: 0.0262 - wmape: 0.3272 - val_loss: 0.0299 - val_wmape: 0.2920\n",
      "Epoch 23/50\n",
      "  0/329 [..............................] - ETA: 0s - loss: 0.0261 - wmape: 0.3269\n",
      "Epoch 23: val_wmape did not improve from 0.28464\n",
      "329/329 [==============================] - 3s 10ms/sample - loss: 0.0261 - wmape: 0.3268 - val_loss: 0.0290 - val_wmape: 0.2860\n",
      "Epoch 24/50\n",
      "  0/329 [..............................] - ETA: 0s - loss: 0.0259 - wmape: 0.3261\n",
      "Epoch 24: val_wmape improved from 0.28464 to 0.27875, saving model to /home/mert/Desktop/thesis/artifacts/checkpoint\n",
      "329/329 [==============================] - 3s 10ms/sample - loss: 0.0259 - wmape: 0.3258 - val_loss: 0.0276 - val_wmape: 0.2787\n",
      "Epoch 25/50\n",
      "  0/329 [..............................] - ETA: 0s - loss: 0.0256 - wmape: 0.3234\n",
      "Epoch 25: val_wmape did not improve from 0.27875\n",
      "329/329 [==============================] - 3s 10ms/sample - loss: 0.0256 - wmape: 0.3232 - val_loss: 0.0281 - val_wmape: 0.2854\n",
      "Epoch 26/50\n",
      "  0/329 [..............................] - ETA: 0s - loss: 0.0256 - wmape: 0.3235\n",
      "Epoch 26: val_wmape did not improve from 0.27875\n",
      "329/329 [==============================] - 3s 11ms/sample - loss: 0.0256 - wmape: 0.3234 - val_loss: 0.0279 - val_wmape: 0.2819\n",
      "Epoch 27/50\n",
      "  0/329 [..............................] - ETA: 0s - loss: 0.0254 - wmape: 0.3220\n",
      "Epoch 27: val_wmape did not improve from 0.27875\n",
      "329/329 [==============================] - 3s 10ms/sample - loss: 0.0254 - wmape: 0.3219 - val_loss: 0.0276 - val_wmape: 0.2825\n",
      "Epoch 28/50\n",
      "  0/329 [..............................] - ETA: 0s - loss: 0.0254 - wmape: 0.3221\n",
      "Epoch 28: val_wmape did not improve from 0.27875\n",
      "329/329 [==============================] - 3s 10ms/sample - loss: 0.0254 - wmape: 0.3219 - val_loss: 0.0287 - val_wmape: 0.2813\n",
      "Epoch 29/50\n",
      "  0/329 [..............................] - ETA: 0s - loss: 0.0250 - wmape: 0.3192\n",
      "Epoch 29: val_wmape improved from 0.27875 to 0.27804, saving model to /home/mert/Desktop/thesis/artifacts/checkpoint\n",
      "329/329 [==============================] - 3s 10ms/sample - loss: 0.0250 - wmape: 0.3191 - val_loss: 0.0282 - val_wmape: 0.2780\n",
      "Epoch 30/50\n",
      "  0/329 [..............................] - ETA: 0s - loss: 0.0247 - wmape: 0.3166\n",
      "Epoch 30: val_wmape did not improve from 0.27804\n",
      "329/329 [==============================] - 3s 10ms/sample - loss: 0.0247 - wmape: 0.3167 - val_loss: 0.0284 - val_wmape: 0.2822\n",
      "Epoch 31/50\n",
      "  0/329 [..............................] - ETA: 0s - loss: 0.0246 - wmape: 0.3155\n",
      "Epoch 31: val_wmape did not improve from 0.27804\n",
      "329/329 [==============================] - 4s 13ms/sample - loss: 0.0246 - wmape: 0.3155 - val_loss: 0.0278 - val_wmape: 0.2784\n",
      "Epoch 32/50\n",
      "  0/329 [..............................] - ETA: 0s - loss: 0.0245 - wmape: 0.3158\n",
      "Epoch 32: val_wmape did not improve from 0.27804\n",
      "329/329 [==============================] - 4s 11ms/sample - loss: 0.0245 - wmape: 0.3158 - val_loss: 0.0282 - val_wmape: 0.2800\n",
      "Epoch 33/50\n",
      "  0/329 [..............................] - ETA: 0s - loss: 0.0244 - wmape: 0.3140\n",
      "Epoch 33: val_wmape did not improve from 0.27804\n",
      "329/329 [==============================] - 3s 10ms/sample - loss: 0.0244 - wmape: 0.3139 - val_loss: 0.0292 - val_wmape: 0.2820\n",
      "Epoch 34/50\n",
      "  0/329 [..............................] - ETA: 0s - loss: 0.0242 - wmape: 0.3131Restoring model weights from the end of the best epoch: 24.\n",
      "\n",
      "Epoch 34: val_wmape improved from 0.27804 to 0.27772, saving model to /home/mert/Desktop/thesis/artifacts/checkpoint\n",
      "329/329 [==============================] - 3s 10ms/sample - loss: 0.0242 - wmape: 0.3131 - val_loss: 0.0278 - val_wmape: 0.2777\n",
      "Epoch 34: early stopping\n"
     ]
    }
   ],
   "source": [
    "history = compile_and_fit(model, window)"
   ]
  },
  {
   "cell_type": "code",
   "execution_count": 126,
   "id": "e2f61a13-dfd0-4ff1-b2e9-8161402a0685",
   "metadata": {},
   "outputs": [
    {
     "name": "stdout",
     "output_type": "stream",
     "text": [
      "2/2 [==============================] - 0s 5ms/step - loss: 0.0276 - wmape: 0.2787\n",
      "2/2 [==============================] - 0s 9ms/step - loss: 0.0378 - wmape: 0.3402\n"
     ]
    }
   ],
   "source": [
    "val_performance['RNN3'] = model.evaluate(window.valid)\n",
    "performance['RNN3'] = model.evaluate(window.test)\n"
   ]
  },
  {
   "cell_type": "code",
   "execution_count": null,
   "id": "c59b5d17-5f91-4c6e-ac20-373e05937f72",
   "metadata": {},
   "outputs": [],
   "source": []
  },
  {
   "cell_type": "code",
   "execution_count": null,
   "id": "fcfd2123-0d12-4d97-a69c-3b06690961e4",
   "metadata": {},
   "outputs": [],
   "source": []
  },
  {
   "cell_type": "code",
   "execution_count": null,
   "id": "5ff7242e-f557-485c-845c-92ccbac81529",
   "metadata": {},
   "outputs": [],
   "source": []
  },
  {
   "cell_type": "code",
   "execution_count": null,
   "id": "6cc94bde-6fbe-4e03-ac43-686c0ba6a705",
   "metadata": {},
   "outputs": [],
   "source": []
  },
  {
   "cell_type": "code",
   "execution_count": null,
   "id": "dbbaa4f3-8195-4a00-bf3f-d523cb53b8c6",
   "metadata": {},
   "outputs": [],
   "source": []
  }
 ],
 "metadata": {
  "kernelspec": {
   "display_name": "Python 3 (ipykernel)",
   "language": "python",
   "name": "python3"
  },
  "language_info": {
   "codemirror_mode": {
    "name": "ipython",
    "version": 3
   },
   "file_extension": ".py",
   "mimetype": "text/x-python",
   "name": "python",
   "nbconvert_exporter": "python",
   "pygments_lexer": "ipython3",
   "version": "3.9.0"
  }
 },
 "nbformat": 4,
 "nbformat_minor": 5
}
