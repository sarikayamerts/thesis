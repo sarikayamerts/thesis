{
 "cells": [
  {
   "cell_type": "code",
   "execution_count": null,
   "id": "3f28b9b7-2075-44b4-824e-c526c579e425",
   "metadata": {},
   "outputs": [],
   "source": [
    "# !conda install -c stellargraph stellargraph"
   ]
  },
  {
   "cell_type": "code",
   "execution_count": 73,
   "id": "da43cb1f-26bb-45bb-a1b3-b5f8b1a4793c",
   "metadata": {},
   "outputs": [],
   "source": [
    "from scripts.tf_models import BaseTFModel\n",
    "from tensorflow.keras import models, layers\n",
    "from dgl.nn.tensorflow import GraphConv\n"
   ]
  },
  {
   "cell_type": "code",
   "execution_count": null,
   "id": "7e223593-227a-42ca-9094-05d53e370d68",
   "metadata": {},
   "outputs": [],
   "source": [
    "blocks = [1, 16, 32, 64, 32, 128]"
   ]
  },
  {
   "cell_type": "code",
   "execution_count": 24,
   "id": "43685fc1-5419-4760-9936-087e85a1ba37",
   "metadata": {},
   "outputs": [],
   "source": [
    "import tensorflow as tf\n",
    "from tensorflow.keras import layers\n",
    "from dgl.nn.tensorflow import GraphConv\n",
    "\n",
    "class GCN(tf.keras.Model):\n",
    "    def __init__(self,\n",
    "                 g,\n",
    "                 in_feats,\n",
    "                 n_hidden,\n",
    "                 n_classes,\n",
    "                 n_layers,\n",
    "                 activation,\n",
    "                 dropout):\n",
    "        super(GCN, self).__init__()\n",
    "        self.g = g\n",
    "        self.layer_list = []\n",
    "        # input layer\n",
    "        self.layer_list.append(GraphConv(in_feats, n_hidden, activation=activation))\n",
    "        # hidden layers\n",
    "        for i in range(n_layers - 1):\n",
    "            self.layer_list.append(GraphConv(n_hidden, n_hidden, activation=activation))\n",
    "        # output layer\n",
    "        self.layer_list.append(GraphConv(n_hidden, n_classes))\n",
    "        self.dropout = layers.Dropout(dropout)\n",
    "\n",
    "    def call(self, features):\n",
    "        h = features\n",
    "        for i, layer in enumerate(self.layer_list):\n",
    "            if i != 0:\n",
    "                h = self.dropout(h)\n",
    "            h = layer(self.g, h)\n",
    "        return h"
   ]
  },
  {
   "cell_type": "code",
   "execution_count": 33,
   "id": "71d5eedc-1df5-4fcc-a8c3-ee25daa3c5c8",
   "metadata": {},
   "outputs": [],
   "source": [
    "gcn = GCN(G, in_feats=17, n_hidden=32, n_classes=18, n_layers=1, activation=\"relu\", dropout=0.2)"
   ]
  },
  {
   "cell_type": "code",
   "execution_count": 34,
   "id": "3b16b731-35b0-49f6-b52f-ec90020254d7",
   "metadata": {},
   "outputs": [
    {
     "ename": "InvalidArgumentError",
     "evalue": "Exception encountered when calling layer \"graph_conv_6\" (type GraphConv).\n\nIncompatible shapes: [21079,5,18] vs. [5,1,1] [Op:Mul]\n\nCall arguments received:\n  • graph=Graph(num_nodes=5, num_edges=25,\n      ndata_schemes={}\n      edata_schemes={'weight': Scheme(shape=(), dtype=tf.float64)})\n  • feat=tf.Tensor(shape=(21079, 5, 18), dtype=float32)\n  • weight=None",
     "output_type": "error",
     "traceback": [
      "\u001b[0;31m---------------------------------------------------------------------------\u001b[0m",
      "\u001b[0;31mInvalidArgumentError\u001b[0m                      Traceback (most recent call last)",
      "\u001b[0;32m/tmp/ipykernel_16067/1682240810.py\u001b[0m in \u001b[0;36m<module>\u001b[0;34m\u001b[0m\n\u001b[0;32m----> 1\u001b[0;31m \u001b[0mgcn\u001b[0m\u001b[0;34m(\u001b[0m\u001b[0mtrain_df3\u001b[0m\u001b[0;34m)\u001b[0m\u001b[0;34m\u001b[0m\u001b[0;34m\u001b[0m\u001b[0m\n\u001b[0m",
      "\u001b[0;32m~/miniconda3/envs/thesis_torch/lib/python3.9/site-packages/keras/utils/traceback_utils.py\u001b[0m in \u001b[0;36merror_handler\u001b[0;34m(*args, **kwargs)\u001b[0m\n\u001b[1;32m     65\u001b[0m     \u001b[0;32mexcept\u001b[0m \u001b[0mException\u001b[0m \u001b[0;32mas\u001b[0m \u001b[0me\u001b[0m\u001b[0;34m:\u001b[0m  \u001b[0;31m# pylint: disable=broad-except\u001b[0m\u001b[0;34m\u001b[0m\u001b[0;34m\u001b[0m\u001b[0m\n\u001b[1;32m     66\u001b[0m       \u001b[0mfiltered_tb\u001b[0m \u001b[0;34m=\u001b[0m \u001b[0m_process_traceback_frames\u001b[0m\u001b[0;34m(\u001b[0m\u001b[0me\u001b[0m\u001b[0;34m.\u001b[0m\u001b[0m__traceback__\u001b[0m\u001b[0;34m)\u001b[0m\u001b[0;34m\u001b[0m\u001b[0;34m\u001b[0m\u001b[0m\n\u001b[0;32m---> 67\u001b[0;31m       \u001b[0;32mraise\u001b[0m \u001b[0me\u001b[0m\u001b[0;34m.\u001b[0m\u001b[0mwith_traceback\u001b[0m\u001b[0;34m(\u001b[0m\u001b[0mfiltered_tb\u001b[0m\u001b[0;34m)\u001b[0m \u001b[0;32mfrom\u001b[0m \u001b[0;32mNone\u001b[0m\u001b[0;34m\u001b[0m\u001b[0;34m\u001b[0m\u001b[0m\n\u001b[0m\u001b[1;32m     68\u001b[0m     \u001b[0;32mfinally\u001b[0m\u001b[0;34m:\u001b[0m\u001b[0;34m\u001b[0m\u001b[0;34m\u001b[0m\u001b[0m\n\u001b[1;32m     69\u001b[0m       \u001b[0;32mdel\u001b[0m \u001b[0mfiltered_tb\u001b[0m\u001b[0;34m\u001b[0m\u001b[0;34m\u001b[0m\u001b[0m\n",
      "\u001b[0;32m/tmp/ipykernel_16067/3950804160.py\u001b[0m in \u001b[0;36mcall\u001b[0;34m(self, features)\u001b[0m\n\u001b[1;32m     29\u001b[0m             \u001b[0;32mif\u001b[0m \u001b[0mi\u001b[0m \u001b[0;34m!=\u001b[0m \u001b[0;36m0\u001b[0m\u001b[0;34m:\u001b[0m\u001b[0;34m\u001b[0m\u001b[0;34m\u001b[0m\u001b[0m\n\u001b[1;32m     30\u001b[0m                 \u001b[0mh\u001b[0m \u001b[0;34m=\u001b[0m \u001b[0mself\u001b[0m\u001b[0;34m.\u001b[0m\u001b[0mdropout\u001b[0m\u001b[0;34m(\u001b[0m\u001b[0mh\u001b[0m\u001b[0;34m)\u001b[0m\u001b[0;34m\u001b[0m\u001b[0;34m\u001b[0m\u001b[0m\n\u001b[0;32m---> 31\u001b[0;31m             \u001b[0mh\u001b[0m \u001b[0;34m=\u001b[0m \u001b[0mlayer\u001b[0m\u001b[0;34m(\u001b[0m\u001b[0mself\u001b[0m\u001b[0;34m.\u001b[0m\u001b[0mg\u001b[0m\u001b[0;34m,\u001b[0m \u001b[0mh\u001b[0m\u001b[0;34m)\u001b[0m\u001b[0;34m\u001b[0m\u001b[0;34m\u001b[0m\u001b[0m\n\u001b[0m\u001b[1;32m     32\u001b[0m         \u001b[0;32mreturn\u001b[0m \u001b[0mh\u001b[0m\u001b[0;34m\u001b[0m\u001b[0;34m\u001b[0m\u001b[0m\n",
      "\u001b[0;32m~/miniconda3/envs/thesis_torch/lib/python3.9/site-packages/dgl/nn/tensorflow/conv/graphconv.py\u001b[0m in \u001b[0;36mcall\u001b[0;34m(self, graph, feat, weight)\u001b[0m\n\u001b[1;32m    249\u001b[0m                 \u001b[0mshp\u001b[0m \u001b[0;34m=\u001b[0m \u001b[0mnorm\u001b[0m\u001b[0;34m.\u001b[0m\u001b[0mshape\u001b[0m \u001b[0;34m+\u001b[0m \u001b[0;34m(\u001b[0m\u001b[0;36m1\u001b[0m\u001b[0;34m,\u001b[0m\u001b[0;34m)\u001b[0m \u001b[0;34m*\u001b[0m \u001b[0;34m(\u001b[0m\u001b[0mfeat_dst\u001b[0m\u001b[0;34m.\u001b[0m\u001b[0mndim\u001b[0m \u001b[0;34m-\u001b[0m \u001b[0;36m1\u001b[0m\u001b[0;34m)\u001b[0m\u001b[0;34m\u001b[0m\u001b[0;34m\u001b[0m\u001b[0m\n\u001b[1;32m    250\u001b[0m                 \u001b[0mnorm\u001b[0m \u001b[0;34m=\u001b[0m \u001b[0mtf\u001b[0m\u001b[0;34m.\u001b[0m\u001b[0mreshape\u001b[0m\u001b[0;34m(\u001b[0m\u001b[0mnorm\u001b[0m\u001b[0;34m,\u001b[0m \u001b[0mshp\u001b[0m\u001b[0;34m)\u001b[0m\u001b[0;34m\u001b[0m\u001b[0;34m\u001b[0m\u001b[0m\n\u001b[0;32m--> 251\u001b[0;31m                 \u001b[0mfeat_src\u001b[0m \u001b[0;34m=\u001b[0m \u001b[0mfeat_src\u001b[0m \u001b[0;34m*\u001b[0m \u001b[0mnorm\u001b[0m\u001b[0;34m\u001b[0m\u001b[0;34m\u001b[0m\u001b[0m\n\u001b[0m\u001b[1;32m    252\u001b[0m \u001b[0;34m\u001b[0m\u001b[0m\n\u001b[1;32m    253\u001b[0m             \u001b[0;32mif\u001b[0m \u001b[0mweight\u001b[0m \u001b[0;32mis\u001b[0m \u001b[0;32mnot\u001b[0m \u001b[0;32mNone\u001b[0m\u001b[0;34m:\u001b[0m\u001b[0;34m\u001b[0m\u001b[0;34m\u001b[0m\u001b[0m\n",
      "\u001b[0;31mInvalidArgumentError\u001b[0m: Exception encountered when calling layer \"graph_conv_6\" (type GraphConv).\n\nIncompatible shapes: [21079,5,18] vs. [5,1,1] [Op:Mul]\n\nCall arguments received:\n  • graph=Graph(num_nodes=5, num_edges=25,\n      ndata_schemes={}\n      edata_schemes={'weight': Scheme(shape=(), dtype=tf.float64)})\n  • feat=tf.Tensor(shape=(21079, 5, 18), dtype=float32)\n  • weight=None"
     ]
    }
   ],
   "source": [
    "gcn(train_df3)"
   ]
  },
  {
   "cell_type": "code",
   "execution_count": null,
   "id": "daa6670e-3b06-4ccf-867e-62d3baaadfd1",
   "metadata": {},
   "outputs": [],
   "source": []
  },
  {
   "cell_type": "code",
   "execution_count": 47,
   "id": "fef54af5-4f7b-416e-8159-9f4e97ad9f69",
   "metadata": {},
   "outputs": [
    {
     "data": {
      "text/plain": [
       "25"
      ]
     },
     "execution_count": 47,
     "metadata": {},
     "output_type": "execute_result"
    }
   ],
   "source": []
  },
  {
   "cell_type": "code",
   "execution_count": 48,
   "id": "b487bace-7ccd-4f62-9463-7cf89445ff4d",
   "metadata": {},
   "outputs": [
    {
     "data": {
      "text/plain": [
       "True"
      ]
     },
     "execution_count": 48,
     "metadata": {},
     "output_type": "execute_result"
    }
   ],
   "source": [
    "G.number_of_edges() == G.edata[\"weight\"].shape[0]"
   ]
  },
  {
   "cell_type": "code",
   "execution_count": 49,
   "id": "1a3288ed-5b26-4271-8965-98a792606f46",
   "metadata": {},
   "outputs": [],
   "source": [
    "G.edata['_edge_weight'] = G.edata[\"weight\"]"
   ]
  },
  {
   "cell_type": "code",
   "execution_count": 50,
   "id": "93a33a3d-58e8-477b-8fd5-a304338c906d",
   "metadata": {},
   "outputs": [],
   "source": [
    "import dgl.function as fn"
   ]
  },
  {
   "cell_type": "code",
   "execution_count": 51,
   "id": "faf61da6-ba74-420b-ab5f-4a69227137a9",
   "metadata": {},
   "outputs": [],
   "source": [
    "aggregate_fn = fn.u_mul_e('h', '_edge_weight', 'm')"
   ]
  },
  {
   "cell_type": "code",
   "execution_count": 59,
   "id": "e6061ee1-6285-443a-b6e9-2f7509ec547c",
   "metadata": {},
   "outputs": [],
   "source": [
    "n_edges = G.number_of_edges()\n",
    "degs = tf.cast(tf.identity(G.in_degrees()), dtype=tf.float32)\n",
    "norm = tf.math.pow(degs, -0.5)"
   ]
  },
  {
   "cell_type": "code",
   "execution_count": 63,
   "id": "e628cebf-eb42-438e-8d08-cadbdd8b9ecb",
   "metadata": {},
   "outputs": [],
   "source": [
    "norm = tf.where(tf.math.is_inf(norm), tf.zeros_like(norm), norm)\n",
    "G.ndata['norm'] = tf.expand_dims(norm, -1)"
   ]
  },
  {
   "cell_type": "code",
   "execution_count": 71,
   "id": "cbeef213-d6af-47cd-bb65-87fe37358949",
   "metadata": {},
   "outputs": [],
   "source": [
    "import tensorflow as tf\n",
    "from tensorflow.keras import layers\n",
    "from dgl.nn.tensorflow import GraphConv\n",
    "\n",
    "class GCN(tf.keras.Model):\n",
    "    def __init__(self,\n",
    "                 g,\n",
    "                 in_feats,\n",
    "                 n_hidden,\n",
    "                 n_classes,\n",
    "                 n_layers,\n",
    "                 activation,\n",
    "                 dropout):\n",
    "        super(GCN, self).__init__()\n",
    "        self.g = g\n",
    "        self.layer_list = []\n",
    "        # input layer\n",
    "        self.layer_list.append(GraphConv(in_feats, n_hidden, activation=activation))\n",
    "        # hidden layers\n",
    "        for i in range(n_layers - 1):\n",
    "            self.layer_list.append(GraphConv(n_hidden, n_hidden, activation=activation))\n",
    "        # output layer\n",
    "        self.layer_list.append(GraphConv(n_hidden, n_classes))\n",
    "        self.dropout = layers.Dropout(dropout)\n",
    "\n",
    "    def call(self, features):\n",
    "        h = features\n",
    "        for i, layer in enumerate(self.layer_list):\n",
    "            if i != 0:\n",
    "                h = self.dropout(h)\n",
    "            h = layer(self.g, h)\n",
    "        return h"
   ]
  },
  {
   "cell_type": "code",
   "execution_count": 72,
   "id": "d9b8c0be-919f-4545-bc37-b3ff837f0a69",
   "metadata": {},
   "outputs": [],
   "source": [
    "model = GCN(G,\n",
    "            in_feats=17,\n",
    "            n_hidden=32,\n",
    "            n_classes=5,\n",
    "            n_layers=2,\n",
    "            activation=tf.nn.relu,\n",
    "            dropout=0.1)"
   ]
  },
  {
   "cell_type": "code",
   "execution_count": 70,
   "id": "9478082e-0860-44d4-8707-558c7fd120bb",
   "metadata": {},
   "outputs": [],
   "source": [
    "loss_fcn = tf.keras.losses.SparseCategoricalCrossentropy(from_logits=True)\n",
    "optimizer = tf.keras.optimizers.Adam(learning_rate=0.001, epsilon=1e-8)"
   ]
  },
  {
   "cell_type": "code",
   "execution_count": null,
   "id": "33b9d07e-16ca-4eb7-93bd-f8591aa0f578",
   "metadata": {},
   "outputs": [],
   "source": [
    "with tf.GradientTape() as tape:\n",
    "    logits = model(features)\n",
    "    loss_value = loss_fcn(labels[train_mask], logits[train_mask])\n",
    "    for weight in model.trainable_weights:\n",
    "        loss_value = loss_value + args.weight_decay*tf.nn.l2_loss(weight)\n",
    "    grads = tape.gradient(loss_value, model.trainable_weights)\n",
    "    optimizer.apply_gradients(zip(grads, model.trainable_weights))"
   ]
  },
  {
   "cell_type": "code",
   "execution_count": null,
   "id": "4e8d37a6-0247-483d-8d06-ad5d9e996a48",
   "metadata": {},
   "outputs": [],
   "source": []
  },
  {
   "cell_type": "code",
   "execution_count": 39,
   "id": "8409a028-acbd-46ed-a668-df2210417243",
   "metadata": {},
   "outputs": [
    {
     "ename": "TypeError",
     "evalue": "in user code:\n\n\n    TypeError: tf__call() missing 1 required positional argument: 'feat'\n",
     "output_type": "error",
     "traceback": [
      "\u001b[0;31m---------------------------------------------------------------------------\u001b[0m",
      "\u001b[0;31mTypeError\u001b[0m                                 Traceback (most recent call last)",
      "\u001b[0;32m/tmp/ipykernel_16067/1665406942.py\u001b[0m in \u001b[0;36m<module>\u001b[0;34m\u001b[0m\n\u001b[1;32m     14\u001b[0m         \u001b[0;32mreturn\u001b[0m \u001b[0mmodel\u001b[0m\u001b[0;34m\u001b[0m\u001b[0;34m\u001b[0m\u001b[0m\n\u001b[1;32m     15\u001b[0m \u001b[0;34m\u001b[0m\u001b[0m\n\u001b[0;32m---> 16\u001b[0;31m \u001b[0mmodel\u001b[0m \u001b[0;34m=\u001b[0m \u001b[0mLinear2\u001b[0m\u001b[0;34m(\u001b[0m\u001b[0mwindow\u001b[0m\u001b[0;34m)\u001b[0m\u001b[0;34m.\u001b[0m\u001b[0mmodel\u001b[0m\u001b[0;34m\u001b[0m\u001b[0;34m\u001b[0m\u001b[0m\n\u001b[0m\u001b[1;32m     17\u001b[0m \u001b[0mmodel\u001b[0m\u001b[0;34m.\u001b[0m\u001b[0msummary\u001b[0m\u001b[0;34m(\u001b[0m\u001b[0;34m)\u001b[0m\u001b[0;34m\u001b[0m\u001b[0;34m\u001b[0m\u001b[0m\n",
      "\u001b[0;32m~/Desktop/thesis/scripts/tf_models.py\u001b[0m in \u001b[0;36mmodel\u001b[0;34m(self)\u001b[0m\n\u001b[1;32m     15\u001b[0m         \u001b[0mmodel\u001b[0m\u001b[0;34m.\u001b[0m\u001b[0madd\u001b[0m\u001b[0;34m(\u001b[0m\u001b[0mlayers\u001b[0m\u001b[0;34m.\u001b[0m\u001b[0mPermute\u001b[0m\u001b[0;34m(\u001b[0m\u001b[0;34m(\u001b[0m\u001b[0;36m1\u001b[0m\u001b[0;34m,\u001b[0m\u001b[0;36m2\u001b[0m\u001b[0;34m,\u001b[0m\u001b[0;36m3\u001b[0m\u001b[0;34m)\u001b[0m\u001b[0;34m,\u001b[0m \u001b[0mname\u001b[0m\u001b[0;34m=\u001b[0m\u001b[0;34m\"start------\"\u001b[0m\u001b[0;34m)\u001b[0m\u001b[0;34m)\u001b[0m\u001b[0;34m\u001b[0m\u001b[0;34m\u001b[0m\u001b[0m\n\u001b[1;32m     16\u001b[0m \u001b[0;34m\u001b[0m\u001b[0m\n\u001b[0;32m---> 17\u001b[0;31m         \u001b[0mmodel\u001b[0m \u001b[0;34m=\u001b[0m \u001b[0mself\u001b[0m\u001b[0;34m.\u001b[0m\u001b[0madd_model\u001b[0m\u001b[0;34m(\u001b[0m\u001b[0mmodel\u001b[0m\u001b[0;34m)\u001b[0m\u001b[0;34m\u001b[0m\u001b[0;34m\u001b[0m\u001b[0m\n\u001b[0m\u001b[1;32m     18\u001b[0m \u001b[0;34m\u001b[0m\u001b[0m\n\u001b[1;32m     19\u001b[0m         \u001b[0mmodel\u001b[0m\u001b[0;34m.\u001b[0m\u001b[0madd\u001b[0m\u001b[0;34m(\u001b[0m\u001b[0mlayers\u001b[0m\u001b[0;34m.\u001b[0m\u001b[0mReshape\u001b[0m\u001b[0;34m(\u001b[0m\u001b[0;34m[\u001b[0m\u001b[0mself\u001b[0m\u001b[0;34m.\u001b[0m\u001b[0mwindow\u001b[0m\u001b[0;34m.\u001b[0m\u001b[0mnumber_of_plants\u001b[0m\u001b[0;34m,\u001b[0m \u001b[0;34m-\u001b[0m\u001b[0;36m1\u001b[0m\u001b[0;34m]\u001b[0m\u001b[0;34m,\u001b[0m \u001b[0mname\u001b[0m\u001b[0;34m=\u001b[0m\u001b[0;34m\"end--------\"\u001b[0m\u001b[0;34m)\u001b[0m\u001b[0;34m)\u001b[0m\u001b[0;34m\u001b[0m\u001b[0;34m\u001b[0m\u001b[0m\n",
      "\u001b[0;32m/tmp/ipykernel_16067/1665406942.py\u001b[0m in \u001b[0;36madd_model\u001b[0;34m(self, model)\u001b[0m\n\u001b[1;32m      7\u001b[0m         \u001b[0mmodel\u001b[0m\u001b[0;34m.\u001b[0m\u001b[0madd\u001b[0m\u001b[0;34m(\u001b[0m\u001b[0mlayers\u001b[0m\u001b[0;34m.\u001b[0m\u001b[0mConv2D\u001b[0m\u001b[0;34m(\u001b[0m\u001b[0;36m16\u001b[0m\u001b[0;34m,\u001b[0m \u001b[0mkernel_size\u001b[0m\u001b[0;34m=\u001b[0m\u001b[0;34m(\u001b[0m\u001b[0;36m2\u001b[0m\u001b[0;34m,\u001b[0m\u001b[0;36m1\u001b[0m\u001b[0;34m)\u001b[0m\u001b[0;34m,\u001b[0m \u001b[0mstrides\u001b[0m\u001b[0;34m=\u001b[0m\u001b[0;36m1\u001b[0m\u001b[0;34m,\u001b[0m \u001b[0mdata_format\u001b[0m\u001b[0;34m=\u001b[0m\u001b[0;34m\"channels_last\"\u001b[0m\u001b[0;34m,\u001b[0m \u001b[0mactivation\u001b[0m\u001b[0;34m=\u001b[0m\u001b[0;34m\"relu\"\u001b[0m\u001b[0;34m,\u001b[0m \u001b[0mpadding\u001b[0m\u001b[0;34m=\u001b[0m\u001b[0;34m\"same\"\u001b[0m\u001b[0;34m,\u001b[0m \u001b[0mdilation_rate\u001b[0m\u001b[0;34m=\u001b[0m\u001b[0;36m1\u001b[0m\u001b[0;34m)\u001b[0m\u001b[0;34m)\u001b[0m\u001b[0;34m\u001b[0m\u001b[0;34m\u001b[0m\u001b[0m\n\u001b[1;32m      8\u001b[0m         \u001b[0mmodel\u001b[0m\u001b[0;34m.\u001b[0m\u001b[0madd\u001b[0m\u001b[0;34m(\u001b[0m\u001b[0mlayers\u001b[0m\u001b[0;34m.\u001b[0m\u001b[0mLayerNormalization\u001b[0m\u001b[0;34m(\u001b[0m\u001b[0;34m)\u001b[0m\u001b[0;34m)\u001b[0m\u001b[0;34m\u001b[0m\u001b[0;34m\u001b[0m\u001b[0m\n\u001b[0;32m----> 9\u001b[0;31m         \u001b[0mmodel\u001b[0m\u001b[0;34m.\u001b[0m\u001b[0madd\u001b[0m\u001b[0;34m(\u001b[0m\u001b[0mGraphConv\u001b[0m\u001b[0;34m(\u001b[0m\u001b[0min_feats\u001b[0m\u001b[0;34m=\u001b[0m\u001b[0;36m16\u001b[0m\u001b[0;34m,\u001b[0m \u001b[0mout_feats\u001b[0m\u001b[0;34m=\u001b[0m\u001b[0;36m32\u001b[0m\u001b[0;34m,\u001b[0m \u001b[0mactivation\u001b[0m\u001b[0;34m=\u001b[0m\u001b[0;34m\"relu\"\u001b[0m\u001b[0;34m)\u001b[0m\u001b[0;34m)\u001b[0m\u001b[0;34m\u001b[0m\u001b[0;34m\u001b[0m\u001b[0m\n\u001b[0m\u001b[1;32m     10\u001b[0m         \u001b[0;31m# model.add(layers.Dense(self.OUT_STEPS, kernel_initializer=tf.initializers.zeros()))\u001b[0m\u001b[0;34m\u001b[0m\u001b[0;34m\u001b[0m\u001b[0;34m\u001b[0m\u001b[0m\n\u001b[1;32m     11\u001b[0m \u001b[0;34m\u001b[0m\u001b[0m\n",
      "\u001b[0;32m~/miniconda3/envs/thesis_torch/lib/python3.9/site-packages/tensorflow/python/training/tracking/base.py\u001b[0m in \u001b[0;36m_method_wrapper\u001b[0;34m(self, *args, **kwargs)\u001b[0m\n\u001b[1;32m    627\u001b[0m     \u001b[0mself\u001b[0m\u001b[0;34m.\u001b[0m\u001b[0m_self_setattr_tracking\u001b[0m \u001b[0;34m=\u001b[0m \u001b[0;32mFalse\u001b[0m  \u001b[0;31m# pylint: disable=protected-access\u001b[0m\u001b[0;34m\u001b[0m\u001b[0;34m\u001b[0m\u001b[0m\n\u001b[1;32m    628\u001b[0m     \u001b[0;32mtry\u001b[0m\u001b[0;34m:\u001b[0m\u001b[0;34m\u001b[0m\u001b[0;34m\u001b[0m\u001b[0m\n\u001b[0;32m--> 629\u001b[0;31m       \u001b[0mresult\u001b[0m \u001b[0;34m=\u001b[0m \u001b[0mmethod\u001b[0m\u001b[0;34m(\u001b[0m\u001b[0mself\u001b[0m\u001b[0;34m,\u001b[0m \u001b[0;34m*\u001b[0m\u001b[0margs\u001b[0m\u001b[0;34m,\u001b[0m \u001b[0;34m**\u001b[0m\u001b[0mkwargs\u001b[0m\u001b[0;34m)\u001b[0m\u001b[0;34m\u001b[0m\u001b[0;34m\u001b[0m\u001b[0m\n\u001b[0m\u001b[1;32m    630\u001b[0m     \u001b[0;32mfinally\u001b[0m\u001b[0;34m:\u001b[0m\u001b[0;34m\u001b[0m\u001b[0;34m\u001b[0m\u001b[0m\n\u001b[1;32m    631\u001b[0m       \u001b[0mself\u001b[0m\u001b[0;34m.\u001b[0m\u001b[0m_self_setattr_tracking\u001b[0m \u001b[0;34m=\u001b[0m \u001b[0mprevious_value\u001b[0m  \u001b[0;31m# pylint: disable=protected-access\u001b[0m\u001b[0;34m\u001b[0m\u001b[0;34m\u001b[0m\u001b[0m\n",
      "\u001b[0;32m~/miniconda3/envs/thesis_torch/lib/python3.9/site-packages/keras/utils/traceback_utils.py\u001b[0m in \u001b[0;36merror_handler\u001b[0;34m(*args, **kwargs)\u001b[0m\n\u001b[1;32m     65\u001b[0m     \u001b[0;32mexcept\u001b[0m \u001b[0mException\u001b[0m \u001b[0;32mas\u001b[0m \u001b[0me\u001b[0m\u001b[0;34m:\u001b[0m  \u001b[0;31m# pylint: disable=broad-except\u001b[0m\u001b[0;34m\u001b[0m\u001b[0;34m\u001b[0m\u001b[0m\n\u001b[1;32m     66\u001b[0m       \u001b[0mfiltered_tb\u001b[0m \u001b[0;34m=\u001b[0m \u001b[0m_process_traceback_frames\u001b[0m\u001b[0;34m(\u001b[0m\u001b[0me\u001b[0m\u001b[0;34m.\u001b[0m\u001b[0m__traceback__\u001b[0m\u001b[0;34m)\u001b[0m\u001b[0;34m\u001b[0m\u001b[0;34m\u001b[0m\u001b[0m\n\u001b[0;32m---> 67\u001b[0;31m       \u001b[0;32mraise\u001b[0m \u001b[0me\u001b[0m\u001b[0;34m.\u001b[0m\u001b[0mwith_traceback\u001b[0m\u001b[0;34m(\u001b[0m\u001b[0mfiltered_tb\u001b[0m\u001b[0;34m)\u001b[0m \u001b[0;32mfrom\u001b[0m \u001b[0;32mNone\u001b[0m\u001b[0;34m\u001b[0m\u001b[0;34m\u001b[0m\u001b[0m\n\u001b[0m\u001b[1;32m     68\u001b[0m     \u001b[0;32mfinally\u001b[0m\u001b[0;34m:\u001b[0m\u001b[0;34m\u001b[0m\u001b[0;34m\u001b[0m\u001b[0m\n\u001b[1;32m     69\u001b[0m       \u001b[0;32mdel\u001b[0m \u001b[0mfiltered_tb\u001b[0m\u001b[0;34m\u001b[0m\u001b[0;34m\u001b[0m\u001b[0m\n",
      "\u001b[0;32m~/miniconda3/envs/thesis_torch/lib/python3.9/site-packages/tensorflow/python/autograph/impl/api.py\u001b[0m in \u001b[0;36mwrapper\u001b[0;34m(*args, **kwargs)\u001b[0m\n\u001b[1;32m    690\u001b[0m       \u001b[0;32mexcept\u001b[0m \u001b[0mException\u001b[0m \u001b[0;32mas\u001b[0m \u001b[0me\u001b[0m\u001b[0;34m:\u001b[0m  \u001b[0;31m# pylint:disable=broad-except\u001b[0m\u001b[0;34m\u001b[0m\u001b[0;34m\u001b[0m\u001b[0m\n\u001b[1;32m    691\u001b[0m         \u001b[0;32mif\u001b[0m \u001b[0mhasattr\u001b[0m\u001b[0;34m(\u001b[0m\u001b[0me\u001b[0m\u001b[0;34m,\u001b[0m \u001b[0;34m'ag_error_metadata'\u001b[0m\u001b[0;34m)\u001b[0m\u001b[0;34m:\u001b[0m\u001b[0;34m\u001b[0m\u001b[0;34m\u001b[0m\u001b[0m\n\u001b[0;32m--> 692\u001b[0;31m           \u001b[0;32mraise\u001b[0m \u001b[0me\u001b[0m\u001b[0;34m.\u001b[0m\u001b[0mag_error_metadata\u001b[0m\u001b[0;34m.\u001b[0m\u001b[0mto_exception\u001b[0m\u001b[0;34m(\u001b[0m\u001b[0me\u001b[0m\u001b[0;34m)\u001b[0m\u001b[0;34m\u001b[0m\u001b[0;34m\u001b[0m\u001b[0m\n\u001b[0m\u001b[1;32m    693\u001b[0m         \u001b[0;32melse\u001b[0m\u001b[0;34m:\u001b[0m\u001b[0;34m\u001b[0m\u001b[0;34m\u001b[0m\u001b[0m\n\u001b[1;32m    694\u001b[0m           \u001b[0;32mraise\u001b[0m\u001b[0;34m\u001b[0m\u001b[0;34m\u001b[0m\u001b[0m\n",
      "\u001b[0;31mTypeError\u001b[0m: in user code:\n\n\n    TypeError: tf__call() missing 1 required positional argument: 'feat'\n"
     ]
    }
   ],
   "source": [
    "class Linear2(BaseTFModel):\n",
    "    def __init__(self, window):\n",
    "        super().__init__(window)\n",
    "\n",
    "    def add_model(self, model):\n",
    "        # temporal conv layer\n",
    "        model.add(layers.Conv2D(16, kernel_size=(2,1), strides=1, data_format=\"channels_last\", activation=\"relu\", padding=\"same\", dilation_rate=1))\n",
    "        model.add(layers.LayerNormalization())\n",
    "        model.add(GraphConv(in_feats=16, out_feats=32, activation=\"relu\"))\n",
    "        # model.add(layers.Dense(self.OUT_STEPS, kernel_initializer=tf.initializers.zeros()))\n",
    "        \n",
    "        # model.add(layers.Dense(self.OUT_STEPS, kernel_initializer=tf.initializers.zeros()))\n",
    "        # model.add(layers.Dropout(0.2))\n",
    "        return model\n",
    "    \n",
    "model = Linear2(window).model\n",
    "model.summary()"
   ]
  },
  {
   "cell_type": "code",
   "execution_count": null,
   "id": "e6cdd2bd-c0a6-4800-b454-696c6cba6b92",
   "metadata": {},
   "outputs": [],
   "source": []
  },
  {
   "cell_type": "code",
   "execution_count": null,
   "id": "d4576911-a438-4c54-9a51-a5c8a9713400",
   "metadata": {},
   "outputs": [],
   "source": []
  },
  {
   "cell_type": "code",
   "execution_count": null,
   "id": "b8af7195-1c2a-447a-9932-2a4dbc64b669",
   "metadata": {},
   "outputs": [],
   "source": []
  },
  {
   "cell_type": "code",
   "execution_count": null,
   "id": "b17e9cfe-a7c2-4ba9-b3a2-9d8e0d2b6352",
   "metadata": {},
   "outputs": [],
   "source": []
  },
  {
   "cell_type": "code",
   "execution_count": null,
   "id": "78c147af-18f1-4689-9307-931f1d3f669c",
   "metadata": {},
   "outputs": [],
   "source": []
  },
  {
   "cell_type": "code",
   "execution_count": null,
   "id": "35f6c2e1-2a60-4d59-a97b-b57cf244b740",
   "metadata": {},
   "outputs": [],
   "source": []
  },
  {
   "cell_type": "code",
   "execution_count": null,
   "id": "fa4c241d-27da-4175-a481-6031070bd17f",
   "metadata": {},
   "outputs": [],
   "source": []
  },
  {
   "cell_type": "code",
   "execution_count": 3,
   "id": "3646a487-2aeb-4859-aa66-7fdd50dbf8d6",
   "metadata": {},
   "outputs": [],
   "source": [
    "%load_ext autoreload\n",
    "%autoreload 2"
   ]
  },
  {
   "cell_type": "code",
   "execution_count": 4,
   "id": "7437eadd-a136-4496-81ca-32ad59349f1e",
   "metadata": {},
   "outputs": [],
   "source": [
    "import subprocess; FOLDER_PATH = subprocess.Popen(['git', 'rev-parse', '--show-toplevel'], stdout=subprocess.PIPE).communicate()[0].rstrip().decode('utf-8')\n",
    "import warnings; warnings.filterwarnings(\"ignore\")\n",
    "import sys, os; sys.path.append(os.path.dirname(f'{FOLDER_PATH}/utils')); sys.path.append(os.path.dirname(f'{FOLDER_PATH}/scripts'))"
   ]
  },
  {
   "cell_type": "code",
   "execution_count": 8,
   "id": "e77a59f0-52ab-4389-9af5-51643b5df571",
   "metadata": {},
   "outputs": [
    {
     "ename": "ModuleNotFoundError",
     "evalue": "No module named 'dgl.nn.pytorch'",
     "output_type": "error",
     "traceback": [
      "\u001b[0;31m---------------------------------------------------------------------------\u001b[0m",
      "\u001b[0;31mModuleNotFoundError\u001b[0m                       Traceback (most recent call last)",
      "\u001b[0;32m/tmp/ipykernel_16067/3255439272.py\u001b[0m in \u001b[0;36m<module>\u001b[0;34m\u001b[0m\n\u001b[1;32m      2\u001b[0m \u001b[0;34m\u001b[0m\u001b[0m\n\u001b[1;32m      3\u001b[0m \u001b[0;32mfrom\u001b[0m \u001b[0mutils\u001b[0m\u001b[0;34m.\u001b[0m\u001b[0mbase_helpers\u001b[0m \u001b[0;32mimport\u001b[0m \u001b[0mread_data\u001b[0m\u001b[0;34m,\u001b[0m \u001b[0msplit_data\u001b[0m\u001b[0;34m,\u001b[0m \u001b[0mscale_data\u001b[0m\u001b[0;34m,\u001b[0m \u001b[0mexpand_data\u001b[0m\u001b[0;34m\u001b[0m\u001b[0;34m\u001b[0m\u001b[0m\n\u001b[0;32m----> 4\u001b[0;31m \u001b[0;32mfrom\u001b[0m \u001b[0mutils\u001b[0m\u001b[0;34m.\u001b[0m\u001b[0mdgl_helpers\u001b[0m \u001b[0;32mimport\u001b[0m \u001b[0mSTGCN_WAVE\u001b[0m\u001b[0;34m\u001b[0m\u001b[0;34m\u001b[0m\u001b[0m\n\u001b[0m\u001b[1;32m      5\u001b[0m \u001b[0;32mfrom\u001b[0m \u001b[0mutils\u001b[0m\u001b[0;34m.\u001b[0m\u001b[0mtf_helpers\u001b[0m \u001b[0;32mimport\u001b[0m \u001b[0mWindowGenerator\u001b[0m\u001b[0;34m\u001b[0m\u001b[0;34m\u001b[0m\u001b[0m\n\u001b[1;32m      6\u001b[0m \u001b[0;34m\u001b[0m\u001b[0m\n",
      "\u001b[0;32m~/Desktop/thesis/utils/dgl_helpers.py\u001b[0m in \u001b[0;36m<module>\u001b[0;34m\u001b[0m\n\u001b[1;32m     10\u001b[0m \u001b[0;32mimport\u001b[0m \u001b[0mtorch\u001b[0m\u001b[0;34m.\u001b[0m\u001b[0mnn\u001b[0m \u001b[0;32mas\u001b[0m \u001b[0mnn\u001b[0m\u001b[0;34m\u001b[0m\u001b[0;34m\u001b[0m\u001b[0m\n\u001b[1;32m     11\u001b[0m \u001b[0;32mimport\u001b[0m \u001b[0mtorch\u001b[0m\u001b[0;34m.\u001b[0m\u001b[0mnn\u001b[0m\u001b[0;34m.\u001b[0m\u001b[0mfunctional\u001b[0m \u001b[0;32mas\u001b[0m \u001b[0mF\u001b[0m\u001b[0;34m\u001b[0m\u001b[0;34m\u001b[0m\u001b[0m\n\u001b[0;32m---> 12\u001b[0;31m \u001b[0;32mfrom\u001b[0m \u001b[0mdgl\u001b[0m\u001b[0;34m.\u001b[0m\u001b[0mnn\u001b[0m\u001b[0;34m.\u001b[0m\u001b[0mpytorch\u001b[0m \u001b[0;32mimport\u001b[0m \u001b[0mGraphConv\u001b[0m\u001b[0;34m\u001b[0m\u001b[0;34m\u001b[0m\u001b[0m\n\u001b[0m\u001b[1;32m     13\u001b[0m \u001b[0;34m\u001b[0m\u001b[0m\n\u001b[1;32m     14\u001b[0m \u001b[0;32mclass\u001b[0m \u001b[0mTemporalConvLayer\u001b[0m\u001b[0;34m(\u001b[0m\u001b[0mnn\u001b[0m\u001b[0;34m.\u001b[0m\u001b[0mModule\u001b[0m\u001b[0;34m)\u001b[0m\u001b[0;34m:\u001b[0m\u001b[0;34m\u001b[0m\u001b[0;34m\u001b[0m\u001b[0m\n",
      "\u001b[0;31mModuleNotFoundError\u001b[0m: No module named 'dgl.nn.pytorch'"
     ]
    }
   ],
   "source": [
    "# os.environ[\"DGLBACKEND\"] = \"pytorch\"\n",
    "\n",
    "from utils.base_helpers import read_data, split_data, scale_data, expand_data\n",
    "from utils.dgl_helpers import STGCN_WAVE\n",
    "from utils.tf_helpers import WindowGenerator\n",
    "\n",
    "import pandas as pd\n",
    "import torch.nn as nn\n",
    "import torch\n",
    "\n",
    "import scipy.sparse as sp\n",
    "import dgl\n",
    "import numpy as np\n",
    "import tensorflow as tf"
   ]
  },
  {
   "cell_type": "code",
   "execution_count": 9,
   "id": "c5df2a1f-3a64-49b8-b653-f1715c400815",
   "metadata": {},
   "outputs": [
    {
     "name": "stdout",
     "output_type": "stream",
     "text": [
      "Selected plants:\n",
      " [968, 969, 1484, 1507, 1518]\n",
      "Train start and end dates:\t 2019-01-26 03:00:00 \t 2021-06-22 09:00:00\n",
      "Validation start and end dates:\t 2021-06-22 10:00:00 \t 2021-10-10 04:00:00\n",
      "Test start and end dates:\t 2021-10-10 05:00:00 \t 2022-01-27 23:00:00\n"
     ]
    }
   ],
   "source": [
    "df, plants = read_data(generate_speed_angle=True, add_lagged=True, number_of_plants=5)\n",
    "train_df, valid_df, test_df = split_data(df, train_ratio=0.8, valid_ratio=0.1)\n",
    "train_df2, valid_df2, test_df2 = expand_data(train_df, valid_df, test_df)\n",
    "train_df3, valid_df3, test_df3 = scale_data(train_df2, valid_df2, test_df2, plants, scaler=\"minmax\")"
   ]
  },
  {
   "cell_type": "code",
   "execution_count": 15,
   "id": "c7e18033-b10c-48b8-90cc-f9ea32fb12d0",
   "metadata": {},
   "outputs": [],
   "source": [
    "import pandas as pd\n",
    "import scipy.sparse as sp\n",
    "import dgl"
   ]
  },
  {
   "cell_type": "code",
   "execution_count": 26,
   "id": "8f6a9718-55c3-4935-b84e-c2f4f398c7fe",
   "metadata": {},
   "outputs": [],
   "source": [
    "def generate_adjacency_matrix(df, threshold=0.5):    \n",
    "    data = df.reset_index()[[\"forecast_dt\", \"rt_plant_id\", \"production\"]]\n",
    "    data = pd.pivot_table(data, index=\"forecast_dt\", columns=\"rt_plant_id\", values=\"production\")\n",
    "\n",
    "    A = abs(data.corr())\n",
    "    A = A[A > threshold].fillna(0)\n",
    "    return A\n",
    "\n",
    "adj = generate_adjacency_matrix(train_df)\n",
    "sp_mx = sp.coo_matrix(adj)\n",
    "G = dgl.from_scipy(sp_mx, eweight_name=\"weight\")"
   ]
  },
  {
   "cell_type": "code",
   "execution_count": null,
   "id": "db83de61-b4e7-4c20-acd1-bf46a2eff530",
   "metadata": {},
   "outputs": [],
   "source": [
    "blocks = [17, 64, 32, 64, 32, 128]\n",
    "lr = 0.001\n",
    "n_window = 2 * 24\n",
    "n_ahead = 1\n",
    "num_nodes = train_df.rt_plant_id.nunique()"
   ]
  },
  {
   "cell_type": "code",
   "execution_count": null,
   "id": "105f7ee7-9ac0-4584-85c9-90c639bfc6fb",
   "metadata": {},
   "outputs": [],
   "source": [
    "loss = nn.MSELoss()\n",
    "# device=torch.device(\"cuda\")\n",
    "device=torch.device(\"cpu\")\n",
    "G = G.to(device)\n",
    "model = STGCN_WAVE(blocks, n_window, num_nodes, G, device=device).to(device)\n",
    "\n",
    "optimizer = torch.optim.RMSprop(model.parameters(), lr=lr)\n",
    "scheduler = torch.optim.lr_scheduler.StepLR(optimizer, step_size=5, gamma=0.7)"
   ]
  },
  {
   "cell_type": "code",
   "execution_count": 17,
   "id": "b584d074-b696-4803-a589-3cd51994ed34",
   "metadata": {},
   "outputs": [
    {
     "data": {
      "text/plain": [
       "Total window size: 30\n",
       "Input indices: [ 0  1  2  3  4  5  6  7  8  9 10 11 12 13 14 15 16 17 18 19 20 21 22 23\n",
       " 24 25 26 27 28 29]\n",
       "Label indices: [ 6  7  8  9 10 11 12 13 14 15 16 17 18 19 20 21 22 23 24 25 26 27 28 29]\n",
       "Label column name(s): ['production']"
      ]
     },
     "execution_count": 18,
     "metadata": {},
     "output_type": "execute_result"
    }
   ],
   "source": [
    "from utils.tf_helpers import WindowGenerator\n",
    "\n",
    "OUT_STEPS = 24\n",
    "INPUT_WIDTH = 30\n",
    "SHIFT=0\n",
    "\n",
    "window = WindowGenerator(\n",
    "    train_df=train_df3, valid_df=valid_df3, test_df=test_df3, \n",
    "    columns=[col for col in train_df.columns if col != \"rt_plant_id\"],\n",
    "    input_width=INPUT_WIDTH, label_width=OUT_STEPS, shift=SHIFT, label_columns=[\"production\"])\n",
    "window"
   ]
  },
  {
   "cell_type": "code",
   "execution_count": null,
   "id": "a47f0d05-dfd4-4dd3-8fba-ca6bd00e344f",
   "metadata": {},
   "outputs": [],
   "source": [
    "train_iterator = list(window.train.as_numpy_iterator())\n",
    "valid_iterator = list(window.valid.as_numpy_iterator())\n",
    "test_iterator = list(window.test.as_numpy_iterator())\n",
    "\n",
    "X_train = np.concatenate([_[0] for _ in train_iterator])\n",
    "y_train = np.concatenate([_[1] for _ in train_iterator])\n",
    "X_valid = np.concatenate([_[0] for _ in valid_iterator])\n",
    "y_valid = np.concatenate([_[1] for _ in valid_iterator])\n",
    "X_test = np.concatenate([_[0] for _ in test_iterator])\n",
    "y_test = np.concatenate([_[1] for _ in test_iterator])\n",
    "\n",
    "print(X_train.shape,  y_train.shape)\n",
    "print(X_valid.shape,  y_valid.shape)\n",
    "print(X_test.shape,  y_test.shape)\n",
    "\n",
    "permute_ = (0,2,3,1)\n",
    "permute_ = (0,3,1,2)\n",
    "\n",
    "X_train = torch.from_numpy(X_train).permute(permute_)\n",
    "y_train = torch.from_numpy(y_train).permute(permute_)\n",
    "X_valid = torch.from_numpy(X_valid).permute(permute_)\n",
    "y_valid = torch.from_numpy(y_valid).permute(permute_)\n",
    "X_test = torch.from_numpy(X_test).permute(permute_)\n",
    "y_test = torch.from_numpy(y_test).permute(permute_)\n",
    "\n",
    "print(X_train.shape,  y_train.shape)\n",
    "print(X_valid.shape,  y_valid.shape)\n",
    "print(X_test.shape,  y_test.shape)\n",
    "\n",
    "batch_size = 50\n",
    "train_data = torch.utils.data.TensorDataset(X_train, y_train)\n",
    "train_iter = torch.utils.data.DataLoader(train_data, batch_size)\n",
    "valid_data = torch.utils.data.TensorDataset(X_valid, y_valid)\n",
    "valid_iter = torch.utils.data.DataLoader(valid_data, batch_size)\n",
    "test_data = torch.utils.data.TensorDataset(X_test, y_test)\n",
    "test_iter = torch.utils.data.DataLoader(test_data, batch_size)"
   ]
  },
  {
   "cell_type": "code",
   "execution_count": null,
   "id": "2cd4e2aa-f1bc-4da6-ba30-6ef8c51ae41b",
   "metadata": {},
   "outputs": [],
   "source": [
    "save_path = \"stgcnwavemodel.pt\"\n",
    "epochs = 5\n",
    "\n",
    "def evaluate_model(model, loss, data_iter):\n",
    "    model.eval()\n",
    "    l_sum, n = 0.0, 0\n",
    "    with torch.no_grad():\n",
    "        for x, y in data_iter:\n",
    "            y_pred = model(x).view(len(x), -1)\n",
    "            l = loss(y_pred, y)\n",
    "            l_sum += l.item() * y.shape[0]\n",
    "            n += y.shape[0]\n",
    "        return l_sum / n\n",
    "\n",
    "\n",
    "def evaluate_metric(model, data_iter, scaler):\n",
    "    model.eval()\n",
    "    with torch.no_grad():\n",
    "        mae, mape, mse = [], [], []\n",
    "        for x, y in data_iter:\n",
    "            y = scaler.inverse_transform(y.cpu().numpy()).reshape(-1)\n",
    "            y_pred = scaler.inverse_transform(model(x).view(len(x), -1).cpu().numpy()).reshape(-1)\n",
    "            d = np.abs(y - y_pred)\n",
    "            mae += d.tolist()\n",
    "            mape += (d / y).tolist()\n",
    "            mse += (d ** 2).tolist()\n",
    "        MAE = np.array(mae).mean()\n",
    "        MAPE = np.array(mape).mean()\n",
    "        RMSE = np.sqrt(np.array(mse).mean())\n",
    "        return MAE, MAPE, RMSE"
   ]
  },
  {
   "cell_type": "code",
   "execution_count": null,
   "id": "06f2e66a-915f-4f77-89f6-c6668d6cef2b",
   "metadata": {},
   "outputs": [],
   "source": [
    "from time import time\n",
    "min_val_loss = np.inf\n",
    "\n",
    "for epoch in range(1, epochs + 1):\n",
    "    l_sum, n = 0.0, 0\n",
    "    model.train()\n",
    "    t_ = time()\n",
    "    for x, y in train_iter:\n",
    "        y_pred = model(x).view(len(x), -1)\n",
    "        l = loss(y_pred, y)\n",
    "        optimizer.zero_grad()\n",
    "        l.backward()\n",
    "        optimizer.step()\n",
    "        l_sum += l.item() * y.shape[0]\n",
    "        n += y.shape[0]\n",
    "    scheduler.step()\n",
    "    val_loss = evaluate_model(model, loss, val_iter)\n",
    "    if val_loss < min_val_loss:\n",
    "        min_val_loss = val_loss\n",
    "        torch.save(model.state_dict(), save_path)\n",
    "    print(\"epoch\", epoch, \", time:\", round(time() - t_, 2),  \", train loss:\", l_sum / n, \", validation loss:\", val_loss)\n",
    "\n",
    "    "
   ]
  },
  {
   "cell_type": "code",
   "execution_count": null,
   "id": "6ad345a1-b459-41c0-befa-403e2b215ee2",
   "metadata": {},
   "outputs": [],
   "source": []
  },
  {
   "cell_type": "code",
   "execution_count": null,
   "id": "165b3a70-1f9a-4512-aead-295fb72b792f",
   "metadata": {},
   "outputs": [],
   "source": []
  },
  {
   "cell_type": "code",
   "execution_count": null,
   "id": "b5b7a833-1fa9-4934-b29d-7e977aea132d",
   "metadata": {},
   "outputs": [],
   "source": []
  },
  {
   "cell_type": "code",
   "execution_count": null,
   "id": "cc8734e3-6cb1-4c18-b343-830b0c7ed2b1",
   "metadata": {},
   "outputs": [],
   "source": []
  },
  {
   "cell_type": "code",
   "execution_count": null,
   "id": "c88e81b2-1a04-4ae5-b1e3-66c87552031c",
   "metadata": {},
   "outputs": [],
   "source": []
  },
  {
   "cell_type": "code",
   "execution_count": null,
   "id": "4e0f0ac0-30e6-4c67-992b-30f1c3067b7a",
   "metadata": {},
   "outputs": [],
   "source": []
  },
  {
   "cell_type": "code",
   "execution_count": null,
   "id": "a27625be-5d02-4132-8431-f36cc7d96b83",
   "metadata": {},
   "outputs": [],
   "source": []
  },
  {
   "cell_type": "code",
   "execution_count": null,
   "id": "57e08fbb-1bf1-457d-8ec0-1913556fda6d",
   "metadata": {},
   "outputs": [],
   "source": []
  },
  {
   "cell_type": "code",
   "execution_count": null,
   "id": "3eb8b2cd-5222-4d4f-a5bb-dfa51aa27308",
   "metadata": {},
   "outputs": [],
   "source": []
  },
  {
   "cell_type": "code",
   "execution_count": null,
   "id": "89a487ca-f2b4-464f-973e-cd34f2403ce5",
   "metadata": {},
   "outputs": [],
   "source": []
  },
  {
   "cell_type": "code",
   "execution_count": null,
   "id": "19b07991-67cd-4e22-89ae-fe845ca6c0f1",
   "metadata": {},
   "outputs": [],
   "source": []
  },
  {
   "cell_type": "code",
   "execution_count": null,
   "id": "fc462fff-85b7-454b-bebf-0b7ffe6c5f20",
   "metadata": {},
   "outputs": [],
   "source": []
  },
  {
   "cell_type": "code",
   "execution_count": null,
   "id": "fc3bf810-18be-4495-afca-27b5451c7216",
   "metadata": {},
   "outputs": [],
   "source": []
  },
  {
   "cell_type": "code",
   "execution_count": null,
   "id": "bee3cec9-85e9-4fc8-b77c-902de108efa1",
   "metadata": {},
   "outputs": [],
   "source": [
    "# !pip install tensorflow"
   ]
  },
  {
   "cell_type": "code",
   "execution_count": null,
   "id": "d98443cc-6a59-472c-aa9b-ce56f2d0279b",
   "metadata": {},
   "outputs": [],
   "source": []
  },
  {
   "cell_type": "code",
   "execution_count": null,
   "id": "408cc446-3e56-4f30-8a98-df5203139755",
   "metadata": {},
   "outputs": [],
   "source": [
    "OUT_STEPS = 24\n",
    "INPUT_WIDTH = 30\n",
    "SHIFT=0\n",
    "\n",
    "window = WindowGenerator(\n",
    "    train_df=train_df3, valid_df=valid_df3, test_df=test_df3, \n",
    "    columns=[col for col in train_df.columns if col != \"rt_plant_id\"],\n",
    "    input_width=INPUT_WIDTH, label_width=OUT_STEPS, shift=SHIFT, label_columns=[\"production\"])\n",
    "window"
   ]
  },
  {
   "cell_type": "code",
   "execution_count": null,
   "id": "5839dc57-5af4-4f4f-a453-dcabcb990bb5",
   "metadata": {},
   "outputs": [],
   "source": []
  },
  {
   "cell_type": "code",
   "execution_count": null,
   "id": "1a5b8635-3846-45d9-9282-13c5b340e8e4",
   "metadata": {},
   "outputs": [],
   "source": []
  },
  {
   "cell_type": "code",
   "execution_count": null,
   "id": "8f65b37b-9688-4080-a001-49b219b06611",
   "metadata": {},
   "outputs": [],
   "source": []
  },
  {
   "cell_type": "code",
   "execution_count": null,
   "id": "aa44ec8c-7bc1-44cd-a140-b3ba67f36902",
   "metadata": {},
   "outputs": [],
   "source": []
  },
  {
   "cell_type": "code",
   "execution_count": null,
   "id": "a6343860-96f9-4944-9a0c-1dbf23d87a59",
   "metadata": {},
   "outputs": [],
   "source": []
  },
  {
   "cell_type": "code",
   "execution_count": null,
   "id": "7978cf7a-2b1d-484c-b628-1a4b526274c3",
   "metadata": {},
   "outputs": [],
   "source": []
  },
  {
   "cell_type": "code",
   "execution_count": null,
   "id": "f34abef6-a0db-4623-84e9-17d3b3d5c91a",
   "metadata": {},
   "outputs": [],
   "source": []
  },
  {
   "cell_type": "code",
   "execution_count": null,
   "id": "a1b87b5a-c927-4091-b967-07f04c4da348",
   "metadata": {},
   "outputs": [],
   "source": []
  },
  {
   "cell_type": "code",
   "execution_count": null,
   "id": "c837d78e-fcf1-45ac-9b3b-b7a12cb99d38",
   "metadata": {},
   "outputs": [],
   "source": []
  },
  {
   "cell_type": "code",
   "execution_count": null,
   "id": "7480b241-4e26-41a1-a429-211ac2264bee",
   "metadata": {},
   "outputs": [],
   "source": []
  },
  {
   "cell_type": "code",
   "execution_count": null,
   "id": "ec018c0a-6609-40c9-906d-8124fbf10605",
   "metadata": {},
   "outputs": [],
   "source": []
  }
 ],
 "metadata": {
  "kernelspec": {
   "display_name": "Python 3 (ipykernel)",
   "language": "python",
   "name": "python3"
  },
  "language_info": {
   "codemirror_mode": {
    "name": "ipython",
    "version": 3
   },
   "file_extension": ".py",
   "mimetype": "text/x-python",
   "name": "python",
   "nbconvert_exporter": "python",
   "pygments_lexer": "ipython3",
   "version": "3.9.0"
  }
 },
 "nbformat": 4,
 "nbformat_minor": 5
}
