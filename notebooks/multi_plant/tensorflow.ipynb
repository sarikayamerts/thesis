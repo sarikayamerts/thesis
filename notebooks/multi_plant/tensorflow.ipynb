{
 "cells": [
  {
   "cell_type": "markdown",
   "id": "3b0fd067-56f4-4405-bb46-00ec6607a4c3",
   "metadata": {},
   "source": [
    "#### Observations\n",
    "- single plant ve multi plantte aynı model kurunca number of parameters değişmiyor, yani multi plantte her planti aynı weightlerle çarpıyor, bunun sonucu olarak da single plantte gelen wmapeler multi de gelemiyor, dense case'i için, CNN performansı fena değil\n",
    "- convolution hem 1 plantte hem multiple plantte çalışabiliyor, biz 5 kernel size tanımlarken nasıl tek plantte çalışabiliyor bunu iyi anla"
   ]
  },
  {
   "cell_type": "code",
   "execution_count": 1,
   "id": "c744d886-4080-478d-98ff-107f78587a6f",
   "metadata": {
    "tags": []
   },
   "outputs": [],
   "source": [
    "%load_ext autoreload\n",
    "%autoreload 2"
   ]
  },
  {
   "cell_type": "code",
   "execution_count": 2,
   "id": "8028b7be-6579-4425-aaf8-50fc407cec64",
   "metadata": {},
   "outputs": [],
   "source": [
    "import subprocess; FOLDER_PATH = subprocess.Popen(['git', 'rev-parse', '--show-toplevel'], stdout=subprocess.PIPE).communicate()[0].rstrip().decode('utf-8')\n",
    "import warnings; warnings.filterwarnings(\"ignore\")\n",
    "import sys, os; sys.path.append(os.path.dirname(f'{FOLDER_PATH}/utils')); sys.path.append(os.path.dirname(f'{FOLDER_PATH}/scripts'))"
   ]
  },
  {
   "cell_type": "code",
   "execution_count": 3,
   "id": "db54687e-c884-4143-a644-472330d60e80",
   "metadata": {},
   "outputs": [
    {
     "name": "stderr",
     "output_type": "stream",
     "text": [
      "2022-04-19 23:02:08.776306: W tensorflow/stream_executor/platform/default/dso_loader.cc:64] Could not load dynamic library 'libcudart.so.11.0'; dlerror: libcudart.so.11.0: cannot open shared object file: No such file or directory\n",
      "2022-04-19 23:02:08.776324: I tensorflow/stream_executor/cuda/cudart_stub.cc:29] Ignore above cudart dlerror if you do not have a GPU set up on your machine.\n",
      "2022-04-19 23:02:14.690073: E tensorflow/stream_executor/cuda/cuda_driver.cc:271] failed call to cuInit: CUDA_ERROR_NO_DEVICE: no CUDA-capable device is detected\n",
      "2022-04-19 23:02:14.690095: I tensorflow/stream_executor/cuda/cuda_diagnostics.cc:156] kernel driver does not appear to be running on this host (algopoly): /proc/driver/nvidia/version does not exist\n"
     ]
    }
   ],
   "source": [
    "import tensorflow as tf\n",
    "from tensorflow.keras import models, layers\n",
    "from utils.base_helpers import read_data, split_data, scale_data, plot_metrics\n",
    "from utils.tf_helpers import WindowGenerator, compile_and_fit, calculate_plantwise_wmape, plot_plantwise_predictions\n",
    "from scripts.tf_models import BaseTFModel"
   ]
  },
  {
   "cell_type": "code",
   "execution_count": 4,
   "id": "92c7f409-9874-42ea-9d45-ddd4fa73ca8a",
   "metadata": {},
   "outputs": [
    {
     "name": "stdout",
     "output_type": "stream",
     "text": [
      "Selected plants:\n",
      " [969]\n",
      "Train start and end dates:\t 2019-01-26 03:00:00 \t 2021-06-22 09:00:00\n",
      "Validation start and end dates:\t 2021-06-22 10:00:00 \t 2021-10-10 04:00:00\n",
      "Test start and end dates:\t 2021-10-10 05:00:00 \t 2022-01-27 23:00:00\n"
     ]
    }
   ],
   "source": [
    "df = read_data(generate_speed_angle=True, add_lagged=True, number_of_plants=1)\n",
    "train_df, valid_df, test_df = split_data(df, train_ratio=0.8, valid_ratio=0.1)\n",
    "train_df, valid_df, test_df = scale_data(train_df, valid_df, test_df, scaler=\"minmax\", expand=True)"
   ]
  },
  {
   "cell_type": "code",
   "execution_count": 5,
   "id": "487962c6-83d8-40bd-b1c9-725f30604521",
   "metadata": {},
   "outputs": [
    {
     "data": {
      "text/plain": [
       "Total window size: 30\n",
       "Input indices: [ 0  1  2  3  4  5  6  7  8  9 10 11 12 13 14 15 16 17 18 19 20 21 22 23\n",
       " 24 25 26 27 28 29]\n",
       "Label indices: [ 6  7  8  9 10 11 12 13 14 15 16 17 18 19 20 21 22 23 24 25 26 27 28 29]\n",
       "Label column name(s): ['production']"
      ]
     },
     "execution_count": 5,
     "metadata": {},
     "output_type": "execute_result"
    }
   ],
   "source": [
    "OUT_STEPS = 24\n",
    "INPUT_WIDTH = 30\n",
    "\n",
    "window = WindowGenerator(\n",
    "    train_df=train_df, valid_df=valid_df, test_df=test_df, \n",
    "    columns=[col for col in df.columns if col != \"rt_plant_id\"],\n",
    "    input_width=INPUT_WIDTH, label_width=OUT_STEPS, shift=0, label_columns=[\"production\"])\n",
    "window"
   ]
  },
  {
   "cell_type": "code",
   "execution_count": 6,
   "id": "d9bb6614-6eee-4399-9775-a7c1dad18919",
   "metadata": {},
   "outputs": [],
   "source": [
    "val_performance = {}\n",
    "performance = {}"
   ]
  },
  {
   "cell_type": "markdown",
   "id": "0d32c730-df15-4eed-bfe9-603319f49608",
   "metadata": {},
   "source": [
    "# Dense"
   ]
  },
  {
   "cell_type": "markdown",
   "id": "52313e5d-ebdf-4442-88fa-f3c4b98b32e4",
   "metadata": {},
   "source": [
    "## Linear2"
   ]
  },
  {
   "cell_type": "code",
   "execution_count": 32,
   "id": "7f52868c-001c-47e6-be21-735527c50c14",
   "metadata": {},
   "outputs": [
    {
     "name": "stdout",
     "output_type": "stream",
     "text": [
      "Model: \"sequential_4\"\n",
      "_________________________________________________________________\n",
      " Layer (type)                Output Shape              Param #   \n",
      "=================================================================\n",
      " start------ (Permute)       (None, 30, 1, 17)         0         \n",
      "                                                                 \n",
      " dense_6 (Dense)             (None, 30, 1, 24)         432       \n",
      "                                                                 \n",
      " dropout_2 (Dropout)         (None, 30, 1, 24)         0         \n",
      "                                                                 \n",
      " end-------- (Reshape)       (None, 1, 720)            0         \n",
      "                                                                 \n",
      " dense_7 (Dense)             (None, 1, 24)             17304     \n",
      "                                                                 \n",
      " permute_13 (Permute)        (None, 24, 1)             0         \n",
      "                                                                 \n",
      " reshape_5 (Reshape)         (None, 24, 1, 1)          0         \n",
      "                                                                 \n",
      "=================================================================\n",
      "Total params: 17,736\n",
      "Trainable params: 17,736\n",
      "Non-trainable params: 0\n",
      "_________________________________________________________________\n"
     ]
    }
   ],
   "source": [
    "class Linear2(BaseTFModel):\n",
    "    def __init__(self, window):\n",
    "        super().__init__(window)\n",
    "\n",
    "    def add_model(self, model):\n",
    "        model.add(layers.Dense(self.OUT_STEPS, kernel_initializer=tf.initializers.zeros()))\n",
    "        model.add(layers.Dropout(0.2))\n",
    "        return model\n",
    "    \n",
    "model = Linear2(window).model\n",
    "model.summary()"
   ]
  },
  {
   "cell_type": "code",
   "execution_count": 33,
   "id": "555fecaf",
   "metadata": {},
   "outputs": [
    {
     "name": "stdout",
     "output_type": "stream",
     "text": [
      "Model: \"sequential_5\"\n",
      "_________________________________________________________________\n",
      " Layer (type)                Output Shape              Param #   \n",
      "=================================================================\n",
      " start------ (Permute)       (None, 30, 1, 17)         0         \n",
      "                                                                 \n",
      " permute_14 (Permute)        (None, 1, 30, 17)         0         \n",
      "                                                                 \n",
      " dense_8 (Dense)             (None, 1, 30, 16)         288       \n",
      "                                                                 \n",
      " dropout_3 (Dropout)         (None, 1, 30, 16)         0         \n",
      "                                                                 \n",
      " end-------- (Reshape)       (None, 1, 480)            0         \n",
      "                                                                 \n",
      " dense_9 (Dense)             (None, 1, 24)             11544     \n",
      "                                                                 \n",
      " permute_15 (Permute)        (None, 24, 1)             0         \n",
      "                                                                 \n",
      " reshape_6 (Reshape)         (None, 24, 1, 1)          0         \n",
      "                                                                 \n",
      "=================================================================\n",
      "Total params: 11,832\n",
      "Trainable params: 11,832\n",
      "Non-trainable params: 0\n",
      "_________________________________________________________________\n"
     ]
    }
   ],
   "source": [
    "class Linear3(BaseTFModel):\n",
    "    def __init__(self, window):\n",
    "        super().__init__(window)\n",
    "\n",
    "    def add_model(self, model):\n",
    "        model.add(layers.Permute((2,1,3)))\n",
    "        model.add(layers.Dense(16, kernel_initializer=tf.initializers.zeros()))\n",
    "        model.add(layers.Dropout(0.2))\n",
    "        return model\n",
    "    \n",
    "model = Linear3(window).model\n",
    "model.summary()"
   ]
  },
  {
   "cell_type": "code",
   "execution_count": 35,
   "id": "ab93dfc2-c9da-4a9c-9f5a-fd524828105f",
   "metadata": {
    "tags": []
   },
   "outputs": [
    {
     "name": "stdout",
     "output_type": "stream",
     "text": [
      "Epoch 1/10\n",
      "\n",
      "Epoch 1: val_wmape improved from inf to 0.25349, saving model to /home/mert/Desktop/thesis/artifacts/checkpoint\n",
      "329/329 - 2s - loss: 0.0246 - wmape: 0.3715 - val_loss: 0.0189 - val_wmape: 0.2535 - 2s/epoch - 5ms/step\n",
      "Epoch 2/10\n",
      "\n",
      "Epoch 2: val_wmape did not improve from 0.25349\n",
      "329/329 - 0s - loss: 0.0242 - wmape: 0.3691 - val_loss: 0.0204 - val_wmape: 0.2594 - 450ms/epoch - 1ms/step\n",
      "Epoch 3/10\n",
      "\n",
      "Epoch 3: val_wmape improved from 0.25349 to 0.24417, saving model to /home/mert/Desktop/thesis/artifacts/checkpoint\n",
      "329/329 - 0s - loss: 0.0241 - wmape: 0.3674 - val_loss: 0.0176 - val_wmape: 0.2442 - 454ms/epoch - 1ms/step\n",
      "Epoch 4/10\n",
      "\n",
      "Epoch 4: val_wmape did not improve from 0.24417\n",
      "329/329 - 0s - loss: 0.0239 - wmape: 0.3657 - val_loss: 0.0186 - val_wmape: 0.2487 - 419ms/epoch - 1ms/step\n",
      "Epoch 5/10\n",
      "\n",
      "Epoch 5: val_wmape did not improve from 0.24417\n",
      "329/329 - 0s - loss: 0.0239 - wmape: 0.3655 - val_loss: 0.0177 - val_wmape: 0.2455 - 447ms/epoch - 1ms/step\n",
      "Epoch 6/10\n",
      "\n",
      "Epoch 6: val_wmape did not improve from 0.24417\n",
      "329/329 - 0s - loss: 0.0237 - wmape: 0.3653 - val_loss: 0.0205 - val_wmape: 0.2596 - 414ms/epoch - 1ms/step\n",
      "Epoch 7/10\n",
      "\n",
      "Epoch 7: val_wmape did not improve from 0.24417\n",
      "329/329 - 0s - loss: 0.0236 - wmape: 0.3640 - val_loss: 0.0215 - val_wmape: 0.2667 - 413ms/epoch - 1ms/step\n",
      "Epoch 8/10\n",
      "\n",
      "Epoch 8: val_wmape did not improve from 0.24417\n",
      "329/329 - 0s - loss: 0.0236 - wmape: 0.3638 - val_loss: 0.0204 - val_wmape: 0.2591 - 451ms/epoch - 1ms/step\n",
      "Epoch 9/10\n",
      "\n",
      "Epoch 9: val_wmape did not improve from 0.24417\n",
      "329/329 - 0s - loss: 0.0234 - wmape: 0.3632 - val_loss: 0.0182 - val_wmape: 0.2462 - 444ms/epoch - 1ms/step\n",
      "Epoch 10/10\n",
      "\n",
      "Epoch 10: val_wmape improved from 0.24417 to 0.24139, saving model to /home/mert/Desktop/thesis/artifacts/checkpoint\n",
      "329/329 - 0s - loss: 0.0234 - wmape: 0.3623 - val_loss: 0.0172 - val_wmape: 0.2414 - 461ms/epoch - 1ms/step\n",
      "2/2 [==============================] - 0s 27ms/step - loss: 0.0172 - wmape: 0.2414\n",
      "2/2 [==============================] - 0s 22ms/step - loss: 0.0320 - wmape: 0.3846\n",
      "Epoch 1/10\n",
      "\n",
      "Epoch 1: val_wmape improved from inf to 0.23864, saving model to /home/mert/Desktop/thesis/artifacts/checkpoint\n",
      "329/329 - 2s - loss: 0.0224 - wmape: 0.3537 - val_loss: 0.0173 - val_wmape: 0.2386 - 2s/epoch - 5ms/step\n",
      "Epoch 2/10\n",
      "\n",
      "Epoch 2: val_wmape did not improve from 0.23864\n",
      "329/329 - 0s - loss: 0.0221 - wmape: 0.3514 - val_loss: 0.0176 - val_wmape: 0.2417 - 449ms/epoch - 1ms/step\n",
      "Epoch 3/10\n",
      "\n",
      "Epoch 3: val_wmape improved from 0.23864 to 0.23452, saving model to /home/mert/Desktop/thesis/artifacts/checkpoint\n",
      "329/329 - 0s - loss: 0.0221 - wmape: 0.3519 - val_loss: 0.0166 - val_wmape: 0.2345 - 442ms/epoch - 1ms/step\n",
      "Epoch 4/10\n",
      "\n",
      "Epoch 4: val_wmape improved from 0.23452 to 0.22780, saving model to /home/mert/Desktop/thesis/artifacts/checkpoint\n",
      "329/329 - 0s - loss: 0.0220 - wmape: 0.3501 - val_loss: 0.0156 - val_wmape: 0.2278 - 447ms/epoch - 1ms/step\n",
      "Epoch 5/10\n",
      "\n",
      "Epoch 5: val_wmape did not improve from 0.22780\n",
      "329/329 - 0s - loss: 0.0219 - wmape: 0.3501 - val_loss: 0.0169 - val_wmape: 0.2366 - 436ms/epoch - 1ms/step\n",
      "Epoch 6/10\n",
      "\n",
      "Epoch 6: val_wmape did not improve from 0.22780\n",
      "329/329 - 0s - loss: 0.0218 - wmape: 0.3498 - val_loss: 0.0162 - val_wmape: 0.2328 - 427ms/epoch - 1ms/step\n",
      "Epoch 7/10\n",
      "\n",
      "Epoch 7: val_wmape did not improve from 0.22780\n",
      "329/329 - 0s - loss: 0.0217 - wmape: 0.3487 - val_loss: 0.0161 - val_wmape: 0.2322 - 426ms/epoch - 1ms/step\n",
      "Epoch 8/10\n",
      "\n",
      "Epoch 8: val_wmape did not improve from 0.22780\n",
      "329/329 - 0s - loss: 0.0217 - wmape: 0.3494 - val_loss: 0.0170 - val_wmape: 0.2381 - 453ms/epoch - 1ms/step\n",
      "Epoch 9/10\n",
      "\n",
      "Epoch 9: val_wmape did not improve from 0.22780\n",
      "329/329 - 0s - loss: 0.0216 - wmape: 0.3484 - val_loss: 0.0172 - val_wmape: 0.2399 - 448ms/epoch - 1ms/step\n",
      "Epoch 10/10\n",
      "\n",
      "Epoch 10: val_wmape did not improve from 0.22780\n",
      "329/329 - 0s - loss: 0.0216 - wmape: 0.3489 - val_loss: 0.0168 - val_wmape: 0.2371 - 454ms/epoch - 1ms/step\n",
      "2/2 [==============================] - 0s 26ms/step - loss: 0.0156 - wmape: 0.2278\n",
      "2/2 [==============================] - 0s 24ms/step - loss: 0.0320 - wmape: 0.3722\n"
     ]
    }
   ],
   "source": [
    "val_performance = {}\n",
    "performance = {}\n",
    "\n",
    "param_list = [\n",
    "    {\"loss\": \"mse\", \"optimizer\": \"rmsprop\"},\n",
    "    {\"loss\": \"mse\", \"optimizer\": \"adam\"},\n",
    "]\n",
    "\n",
    "for param_dict in param_list:\n",
    "    model, history = compile_and_fit(model, window, max_epochs=10, verbose=2, **param_dict)\n",
    "    val_performance[\"-\".join(param_dict.values())] = model.evaluate(window.valid)\n",
    "    performance[\"-\".join(param_dict.values())] = model.evaluate(window.test)\n"
   ]
  },
  {
   "cell_type": "markdown",
   "id": "713fa31c-ae61-4505-9f9f-188b55e1675a",
   "metadata": {},
   "source": [
    "# CNN"
   ]
  },
  {
   "cell_type": "markdown",
   "id": "e02e4b37-a30c-43e7-880c-2d31f0996d00",
   "metadata": {
    "tags": []
   },
   "source": [
    "## Conv4"
   ]
  },
  {
   "cell_type": "code",
   "execution_count": 36,
   "id": "93d3e601-b7ed-4187-bf03-d3612d8d6712",
   "metadata": {},
   "outputs": [
    {
     "name": "stdout",
     "output_type": "stream",
     "text": [
      "Model: \"sequential_6\"\n",
      "_________________________________________________________________\n",
      " Layer (type)                Output Shape              Param #   \n",
      "=================================================================\n",
      " start------ (Permute)       (None, 30, 1, 17)         0         \n",
      "                                                                 \n",
      " permute_16 (Permute)        (None, 1, 30, 17)         0         \n",
      "                                                                 \n",
      " conv2d_2 (Conv2D)           (None, 1, 30, 64)         27264     \n",
      "                                                                 \n",
      " permute_17 (Permute)        (None, 30, 64, 1)         0         \n",
      "                                                                 \n",
      " max_pooling2d_2 (MaxPooling  (None, 15, 32, 1)        0         \n",
      " 2D)                                                             \n",
      "                                                                 \n",
      " permute_18 (Permute)        (None, 1, 15, 32)         0         \n",
      "                                                                 \n",
      " conv2d_3 (Conv2D)           (None, 1, 15, 32)         25632     \n",
      "                                                                 \n",
      " permute_19 (Permute)        (None, 15, 32, 1)         0         \n",
      "                                                                 \n",
      " max_pooling2d_3 (MaxPooling  (None, 7, 16, 1)         0         \n",
      " 2D)                                                             \n",
      "                                                                 \n",
      " permute_20 (Permute)        (None, 1, 7, 16)          0         \n",
      "                                                                 \n",
      " end-------- (Reshape)       (None, 1, 112)            0         \n",
      "                                                                 \n",
      " dense_10 (Dense)            (None, 1, 24)             2712      \n",
      "                                                                 \n",
      " permute_21 (Permute)        (None, 24, 1)             0         \n",
      "                                                                 \n",
      " reshape_7 (Reshape)         (None, 24, 1, 1)          0         \n",
      "                                                                 \n",
      "=================================================================\n",
      "Total params: 55,608\n",
      "Trainable params: 55,608\n",
      "Non-trainable params: 0\n",
      "_________________________________________________________________\n"
     ]
    }
   ],
   "source": [
    "CONV_WIDTH = 5\n",
    "\n",
    "class Conv4(BaseTFModel):\n",
    "    def __init__(self, window):\n",
    "        super().__init__(window)\n",
    "\n",
    "    def add_model(self, model):\n",
    "        model.add(layers.Permute((2,1,3)))\n",
    "        model.add(layers.Conv2D(64, CONV_WIDTH, activation=\"relu\", padding=\"same\"))\n",
    "        model.add(layers.Permute((2,3,1)))\n",
    "        model.add(layers.MaxPooling2D(2))\n",
    "        model.add(layers.Permute((3,1,2)))\n",
    "        model.add(layers.Conv2D(32, CONV_WIDTH, activation=\"relu\", padding=\"same\"))\n",
    "        model.add(layers.Permute((2,3,1)))\n",
    "        model.add(layers.MaxPooling2D(2))\n",
    "        model.add(layers.Permute((3,1,2)))\n",
    "        return model\n",
    "    \n",
    "model = Conv4(window).model\n",
    "model.summary()"
   ]
  },
  {
   "cell_type": "code",
   "execution_count": 37,
   "id": "a70d7a0e-0ccf-41ed-9ae5-ae15c1298cb6",
   "metadata": {},
   "outputs": [
    {
     "name": "stdout",
     "output_type": "stream",
     "text": [
      "Epoch 1/10\n",
      "329/329 [==============================] - ETA: 0s - loss: 0.0351 - wmape: 0.4302\n",
      "Epoch 1: val_wmape improved from inf to 0.24407, saving model to /home/mert/Desktop/thesis/artifacts/checkpoint\n",
      "329/329 [==============================] - 4s 11ms/step - loss: 0.0351 - wmape: 0.4302 - val_loss: 0.0182 - val_wmape: 0.2441\n",
      "Epoch 2/10\n",
      "320/329 [============================>.] - ETA: 0s - loss: 0.0213 - wmape: 0.3340\n",
      "Epoch 2: val_wmape improved from 0.24407 to 0.23693, saving model to /home/mert/Desktop/thesis/artifacts/checkpoint\n",
      "329/329 [==============================] - 2s 5ms/step - loss: 0.0212 - wmape: 0.3335 - val_loss: 0.0173 - val_wmape: 0.2369\n",
      "Epoch 3/10\n",
      "320/329 [============================>.] - ETA: 0s - loss: 0.0193 - wmape: 0.3166\n",
      "Epoch 3: val_wmape did not improve from 0.23693\n",
      "329/329 [==============================] - 2s 5ms/step - loss: 0.0192 - wmape: 0.3158 - val_loss: 0.0182 - val_wmape: 0.2421\n",
      "Epoch 4/10\n",
      "320/329 [============================>.] - ETA: 0s - loss: 0.0182 - wmape: 0.3068\n",
      "Epoch 4: val_wmape improved from 0.23693 to 0.23185, saving model to /home/mert/Desktop/thesis/artifacts/checkpoint\n",
      "329/329 [==============================] - 2s 5ms/step - loss: 0.0182 - wmape: 0.3063 - val_loss: 0.0167 - val_wmape: 0.2319\n",
      "Epoch 5/10\n",
      "320/329 [============================>.] - ETA: 0s - loss: 0.0175 - wmape: 0.2998\n",
      "Epoch 5: val_wmape improved from 0.23185 to 0.23093, saving model to /home/mert/Desktop/thesis/artifacts/checkpoint\n",
      "329/329 [==============================] - 2s 5ms/step - loss: 0.0174 - wmape: 0.2999 - val_loss: 0.0166 - val_wmape: 0.2309\n",
      "Epoch 6/10\n",
      "320/329 [============================>.] - ETA: 0s - loss: 0.0167 - wmape: 0.2928\n",
      "Epoch 6: val_wmape improved from 0.23093 to 0.22126, saving model to /home/mert/Desktop/thesis/artifacts/checkpoint\n",
      "329/329 [==============================] - 2s 5ms/step - loss: 0.0167 - wmape: 0.2928 - val_loss: 0.0155 - val_wmape: 0.2213\n",
      "Epoch 7/10\n",
      "320/329 [============================>.] - ETA: 0s - loss: 0.0161 - wmape: 0.2869\n",
      "Epoch 7: val_wmape did not improve from 0.22126\n",
      "329/329 [==============================] - 2s 5ms/step - loss: 0.0161 - wmape: 0.2866 - val_loss: 0.0166 - val_wmape: 0.2277\n",
      "Epoch 8/10\n",
      "320/329 [============================>.] - ETA: 0s - loss: 0.0158 - wmape: 0.2833\n",
      "Epoch 8: val_wmape did not improve from 0.22126\n",
      "329/329 [==============================] - 2s 5ms/step - loss: 0.0158 - wmape: 0.2835 - val_loss: 0.0185 - val_wmape: 0.2396\n",
      "Epoch 9/10\n",
      "320/329 [============================>.] - ETA: 0s - loss: 0.0152 - wmape: 0.2782\n",
      "Epoch 9: val_wmape improved from 0.22126 to 0.21855, saving model to /home/mert/Desktop/thesis/artifacts/checkpoint\n",
      "329/329 [==============================] - 2s 5ms/step - loss: 0.0152 - wmape: 0.2780 - val_loss: 0.0149 - val_wmape: 0.2185\n",
      "Epoch 10/10\n",
      "320/329 [============================>.] - ETA: 0s - loss: 0.0150 - wmape: 0.2771\n",
      "Epoch 10: val_wmape improved from 0.21855 to 0.20432, saving model to /home/mert/Desktop/thesis/artifacts/checkpoint\n",
      "329/329 [==============================] - 2s 5ms/step - loss: 0.0150 - wmape: 0.2769 - val_loss: 0.0134 - val_wmape: 0.2043\n",
      "2/2 [==============================] - 0s 26ms/step - loss: 0.0134 - wmape: 0.2043\n",
      "2/2 [==============================] - 0s 25ms/step - loss: 0.0231 - wmape: 0.2950\n"
     ]
    }
   ],
   "source": [
    "model, history = compile_and_fit(model, window, max_epochs=10, verbose=1, loss=\"mse\", optimizer=\"adam\")\n",
    "val_performance[\"CNN\"] = model.evaluate(window.valid)\n",
    "performance[\"CNN\"] = model.evaluate(window.test)"
   ]
  },
  {
   "cell_type": "code",
   "execution_count": 38,
   "id": "b52f3b22-489f-4b52-b7e4-37924c8d39ce",
   "metadata": {},
   "outputs": [
    {
     "data": {
      "image/png": "[encoded data removed]",
      "text/plain": [
       "<Figure size 432x288 with 1 Axes>"
      ]
     },
     "metadata": {
      "needs_background": "light"
     },
     "output_type": "display_data"
    }
   ],
   "source": [
    "plot_metrics(performance, val_performance)"
   ]
  },
  {
   "cell_type": "code",
   "execution_count": 39,
   "id": "89107629-88c5-4a2d-adce-1556829bac6f",
   "metadata": {},
   "outputs": [
    {
     "data": {
      "text/html": [
       "<div>\n",
       "<style scoped>\n",
       "    .dataframe tbody tr th:only-of-type {\n",
       "        vertical-align: middle;\n",
       "    }\n",
       "\n",
       "    .dataframe tbody tr th {\n",
       "        vertical-align: top;\n",
       "    }\n",
       "\n",
       "    .dataframe thead th {\n",
       "        text-align: right;\n",
       "    }\n",
       "</style>\n",
       "<table border=\"1\" class=\"dataframe\">\n",
       "  <thead>\n",
       "    <tr style=\"text-align: right;\">\n",
       "      <th></th>\n",
       "      <th>rt_plant_id</th>\n",
       "      <th>wmape</th>\n",
       "      <th>wmape_val</th>\n",
       "    </tr>\n",
       "  </thead>\n",
       "  <tbody>\n",
       "    <tr>\n",
       "      <th>0</th>\n",
       "      <td>969</td>\n",
       "      <td>0.288796</td>\n",
       "      <td>0.202254</td>\n",
       "    </tr>\n",
       "  </tbody>\n",
       "</table>\n",
       "</div>"
      ],
      "text/plain": [
       "   rt_plant_id     wmape  wmape_val\n",
       "0          969  0.288796   0.202254"
      ]
     },
     "execution_count": 39,
     "metadata": {},
     "output_type": "execute_result"
    }
   ],
   "source": [
    "wmape_df = calculate_plantwise_wmape(model, window, selected_plants=df.rt_plant_id.unique())\n",
    "wmape_df"
   ]
  },
  {
   "cell_type": "code",
   "execution_count": 40,
   "id": "273dead8-6c67-4a9b-b2ce-2900a4d6a876",
   "metadata": {},
   "outputs": [
    {
     "data": {
      "image/png": "[encoded data removed]",
      "text/plain": [
       "<Figure size 432x288 with 1 Axes>"
      ]
     },
     "metadata": {
      "needs_background": "light"
     },
     "output_type": "display_data"
    }
   ],
   "source": [
    "plot_plantwise_predictions(model, window.test)"
   ]
  },
  {
   "cell_type": "code",
   "execution_count": 41,
   "id": "7f830d67-6e2a-4ed6-a705-8ffacbca21e1",
   "metadata": {},
   "outputs": [
    {
     "data": {
      "image/png": "[encoded data removed]",
      "text/plain": [
       "<Figure size 432x288 with 1 Axes>"
      ]
     },
     "metadata": {
      "needs_background": "light"
     },
     "output_type": "display_data"
    }
   ],
   "source": [
    "plot_plantwise_predictions(model, window.valid)"
   ]
  },
  {
   "cell_type": "markdown",
   "id": "8254719f-dda8-40fd-b687-2c72260b854a",
   "metadata": {},
   "source": [
    "# Recurrent"
   ]
  },
  {
   "cell_type": "markdown",
   "id": "9a997942-e97a-4eca-9f9d-a837584f0021",
   "metadata": {},
   "source": [
    "## RNN3"
   ]
  },
  {
   "cell_type": "code",
   "execution_count": 7,
   "id": "a68eb2d4-92a3-4719-944f-20919e63b03b",
   "metadata": {},
   "outputs": [
    {
     "name": "stderr",
     "output_type": "stream",
     "text": [
      "2022-04-19 23:02:24.303037: I tensorflow/core/platform/cpu_feature_guard.cc:151] This TensorFlow binary is optimized with oneAPI Deep Neural Network Library (oneDNN) to use the following CPU instructions in performance-critical operations:  AVX2 FMA\n",
      "To enable them in other operations, rebuild TensorFlow with the appropriate compiler flags.\n"
     ]
    },
    {
     "name": "stdout",
     "output_type": "stream",
     "text": [
      "Model: \"sequential\"\n",
      "_________________________________________________________________\n",
      " Layer (type)                Output Shape              Param #   \n",
      "=================================================================\n",
      " start------ (Permute)       (None, 30, 1, 17)         0         \n",
      "                                                                 \n",
      " permute (Permute)           (None, 1, 30, 17)         0         \n",
      "                                                                 \n",
      " reshape (Reshape)           (None, 1, 510)            0         \n",
      "                                                                 \n",
      " permute_1 (Permute)         (None, 510, 1)            0         \n",
      "                                                                 \n",
      " max_pooling1d (MaxPooling1D  (None, 255, 1)           0         \n",
      " )                                                               \n",
      "                                                                 \n",
      " permute_2 (Permute)         (None, 1, 255)            0         \n",
      "                                                                 \n",
      " lstm (LSTM)                 (None, 1, 32)             36864     \n",
      "                                                                 \n",
      " lstm_1 (LSTM)               (None, 1, 24)             5472      \n",
      "                                                                 \n",
      " end-------- (Reshape)       (None, 1, 24)             0         \n",
      "                                                                 \n",
      " dense (Dense)               (None, 1, 24)             600       \n",
      "                                                                 \n",
      " permute_3 (Permute)         (None, 24, 1)             0         \n",
      "                                                                 \n",
      " reshape_1 (Reshape)         (None, 24, 1, 1)          0         \n",
      "                                                                 \n",
      "=================================================================\n",
      "Total params: 42,936\n",
      "Trainable params: 42,936\n",
      "Non-trainable params: 0\n",
      "_________________________________________________________________\n"
     ]
    }
   ],
   "source": [
    "class RNN3(BaseTFModel):\n",
    "    def __init__(self, window):\n",
    "        super().__init__(window)\n",
    "\n",
    "    def add_model(self, model):\n",
    "        model.add(layers.Permute((2,1,3)))\n",
    "        model.add(layers.Reshape((self.window.number_of_plants, -1)))\n",
    "        model.add(layers.Permute((2,1)))\n",
    "        model.add(layers.MaxPooling1D(2))\n",
    "        model.add(layers.Permute((2,1)))\n",
    "        model.add(layers.LSTM(32, return_sequences=True))\n",
    "        model.add(layers.LSTM(24, return_sequences=True))\n",
    "        return model\n",
    "    \n",
    "model = RNN3(window).model\n",
    "model.summary()"
   ]
  },
  {
   "cell_type": "code",
   "execution_count": null,
   "id": "3d2e01bd-dcfb-442d-9c27-dc6e0d07038c",
   "metadata": {},
   "outputs": [
    {
     "name": "stdout",
     "output_type": "stream",
     "text": [
      "Epoch 1/10\n"
     ]
    },
    {
     "name": "stderr",
     "output_type": "stream",
     "text": [
      "2022-04-19 23:02:41.463639: I tensorflow/compiler/xla/service/service.cc:171] XLA service 0x7fc04c04cbf0 initialized for platform Host (this does not guarantee that XLA will be used). Devices:\n",
      "2022-04-19 23:02:41.463684: I tensorflow/compiler/xla/service/service.cc:179]   StreamExecutor device (0): Host, Default Version\n",
      "2022-04-19 23:02:41.526434: I tensorflow/compiler/mlir/tensorflow/utils/dump_mlir_util.cc:237] disabling MLIR crash reproducer, set env var `MLIR_CRASH_REPRODUCER_DIRECTORY` to enable.\n",
      "2022-04-19 23:02:42.411060: I tensorflow/compiler/jit/xla_compilation_cache.cc:399] Compiled cluster using XLA!  This line is logged at most once for the lifetime of the process.\n"
     ]
    },
    {
     "name": "stdout",
     "output_type": "stream",
     "text": [
      " 64/329 [====>.........................] - ETA: 4:23 - loss: 0.1142 - wmape: 0.8542"
     ]
    }
   ],
   "source": [
    "history = compile_and_fit(model, window, max_epochs=10, verbose=1, loss=\"mse\", optimizer=\"adam\")"
   ]
  },
  {
   "cell_type": "code",
   "execution_count": null,
   "id": "e2f61a13-dfd0-4ff1-b2e9-8161402a0685",
   "metadata": {},
   "outputs": [],
   "source": [
    "val_performance['RNN3'] = model.evaluate(window.valid)\n",
    "performance['RNN3'] = model.evaluate(window.test)\n"
   ]
  },
  {
   "cell_type": "code",
   "execution_count": null,
   "id": "c59b5d17-5f91-4c6e-ac20-373e05937f72",
   "metadata": {},
   "outputs": [],
   "source": []
  },
  {
   "cell_type": "code",
   "execution_count": null,
   "id": "fcfd2123-0d12-4d97-a69c-3b06690961e4",
   "metadata": {},
   "outputs": [],
   "source": []
  },
  {
   "cell_type": "code",
   "execution_count": null,
   "id": "5ff7242e-f557-485c-845c-92ccbac81529",
   "metadata": {},
   "outputs": [],
   "source": []
  },
  {
   "cell_type": "code",
   "execution_count": null,
   "id": "6cc94bde-6fbe-4e03-ac43-686c0ba6a705",
   "metadata": {},
   "outputs": [],
   "source": []
  },
  {
   "cell_type": "code",
   "execution_count": null,
   "id": "dbbaa4f3-8195-4a00-bf3f-d523cb53b8c6",
   "metadata": {},
   "outputs": [],
   "source": []
  }
 ],
 "metadata": {
  "kernelspec": {
   "display_name": "Python 3 (ipykernel)",
   "language": "python",
   "name": "python3"
  },
  "language_info": {
   "codemirror_mode": {
    "name": "ipython",
    "version": 3
   },
   "file_extension": ".py",
   "mimetype": "text/x-python",
   "name": "python",
   "nbconvert_exporter": "python",
   "pygments_lexer": "ipython3",
   "version": "3.9.0"
  }
 },
 "nbformat": 4,
 "nbformat_minor": 5
}
