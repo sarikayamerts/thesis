{
 "cells": [
  {
   "cell_type": "markdown",
   "id": "b6db0123-26da-469d-a307-82ef7be8f713",
   "metadata": {},
   "source": [
    "- https://keras.io/examples/timeseries/timeseries_traffic_forecasting/#graph-convolution-layer\n",
    "- https://towardsdatascience.com/time-series-forecasting-with-graph-convolutional-neural-network-7ffb3b70afcf"
   ]
  },
  {
   "cell_type": "code",
   "execution_count": 26,
   "id": "b7573e3e-9ab1-4e70-a6a7-aada1e8c9ff8",
   "metadata": {},
   "outputs": [
    {
     "name": "stdout",
     "output_type": "stream",
     "text": [
      "The autoreload extension is already loaded. To reload it, use:\n",
      "  %reload_ext autoreload\n"
     ]
    }
   ],
   "source": [
    "%load_ext autoreload\n",
    "%autoreload 2\n",
    "\n",
    "import subprocess; FOLDER_PATH = subprocess.Popen(['git', 'rev-parse', '--show-toplevel'], stdout=subprocess.PIPE).communicate()[0].rstrip().decode('utf-8')\n",
    "import warnings; warnings.filterwarnings(\"ignore\")\n",
    "import sys, os; sys.path.append(os.path.dirname(f'{FOLDER_PATH}/utils')); sys.path.append(os.path.dirname(f'{FOLDER_PATH}/scripts'))\n",
    "\n",
    "from utils.base_helpers import read_data, split_data, scale_data, expand_data, plot_metrics\n",
    "from utils.graph_helpers import generate_adj_matrix, create_graph, LSTMGC, calculate_wmape_tf as wmape\n",
    "from utils.tf_helpers import WindowGenerator, compile_and_fit, plot_plantwise_predictions\n",
    "\n",
    "import pandas as pd\n",
    "import numpy as np\n",
    "import tensorflow as tf\n",
    "from tensorflow.keras import layers, models\n",
    "import typing"
   ]
  },
  {
   "cell_type": "code",
   "execution_count": 10,
   "id": "b6941c7b-df23-417a-ba6b-c44279b6e783",
   "metadata": {},
   "outputs": [
    {
     "name": "stdout",
     "output_type": "stream",
     "text": [
      "Train start and end dates:\t 2019-01-26 03:00:00 \t 2021-06-22 09:00:00\n",
      "Validation start and end dates:\t 2021-06-22 10:00:00 \t 2021-10-10 04:00:00\n",
      "Test start and end dates:\t 2021-10-10 05:00:00 \t 2022-01-27 23:00:00\n"
     ]
    }
   ],
   "source": [
    "df, plants = read_data(generate_speed_angle=True, add_lagged=True, number_of_plants=8)\n",
    "train_df_, valid_df, test_df = split_data(df, train_ratio=0.8, valid_ratio=0.1)\n",
    "train_df, valid_df, test_df = expand_data(train_df_, valid_df, test_df)\n",
    "train_df, valid_df, test_df = scale_data(train_df, valid_df, test_df, plants, scaler=\"minmax\")"
   ]
  },
  {
   "cell_type": "code",
   "execution_count": 11,
   "id": "33b4c04d-4513-42d1-a070-114495b3736e",
   "metadata": {},
   "outputs": [
    {
     "data": {
      "text/plain": [
       "Total window size: 30\n",
       "Input indices: [ 0  1  2  3  4  5  6  7  8  9 10 11 12 13 14 15 16 17 18 19 20 21 22 23\n",
       " 24 25 26 27 28 29]\n",
       "Label indices: [ 6  7  8  9 10 11 12 13 14 15 16 17 18 19 20 21 22 23 24 25 26 27 28 29]\n",
       "Label column name(s): ['production']"
      ]
     },
     "execution_count": 11,
     "metadata": {},
     "output_type": "execute_result"
    }
   ],
   "source": [
    "OUT_STEPS = 24\n",
    "INPUT_WIDTH = 30\n",
    "\n",
    "window = WindowGenerator(\n",
    "    train_df=train_df, valid_df=valid_df, test_df=test_df, \n",
    "    columns=[col for col in df.columns if col != \"rt_plant_id\"],\n",
    "    input_width=INPUT_WIDTH, label_width=OUT_STEPS, shift=0, label_columns=[\"production\"])\n",
    "window"
   ]
  },
  {
   "cell_type": "code",
   "execution_count": 12,
   "id": "bd7eb1f1-5380-40a5-8dfd-723ee36e7e6d",
   "metadata": {},
   "outputs": [
    {
     "name": "stdout",
     "output_type": "stream",
     "text": [
      "number of nodes: 8, number of edges: 60\n"
     ]
    }
   ],
   "source": [
    "adjacency_matrix = generate_adj_matrix(train_df_, threshold=0.6)\n",
    "graph = create_graph(adjacency_matrix)"
   ]
  },
  {
   "cell_type": "code",
   "execution_count": 13,
   "id": "fc79d90a-b9ad-4cc9-bfdc-fb651497a4d8",
   "metadata": {},
   "outputs": [],
   "source": [
    "epochs = 20\n",
    "OUT_FEAT = 64\n",
    "lstm_units = 32\n",
    "BATCH_SIZE = 64\n",
    "\n",
    "NUM_NODES = window.number_of_plants\n",
    "IN_FEAT = len(window.feature_column_indices)\n",
    "INPUT_SEQ_LEN = INPUT_WIDTH\n",
    "forecast_horizon = OUT_STEPS\n",
    "multi_horizon = True\n",
    "\n",
    "graph_conv_params = {\n",
    "    \"aggregation_type\": \"mean\", # sum, max\n",
    "    \"combination_type\": \"concat\", # add\n",
    "    \"activation\": None,\n",
    "}\n",
    "keras_params = {\n",
    "    \"lstm_activation\": \"tanh\",\n",
    "    \"dense_activation\": \"sigmoid\"\n",
    "}\n",
    "\n",
    "st_gcn = LSTMGC(IN_FEAT, OUT_FEAT, lstm_units, INPUT_SEQ_LEN, \n",
    "    forecast_horizon, graph, graph_conv_params, keras_params)\n",
    "inputs = layers.Input((INPUT_SEQ_LEN, graph.num_nodes, IN_FEAT))\n",
    "outputs = st_gcn(inputs)\n",
    "\n",
    "model = models.Model(inputs, outputs)\n"
   ]
  },
  {
   "cell_type": "code",
   "execution_count": 14,
   "id": "f5e63ea2-b5e3-4163-9915-6cdaa635c1a1",
   "metadata": {},
   "outputs": [
    {
     "name": "stdout",
     "output_type": "stream",
     "text": [
      "Model: \"model_1\"\n",
      "_________________________________________________________________\n",
      " Layer (type)                Output Shape              Param #   \n",
      "=================================================================\n",
      " input_2 (InputLayer)        [(None, 30, 8, 17)]       0         \n",
      "                                                                 \n",
      " lstmgc_1 (LSTMGC)           (None, 24, 8)             22488     \n",
      "                                                                 \n",
      "=================================================================\n",
      "Total params: 22,488\n",
      "Trainable params: 22,488\n",
      "Non-trainable params: 0\n",
      "_________________________________________________________________\n",
      "None\n"
     ]
    }
   ],
   "source": [
    "model.compile(optimizer=tf.keras.optimizers.RMSprop(learning_rate=0.0002),loss=\"mse\", metrics=[\"mse\", wmape],)\n",
    "print(model.summary())"
   ]
  },
  {
   "cell_type": "code",
   "execution_count": null,
   "id": "88572365-5eb1-4e2a-bffc-ede5f8385701",
   "metadata": {},
   "outputs": [],
   "source": [
    "model.fit(window.train, validation_data=window.valid, epochs=epochs, callbacks=[tf.keras.callbacks.EarlyStopping(patience=5)]) # , WandbCallback()])"
   ]
  },
  {
   "cell_type": "code",
   "execution_count": 15,
   "id": "4e90670b-9ef1-44e1-9e6d-5a4b3dc15bc5",
   "metadata": {},
   "outputs": [],
   "source": [
    "param_dict = {\"loss\": \"mse\", \"optimizer\": \"rmsprop\"}"
   ]
  },
  {
   "cell_type": "code",
   "execution_count": 16,
   "id": "35ee378c-fcd6-4d49-879e-0326dfe31f12",
   "metadata": {},
   "outputs": [
    {
     "name": "stdout",
     "output_type": "stream",
     "text": [
      "Epoch 1/10\n",
      "329/329 [==============================] - ETA: 0s - loss: 0.0480 - wmape: 0.4737\n",
      "Epoch 1: val_wmape improved from inf to 0.33434, saving model to /home/mert/Desktop/thesis/artifacts/checkpoint\n",
      "329/329 [==============================] - 14s 39ms/step - loss: 0.0480 - wmape: 0.4737 - val_loss: 0.0355 - val_wmape: 0.3343\n",
      "Epoch 2/10\n",
      "328/329 [============================>.] - ETA: 0s - loss: 0.0332 - wmape: 0.3731\n",
      "Epoch 2: val_wmape improved from 0.33434 to 0.29575, saving model to /home/mert/Desktop/thesis/artifacts/checkpoint\n",
      "329/329 [==============================] - 12s 38ms/step - loss: 0.0332 - wmape: 0.3730 - val_loss: 0.0299 - val_wmape: 0.2958\n",
      "Epoch 3/10\n",
      "329/329 [==============================] - ETA: 0s - loss: 0.0296 - wmape: 0.3474\n",
      "Epoch 3: val_wmape improved from 0.29575 to 0.29030, saving model to /home/mert/Desktop/thesis/artifacts/checkpoint\n",
      "329/329 [==============================] - 13s 39ms/step - loss: 0.0296 - wmape: 0.3474 - val_loss: 0.0297 - val_wmape: 0.2903\n",
      "Epoch 4/10\n",
      "329/329 [==============================] - ETA: 0s - loss: 0.0275 - wmape: 0.3325\n",
      "Epoch 4: val_wmape did not improve from 0.29030\n",
      "329/329 [==============================] - 13s 38ms/step - loss: 0.0275 - wmape: 0.3325 - val_loss: 0.0294 - val_wmape: 0.2942\n",
      "Epoch 5/10\n",
      "328/329 [============================>.] - ETA: 0s - loss: 0.0259 - wmape: 0.3210\n",
      "Epoch 5: val_wmape improved from 0.29030 to 0.26744, saving model to /home/mert/Desktop/thesis/artifacts/checkpoint\n",
      "329/329 [==============================] - 13s 38ms/step - loss: 0.0259 - wmape: 0.3211 - val_loss: 0.0261 - val_wmape: 0.2674\n",
      "Epoch 6/10\n",
      "328/329 [============================>.] - ETA: 0s - loss: 0.0247 - wmape: 0.3119\n",
      "Epoch 6: val_wmape improved from 0.26744 to 0.26695, saving model to /home/mert/Desktop/thesis/artifacts/checkpoint\n",
      "329/329 [==============================] - 12s 38ms/step - loss: 0.0247 - wmape: 0.3119 - val_loss: 0.0255 - val_wmape: 0.2670\n",
      "Epoch 7/10\n",
      "328/329 [============================>.] - ETA: 0s - loss: 0.0238 - wmape: 0.3045\n",
      "Epoch 7: val_wmape did not improve from 0.26695\n",
      "329/329 [==============================] - 13s 39ms/step - loss: 0.0238 - wmape: 0.3044 - val_loss: 0.0260 - val_wmape: 0.2688\n",
      "Epoch 8/10\n",
      "329/329 [==============================] - ETA: 0s - loss: 0.0230 - wmape: 0.2984\n",
      "Epoch 8: val_wmape improved from 0.26695 to 0.26221, saving model to /home/mert/Desktop/thesis/artifacts/checkpoint\n",
      "329/329 [==============================] - 13s 39ms/step - loss: 0.0230 - wmape: 0.2984 - val_loss: 0.0244 - val_wmape: 0.2622\n",
      "Epoch 9/10\n",
      "329/329 [==============================] - ETA: 0s - loss: 0.0224 - wmape: 0.2934\n",
      "Epoch 9: val_wmape did not improve from 0.26221\n",
      "329/329 [==============================] - 13s 39ms/step - loss: 0.0224 - wmape: 0.2934 - val_loss: 0.0263 - val_wmape: 0.2659\n",
      "Epoch 10/10\n",
      "329/329 [==============================] - ETA: 0s - loss: 0.0218 - wmape: 0.2899\n",
      "Epoch 10: val_wmape did not improve from 0.26221\n",
      "329/329 [==============================] - 13s 38ms/step - loss: 0.0218 - wmape: 0.2899 - val_loss: 0.0259 - val_wmape: 0.2650\n"
     ]
    }
   ],
   "source": [
    "model, history = compile_and_fit(model, window, max_epochs=10, verbose=1, **param_dict)"
   ]
  },
  {
   "cell_type": "code",
   "execution_count": 18,
   "id": "8bab4e1d-4173-4b6b-8df1-d27140cf8d21",
   "metadata": {},
   "outputs": [],
   "source": []
  },
  {
   "cell_type": "code",
   "execution_count": null,
   "id": "42bc4197-c884-4ef2-82a0-c085c7c6a78f",
   "metadata": {},
   "outputs": [],
   "source": []
  },
  {
   "cell_type": "code",
   "execution_count": null,
   "id": "fb9f251a-e4b3-4111-ab0e-4fcc1147fa30",
   "metadata": {},
   "outputs": [],
   "source": []
  },
  {
   "cell_type": "code",
   "execution_count": 22,
   "id": "32906d5c-c206-4e47-88c1-1fd847ab0562",
   "metadata": {},
   "outputs": [
    {
     "name": "stdout",
     "output_type": "stream",
     "text": [
      "Epoch 1/10\n",
      "\n",
      "Epoch 1: val_wmape improved from inf to 0.25666, saving model to /home/mert/Desktop/thesis/artifacts/checkpoint\n",
      "329/329 - 13s - loss: 0.0224 - wmape: 0.2942 - val_loss: 0.0243 - val_wmape: 0.2567 - 13s/epoch - 39ms/step\n",
      "Epoch 2/10\n",
      "\n",
      "Epoch 2: val_wmape improved from 0.25666 to 0.25212, saving model to /home/mert/Desktop/thesis/artifacts/checkpoint\n",
      "329/329 - 11s - loss: 0.0218 - wmape: 0.2897 - val_loss: 0.0242 - val_wmape: 0.2521 - 11s/epoch - 34ms/step\n",
      "Epoch 3/10\n",
      "\n",
      "Epoch 3: val_wmape did not improve from 0.25212\n",
      "329/329 - 11s - loss: 0.0214 - wmape: 0.2861 - val_loss: 0.0247 - val_wmape: 0.2582 - 11s/epoch - 34ms/step\n",
      "Epoch 4/10\n",
      "\n",
      "Epoch 4: val_wmape did not improve from 0.25212\n",
      "329/329 - 11s - loss: 0.0210 - wmape: 0.2829 - val_loss: 0.0241 - val_wmape: 0.2552 - 11s/epoch - 35ms/step\n",
      "Epoch 5/10\n",
      "\n",
      "Epoch 5: val_wmape improved from 0.25212 to 0.25049, saving model to /home/mert/Desktop/thesis/artifacts/checkpoint\n",
      "329/329 - 11s - loss: 0.0206 - wmape: 0.2804 - val_loss: 0.0240 - val_wmape: 0.2505 - 11s/epoch - 35ms/step\n",
      "Epoch 6/10\n",
      "\n",
      "Epoch 6: val_wmape improved from 0.25049 to 0.25016, saving model to /home/mert/Desktop/thesis/artifacts/checkpoint\n",
      "329/329 - 11s - loss: 0.0202 - wmape: 0.2778 - val_loss: 0.0238 - val_wmape: 0.2502 - 11s/epoch - 35ms/step\n",
      "Epoch 7/10\n",
      "\n",
      "Epoch 7: val_wmape did not improve from 0.25016\n",
      "329/329 - 12s - loss: 0.0200 - wmape: 0.2756 - val_loss: 0.0252 - val_wmape: 0.2593 - 12s/epoch - 35ms/step\n",
      "Epoch 8/10\n",
      "\n",
      "Epoch 8: val_wmape did not improve from 0.25016\n",
      "329/329 - 12s - loss: 0.0197 - wmape: 0.2733 - val_loss: 0.0236 - val_wmape: 0.2549 - 12s/epoch - 35ms/step\n",
      "Epoch 9/10\n",
      "\n",
      "Epoch 9: val_wmape did not improve from 0.25016\n",
      "329/329 - 12s - loss: 0.0194 - wmape: 0.2711 - val_loss: 0.0254 - val_wmape: 0.2564 - 12s/epoch - 35ms/step\n",
      "Epoch 10/10\n",
      "\n",
      "Epoch 10: val_wmape did not improve from 0.25016\n",
      "329/329 - 11s - loss: 0.0192 - wmape: 0.2700 - val_loss: 0.0248 - val_wmape: 0.2567 - 11s/epoch - 35ms/step\n",
      "2/2 [==============================] - 0s 14ms/step - loss: 0.0238 - wmape: 0.2502\n",
      "2/2 [==============================] - 0s 13ms/step - loss: 0.0289 - wmape: 0.2864\n",
      "Epoch 1/10\n",
      "\n",
      "Epoch 1: val_wmape improved from inf to 0.24775, saving model to /home/mert/Desktop/thesis/artifacts/checkpoint\n",
      "329/329 - 13s - loss: 0.0194 - wmape: 0.2711 - val_loss: 0.0231 - val_wmape: 0.2478 - 13s/epoch - 40ms/step\n",
      "Epoch 2/10\n",
      "\n",
      "Epoch 2: val_wmape improved from 0.24775 to 0.24582, saving model to /home/mert/Desktop/thesis/artifacts/checkpoint\n",
      "329/329 - 12s - loss: 0.0190 - wmape: 0.2681 - val_loss: 0.0230 - val_wmape: 0.2458 - 12s/epoch - 35ms/step\n",
      "Epoch 3/10\n",
      "\n",
      "Epoch 3: val_wmape did not improve from 0.24582\n",
      "329/329 - 12s - loss: 0.0186 - wmape: 0.2655 - val_loss: 0.0232 - val_wmape: 0.2475 - 12s/epoch - 36ms/step\n",
      "Epoch 4/10\n",
      "\n",
      "Epoch 4: val_wmape did not improve from 0.24582\n",
      "329/329 - 12s - loss: 0.0184 - wmape: 0.2636 - val_loss: 0.0240 - val_wmape: 0.2494 - 12s/epoch - 35ms/step\n",
      "Epoch 5/10\n",
      "\n",
      "Epoch 5: val_wmape did not improve from 0.24582\n",
      "329/329 - 12s - loss: 0.0181 - wmape: 0.2613 - val_loss: 0.0235 - val_wmape: 0.2473 - 12s/epoch - 35ms/step\n",
      "Epoch 6/10\n",
      "\n",
      "Epoch 6: val_wmape improved from 0.24582 to 0.24582, saving model to /home/mert/Desktop/thesis/artifacts/checkpoint\n",
      "329/329 - 12s - loss: 0.0180 - wmape: 0.2600 - val_loss: 0.0236 - val_wmape: 0.2458 - 12s/epoch - 35ms/step\n",
      "Epoch 7/10\n",
      "\n",
      "Epoch 7: val_wmape did not improve from 0.24582\n",
      "329/329 - 12s - loss: 0.0176 - wmape: 0.2576 - val_loss: 0.0227 - val_wmape: 0.2462 - 12s/epoch - 35ms/step\n",
      "Epoch 8/10\n",
      "\n",
      "Epoch 8: val_wmape improved from 0.24582 to 0.24388, saving model to /home/mert/Desktop/thesis/artifacts/checkpoint\n",
      "329/329 - 12s - loss: 0.0175 - wmape: 0.2560 - val_loss: 0.0226 - val_wmape: 0.2439 - 12s/epoch - 35ms/step\n",
      "Epoch 9/10\n",
      "\n",
      "Epoch 9: val_wmape did not improve from 0.24388\n",
      "329/329 - 14s - loss: 0.0172 - wmape: 0.2545 - val_loss: 0.0233 - val_wmape: 0.2474 - 14s/epoch - 41ms/step\n",
      "Epoch 10/10\n",
      "\n",
      "Epoch 10: val_wmape improved from 0.24388 to 0.24308, saving model to /home/mert/Desktop/thesis/artifacts/checkpoint\n",
      "329/329 - 12s - loss: 0.0171 - wmape: 0.2536 - val_loss: 0.0224 - val_wmape: 0.2431 - 12s/epoch - 35ms/step\n",
      "2/2 [==============================] - 0s 16ms/step - loss: 0.0224 - wmape: 0.2431\n",
      "2/2 [==============================] - 0s 13ms/step - loss: 0.0289 - wmape: 0.2837\n",
      "Epoch 1/10\n",
      "\n",
      "Epoch 1: val_wmape improved from inf to 0.24615, saving model to /home/mert/Desktop/thesis/artifacts/checkpoint\n",
      "329/329 - 14s - loss: 0.4143 - wmape: 0.2597 - val_loss: 0.4727 - val_wmape: 0.2461 - 14s/epoch - 42ms/step\n",
      "Epoch 2/10\n",
      "\n",
      "Epoch 2: val_wmape did not improve from 0.24615\n",
      "329/329 - 12s - loss: 0.4133 - wmape: 0.2569 - val_loss: 0.4745 - val_wmape: 0.2492 - 12s/epoch - 36ms/step\n",
      "Epoch 3/10\n",
      "\n",
      "Epoch 3: val_wmape did not improve from 0.24615\n",
      "329/329 - 12s - loss: 0.4128 - wmape: 0.2561 - val_loss: 0.4739 - val_wmape: 0.2508 - 12s/epoch - 37ms/step\n",
      "Epoch 4/10\n",
      "\n",
      "Epoch 4: val_wmape improved from 0.24615 to 0.24609, saving model to /home/mert/Desktop/thesis/artifacts/checkpoint\n",
      "329/329 - 12s - loss: 0.4123 - wmape: 0.2548 - val_loss: 0.4726 - val_wmape: 0.2461 - 12s/epoch - 35ms/step\n",
      "Epoch 5/10\n",
      "\n",
      "Epoch 5: val_wmape did not improve from 0.24609\n",
      "329/329 - 12s - loss: 0.4120 - wmape: 0.2543 - val_loss: 0.4727 - val_wmape: 0.2483 - 12s/epoch - 36ms/step\n",
      "Epoch 6/10\n",
      "\n",
      "Epoch 6: val_wmape improved from 0.24609 to 0.24360, saving model to /home/mert/Desktop/thesis/artifacts/checkpoint\n",
      "329/329 - 13s - loss: 0.4117 - wmape: 0.2532 - val_loss: 0.4722 - val_wmape: 0.2436 - 13s/epoch - 39ms/step\n",
      "Epoch 7/10\n",
      "\n",
      "Epoch 7: val_wmape did not improve from 0.24360\n",
      "329/329 - 12s - loss: 0.4112 - wmape: 0.2518 - val_loss: 0.4773 - val_wmape: 0.2573 - 12s/epoch - 38ms/step\n",
      "Epoch 8/10\n",
      "\n",
      "Epoch 8: val_wmape did not improve from 0.24360\n",
      "329/329 - 12s - loss: 0.4109 - wmape: 0.2512 - val_loss: 0.4755 - val_wmape: 0.2484 - 12s/epoch - 35ms/step\n",
      "Epoch 9/10\n",
      "\n",
      "Epoch 9: val_wmape did not improve from 0.24360\n",
      "329/329 - 14s - loss: 0.4105 - wmape: 0.2501 - val_loss: 0.4749 - val_wmape: 0.2498 - 14s/epoch - 41ms/step\n",
      "Epoch 10/10\n",
      "\n",
      "Epoch 10: val_wmape did not improve from 0.24360\n",
      "329/329 - 12s - loss: 0.4102 - wmape: 0.2494 - val_loss: 0.4741 - val_wmape: 0.2447 - 12s/epoch - 37ms/step\n",
      "2/2 [==============================] - 0s 15ms/step - loss: 0.4722 - wmape: 0.2436\n",
      "2/2 [==============================] - 0s 16ms/step - loss: 0.4557 - wmape: 0.2799\n",
      "Epoch 1/10\n",
      "\n",
      "Epoch 1: val_wmape improved from inf to 0.23957, saving model to /home/mert/Desktop/thesis/artifacts/checkpoint\n",
      "329/329 - 14s - loss: 0.4094 - wmape: 0.2468 - val_loss: 0.4713 - val_wmape: 0.2396 - 14s/epoch - 42ms/step\n",
      "Epoch 2/10\n",
      "\n",
      "Epoch 2: val_wmape improved from 0.23957 to 0.23952, saving model to /home/mert/Desktop/thesis/artifacts/checkpoint\n",
      "329/329 - 12s - loss: 0.4090 - wmape: 0.2455 - val_loss: 0.4696 - val_wmape: 0.2395 - 12s/epoch - 37ms/step\n",
      "Epoch 3/10\n",
      "\n",
      "Epoch 3: val_wmape improved from 0.23952 to 0.23780, saving model to /home/mert/Desktop/thesis/artifacts/checkpoint\n",
      "329/329 - 12s - loss: 0.4083 - wmape: 0.2437 - val_loss: 0.4696 - val_wmape: 0.2378 - 12s/epoch - 37ms/step\n",
      "Epoch 4/10\n",
      "\n",
      "Epoch 4: val_wmape did not improve from 0.23780\n",
      "329/329 - 14s - loss: 0.4081 - wmape: 0.2431 - val_loss: 0.4712 - val_wmape: 0.2410 - 14s/epoch - 42ms/step\n",
      "Epoch 5/10\n",
      "\n",
      "Epoch 5: val_wmape did not improve from 0.23780\n",
      "329/329 - 12s - loss: 0.4075 - wmape: 0.2414 - val_loss: 0.4720 - val_wmape: 0.2429 - 12s/epoch - 36ms/step\n",
      "Epoch 6/10\n",
      "\n",
      "Epoch 6: val_wmape did not improve from 0.23780\n",
      "329/329 - 12s - loss: 0.4073 - wmape: 0.2407 - val_loss: 0.4698 - val_wmape: 0.2389 - 12s/epoch - 37ms/step\n",
      "Epoch 7/10\n",
      "\n",
      "Epoch 7: val_wmape did not improve from 0.23780\n",
      "329/329 - 12s - loss: 0.4070 - wmape: 0.2405 - val_loss: 0.4706 - val_wmape: 0.2398 - 12s/epoch - 35ms/step\n",
      "Epoch 8/10\n",
      "\n",
      "Epoch 8: val_wmape did not improve from 0.23780\n",
      "329/329 - 12s - loss: 0.4066 - wmape: 0.2389 - val_loss: 0.4711 - val_wmape: 0.2404 - 12s/epoch - 37ms/step\n",
      "Epoch 9/10\n",
      "\n",
      "Epoch 9: val_wmape did not improve from 0.23780\n",
      "329/329 - 13s - loss: 0.4062 - wmape: 0.2379 - val_loss: 0.4710 - val_wmape: 0.2398 - 13s/epoch - 40ms/step\n",
      "Epoch 10/10\n",
      "\n",
      "Epoch 10: val_wmape did not improve from 0.23780\n",
      "329/329 - 12s - loss: 0.4061 - wmape: 0.2376 - val_loss: 0.4708 - val_wmape: 0.2423 - 12s/epoch - 37ms/step\n",
      "2/2 [==============================] - 0s 15ms/step - loss: 0.4696 - wmape: 0.2378\n",
      "2/2 [==============================] - 0s 16ms/step - loss: 0.4582 - wmape: 0.2805\n"
     ]
    }
   ],
   "source": [
    "val_performance = {}\n",
    "performance = {}\n",
    "\n",
    "param_list = [\n",
    "    {\"loss\": \"mse\", \"optimizer\": \"rmsprop\"},\n",
    "    {\"loss\": \"mse\", \"optimizer\": \"adam\"},\n",
    "    {\"loss\": \"binary_crossentropy\", \"optimizer\": \"rmsprop\"},\n",
    "    {\"loss\": \"binary_crossentropy\", \"optimizer\": \"adam\"},\n",
    "]\n",
    "\n",
    "for param_dict in param_list:\n",
    "    model, history = compile_and_fit(model, window, max_epochs=10, verbose=2, **param_dict)\n",
    "    val_performance[\"-\".join(param_dict.values())] = model.evaluate(window.valid)\n",
    "    performance[\"-\".join(param_dict.values())] = model.evaluate(window.test)\n"
   ]
  },
  {
   "cell_type": "code",
   "execution_count": 23,
   "id": "826f0bda-5d7f-41c5-8913-ebc1c3adab0e",
   "metadata": {},
   "outputs": [
    {
     "data": {
      "text/plain": [
       "{'mse-rmsprop': [0.023771433159708977, 0.2501632571220398],\n",
       " 'mse-adam': [0.02239510975778103, 0.24308449029922485],\n",
       " 'binary_crossentropy-rmsprop': [0.47216397523880005, 0.243602454662323],\n",
       " 'binary_crossentropy-adam': [0.4695650041103363, 0.23780164122581482]}"
      ]
     },
     "execution_count": 23,
     "metadata": {},
     "output_type": "execute_result"
    }
   ],
   "source": [
    "val_performance"
   ]
  },
  {
   "cell_type": "code",
   "execution_count": 24,
   "id": "15cee647-bbe1-48a3-9eef-f9f3732d5787",
   "metadata": {},
   "outputs": [
    {
     "data": {
      "text/plain": [
       "{'mse-rmsprop': [0.028932960703969002, 0.2863962650299072],\n",
       " 'mse-adam': [0.02889716438949108, 0.28368452191352844],\n",
       " 'binary_crossentropy-rmsprop': [0.4557470679283142, 0.27987033128738403],\n",
       " 'binary_crossentropy-adam': [0.45821577310562134, 0.2805081009864807]}"
      ]
     },
     "execution_count": 24,
     "metadata": {},
     "output_type": "execute_result"
    }
   ],
   "source": [
    "performance"
   ]
  },
  {
   "cell_type": "code",
   "execution_count": 27,
   "id": "5ec90728-9a3b-4a02-8231-963623150f4e",
   "metadata": {},
   "outputs": [
    {
     "data": {
      "image/png": "[encoded data removed]",
      "text/plain": [
       "<Figure size 432x288 with 1 Axes>"
      ]
     },
     "metadata": {
      "needs_background": "light"
     },
     "output_type": "display_data"
    }
   ],
   "source": [
    "plot_metrics(performance, val_performance)"
   ]
  },
  {
   "cell_type": "code",
   "execution_count": 28,
   "id": "05f8c7e1-6902-4055-b57d-5d0aa357bc79",
   "metadata": {},
   "outputs": [
    {
     "data": {
      "image/png": "[encoded data removed]",
      "text/plain": [
       "<Figure size 432x288 with 1 Axes>"
      ]
     },
     "metadata": {
      "needs_background": "light"
     },
     "output_type": "display_data"
    }
   ],
   "source": [
    "plot_plantwise_predictions(model, window.test)"
   ]
  },
  {
   "cell_type": "code",
   "execution_count": 31,
   "id": "d90b3ec1-8bfa-4ed9-9aa1-dc8a246abde9",
   "metadata": {},
   "outputs": [
    {
     "data": {
      "image/png": "[encoded data removed]",
      "text/plain": [
       "<Figure size 432x288 with 1 Axes>"
      ]
     },
     "metadata": {
      "needs_background": "light"
     },
     "output_type": "display_data"
    }
   ],
   "source": [
    "plot_plantwise_predictions(model, window.valid)"
   ]
  },
  {
   "cell_type": "code",
   "execution_count": null,
   "id": "c6b5f8f7-6b5f-48f2-b32f-bbfcb0eb5210",
   "metadata": {},
   "outputs": [],
   "source": []
  },
  {
   "cell_type": "code",
   "execution_count": null,
   "id": "1ffc1435-9bca-4d01-8723-d10f0e477104",
   "metadata": {},
   "outputs": [],
   "source": []
  },
  {
   "cell_type": "code",
   "execution_count": null,
   "id": "9d291618-de22-4a5c-b87b-1b60979151a2",
   "metadata": {},
   "outputs": [],
   "source": []
  },
  {
   "cell_type": "code",
   "execution_count": null,
   "id": "55309646-1226-4a23-8abb-b23c8be544ec",
   "metadata": {},
   "outputs": [],
   "source": []
  },
  {
   "cell_type": "code",
   "execution_count": null,
   "id": "b00b1883-0a5c-4f55-b64c-76f48053a5a5",
   "metadata": {},
   "outputs": [],
   "source": []
  },
  {
   "cell_type": "code",
   "execution_count": null,
   "id": "deb4aa22-24de-4478-a6db-d1b67928d8e2",
   "metadata": {},
   "outputs": [],
   "source": []
  },
  {
   "cell_type": "code",
   "execution_count": null,
   "id": "9a4492b2-4107-4afb-a309-364d107857ee",
   "metadata": {},
   "outputs": [],
   "source": [
    "import wandb\n",
    "from wandb.keras import WandbCallback\n",
    "\n",
    "# wandb.init(project=\"graph\", entity=\"merts\")\n",
    "\n",
    "wandb.config = {\n",
    "  \"in_feat\": 17,\n",
    "  \"epochs\": 50,\n",
    "  \"batch_size\": 64,\n",
    "    \"aggregation_type\": \"mean\",\n",
    "    \"combination_type\": \"concat\",\n",
    "    \"activation\": None,\n",
    "}"
   ]
  },
  {
   "cell_type": "code",
   "execution_count": null,
   "id": "8195fd32-17de-45ce-aa2f-562f715831ee",
   "metadata": {},
   "outputs": [],
   "source": []
  },
  {
   "cell_type": "code",
   "execution_count": null,
   "id": "fc615a76-963b-47d2-9214-870125dadcbd",
   "metadata": {},
   "outputs": [],
   "source": []
  },
  {
   "cell_type": "code",
   "execution_count": null,
   "id": "626aa7b3-3c4b-4074-914c-d56b4a7ccdf6",
   "metadata": {},
   "outputs": [],
   "source": [
    "NUM_NODES=df.rt_plant_id.nunique()\n",
    "IN_FEAT = 17\n",
    "BATCH_SIZE = 64\n",
    "epochs = 1\n",
    "INPUT_SEQ_LEN = 48\n",
    "forecast_horizon = 24\n",
    "multi_horizon = True\n",
    "OUT_FEAT = 128\n",
    "lstm_units = 64\n",
    "graph_conv_params = {\n",
    "    \"aggregation_type\": \"mean\", # sum, max\n",
    "    \"combination_type\": \"concat\", # add\n",
    "    \"activation\": None,\n",
    "}\n",
    "\n",
    "def wmape(y_true, y_pred):\n",
    "    total_abs_diff = tf.reduce_sum(tf.abs(tf.subtract(y_true, y_pred)))\n",
    "    total = tf.reduce_sum(y_true)\n",
    "    wmape = tf.realdiv(total_abs_diff, total)\n",
    "    return wmape\n",
    "\n",
    "\n",
    "st_gcn = LSTMGC(\n",
    "    IN_FEAT,\n",
    "    OUT_FEAT,\n",
    "    lstm_units,\n",
    "    INPUT_SEQ_LEN,\n",
    "    forecast_horizon,\n",
    "    graph,\n",
    "    graph_conv_params,\n",
    ")\n",
    "inputs = layers.Input((INPUT_SEQ_LEN, graph.num_nodes, IN_FEAT))\n",
    "outputs = st_gcn(inputs)\n",
    "\n",
    "model = keras.models.Model(inputs, outputs)\n",
    "model.compile(optimizer=keras.optimizers.RMSprop(learning_rate=0.0002),loss=\"mse\", metrics=[\"mse\", wmape],)\n",
    "print(model.summary())\n",
    "model.fit(window.train, validation_data=window.valid, epochs=epochs, callbacks=[keras.callbacks.EarlyStopping(patience=5)]) # , WandbCallback()])"
   ]
  },
  {
   "cell_type": "code",
   "execution_count": null,
   "id": "6ca57ebf-c71c-477e-9c8f-934d46cc746d",
   "metadata": {},
   "outputs": [],
   "source": []
  },
  {
   "cell_type": "code",
   "execution_count": null,
   "id": "8f209104-6ce4-4c70-a0e5-54091b224684",
   "metadata": {},
   "outputs": [],
   "source": []
  },
  {
   "cell_type": "code",
   "execution_count": null,
   "id": "81158f27-9422-418a-9513-169cefd64378",
   "metadata": {},
   "outputs": [],
   "source": []
  },
  {
   "cell_type": "code",
   "execution_count": null,
   "id": "ecafb2d6-eefa-485b-8579-dc7cc5a4ac08",
   "metadata": {},
   "outputs": [],
   "source": []
  },
  {
   "cell_type": "code",
   "execution_count": null,
   "id": "bfb3de18-2cd0-4fa6-8010-2bb2cd11346c",
   "metadata": {},
   "outputs": [],
   "source": [
    "test_df.shape"
   ]
  },
  {
   "cell_type": "code",
   "execution_count": null,
   "id": "de9b8cbf-8f72-4238-a3d9-dc038ead87b9",
   "metadata": {},
   "outputs": [],
   "source": [
    "import matplotlib.pyplot as plt"
   ]
  },
  {
   "cell_type": "code",
   "execution_count": null,
   "id": "d963ec32-a892-4ab5-b048-e1f8fe492ccc",
   "metadata": {},
   "outputs": [],
   "source": [
    "x_test, y = next(window.test.as_numpy_iterator())\n",
    "y_pred = model.predict(x_test)\n",
    "\n",
    "plt.figure(figsize=(18, 6))\n",
    "plant_id = 9\n",
    "\n",
    "plt.plot(y[:, :, plant_id, 0].flatten())\n",
    "plt.plot(y_pred[:, :, plant_id].flatten())\n",
    "plt.legend([\"actual\", \"forecast\"])"
   ]
  },
  {
   "cell_type": "code",
   "execution_count": null,
   "id": "7dd31bbc-7a79-46b8-906f-fcee3d8e28cb",
   "metadata": {},
   "outputs": [],
   "source": [
    "from utils.tf_helpers import calculate_plantwise_wmape"
   ]
  },
  {
   "cell_type": "code",
   "execution_count": null,
   "id": "68713266-46f0-42ad-bde9-d183c2da2375",
   "metadata": {},
   "outputs": [],
   "source": [
    "calculate_plantwise_wmape(model, window, plants)"
   ]
  },
  {
   "cell_type": "code",
   "execution_count": null,
   "id": "a5bc5500-9f7e-4967-96e3-76ef744b8f9c",
   "metadata": {},
   "outputs": [],
   "source": []
  },
  {
   "cell_type": "code",
   "execution_count": null,
   "id": "ec712609-4b74-4594-9296-f7958fe4af28",
   "metadata": {},
   "outputs": [],
   "source": []
  },
  {
   "cell_type": "code",
   "execution_count": null,
   "id": "c1c8e1bf-d74b-475a-aaa9-f98f5f9684ea",
   "metadata": {},
   "outputs": [],
   "source": []
  },
  {
   "cell_type": "code",
   "execution_count": null,
   "id": "d929d17d-5c0d-4aef-b46a-c5b19f02e278",
   "metadata": {},
   "outputs": [],
   "source": [
    "inp_seq = Input((sequence_length, 10))\n",
    "inp_lap = Input((10, 10))\n",
    "inp_feat = Input((10, X_train_feat.shape[-1]))\n",
    "x = GraphConv(32, activation='relu')([inp_feat, inp_lap])\n",
    "x = GraphConv(16, activation='relu')([x, inp_lap])\n",
    "x = Flatten()(x)\n",
    "xx = LSTM(128, activation='relu',return_sequences=True)(inp_seq)\n",
    "xx = LSTM(32, activation='relu')(xx)\n",
    "x = Concatenate()([x,xx])\n",
    "x = BatchNormalization()(x)\n",
    "x = Dropout(0.5)(x)\n",
    "x = Dense(128, activation='relu')(x)\n",
    "x = Dense(32, activation='relu')(x)\n",
    "x = Dropout(0.3)(x)\n",
    "out = Dense(1)(x)\n",
    "model = Model([inp_seq, inp_lap, inp_feat], out)"
   ]
  }
 ],
 "metadata": {
  "kernelspec": {
   "display_name": "Python 3 (ipykernel)",
   "language": "python",
   "name": "python3"
  },
  "language_info": {
   "codemirror_mode": {
    "name": "ipython",
    "version": 3
   },
   "file_extension": ".py",
   "mimetype": "text/x-python",
   "name": "python",
   "nbconvert_exporter": "python",
   "pygments_lexer": "ipython3",
   "version": "3.9.0"
  }
 },
 "nbformat": 4,
 "nbformat_minor": 5
}
