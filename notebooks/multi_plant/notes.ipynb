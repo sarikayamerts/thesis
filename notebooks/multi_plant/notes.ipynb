{
 "cells": [
  {
   "cell_type": "markdown",
   "id": "00727fa2-d9de-4d45-aa24-5cd762edf242",
   "metadata": {},
   "source": [
    "# Notes"
   ]
  },
  {
   "cell_type": "markdown",
   "id": "1c8b67d8-3753-4dd2-b554-fcce4ea012d5",
   "metadata": {},
   "source": [
    "- stellargraph\n",
    "- spektral\n",
    "- pytorch-geometric-temporal\n",
    "- dgl"
   ]
  },
  {
   "cell_type": "markdown",
   "id": "941eed2b-5bca-4767-94a6-51ff8c9eb4eb",
   "metadata": {},
   "source": [
    "# Meeting Notes"
   ]
  },
  {
   "cell_type": "markdown",
   "id": "329c853b-4abf-4a68-b797-e6e2dcd2615d",
   "metadata": {},
   "source": [
    "### 22 nisan"
   ]
  },
  {
   "cell_type": "markdown",
   "id": "36c28ca4-b09b-47a4-ab2e-5aa598a3c078",
   "metadata": {},
   "source": [
    "plant id dimensionı üzerinde\n",
    "\n",
    "- 2 modeli kıyaslamak için birbiriyle ilişkili scatter plot üzerinde errorları plot ettir \n",
    "- friedman test, rank based mean difference \n",
    "- nemenyi test, meanler arasında significant \n",
    "\n",
    "https://github.com/hfawaz/cd-diagram/blob/master/main.py\n",
    "\n",
    "https://medium.com/@catur.supriyanto/how-to-visualize-the-nemenyi-and-bonferroni-dunn-diagrams-in-python-aa6a311f1cee\n",
    "\n",
    "literature review'e girmeden yöntemlerle uğraşırken bunları açıklamak, modelleri açıklama, problem definition, parameters naming, görseller falan"
   ]
  },
  {
   "cell_type": "markdown",
   "id": "1aebb74c-0a56-4ed1-96bf-efc24880c12c",
   "metadata": {},
   "source": []
  },
  {
   "cell_type": "markdown",
   "id": "c37a75b2-42b6-4f24-a413-70e17d1da4d5",
   "metadata": {},
   "source": []
  },
  {
   "cell_type": "markdown",
   "id": "3e68ec91-89e6-4ac0-a6d2-476d22b871d8",
   "metadata": {},
   "source": []
  },
  {
   "cell_type": "markdown",
   "id": "6f3a909b-6716-46b5-bd66-73c85f892cdd",
   "metadata": {},
   "source": []
  },
  {
   "cell_type": "markdown",
   "id": "ec2fc98f-1924-4aac-b845-481047c28757",
   "metadata": {},
   "source": []
  }
 ],
 "metadata": {
  "kernelspec": {
   "display_name": "Python 3 (ipykernel)",
   "language": "python",
   "name": "python3"
  },
  "language_info": {
   "codemirror_mode": {
    "name": "ipython",
    "version": 3
   },
   "file_extension": ".py",
   "mimetype": "text/x-python",
   "name": "python",
   "nbconvert_exporter": "python",
   "pygments_lexer": "ipython3",
   "version": "3.9.0"
  }
 },
 "nbformat": 4,
 "nbformat_minor": 5
}
