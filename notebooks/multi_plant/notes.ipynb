{
 "cells": [
  {
   "cell_type": "markdown",
   "id": "5219d15d",
   "metadata": {},
   "source": [
    "# ToDo"
   ]
  },
  {
   "cell_type": "markdown",
   "id": "39254f86",
   "metadata": {},
   "source": [
    "- Wandb colab'de çalışacak şekilde configure et\n",
    "- window input width output shape falan farklı farklı dene, gelecekten getirmek işe yarıyor mu\n",
    "- 0-48 train 24-48 predict periyot mantığı işliyor day ahead için, 0-30 6-30 mantığında sorun var mı bunu düşün\n",
    "- Modelleri açıkladığın bir başlık yaz, elifin tarkanın ismailin tezlerine bakarak\n",
    "- Datayı hazırladığın yeri koy, featurelar, tensor yapısı\n",
    "\n",
    "- Elimizdeki yöntemler\n",
    "  - Dense (with & without parameter sharing within layer)\n",
    "  - Conv + Dense\n",
    "  - Conv + LSTM + Dense\n",
    "  - LSTM + Dense\n",
    "  - GraphConv + LSTM + Dense\n",
    "\n",
    "\n",
    "\n",
    "\n",
    "\n",
    "#### Denenecekler\n",
    "* LSTM Bidirectional\n",
    "* Conv Separable"
   ]
  },
  {
   "cell_type": "markdown",
   "id": "80bfcfb5",
   "metadata": {},
   "source": []
  },
  {
   "cell_type": "markdown",
   "id": "b2d39c15",
   "metadata": {},
   "source": []
  },
  {
   "cell_type": "markdown",
   "id": "00727fa2-d9de-4d45-aa24-5cd762edf242",
   "metadata": {},
   "source": [
    "# Notes"
   ]
  },
  {
   "cell_type": "markdown",
   "id": "1c8b67d8-3753-4dd2-b554-fcce4ea012d5",
   "metadata": {},
   "source": [
    "- stellargraph\n",
    "- spektral\n",
    "- pytorch-geometric-temporal\n",
    "- dgl"
   ]
  },
  {
   "cell_type": "markdown",
   "id": "807294bb-368a-4229-96d0-b995097e6681",
   "metadata": {},
   "source": [
    "- BaseKeras'ı git'e pushla\n",
    "- colab üzerinden base keras'ı ve spektrali çalıştır"
   ]
  },
  {
   "cell_type": "markdown",
   "id": "941eed2b-5bca-4767-94a6-51ff8c9eb4eb",
   "metadata": {},
   "source": [
    "# Meeting Notes"
   ]
  },
  {
   "cell_type": "markdown",
   "id": "329c853b-4abf-4a68-b797-e6e2dcd2615d",
   "metadata": {},
   "source": [
    "### 22 nisan"
   ]
  },
  {
   "cell_type": "markdown",
   "id": "36c28ca4-b09b-47a4-ab2e-5aa598a3c078",
   "metadata": {},
   "source": [
    "plant id dimensionı üzerinde\n",
    "\n",
    "- 2 modeli kıyaslamak için birbiriyle ilişkili scatter plot üzerinde errorları plot ettir \n",
    "- friedman test, rank based mean difference \n",
    "- nemenyi test, meanler arasında significant \n",
    "\n",
    "https://github.com/hfawaz/cd-diagram/blob/master/main.py\n",
    "\n",
    "https://medium.com/@catur.supriyanto/how-to-visualize-the-nemenyi-and-bonferroni-dunn-diagrams-in-python-aa6a311f1cee\n",
    "\n",
    "literature review'e girmeden yöntemlerle uğraşırken bunları açıklamak, modelleri açıklama, problem definition, parameters naming, görseller falan"
   ]
  },
  {
   "cell_type": "markdown",
   "id": "f2fb715a-230e-4b70-8454-801d3ddcda42",
   "metadata": {},
   "source": [
    "### 27 Nisan"
   ]
  },
  {
   "cell_type": "markdown",
   "id": "230b986e-8dbc-456a-8ab3-beefa21fb02b",
   "metadata": {},
   "source": [
    "- methodlarımızı train validation test içinde tune et\n",
    "- hangi tür parametrelerde dolaşıcaz\n",
    "- convolution tarafında uzun epoch numberlı hyperparam opt işine bak\n",
    "    - lr\n",
    "    - loss\n",
    "    - optimizer\n",
    "- structure'ı tut, update edebilirsin ileride parça parça modeli yeniden train edeceksek, 3 aylık falan\n",
    "- bu şart değil, gidişata göre karar vericez\n",
    "- biz şu tip nwp kullanıyoruz, geçmişte train ederken de gerçek hava durumunu değil de nwp değerlerinin latestlarını kullaıyoruz\n",
    "- 6 saatte bir değişiyor bunlar, biz de ltı saatte bir güncelliyoruz modelleri\n",
    "\n",
    "https://github.com/clcarwin/focal_loss_pytorch\n",
    "https://maxhalford.github.io/blog/lightgbm-focal-loss/#benchmarks\n",
    "\n",
    "- geleceği alma işine de bi bak, kolay mı\n",
    "- amacımız bunları jpint öğrenmek ne akdar bir şey katıyor\n"
   ]
  },
  {
   "cell_type": "code",
   "execution_count": null,
   "id": "f517abaa-bc06-4e1e-a989-b61a44a531ae",
   "metadata": {},
   "outputs": [],
   "source": []
  },
  {
   "cell_type": "markdown",
   "id": "c37a75b2-42b6-4f24-a413-70e17d1da4d5",
   "metadata": {},
   "source": []
  },
  {
   "cell_type": "markdown",
   "id": "3e68ec91-89e6-4ac0-a6d2-476d22b871d8",
   "metadata": {},
   "source": []
  },
  {
   "cell_type": "markdown",
   "id": "6f3a909b-6716-46b5-bd66-73c85f892cdd",
   "metadata": {},
   "source": []
  },
  {
   "cell_type": "markdown",
   "id": "ec2fc98f-1924-4aac-b845-481047c28757",
   "metadata": {},
   "source": []
  }
 ],
 "metadata": {
  "kernelspec": {
   "display_name": "Python 3 (ipykernel)",
   "language": "python",
   "name": "python3"
  },
  "language_info": {
   "codemirror_mode": {
    "name": "ipython",
    "version": 3
   },
   "file_extension": ".py",
   "mimetype": "text/x-python",
   "name": "python",
   "nbconvert_exporter": "python",
   "pygments_lexer": "ipython3",
   "version": "3.9.0"
  }
 },
 "nbformat": 4,
 "nbformat_minor": 5
}
