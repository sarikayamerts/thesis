{
 "cells": [
  {
   "cell_type": "markdown",
   "metadata": {},
   "source": [
    "# Notes\n",
    "\n",
    "- Overall wmape hesapla, plant ve month dimensionı olmadan, hem cnn için hem lgb için"
   ]
  },
  {
   "cell_type": "code",
   "execution_count": 1,
   "metadata": {},
   "outputs": [],
   "source": [
    "# !pip install lightgbm"
   ]
  },
  {
   "cell_type": "code",
   "execution_count": 2,
   "metadata": {},
   "outputs": [],
   "source": [
    "import pandas as pd\n",
    "import lightgbm as lgb\n",
    "import numpy as np\n",
    "\n",
    "# suppress warnings\n",
    "import warnings\n",
    "warnings.filterwarnings(\"ignore\")"
   ]
  },
  {
   "cell_type": "code",
   "execution_count": 41,
   "metadata": {},
   "outputs": [],
   "source": [
    "df = pd.read_parquet(\"../data/processed/outlier_removed.parquet\")\n",
    "weather_cols = [col for col in df.columns if col.startswith((\"UGRD\", \"VGRD\"))]\n",
    "df = df[[\"forecast_dt\", \"rt_plant_id\", \"production\", *weather_cols]]"
   ]
  },
  {
   "cell_type": "code",
   "execution_count": 42,
   "metadata": {},
   "outputs": [],
   "source": [
    "from sklearn.preprocessing import MinMaxScaler as scaler_\n",
    "scalers = {}\n",
    "lower_bound = 1e-8\n",
    "\n",
    "for i, plant in enumerate(df.rt_plant_id.unique()):\n",
    "    scalers[plant] = scaler_()\n",
    "    cols = [\"production\", *weather_cols]\n",
    "    df.loc[df[\"rt_plant_id\"] == plant, cols] = scalers[plant].fit_transform(df.loc[df[\"rt_plant_id\"] == plant, cols]).clip(min=lower_bound, max=1-lower_bound)"
   ]
  },
  {
   "cell_type": "code",
   "execution_count": 43,
   "metadata": {},
   "outputs": [],
   "source": [
    "TRAIN_END = pd.Timestamp(\"2020-10-01\")\n",
    "VALID_START = TRAIN_END\n",
    "VALID_END = VALID_START + pd.Timedelta(days=92)\n",
    "TEST_START = VALID_END\n",
    "TEST_END = TEST_START + pd.Timedelta(days=365)"
   ]
  },
  {
   "cell_type": "code",
   "execution_count": 44,
   "metadata": {},
   "outputs": [],
   "source": [
    "for box in [\"SW\", \"NW\", \"NE\", \"SE\"]:\n",
    "    df[f\"speed_{box}\"] = np.sqrt(np.square(df[f\"UGRD_80.m.above.ground.{box}\"]) + np.square(df[f\"VGRD_80.m.above.ground.{box}\"]))\n",
    "    df[f\"angle_{box}\"] = np.arctan(df[f\"UGRD_80.m.above.ground.{box}\"] / df[f\"VGRD_80.m.above.ground.{box}\"])"
   ]
  },
  {
   "cell_type": "code",
   "execution_count": 45,
   "metadata": {},
   "outputs": [],
   "source": [
    "df = df.sort_values([\"rt_plant_id\", \"forecast_dt\"])\n",
    "train_indexes = df[df.forecast_dt < TRAIN_END].index\n",
    "valid_indexes = df[(df.forecast_dt >= VALID_START) & (df.forecast_dt < VALID_END)].index\n",
    "test_indexes = df[(df.forecast_dt >= TEST_START) & (df.forecast_dt < TEST_END)].index"
   ]
  },
  {
   "cell_type": "code",
   "execution_count": 46,
   "metadata": {},
   "outputs": [],
   "source": [
    "y_test = df.loc[test_indexes, \"production\"].copy()\n",
    "df.loc[test_indexes, \"production\"] = np.nan"
   ]
  },
  {
   "cell_type": "code",
   "execution_count": 47,
   "metadata": {},
   "outputs": [],
   "source": [
    "train_df = df.loc[train_indexes]\n",
    "valid_df = df.loc[valid_indexes]\n",
    "test_df = df.loc[test_indexes]"
   ]
  },
  {
   "cell_type": "code",
   "execution_count": 48,
   "metadata": {},
   "outputs": [
    {
     "name": "stdout",
     "output_type": "stream",
     "text": [
      "(1330290, 19) (198720, 19) (788400, 19)\n"
     ]
    }
   ],
   "source": [
    "print(train_df.shape, valid_df.shape, test_df.shape)"
   ]
  },
  {
   "cell_type": "code",
   "execution_count": 49,
   "metadata": {},
   "outputs": [],
   "source": [
    "train_df = train_df.dropna()\n",
    "y_train = train_df[\"production\"]\n",
    "X_train = train_df.drop(columns=[\"forecast_dt\", \"production\"])\n",
    "\n",
    "y_valid = valid_df[\"production\"]\n",
    "X_valid = valid_df.drop(columns=[\"forecast_dt\", \"production\"])\n",
    "\n",
    "# y_test = test_df[\"production\"]\n",
    "X_test = test_df.drop(columns=[\"forecast_dt\", \"production\"])\n",
    "\n",
    "# for col in [\"rt_plant_id\", \"hour\", \"dayofweek\"]:\n",
    "for col in [\"rt_plant_id\"]:\n",
    "    X_train[col] = X_train[col].astype(\"category\")\n",
    "    X_valid[col] = X_valid[col].astype(\"category\")\n",
    "    X_test[col] = X_test[col].astype(\"category\")"
   ]
  },
  {
   "cell_type": "code",
   "execution_count": 107,
   "metadata": {},
   "outputs": [
    {
     "name": "stdout",
     "output_type": "stream",
     "text": [
      "Starting training...\n",
      "[LightGBM] [Warning] categorical_feature is set=rt_plant_id,hour,dayofweek, categorical_column=0 will be ignored. Current value: categorical_feature=rt_plant_id,hour,dayofweek\n",
      "[LightGBM] [Info] [cross_entropy:Init]: (metric) labels passed interval [0, 1] check\n",
      "[LightGBM] [Info] [cross_entropy:Init]: sum-of-weights = 1330290.000000\n",
      "[LightGBM] [Warning] Auto-choosing row-wise multi-threading, the overhead of testing was 0.009971 seconds.\n",
      "You can set `force_row_wise=true` to remove the overhead.\n",
      "And if memory is not enough, you can set `force_col_wise=true`.\n",
      "[LightGBM] [Info] Total Bins 4171\n",
      "[LightGBM] [Info] Number of data points in the train set: 1330290, number of used features: 17\n",
      "[LightGBM] [Info] [cross_entropy:Init]: (metric) labels passed interval [0, 1] check\n",
      "[LightGBM] [Info] [cross_entropy:Init]: sum-of-weights = 198720.000000\n",
      "[LightGBM] [Info] Start training from score 0.354652\n",
      "Training until validation scores don't improve for 50 rounds\n",
      "Did not meet early stopping. Best iteration is:\n",
      "[494]\tvalid_0's cross_entropy: 0.409379\n"
     ]
    }
   ],
   "source": [
    "lgb_train = lgb.Dataset(X_train, y_train)\n",
    "lgb_eval = lgb.Dataset(X_valid, y_valid, reference=lgb_train)\n",
    "\n",
    "params = {\n",
    "    'boosting_type': 'gbdt',\n",
    "    'objective': 'regression',\n",
    "    \"num_boost_round\": 500,\n",
    "    \"metric\": \"cross_entropy\",\n",
    "    # \"metric\": [\"l2\", \"l1\"],\n",
    "    # 'metric': {'l2', 'l1'},\n",
    "    # 'num_leaves': 51,\n",
    "    # 'learning_rate': 0.03,\n",
    "    # 'feature_fraction': 0.9,\n",
    "    # 'bagging_fraction': 0.8,\n",
    "    # 'bagging_freq': 5,\n",
    "    'verbose': 1,\n",
    "    \"categorical_feature\": [\"rt_plant_id\", \"hour\", \"dayofweek\"]\n",
    "}\n",
    "\n",
    "print('Starting training...')\n",
    "# train\n",
    "gbm = lgb.train(params,\n",
    "                lgb_train,\n",
    "                valid_sets=lgb_eval,\n",
    "                callbacks=[lgb.early_stopping(stopping_rounds=50)]\n",
    "                )\n"
   ]
  },
  {
   "cell_type": "code",
   "execution_count": 108,
   "metadata": {},
   "outputs": [
    {
     "name": "stdout",
     "output_type": "stream",
     "text": [
      "Starting predicting...\n",
      "The RMSE of prediction is: 0.1852403197085925\n"
     ]
    }
   ],
   "source": [
    "# print('Saving model...')\n",
    "# save model to file\n",
    "# gbm.save_model('model.txt')\n",
    "\n",
    "print('Starting predicting...')\n",
    "# predict\n",
    "y_pred = gbm.predict(X_test, num_iteration=gbm.best_iteration)\n",
    "# eval\n",
    "from sklearn.metrics import mean_squared_error\n",
    "rmse_test = mean_squared_error(y_test, y_pred) ** 0.5\n",
    "print(f'The RMSE of prediction is: {rmse_test}')"
   ]
  },
  {
   "cell_type": "code",
   "execution_count": 109,
   "metadata": {},
   "outputs": [],
   "source": [
    "import numpy as np\n",
    "\n",
    "def calculate_wmape(preds, actuals):\n",
    "    return np.sum(np.abs(preds-actuals)) / np.sum(np.abs(actuals))\n",
    "\n",
    "def calculate_bias(preds, actuals):\n",
    "    return np.sum(preds-actuals) / np.sum(actuals)"
   ]
  },
  {
   "cell_type": "code",
   "execution_count": 110,
   "metadata": {},
   "outputs": [
    {
     "data": {
      "text/plain": [
       "0.34256397723929133"
      ]
     },
     "execution_count": 110,
     "metadata": {},
     "output_type": "execute_result"
    }
   ],
   "source": [
    "calculate_wmape(y_pred, y_test)"
   ]
  },
  {
   "cell_type": "code",
   "execution_count": 111,
   "metadata": {},
   "outputs": [
    {
     "data": {
      "text/plain": [
       "-0.040827540264828675"
      ]
     },
     "execution_count": 111,
     "metadata": {},
     "output_type": "execute_result"
    }
   ],
   "source": [
    "calculate_bias(y_pred, y_test)"
   ]
  },
  {
   "cell_type": "code",
   "execution_count": 112,
   "metadata": {},
   "outputs": [],
   "source": [
    "output_df = test_df[[\"forecast_dt\", \"rt_plant_id\"]].copy()\n",
    "output_df[\"predictions\"] = y_pred\n",
    "output_df[\"actuals\"] = y_test"
   ]
  },
  {
   "cell_type": "code",
   "execution_count": 113,
   "metadata": {},
   "outputs": [],
   "source": [
    "output_df.to_csv(\"/home/mert/Desktop/thesis/data/out/lightgbm_output.csv\", index=False)"
   ]
  },
  {
   "cell_type": "code",
   "execution_count": 114,
   "metadata": {},
   "outputs": [
    {
     "data": {
      "text/html": [
       "<div>\n",
       "<style scoped>\n",
       "    .dataframe tbody tr th:only-of-type {\n",
       "        vertical-align: middle;\n",
       "    }\n",
       "\n",
       "    .dataframe tbody tr th {\n",
       "        vertical-align: top;\n",
       "    }\n",
       "\n",
       "    .dataframe thead th {\n",
       "        text-align: right;\n",
       "    }\n",
       "</style>\n",
       "<table border=\"1\" class=\"dataframe\">\n",
       "  <thead>\n",
       "    <tr style=\"text-align: right;\">\n",
       "      <th></th>\n",
       "      <th>forecast_dt</th>\n",
       "      <th>rt_plant_id</th>\n",
       "      <th>predictions</th>\n",
       "      <th>actuals</th>\n",
       "    </tr>\n",
       "  </thead>\n",
       "  <tbody>\n",
       "    <tr>\n",
       "      <th>16989</th>\n",
       "      <td>2021-01-01 00:00:00</td>\n",
       "      <td>672</td>\n",
       "      <td>0.901268</td>\n",
       "      <td>0.965714</td>\n",
       "    </tr>\n",
       "    <tr>\n",
       "      <th>16990</th>\n",
       "      <td>2021-01-01 01:00:00</td>\n",
       "      <td>672</td>\n",
       "      <td>0.893004</td>\n",
       "      <td>0.404571</td>\n",
       "    </tr>\n",
       "    <tr>\n",
       "      <th>16991</th>\n",
       "      <td>2021-01-01 02:00:00</td>\n",
       "      <td>672</td>\n",
       "      <td>0.894403</td>\n",
       "      <td>0.334857</td>\n",
       "    </tr>\n",
       "    <tr>\n",
       "      <th>16992</th>\n",
       "      <td>2021-01-01 03:00:00</td>\n",
       "      <td>672</td>\n",
       "      <td>0.873337</td>\n",
       "      <td>0.437714</td>\n",
       "    </tr>\n",
       "    <tr>\n",
       "      <th>16993</th>\n",
       "      <td>2021-01-01 04:00:00</td>\n",
       "      <td>672</td>\n",
       "      <td>0.755697</td>\n",
       "      <td>0.426286</td>\n",
       "    </tr>\n",
       "    <tr>\n",
       "      <th>...</th>\n",
       "      <td>...</td>\n",
       "      <td>...</td>\n",
       "      <td>...</td>\n",
       "      <td>...</td>\n",
       "    </tr>\n",
       "    <tr>\n",
       "      <th>2480665</th>\n",
       "      <td>2021-12-31 19:00:00</td>\n",
       "      <td>2374</td>\n",
       "      <td>0.188697</td>\n",
       "      <td>0.025000</td>\n",
       "    </tr>\n",
       "    <tr>\n",
       "      <th>2480666</th>\n",
       "      <td>2021-12-31 20:00:00</td>\n",
       "      <td>2374</td>\n",
       "      <td>0.241482</td>\n",
       "      <td>0.130000</td>\n",
       "    </tr>\n",
       "    <tr>\n",
       "      <th>2480667</th>\n",
       "      <td>2021-12-31 21:00:00</td>\n",
       "      <td>2374</td>\n",
       "      <td>0.267678</td>\n",
       "      <td>0.280000</td>\n",
       "    </tr>\n",
       "    <tr>\n",
       "      <th>2480668</th>\n",
       "      <td>2021-12-31 22:00:00</td>\n",
       "      <td>2374</td>\n",
       "      <td>0.299181</td>\n",
       "      <td>0.310000</td>\n",
       "    </tr>\n",
       "    <tr>\n",
       "      <th>2480669</th>\n",
       "      <td>2021-12-31 23:00:00</td>\n",
       "      <td>2374</td>\n",
       "      <td>0.255748</td>\n",
       "      <td>0.286500</td>\n",
       "    </tr>\n",
       "  </tbody>\n",
       "</table>\n",
       "<p>788400 rows × 4 columns</p>\n",
       "</div>"
      ],
      "text/plain": [
       "                forecast_dt  rt_plant_id  predictions   actuals\n",
       "16989   2021-01-01 00:00:00          672     0.901268  0.965714\n",
       "16990   2021-01-01 01:00:00          672     0.893004  0.404571\n",
       "16991   2021-01-01 02:00:00          672     0.894403  0.334857\n",
       "16992   2021-01-01 03:00:00          672     0.873337  0.437714\n",
       "16993   2021-01-01 04:00:00          672     0.755697  0.426286\n",
       "...                     ...          ...          ...       ...\n",
       "2480665 2021-12-31 19:00:00         2374     0.188697  0.025000\n",
       "2480666 2021-12-31 20:00:00         2374     0.241482  0.130000\n",
       "2480667 2021-12-31 21:00:00         2374     0.267678  0.280000\n",
       "2480668 2021-12-31 22:00:00         2374     0.299181  0.310000\n",
       "2480669 2021-12-31 23:00:00         2374     0.255748  0.286500\n",
       "\n",
       "[788400 rows x 4 columns]"
      ]
     },
     "execution_count": 114,
     "metadata": {},
     "output_type": "execute_result"
    }
   ],
   "source": [
    "output_df"
   ]
  },
  {
   "cell_type": "code",
   "execution_count": null,
   "metadata": {},
   "outputs": [],
   "source": []
  }
 ],
 "metadata": {
  "interpreter": {
   "hash": "3101b2c80d66a6543ff34d47ca09bd4d72b95f0f8bb6d61c06edb00070ba9e48"
  },
  "kernelspec": {
   "display_name": "Python 3 (ipykernel)",
   "language": "python",
   "name": "python3"
  },
  "language_info": {
   "codemirror_mode": {
    "name": "ipython",
    "version": 3
   },
   "file_extension": ".py",
   "mimetype": "text/x-python",
   "name": "python",
   "nbconvert_exporter": "python",
   "pygments_lexer": "ipython3",
   "version": "3.9.0"
  }
 },
 "nbformat": 4,
 "nbformat_minor": 4
}
