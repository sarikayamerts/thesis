{
 "cells": [
  {
   "cell_type": "code",
   "execution_count": 1,
   "id": "37d47dcb-4579-490b-874e-97c6eea3e12e",
   "metadata": {},
   "outputs": [],
   "source": [
    "%load_ext autoreload\n",
    "%autoreload 2"
   ]
  },
  {
   "cell_type": "code",
   "execution_count": 2,
   "id": "4f179721-2081-413c-ae0a-eb85209acac1",
   "metadata": {},
   "outputs": [],
   "source": [
    "import subprocess; FOLDER_PATH = subprocess.Popen(['git', 'rev-parse', '--show-toplevel'], stdout=subprocess.PIPE).communicate()[0].rstrip().decode('utf-8')\n",
    "import warnings; warnings.filterwarnings(\"ignore\")\n",
    "import sys, os; sys.path.append(os.path.dirname(f'{FOLDER_PATH}/utils')); sys.path.append(os.path.dirname(f'{FOLDER_PATH}/scripts'))"
   ]
  },
  {
   "cell_type": "code",
   "execution_count": 3,
   "id": "cfba3905-7087-40b5-a7fd-d160965e5186",
   "metadata": {},
   "outputs": [
    {
     "name": "stderr",
     "output_type": "stream",
     "text": [
      "2022-04-16 23:29:38.723714: W tensorflow/stream_executor/platform/default/dso_loader.cc:64] Could not load dynamic library 'libcudart.so.11.0'; dlerror: libcudart.so.11.0: cannot open shared object file: No such file or directory\n",
      "2022-04-16 23:29:38.723733: I tensorflow/stream_executor/cuda/cudart_stub.cc:29] Ignore above cudart dlerror if you do not have a GPU set up on your machine.\n",
      "2022-04-16 23:29:44.653393: E tensorflow/stream_executor/cuda/cuda_driver.cc:271] failed call to cuInit: CUDA_ERROR_NO_DEVICE: no CUDA-capable device is detected\n",
      "2022-04-16 23:29:44.653434: I tensorflow/stream_executor/cuda/cuda_diagnostics.cc:156] kernel driver does not appear to be running on this host (algopoly): /proc/driver/nvidia/version does not exist\n"
     ]
    }
   ],
   "source": [
    "import tensorflow as tf\n",
    "from tensorflow.keras import models, layers\n",
    "from utils.base_helpers import read_data, split_data, plot_metrics\n",
    "from utils.tf_helpers import WindowGenerator, compile_and_fit\n",
    "from scripts.tf_models import BaseTFModel"
   ]
  },
  {
   "cell_type": "code",
   "execution_count": 4,
   "id": "3ddb64f7-39b1-411b-9c3c-e3cd110f653d",
   "metadata": {},
   "outputs": [
    {
     "name": "stdout",
     "output_type": "stream",
     "text": [
      "Selected plants:\n",
      " [969]\n"
     ]
    }
   ],
   "source": [
    "df = read_data(generate_speed_angle=True, add_lagged=True, number_of_plants=1)"
   ]
  },
  {
   "cell_type": "code",
   "execution_count": 5,
   "id": "0baac1fd-31b8-4ef1-b1f1-78fd824de5a0",
   "metadata": {},
   "outputs": [
    {
     "name": "stdout",
     "output_type": "stream",
     "text": [
      "Train start and end dates:  2019-01-26 03:00:00 2021-06-22 09:00:00\n",
      "Validation start and end dates:  2021-06-22 10:00:00 2021-10-10 04:00:00\n",
      "Test start and end dates:  2021-10-10 05:00:00 2022-01-27 23:00:00\n"
     ]
    }
   ],
   "source": [
    "train_df_np, valid_df_np, test_df_np = split_data(df, train_ratio=0.8, valid_ratio=0.1, scaler=\"minmax\")"
   ]
  },
  {
   "cell_type": "code",
   "execution_count": 6,
   "id": "f8f1aca5-ca83-4494-b37d-c0dffe2262fb",
   "metadata": {},
   "outputs": [
    {
     "data": {
      "text/plain": [
       "Total window size: 48\n",
       "Input indices: [ 0  1  2  3  4  5  6  7  8  9 10 11 12 13 14 15 16 17 18 19 20 21 22 23\n",
       " 24 25 26 27 28 29 30 31 32 33 34 35 36 37 38 39 40 41 42 43 44 45 46 47]\n",
       "Label indices: [24 25 26 27 28 29 30 31 32 33 34 35 36 37 38 39 40 41 42 43 44 45 46 47]\n",
       "Label column name(s): ['production']"
      ]
     },
     "execution_count": 6,
     "metadata": {},
     "output_type": "execute_result"
    }
   ],
   "source": [
    "OUT_STEPS = 24\n",
    "INPUT_WIDTH = 48\n",
    "\n",
    "window = WindowGenerator(\n",
    "    train_df=train_df_np, valid_df=valid_df_np, test_df=test_df_np, \n",
    "    columns=[col for col in df.columns if col != \"rt_plant_id\"],\n",
    "    input_width=INPUT_WIDTH, label_width=24, shift=0, label_columns=[\"production\"])\n",
    "window"
   ]
  },
  {
   "cell_type": "code",
   "execution_count": 7,
   "id": "c8ad3f86-4070-443d-9860-2e150249687f",
   "metadata": {},
   "outputs": [],
   "source": [
    "val_performance = {}\n",
    "performance = {}"
   ]
  },
  {
   "cell_type": "markdown",
   "id": "27c7df7d-17f4-47df-9ad7-2876743c2623",
   "metadata": {},
   "source": [
    "# Dense"
   ]
  },
  {
   "cell_type": "markdown",
   "id": "f0471b89-b156-4cdb-b20d-ab91da97f43f",
   "metadata": {},
   "source": [
    "## Linear2"
   ]
  },
  {
   "cell_type": "code",
   "execution_count": 14,
   "id": "4cbb5735-d0e7-41c3-af9e-acb0db458554",
   "metadata": {},
   "outputs": [
    {
     "name": "stdout",
     "output_type": "stream",
     "text": [
      "Model: \"sequential_6\"\n",
      "_________________________________________________________________\n",
      " Layer (type)                Output Shape              Param #   \n",
      "=================================================================\n",
      " start------ (Permute)       (None, 48, 1, 17)         0         \n",
      "                                                                 \n",
      " dense_6 (Dense)             (None, 48, 1, 24)         432       \n",
      "                                                                 \n",
      " dropout_3 (Dropout)         (None, 48, 1, 24)         0         \n",
      "                                                                 \n",
      " end-------- (Reshape)       (None, 1, 1152)           0         \n",
      "                                                                 \n",
      " dense_7 (Dense)             (None, 1, 24)             27672     \n",
      "                                                                 \n",
      " permute_4 (Permute)         (None, 24, 1)             0         \n",
      "                                                                 \n",
      " reshape_4 (Reshape)         (None, 24, 1, 1)          0         \n",
      "                                                                 \n",
      "=================================================================\n",
      "Total params: 28,104\n",
      "Trainable params: 28,104\n",
      "Non-trainable params: 0\n",
      "_________________________________________________________________\n"
     ]
    }
   ],
   "source": [
    "class Linear2(BaseTFModel):\n",
    "    def __init__(self, window):\n",
    "        super().__init__(window)\n",
    "\n",
    "    def add_model(self, model):\n",
    "        model.add(layers.Dense(self.OUT_STEPS, kernel_initializer=tf.initializers.zeros()))\n",
    "        model.add(layers.Dropout(0.2))\n",
    "        return model\n",
    "    \n",
    "model = Linear2(window).model\n",
    "model.summary()"
   ]
  },
  {
   "cell_type": "code",
   "execution_count": 28,
   "id": "7bbbb2d5-63dd-4c7f-be49-48506e534221",
   "metadata": {},
   "outputs": [
    {
     "name": "stdout",
     "output_type": "stream",
     "text": [
      "2/2 [==============================] - 0s 1ms/step - loss: 0.0174 - wmape: 0.2362\n",
      "2/2 [==============================] - 0s 1ms/step - loss: 0.0297 - wmape: 0.3594\n",
      "2/2 [==============================] - 0s 2ms/step - loss: 0.0156 - wmape: 0.2227\n",
      "2/2 [==============================] - 0s 1ms/step - loss: 0.0299 - wmape: 0.3559\n",
      "2/2 [==============================] - 0s 2ms/step - loss: 0.5230 - wmape: 0.2464\n",
      "2/2 [==============================] - 0s 1ms/step - loss: 0.5682 - wmape: 0.3603\n",
      "2/2 [==============================] - 0s 1ms/step - loss: 0.5243 - wmape: 0.2686\n",
      "2/2 [==============================] - 0s 1ms/step - loss: 0.5495 - wmape: 0.3943\n"
     ]
    }
   ],
   "source": [
    "val_performance = {}\n",
    "performance = {}\n",
    "\n",
    "param_list = [\n",
    "    {\"loss\": \"mse\", \"optimizer\": \"rmsprop\"},\n",
    "    {\"loss\": \"mse\", \"optimizer\": \"adam\"},\n",
    "    {\"loss\": \"binary_crossentropy\", \"optimizer\": \"rmsprop\"},\n",
    "    {\"loss\": \"binary_crossentropy\", \"optimizer\": \"adam\"},\n",
    "]\n",
    "\n",
    "for param_dict in param_list:\n",
    "    model, history = compile_and_fit(model, window, max_epochs=20, verbose=0, **param_dict)\n",
    "    val_performance[\"-\".join(param_dict.values())] = model.evaluate(window.valid)\n",
    "    performance[\"-\".join(param_dict.values())] = model.evaluate(window.test)\n"
   ]
  },
  {
   "cell_type": "code",
   "execution_count": 29,
   "id": "700ffb08-f027-45da-86ac-a396ada8ecb9",
   "metadata": {},
   "outputs": [
    {
     "data": {
      "text/plain": [
       "{'mse-rmsprop': [0.029716994613409042, 0.3594488501548767],\n",
       " 'mse-adam': [0.029865184798836708, 0.3559226989746094],\n",
       " 'binary_crossentropy-rmsprop': [0.5682259202003479, 0.3603368401527405],\n",
       " 'binary_crossentropy-adam': [0.5494567155838013, 0.3943316340446472]}"
      ]
     },
     "execution_count": 29,
     "metadata": {},
     "output_type": "execute_result"
    }
   ],
   "source": [
    "performance"
   ]
  },
  {
   "cell_type": "code",
   "execution_count": 27,
   "id": "99b25703-f49c-4cca-ac2a-a7e4c8c5c398",
   "metadata": {},
   "outputs": [
    {
     "data": {
      "image/png": "[encoded data removed]",
      "text/plain": [
       "<Figure size 432x288 with 1 Axes>"
      ]
     },
     "metadata": {
      "needs_background": "light"
     },
     "output_type": "display_data"
    }
   ],
   "source": [
    "from utils.base_helpers import plot_metrics\n",
    "plot_metrics(performance, val_performance)"
   ]
  },
  {
   "cell_type": "markdown",
   "id": "69cc7bd5-9da8-44ef-b17a-84f261d5a53f",
   "metadata": {},
   "source": [
    "# Conv"
   ]
  },
  {
   "cell_type": "markdown",
   "id": "d170fb8b-2da1-47f9-83e2-1ca39de3a9a1",
   "metadata": {},
   "source": [
    "## Conv4"
   ]
  },
  {
   "cell_type": "code",
   "execution_count": 31,
   "id": "0efed790-02d6-42fa-8d5f-113244656764",
   "metadata": {},
   "outputs": [
    {
     "name": "stdout",
     "output_type": "stream",
     "text": [
      "Model: \"sequential_8\"\n",
      "_________________________________________________________________\n",
      " Layer (type)                Output Shape              Param #   \n",
      "=================================================================\n",
      " start------ (Permute)       (None, 48, 1, 17)         0         \n",
      "                                                                 \n",
      " permute_6 (Permute)         (None, 1, 48, 17)         0         \n",
      "                                                                 \n",
      " conv2d (Conv2D)             (None, 1, 48, 64)         27264     \n",
      "                                                                 \n",
      " permute_7 (Permute)         (None, 48, 64, 1)         0         \n",
      "                                                                 \n",
      " max_pooling2d (MaxPooling2D  (None, 24, 32, 1)        0         \n",
      " )                                                               \n",
      "                                                                 \n",
      " permute_8 (Permute)         (None, 1, 24, 32)         0         \n",
      "                                                                 \n",
      " conv2d_1 (Conv2D)           (None, 1, 24, 32)         25632     \n",
      "                                                                 \n",
      " permute_9 (Permute)         (None, 24, 32, 1)         0         \n",
      "                                                                 \n",
      " max_pooling2d_1 (MaxPooling  (None, 12, 16, 1)        0         \n",
      " 2D)                                                             \n",
      "                                                                 \n",
      " permute_10 (Permute)        (None, 1, 12, 16)         0         \n",
      "                                                                 \n",
      " end-------- (Reshape)       (None, 1, 192)            0         \n",
      "                                                                 \n",
      " dense_8 (Dense)             (None, 1, 24)             4632      \n",
      "                                                                 \n",
      " permute_11 (Permute)        (None, 24, 1)             0         \n",
      "                                                                 \n",
      " reshape_5 (Reshape)         (None, 24, 1, 1)          0         \n",
      "                                                                 \n",
      "=================================================================\n",
      "Total params: 57,528\n",
      "Trainable params: 57,528\n",
      "Non-trainable params: 0\n",
      "_________________________________________________________________\n"
     ]
    }
   ],
   "source": [
    "CONV_WIDTH = 5\n",
    "class Conv4(BaseTFModel):\n",
    "    def __init__(self, window):\n",
    "        super().__init__(window)\n",
    "\n",
    "    def add_model(self, model):\n",
    "        model.add(layers.Permute((2,1,3)))\n",
    "        model.add(layers.Conv2D(64, CONV_WIDTH, activation=\"relu\", padding=\"same\"))\n",
    "        model.add(layers.Permute((2,3,1)))\n",
    "        model.add(layers.MaxPooling2D(2))\n",
    "        model.add(layers.Permute((3,1,2)))\n",
    "        model.add(layers.Conv2D(32, CONV_WIDTH, activation=\"relu\", padding=\"same\"))\n",
    "        model.add(layers.Permute((2,3,1)))\n",
    "        model.add(layers.MaxPooling2D(2))\n",
    "        model.add(layers.Permute((3,1,2)))\n",
    "        return model\n",
    "    \n",
    "model = Conv4(window).model\n",
    "model.summary()"
   ]
  },
  {
   "cell_type": "code",
   "execution_count": 33,
   "id": "d833277f-ec73-4280-a6d0-4e20b1825888",
   "metadata": {},
   "outputs": [
    {
     "name": "stdout",
     "output_type": "stream",
     "text": [
      "Epoch 1/10\n",
      "      0/Unknown - 4s 0s/sample - loss: 0.0346 - wmape: 0.4298\n",
      "Epoch 1: val_wmape improved from inf to 0.25008, saving model to /home/mert/Desktop/thesis/artifacts/checkpoint\n",
      "329/329 [==============================] - 4s 11ms/sample - loss: 0.0346 - wmape: 0.4294 - val_loss: 0.0198 - val_wmape: 0.2501\n",
      "Epoch 2/10\n",
      "  0/329 [..............................] - ETA: 0s - loss: 0.0207 - wmape: 0.3304\n",
      "Epoch 2: val_wmape improved from 0.25008 to 0.24166, saving model to /home/mert/Desktop/thesis/artifacts/checkpoint\n",
      "329/329 [==============================] - 3s 10ms/sample - loss: 0.0207 - wmape: 0.3307 - val_loss: 0.0181 - val_wmape: 0.2417\n",
      "Epoch 3/10\n",
      "  0/329 [..............................] - ETA: 0s - loss: 0.0187 - wmape: 0.3123\n",
      "Epoch 3: val_wmape did not improve from 0.24166\n",
      "329/329 [==============================] - 3s 10ms/sample - loss: 0.0186 - wmape: 0.3122 - val_loss: 0.0201 - val_wmape: 0.2486\n",
      "Epoch 4/10\n",
      "  0/329 [..............................] - ETA: 0s - loss: 0.0172 - wmape: 0.2993\n",
      "Epoch 4: val_wmape improved from 0.24166 to 0.22626, saving model to /home/mert/Desktop/thesis/artifacts/checkpoint\n",
      "329/329 [==============================] - 3s 10ms/sample - loss: 0.0172 - wmape: 0.2992 - val_loss: 0.0166 - val_wmape: 0.2263\n",
      "Epoch 5/10\n",
      "  0/329 [..............................] - ETA: 0s - loss: 0.0165 - wmape: 0.2929\n",
      "Epoch 5: val_wmape improved from 0.22626 to 0.21922, saving model to /home/mert/Desktop/thesis/artifacts/checkpoint\n",
      "329/329 [==============================] - 3s 10ms/sample - loss: 0.0165 - wmape: 0.2928 - val_loss: 0.0156 - val_wmape: 0.2192\n",
      "Epoch 6/10\n",
      "  0/329 [..............................] - ETA: 0s - loss: 0.0156 - wmape: 0.2843\n",
      "Epoch 6: val_wmape did not improve from 0.21922\n",
      "329/329 [==============================] - 3s 10ms/sample - loss: 0.0156 - wmape: 0.2843 - val_loss: 0.0191 - val_wmape: 0.2449\n",
      "Epoch 7/10\n",
      "  0/329 [..............................] - ETA: 0s - loss: 0.0150 - wmape: 0.2799\n",
      "Epoch 7: val_wmape did not improve from 0.21922\n",
      "329/329 [==============================] - 3s 10ms/sample - loss: 0.0150 - wmape: 0.2798 - val_loss: 0.0197 - val_wmape: 0.2463\n",
      "Epoch 8/10\n",
      "  0/329 [..............................] - ETA: 0s - loss: 0.0147 - wmape: 0.2761\n",
      "Epoch 8: val_wmape improved from 0.21922 to 0.20993, saving model to /home/mert/Desktop/thesis/artifacts/checkpoint\n",
      "329/329 [==============================] - 3s 10ms/sample - loss: 0.0147 - wmape: 0.2759 - val_loss: 0.0145 - val_wmape: 0.2099\n",
      "Epoch 9/10\n",
      "  0/329 [..............................] - ETA: 0s - loss: 0.0141 - wmape: 0.2709\n",
      "Epoch 9: val_wmape did not improve from 0.20993\n",
      "329/329 [==============================] - 3s 10ms/sample - loss: 0.0141 - wmape: 0.2709 - val_loss: 0.0148 - val_wmape: 0.2159\n",
      "Epoch 10/10\n",
      "  0/329 [..............................] - ETA: 0s - loss: 0.0136 - wmape: 0.2669\n",
      "Epoch 10: val_wmape improved from 0.20993 to 0.20979, saving model to /home/mert/Desktop/thesis/artifacts/checkpoint\n",
      "329/329 [==============================] - 3s 10ms/sample - loss: 0.0136 - wmape: 0.2669 - val_loss: 0.0144 - val_wmape: 0.2098\n",
      "2/2 [==============================] - 0s 5ms/step - loss: 0.0144 - wmape: 0.2098\n",
      "2/2 [==============================] - 0s 4ms/step - loss: 0.0202 - wmape: 0.2782\n"
     ]
    }
   ],
   "source": [
    "model, history = compile_and_fit(model, window, max_epochs=10, verbose=1, loss=\"mse\", optimizer=\"adam\")\n",
    "val_performance[\"CNN\"] = model.evaluate(window.valid)\n",
    "performance[\"CNN\"] = model.evaluate(window.test)\n"
   ]
  },
  {
   "cell_type": "code",
   "execution_count": 34,
   "id": "c92af7a1-483f-4a8f-b0f9-f029e22e7e3c",
   "metadata": {},
   "outputs": [
    {
     "data": {
      "image/png": "[encoded data removed]",
      "text/plain": [
       "<Figure size 432x288 with 1 Axes>"
      ]
     },
     "metadata": {
      "needs_background": "light"
     },
     "output_type": "display_data"
    }
   ],
   "source": [
    "plot_metrics(performance, val_performance)"
   ]
  },
  {
   "cell_type": "code",
   "execution_count": null,
   "id": "a6b76ad4-aad1-4a61-bfc8-70b5791fb8c5",
   "metadata": {},
   "outputs": [],
   "source": []
  },
  {
   "cell_type": "code",
   "execution_count": null,
   "id": "e498ebef-5282-4f5c-8312-cfcfb14cfc23",
   "metadata": {},
   "outputs": [],
   "source": []
  },
  {
   "cell_type": "code",
   "execution_count": null,
   "id": "f21b5d6a-7cf3-4ac4-8251-69e3682bad3b",
   "metadata": {},
   "outputs": [],
   "source": []
  },
  {
   "cell_type": "code",
   "execution_count": null,
   "id": "4ed348cf-ac47-4ea9-a699-4954bf015e8e",
   "metadata": {},
   "outputs": [],
   "source": []
  },
  {
   "cell_type": "code",
   "execution_count": null,
   "id": "e579e5a2-f1fe-4dce-9b69-2ef1ee7cdabe",
   "metadata": {},
   "outputs": [],
   "source": []
  }
 ],
 "metadata": {
  "kernelspec": {
   "display_name": "Python 3 (ipykernel)",
   "language": "python",
   "name": "python3"
  },
  "language_info": {
   "codemirror_mode": {
    "name": "ipython",
    "version": 3
   },
   "file_extension": ".py",
   "mimetype": "text/x-python",
   "name": "python",
   "nbconvert_exporter": "python",
   "pygments_lexer": "ipython3",
   "version": "3.9.0"
  }
 },
 "nbformat": 4,
 "nbformat_minor": 5
}
